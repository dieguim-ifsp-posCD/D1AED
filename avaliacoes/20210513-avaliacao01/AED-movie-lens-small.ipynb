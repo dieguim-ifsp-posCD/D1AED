{
 "cells": [
  {
   "cell_type": "markdown",
   "id": "56baeb7f-c83d-4e6d-9e20-af09365ad74e",
   "metadata": {
    "id": "56baeb7f-c83d-4e6d-9e20-af09365ad74e"
   },
   "source": [
    "# **Análise do Dataset Movie Lens Small**"
   ]
  },
  {
   "cell_type": "markdown",
   "id": "vTWywVIcpYIk",
   "metadata": {
    "id": "vTWywVIcpYIk",
    "tags": []
   },
   "source": [
    "# Informações Gerais"
   ]
  },
  {
   "cell_type": "markdown",
   "id": "vUFhnz63pBbt",
   "metadata": {
    "id": "vUFhnz63pBbt",
    "toc-hr-collapsed": true
   },
   "source": [
    "## Conhecendo o dataset"
   ]
  },
  {
   "cell_type": "markdown",
   "id": "5576008b-4db4-4860-aeaa-1991644d843f",
   "metadata": {
    "id": "5576008b-4db4-4860-aeaa-1991644d843f"
   },
   "source": [
    "\n",
    "Trata-se do conjunto de dados [Movie Lens Small](https://files.grouplens.org/datasets/movielens/ml-latest-small.zip), contendo classificação de filmes do serviço de recomendação [movielens](http://movielens.org).\n",
    "\n",
    "### Informações do [README](data/ml-latest-small/README.txt) do dataset\n",
    "\n",
    "O dataset contém **100.836 avaliações** e **3.683 *rótulos*** para **9.742 filmes**. Os dados foram criados por **610 usuários**. Cada usuário avaliou pelo menos 20 filmes.\n",
    "\n",
    "Os arquivos estão em formato *CSV*, com uma única linha de cabeçalho. Colunas que contenham vírgula estão escapadas com aspas duplas. Codificação é UTF-8.\n",
    "\n",
    "- **User Ids**: São consistentes entre os arquivos `ratigns.csv` e `tags.csv` (mesmo *id* se refere a um mesmo usuário nestes dois arquivos)\n",
    "- **Movie Ids**: Apenas filmes com ao menos uma avaliação ou *rótulo* estão inclusos no dataset. Ids são consistentes entre os arquivos `ratings.csv`, `tags.csv`, `movies.csv` e `links.csv`\n",
    "\n",
    "#### `ratings.csv`\n",
    "> 100.836 avaliações\n",
    "\n",
    "Cada linha do arquivo representa uma avaliação de um filme por um usuário, no seguinte formato:\n",
    "\n",
    "    userId,movieId,rating,timestamp\n",
    "\n",
    "As avaliações estão em uma escala de *5 estrelas*, com incrementos de *0,5 estrelas* (0,5 - 5.0). *Timestamp* é uma valor em [Unix time](https://en.wikipedia.org/wiki/Unix_time).\n",
    "\n",
    "#### `tags.csv`\n",
    "> 3.683 *rótulos*\n",
    "\n",
    "Cada linha do arquivo representa um *rótulo* atribuído a um filme por um usuário, no seguinte formato:\n",
    "\n",
    "    userId,movieId,tag,timestamp\n",
    "\n",
    "*Rótulos* são metadados dos filmes, formadas em geral por palavras únicas ou frases curtas. *Timestamp* é uma valor em [Unix time](https://en.wikipedia.org/wiki/Unix_time).\n",
    "\n",
    "#### `movies.csv`\n",
    "> 9.742 filmes\n",
    "\n",
    "Cada linha do arquivo representa um filme, no seguinte formato:\n",
    "\n",
    "    movieId,title,genres\n",
    "\n",
    "Os títulos dos filmes podem conter erros e inconsistências. O ano de lançamento está incluso entre parêntesis.\n",
    "\n",
    "Os gêneros estão em uma lista separadas por pipe (`|`), e são selecionados dos seguintes valores:\n",
    "\n",
    "* Action\n",
    "* Adventure\n",
    "* Animation\n",
    "* Children's\n",
    "* Comedy\n",
    "* Crime\n",
    "* Documentary\n",
    "* Drama\n",
    "* Fantasy\n",
    "* Film-Noir\n",
    "* Horror\n",
    "* Musical\n",
    "* Mystery\n",
    "* Romance\n",
    "* Sci-Fi\n",
    "* Thriller\n",
    "* War\n",
    "* Western\n",
    "* (no genres listed)\n",
    "\n",
    "#### `links.csv`\n",
    "> 9.742 *links*\n",
    "\n",
    "Cada linha do arquivo representa um filme, contendo *links* para outras fontes de dados de filmes, no seguinte formato:\n",
    "\n",
    "    movieId,imdbId,tmdbId\n",
    "\n",
    "*movieId* é um identificador dos filmes usado pelo [movielens](https://movielens.org)<br />\n",
    "*imdbId* é um identificador dos filmes usado pelo [IMDb](http://www.imdb.com)<br />\n",
    "*tmdbId* é um identificador dos filmes usado pelo [TMDB](https://www.themoviedb.org)"
   ]
  },
  {
   "cell_type": "markdown",
   "id": "b312197c-11e4-4021-87c7-4e1dbaaf9a1d",
   "metadata": {
    "id": "b312197c-11e4-4021-87c7-4e1dbaaf9a1d"
   },
   "source": [
    "### Diagrama dos Dados"
   ]
  },
  {
   "cell_type": "markdown",
   "id": "9f634eaf-e17f-400e-bf9e-86e52247f9d8",
   "metadata": {
    "id": "9f634eaf-e17f-400e-bf9e-86e52247f9d8"
   },
   "source": [
    "A partir da especificação dos dados, podemos traçar um diagrama para melhor visualizar a relação entre as diferentes tabelas. Isto nos ajudará no momento de validar e limpar os dados carregados."
   ]
  },
  {
   "cell_type": "markdown",
   "id": "feb22413-189d-41fe-adff-48231ab9761a",
   "metadata": {
    "id": "feb22413-189d-41fe-adff-48231ab9761a"
   },
   "source": [
    "![](https://github.com/dieguim-ifsp-posCD/D1AED/blob/evaluation-01/avaliacoes/20210513-avaliacao01/recursos/20210524-diagrama_dados.png?raw=1)"
   ]
  },
  {
   "cell_type": "markdown",
   "id": "93dbcba5-3d39-414c-8fbb-c736dbb52eaf",
   "metadata": {
    "id": "93dbcba5-3d39-414c-8fbb-c736dbb52eaf",
    "toc-hr-collapsed": true
   },
   "source": [
    "## Importação do Dataset"
   ]
  },
  {
   "cell_type": "code",
   "execution_count": 1,
   "id": "8d0e91ad-5ca2-404d-b1ef-3cffe20a6b92",
   "metadata": {
    "id": "8d0e91ad-5ca2-404d-b1ef-3cffe20a6b92"
   },
   "outputs": [],
   "source": [
    "import numpy as np\n",
    "import pandas as pd\n",
    "\n",
    "import seaborn as sns\n",
    "import matplotlib.pyplot as plt\n",
    "import matplotlib.dates as mdates\n",
    "from matplotlib.ticker import PercentFormatter\n",
    "\n",
    "# Define tema dos gráficos para o padrão do seaborn\n",
    "sns.set_theme()"
   ]
  },
  {
   "cell_type": "code",
   "execution_count": 2,
   "id": "d5fa5c58-513e-44a2-8686-7cb8f3542f25",
   "metadata": {
    "id": "d5fa5c58-513e-44a2-8686-7cb8f3542f25"
   },
   "outputs": [],
   "source": [
    "DATAPATH = 'https://raw.githubusercontent.com/dieguim-ifsp-posCD/D1AED/evaluation-01/avaliacoes/20210513-avaliacao01/data/ml-latest-small'\n",
    "\n",
    "ratings_df = pd.read_csv(f'{DATAPATH}/ratings.csv')\n",
    "tags_df    = pd.read_csv(f'{DATAPATH}/tags.csv')\n",
    "movies_df  = pd.read_csv(f'{DATAPATH}/movies.csv')\n",
    "links_df   = pd.read_csv(f'{DATAPATH}/links.csv')"
   ]
  },
  {
   "cell_type": "code",
   "execution_count": 3,
   "id": "6cf1a23d-d856-48a7-b09c-1d812053e32b",
   "metadata": {
    "colab": {
     "base_uri": "https://localhost:8080/",
     "height": 133
    },
    "id": "6cf1a23d-d856-48a7-b09c-1d812053e32b",
    "outputId": "8daf2ee0-6c2c-4388-c34b-6db349564fd0"
   },
   "outputs": [
    {
     "data": {
      "text/html": [
       "<div>\n",
       "<style scoped>\n",
       "    .dataframe tbody tr th:only-of-type {\n",
       "        vertical-align: middle;\n",
       "    }\n",
       "\n",
       "    .dataframe tbody tr th {\n",
       "        vertical-align: top;\n",
       "    }\n",
       "\n",
       "    .dataframe thead th {\n",
       "        text-align: right;\n",
       "    }\n",
       "</style>\n",
       "<table border=\"1\" class=\"dataframe\">\n",
       "  <thead>\n",
       "    <tr style=\"text-align: right;\">\n",
       "      <th></th>\n",
       "      <th>userId</th>\n",
       "      <th>movieId</th>\n",
       "      <th>rating</th>\n",
       "      <th>timestamp</th>\n",
       "    </tr>\n",
       "  </thead>\n",
       "  <tbody>\n",
       "    <tr>\n",
       "      <th>0</th>\n",
       "      <td>1</td>\n",
       "      <td>1</td>\n",
       "      <td>4.0</td>\n",
       "      <td>964982703</td>\n",
       "    </tr>\n",
       "    <tr>\n",
       "      <th>1</th>\n",
       "      <td>1</td>\n",
       "      <td>3</td>\n",
       "      <td>4.0</td>\n",
       "      <td>964981247</td>\n",
       "    </tr>\n",
       "    <tr>\n",
       "      <th>2</th>\n",
       "      <td>1</td>\n",
       "      <td>6</td>\n",
       "      <td>4.0</td>\n",
       "      <td>964982224</td>\n",
       "    </tr>\n",
       "  </tbody>\n",
       "</table>\n",
       "</div>"
      ],
      "text/plain": [
       "   userId  movieId  rating  timestamp\n",
       "0       1        1     4.0  964982703\n",
       "1       1        3     4.0  964981247\n",
       "2       1        6     4.0  964982224"
      ]
     },
     "execution_count": 3,
     "metadata": {},
     "output_type": "execute_result"
    }
   ],
   "source": [
    "ratings_df.head(3)"
   ]
  },
  {
   "cell_type": "code",
   "execution_count": 4,
   "id": "a27ae437-ac05-41db-bb3f-ac14f95f427a",
   "metadata": {
    "colab": {
     "base_uri": "https://localhost:8080/",
     "height": 133
    },
    "id": "a27ae437-ac05-41db-bb3f-ac14f95f427a",
    "outputId": "416ab98d-5ce9-458b-f209-26f9ef732a19"
   },
   "outputs": [
    {
     "data": {
      "text/html": [
       "<div>\n",
       "<style scoped>\n",
       "    .dataframe tbody tr th:only-of-type {\n",
       "        vertical-align: middle;\n",
       "    }\n",
       "\n",
       "    .dataframe tbody tr th {\n",
       "        vertical-align: top;\n",
       "    }\n",
       "\n",
       "    .dataframe thead th {\n",
       "        text-align: right;\n",
       "    }\n",
       "</style>\n",
       "<table border=\"1\" class=\"dataframe\">\n",
       "  <thead>\n",
       "    <tr style=\"text-align: right;\">\n",
       "      <th></th>\n",
       "      <th>userId</th>\n",
       "      <th>movieId</th>\n",
       "      <th>tag</th>\n",
       "      <th>timestamp</th>\n",
       "    </tr>\n",
       "  </thead>\n",
       "  <tbody>\n",
       "    <tr>\n",
       "      <th>0</th>\n",
       "      <td>2</td>\n",
       "      <td>60756</td>\n",
       "      <td>funny</td>\n",
       "      <td>1445714994</td>\n",
       "    </tr>\n",
       "    <tr>\n",
       "      <th>1</th>\n",
       "      <td>2</td>\n",
       "      <td>60756</td>\n",
       "      <td>Highly quotable</td>\n",
       "      <td>1445714996</td>\n",
       "    </tr>\n",
       "    <tr>\n",
       "      <th>2</th>\n",
       "      <td>2</td>\n",
       "      <td>60756</td>\n",
       "      <td>will ferrell</td>\n",
       "      <td>1445714992</td>\n",
       "    </tr>\n",
       "  </tbody>\n",
       "</table>\n",
       "</div>"
      ],
      "text/plain": [
       "   userId  movieId              tag   timestamp\n",
       "0       2    60756            funny  1445714994\n",
       "1       2    60756  Highly quotable  1445714996\n",
       "2       2    60756     will ferrell  1445714992"
      ]
     },
     "execution_count": 4,
     "metadata": {},
     "output_type": "execute_result"
    }
   ],
   "source": [
    "tags_df.head(3)"
   ]
  },
  {
   "cell_type": "code",
   "execution_count": 5,
   "id": "9fa8293a-7d0a-42c7-a6ac-866743e54de0",
   "metadata": {
    "colab": {
     "base_uri": "https://localhost:8080/",
     "height": 133
    },
    "id": "9fa8293a-7d0a-42c7-a6ac-866743e54de0",
    "outputId": "3870db7e-168b-42a8-9f10-707812f52883"
   },
   "outputs": [
    {
     "data": {
      "text/html": [
       "<div>\n",
       "<style scoped>\n",
       "    .dataframe tbody tr th:only-of-type {\n",
       "        vertical-align: middle;\n",
       "    }\n",
       "\n",
       "    .dataframe tbody tr th {\n",
       "        vertical-align: top;\n",
       "    }\n",
       "\n",
       "    .dataframe thead th {\n",
       "        text-align: right;\n",
       "    }\n",
       "</style>\n",
       "<table border=\"1\" class=\"dataframe\">\n",
       "  <thead>\n",
       "    <tr style=\"text-align: right;\">\n",
       "      <th></th>\n",
       "      <th>movieId</th>\n",
       "      <th>title</th>\n",
       "      <th>genres</th>\n",
       "    </tr>\n",
       "  </thead>\n",
       "  <tbody>\n",
       "    <tr>\n",
       "      <th>0</th>\n",
       "      <td>1</td>\n",
       "      <td>Toy Story (1995)</td>\n",
       "      <td>Adventure|Animation|Children|Comedy|Fantasy</td>\n",
       "    </tr>\n",
       "    <tr>\n",
       "      <th>1</th>\n",
       "      <td>2</td>\n",
       "      <td>Jumanji (1995)</td>\n",
       "      <td>Adventure|Children|Fantasy</td>\n",
       "    </tr>\n",
       "    <tr>\n",
       "      <th>2</th>\n",
       "      <td>3</td>\n",
       "      <td>Grumpier Old Men (1995)</td>\n",
       "      <td>Comedy|Romance</td>\n",
       "    </tr>\n",
       "  </tbody>\n",
       "</table>\n",
       "</div>"
      ],
      "text/plain": [
       "   movieId                    title  \\\n",
       "0        1         Toy Story (1995)   \n",
       "1        2           Jumanji (1995)   \n",
       "2        3  Grumpier Old Men (1995)   \n",
       "\n",
       "                                        genres  \n",
       "0  Adventure|Animation|Children|Comedy|Fantasy  \n",
       "1                   Adventure|Children|Fantasy  \n",
       "2                               Comedy|Romance  "
      ]
     },
     "execution_count": 5,
     "metadata": {},
     "output_type": "execute_result"
    }
   ],
   "source": [
    "movies_df.head(3)"
   ]
  },
  {
   "cell_type": "code",
   "execution_count": 6,
   "id": "4c3c1cbf-561c-4f18-94df-c6a753962979",
   "metadata": {
    "colab": {
     "base_uri": "https://localhost:8080/",
     "height": 133
    },
    "id": "4c3c1cbf-561c-4f18-94df-c6a753962979",
    "outputId": "96e208cc-2036-406c-f945-61cb69737a17"
   },
   "outputs": [
    {
     "data": {
      "text/html": [
       "<div>\n",
       "<style scoped>\n",
       "    .dataframe tbody tr th:only-of-type {\n",
       "        vertical-align: middle;\n",
       "    }\n",
       "\n",
       "    .dataframe tbody tr th {\n",
       "        vertical-align: top;\n",
       "    }\n",
       "\n",
       "    .dataframe thead th {\n",
       "        text-align: right;\n",
       "    }\n",
       "</style>\n",
       "<table border=\"1\" class=\"dataframe\">\n",
       "  <thead>\n",
       "    <tr style=\"text-align: right;\">\n",
       "      <th></th>\n",
       "      <th>movieId</th>\n",
       "      <th>imdbId</th>\n",
       "      <th>tmdbId</th>\n",
       "    </tr>\n",
       "  </thead>\n",
       "  <tbody>\n",
       "    <tr>\n",
       "      <th>0</th>\n",
       "      <td>1</td>\n",
       "      <td>114709</td>\n",
       "      <td>862.0</td>\n",
       "    </tr>\n",
       "    <tr>\n",
       "      <th>1</th>\n",
       "      <td>2</td>\n",
       "      <td>113497</td>\n",
       "      <td>8844.0</td>\n",
       "    </tr>\n",
       "    <tr>\n",
       "      <th>2</th>\n",
       "      <td>3</td>\n",
       "      <td>113228</td>\n",
       "      <td>15602.0</td>\n",
       "    </tr>\n",
       "  </tbody>\n",
       "</table>\n",
       "</div>"
      ],
      "text/plain": [
       "   movieId  imdbId   tmdbId\n",
       "0        1  114709    862.0\n",
       "1        2  113497   8844.0\n",
       "2        3  113228  15602.0"
      ]
     },
     "execution_count": 6,
     "metadata": {},
     "output_type": "execute_result"
    }
   ],
   "source": [
    "links_df.head(3)"
   ]
  },
  {
   "cell_type": "markdown",
   "id": "b8e5855f-1014-492b-9b4a-4d9ac8989de7",
   "metadata": {
    "id": "b8e5855f-1014-492b-9b4a-4d9ac8989de7",
    "tags": []
   },
   "source": [
    "## Consistência dos dados"
   ]
  },
  {
   "cell_type": "markdown",
   "id": "38ce27ee-4aa4-4f56-a661-57ed3bc395f4",
   "metadata": {
    "id": "38ce27ee-4aa4-4f56-a661-57ed3bc395f4"
   },
   "source": [
    "#### Ratings"
   ]
  },
  {
   "cell_type": "markdown",
   "id": "f354301a-7c10-457d-938f-e554bc895d8e",
   "metadata": {
    "id": "f354301a-7c10-457d-938f-e554bc895d8e"
   },
   "source": [
    "##### Linhas e Colunas"
   ]
  },
  {
   "cell_type": "code",
   "execution_count": 7,
   "id": "fd9d898f-8e81-423d-98b4-76f238376caf",
   "metadata": {
    "colab": {
     "base_uri": "https://localhost:8080/"
    },
    "id": "fd9d898f-8e81-423d-98b4-76f238376caf",
    "outputId": "8be52d46-2ea5-4eb7-df31-4a1272911059"
   },
   "outputs": [
    {
     "name": "stdout",
     "output_type": "stream",
     "text": [
      "Número de linhas `100836` e lista de colunas `['userId', 'movieId', 'rating', 'timestamp']` do DataFrame Ratings estão corretos\n"
     ]
    }
   ],
   "source": [
    "# Verificação do número de linhas e lista de colunas, de acordo com a especificação do dataset\n",
    "linhas_esperadas = 100836\n",
    "colunas_esperadas = ['userId', 'movieId', 'rating', 'timestamp']\n",
    "\n",
    "(num_linhas, num_colunas) = ratings_df.shape\n",
    "lista_colunas = list(ratings_df.columns)\n",
    "\n",
    "assert num_linhas == linhas_esperadas, 'Número de linhas não condiz com o esperado'\n",
    "assert num_colunas == len(colunas_esperadas), 'Número de colunas não condiz com o esperado'\n",
    "assert lista_colunas == colunas_esperadas, 'Colunas inconsistentes com o esperado'\n",
    "\n",
    "print(f'Número de linhas `{num_linhas}` e lista de colunas `{lista_colunas}` do DataFrame Ratings estão corretos')"
   ]
  },
  {
   "cell_type": "code",
   "execution_count": 8,
   "id": "59ca1437-cf07-41fa-9b68-c19be4908a4d",
   "metadata": {
    "colab": {
     "base_uri": "https://localhost:8080/"
    },
    "id": "59ca1437-cf07-41fa-9b68-c19be4908a4d",
    "outputId": "03f88c4a-6943-4122-9709-62efe1569a17"
   },
   "outputs": [
    {
     "name": "stdout",
     "output_type": "stream",
     "text": [
      "<class 'pandas.core.frame.DataFrame'>\n",
      "RangeIndex: 100836 entries, 0 to 100835\n",
      "Data columns (total 4 columns):\n",
      " #   Column     Non-Null Count   Dtype  \n",
      "---  ------     --------------   -----  \n",
      " 0   userId     100836 non-null  int64  \n",
      " 1   movieId    100836 non-null  int64  \n",
      " 2   rating     100836 non-null  float64\n",
      " 3   timestamp  100836 non-null  int64  \n",
      "dtypes: float64(1), int64(3)\n",
      "memory usage: 3.1 MB\n"
     ]
    }
   ],
   "source": [
    "ratings_df.info()"
   ]
  },
  {
   "cell_type": "markdown",
   "id": "21a8732c-b919-4bfd-b8e6-dd8f7fe8d4bc",
   "metadata": {
    "id": "21a8732c-b919-4bfd-b8e6-dd8f7fe8d4bc"
   },
   "source": [
    "Não há nenhum valor nulo para nenhuma das colunas do DataFrame\n",
    "\n",
    "O tipo de todas as colunas é condizente com o que esperamos:\n",
    "- **userId** e **movieId** são *inteiros*, como esperado para Ids\n",
    "- **rating** é *real*, conforme esperado, pois as avaliações estão em um intervalo de 0,5 estrelas\n",
    "- **timestamp** é *inteiro*, como esperado para um valor de *Unix time*"
   ]
  },
  {
   "cell_type": "markdown",
   "id": "295571ba-c4cd-4f56-85f3-4943a018f741",
   "metadata": {
    "id": "295571ba-c4cd-4f56-85f3-4943a018f741"
   },
   "source": [
    "##### userId"
   ]
  },
  {
   "cell_type": "code",
   "execution_count": 9,
   "id": "33690a7b-fb77-45dd-ac82-a1bbb77b112c",
   "metadata": {
    "colab": {
     "base_uri": "https://localhost:8080/"
    },
    "id": "33690a7b-fb77-45dd-ac82-a1bbb77b112c",
    "outputId": "fc5f9475-d8ea-4154-f3ad-ca41cd1edea4"
   },
   "outputs": [
    {
     "name": "stdout",
     "output_type": "stream",
     "text": [
      "Número de usuários `610` do DataFrame está correto\n",
      "100.00% dos usuários realizaram avaliação de algum filme\n"
     ]
    }
   ],
   "source": [
    "# Verificação da quantidade de usuários únicos\n",
    "# De acordo com especificação, todos usuários avaliaram pelo menos 20 filmes, logo todos devem estar presentes no DataFrame\n",
    "usuarios_esperados = 610\n",
    "\n",
    "num_usuarios = len(ratings_df.userId.unique())\n",
    "\n",
    "assert num_usuarios == usuarios_esperados, 'Número de usuários não condiz com o esperado'\n",
    "\n",
    "print(f'Número de usuários `{num_usuarios}` do DataFrame está correto')\n",
    "print(f'{(num_usuarios/usuarios_esperados * 100):.2f}% dos usuários realizaram avaliação de algum filme')"
   ]
  },
  {
   "cell_type": "markdown",
   "id": "402621a6-5677-4261-acbf-d89f7550d18b",
   "metadata": {
    "id": "402621a6-5677-4261-acbf-d89f7550d18b"
   },
   "source": [
    "##### movieId"
   ]
  },
  {
   "cell_type": "code",
   "execution_count": 10,
   "id": "116cc61c-f029-43d8-be8b-c955d538c7ad",
   "metadata": {
    "colab": {
     "base_uri": "https://localhost:8080/"
    },
    "id": "116cc61c-f029-43d8-be8b-c955d538c7ad",
    "outputId": "23a1bb71-3ef6-47ab-9a16-d4f95c242617"
   },
   "outputs": [
    {
     "name": "stdout",
     "output_type": "stream",
     "text": [
      "Número de filmes `9724` no DataFrame está dentro do limite máximo esperado\n",
      "99.82% dos filmes receberam pelo menos uma avaliação\n"
     ]
    }
   ],
   "source": [
    "# Verificação quantidade de filmes avaliados\n",
    "# A especificação não diz que todos os filmes possuem avaliação (alguns filmes podem possuir apenas rótulos),\n",
    "# portanto iremos avaliar apenas se o número de ids de filmes é menor do que o total do dataset\n",
    "filmes_maximo = 9742\n",
    "\n",
    "num_filmes = len(ratings_df.movieId.unique())\n",
    "\n",
    "assert num_filmes <= filmes_maximo, 'Número de filmes é maior do que o máximo esperado'\n",
    "\n",
    "print(f'Número de filmes `{num_filmes}` no DataFrame está dentro do limite máximo esperado')\n",
    "print(f'{(num_filmes/filmes_maximo * 100):.2f}% dos filmes receberam pelo menos uma avaliação')"
   ]
  },
  {
   "cell_type": "markdown",
   "id": "8a31f0fd-19c3-496b-9457-a1a5d04554e1",
   "metadata": {
    "id": "8a31f0fd-19c3-496b-9457-a1a5d04554e1"
   },
   "source": [
    "##### rating"
   ]
  },
  {
   "cell_type": "code",
   "execution_count": 11,
   "id": "8d20558c-c469-4b3b-95dc-8b7ddb91c72a",
   "metadata": {
    "colab": {
     "base_uri": "https://localhost:8080/"
    },
    "id": "8d20558c-c469-4b3b-95dc-8b7ddb91c72a",
    "outputId": "bcaee2af-cada-45ea-9504-e995e0a1301a"
   },
   "outputs": [
    {
     "name": "stdout",
     "output_type": "stream",
     "text": [
      "Avaliações `[4.  5.  3.  2.  1.  4.5 3.5 2.5 0.5 1.5]` dos registros do DataFrame estão dentro do conjunto esperado\n"
     ]
    }
   ],
   "source": [
    "# Verificação das avaliações (mais importante)\n",
    "# De acordo com a especificação, as notas estão no intervalo [0.5, 5.0], com saltos de 0.5\n",
    "avaliacoes_esperadas = np.arange(0.5, 5.1, 0.5) # Colocamos um valor ligeiramente maior que 5.0 como 'stop' para que o '5.0' seja incluido\n",
    "\n",
    "lista_avaliacoes = ratings_df.rating.unique()\n",
    "\n",
    "assert set(lista_avaliacoes).issubset(set(avaliacoes_esperadas)), 'Lista de avaliações possui valores diferentes do esperado'\n",
    "\n",
    "print(f'Avaliações `{lista_avaliacoes}` dos registros do DataFrame estão dentro do conjunto esperado')"
   ]
  },
  {
   "cell_type": "markdown",
   "id": "d022878f-6d67-45f5-9d5a-bc6b7cec0334",
   "metadata": {
    "id": "d022878f-6d67-45f5-9d5a-bc6b7cec0334"
   },
   "source": [
    "#### Tags"
   ]
  },
  {
   "cell_type": "markdown",
   "id": "d74474d7-8967-4202-af64-d8eaae9849e3",
   "metadata": {
    "id": "d74474d7-8967-4202-af64-d8eaae9849e3"
   },
   "source": [
    "##### Linhas e Colunas"
   ]
  },
  {
   "cell_type": "code",
   "execution_count": 12,
   "id": "aad8d290-2b6d-415d-bdb2-a3aaa50780b7",
   "metadata": {
    "colab": {
     "base_uri": "https://localhost:8080/"
    },
    "id": "aad8d290-2b6d-415d-bdb2-a3aaa50780b7",
    "outputId": "bca90087-ded1-4704-a667-7209e89a7d10"
   },
   "outputs": [
    {
     "name": "stdout",
     "output_type": "stream",
     "text": [
      "Número de linhas `3683` e lista de colunas `['userId', 'movieId', 'tag', 'timestamp']` do DataFrame Tags estão corretos\n"
     ]
    }
   ],
   "source": [
    "# Verificação do número de linhas e lista de colunas, de acordo com a especificação do dataset\n",
    "linhas_esperadas = 3683\n",
    "colunas_esperadas = ['userId', 'movieId', 'tag', 'timestamp']\n",
    "\n",
    "(num_linhas, num_colunas) = tags_df.shape\n",
    "lista_colunas = list(tags_df.columns)\n",
    "\n",
    "assert num_linhas == linhas_esperadas, 'Número de linhas não condiz com o esperado'\n",
    "assert num_colunas == len(colunas_esperadas), 'Número de colunas não condiz com o esperado'\n",
    "assert lista_colunas == colunas_esperadas, 'Colunas inconsistentes com o esperado'\n",
    "\n",
    "print(f'Número de linhas `{num_linhas}` e lista de colunas `{lista_colunas}` do DataFrame Tags estão corretos')"
   ]
  },
  {
   "cell_type": "code",
   "execution_count": 13,
   "id": "7f162dd7-ab69-4ad4-a9e4-2db918d6b2fb",
   "metadata": {
    "colab": {
     "base_uri": "https://localhost:8080/"
    },
    "id": "7f162dd7-ab69-4ad4-a9e4-2db918d6b2fb",
    "outputId": "45630dc8-030f-4b26-a9b0-04494eba14a6"
   },
   "outputs": [
    {
     "name": "stdout",
     "output_type": "stream",
     "text": [
      "<class 'pandas.core.frame.DataFrame'>\n",
      "RangeIndex: 3683 entries, 0 to 3682\n",
      "Data columns (total 4 columns):\n",
      " #   Column     Non-Null Count  Dtype \n",
      "---  ------     --------------  ----- \n",
      " 0   userId     3683 non-null   int64 \n",
      " 1   movieId    3683 non-null   int64 \n",
      " 2   tag        3683 non-null   object\n",
      " 3   timestamp  3683 non-null   int64 \n",
      "dtypes: int64(3), object(1)\n",
      "memory usage: 115.2+ KB\n"
     ]
    }
   ],
   "source": [
    "tags_df.info()"
   ]
  },
  {
   "cell_type": "markdown",
   "id": "c14e29f9-16a5-4209-920c-7b86d9125e24",
   "metadata": {
    "id": "c14e29f9-16a5-4209-920c-7b86d9125e24"
   },
   "source": [
    "Não há nenhum valor nulo para nenhuma das colunas do DataFrame\n",
    "\n",
    "O tipo de todas as colunas é condizente com o que esperamos:\n",
    "- **userId** e **movieId** são *inteiros*, como esperado para Ids\n",
    "- **tags** é *object*, conforme esperado, pois as tags são *strings*\n",
    "- **timestamp** é *inteiro*, como esperado para um valor de *Unix time*"
   ]
  },
  {
   "cell_type": "markdown",
   "id": "0c81a7a1-e162-4bc8-9305-14252efa8d8f",
   "metadata": {
    "id": "0c81a7a1-e162-4bc8-9305-14252efa8d8f"
   },
   "source": [
    "##### userId"
   ]
  },
  {
   "cell_type": "code",
   "execution_count": 14,
   "id": "e99296e2-7905-45cf-9630-05c0f550ceec",
   "metadata": {
    "colab": {
     "base_uri": "https://localhost:8080/"
    },
    "id": "e99296e2-7905-45cf-9630-05c0f550ceec",
    "outputId": "efbaeae1-317e-4b68-c5da-fb2fd0e19ebd"
   },
   "outputs": [
    {
     "name": "stdout",
     "output_type": "stream",
     "text": [
      "Número de usuários `58` do DataFrame está dentro do limite máximo esperado\n",
      "9.51% dos usuários rotularam algum filme\n"
     ]
    }
   ],
   "source": [
    "# Verificação da quantidade de usuários únicos\n",
    "# A especificação não diz que todos os usuários rotularam filmes,\n",
    "# portanto podemos avaliar apenas se o número de usuários é menor que o máximo do dataset\n",
    "usuarios_maximo = 610\n",
    "\n",
    "num_usuarios = len(tags_df.userId.unique())\n",
    "\n",
    "assert num_usuarios <= usuarios_esperados, 'Número de usuários é maior que o máximo esperado'\n",
    "\n",
    "print(f'Número de usuários `{num_usuarios}` do DataFrame está dentro do limite máximo esperado')\n",
    "print(f'{(num_usuarios/usuarios_maximo * 100):.2f}% dos usuários rotularam algum filme')"
   ]
  },
  {
   "cell_type": "markdown",
   "id": "cc6e6d64-0dee-4dd3-a955-b68be39c93ec",
   "metadata": {
    "id": "cc6e6d64-0dee-4dd3-a955-b68be39c93ec"
   },
   "source": [
    "Aqui já podemos notar que o número de usuários presentes no DataFrame de *tags* é consideravelmente pequeno."
   ]
  },
  {
   "cell_type": "markdown",
   "id": "b3fa142f-1b0f-411d-8081-4587aa8d6967",
   "metadata": {
    "id": "b3fa142f-1b0f-411d-8081-4587aa8d6967"
   },
   "source": [
    "##### movieId"
   ]
  },
  {
   "cell_type": "code",
   "execution_count": 15,
   "id": "eea8930b-e5fa-4a50-bfb0-4bbc12003705",
   "metadata": {
    "colab": {
     "base_uri": "https://localhost:8080/"
    },
    "id": "eea8930b-e5fa-4a50-bfb0-4bbc12003705",
    "outputId": "5f8656f0-4ba7-4087-b7ce-0a0807656593"
   },
   "outputs": [
    {
     "name": "stdout",
     "output_type": "stream",
     "text": [
      "Número de filmes `1572` no DataFrame está dentro do limite máximo esperado\n",
      "16.14% dos filmes receberam pelo menos um rótulo\n"
     ]
    }
   ],
   "source": [
    "# Verificação quantidade de filmes avaliados\n",
    "# A especificação não diz que todos os filmes possuem rótulos,\n",
    "# portanto iremos avaliar apenas se o número de ids de filmes é menor do que o total do dataset\n",
    "filmes_maximo = 9742\n",
    "\n",
    "num_filmes = len(tags_df.movieId.unique())\n",
    "\n",
    "assert num_filmes <= filmes_maximo, 'Número de filmes é maior do que o máximo esperado'\n",
    "\n",
    "print(f'Número de filmes `{num_filmes}` no DataFrame está dentro do limite máximo esperado')\n",
    "print(f'{(num_filmes/filmes_maximo * 100):.2f}% dos filmes receberam pelo menos um rótulo')"
   ]
  },
  {
   "cell_type": "markdown",
   "id": "64a4715c-9658-4faa-91f5-10fa32dd58ca",
   "metadata": {
    "id": "64a4715c-9658-4faa-91f5-10fa32dd58ca"
   },
   "source": [
    "O número de filmes *rotulados* também é consideravelmente pequeno."
   ]
  },
  {
   "cell_type": "markdown",
   "id": "f3e648ed-8d7c-47c6-bae5-33ea4dddec26",
   "metadata": {
    "id": "f3e648ed-8d7c-47c6-bae5-33ea4dddec26"
   },
   "source": [
    "##### tags"
   ]
  },
  {
   "cell_type": "code",
   "execution_count": 16,
   "id": "35ab7aba-79bb-4a22-84a8-e853107edae8",
   "metadata": {
    "colab": {
     "base_uri": "https://localhost:8080/",
     "height": 335
    },
    "id": "35ab7aba-79bb-4a22-84a8-e853107edae8",
    "outputId": "02310018-cecf-4791-cffa-755d42bfb92b"
   },
   "outputs": [
    {
     "data": {
      "text/html": [
       "<div>\n",
       "<style scoped>\n",
       "    .dataframe tbody tr th:only-of-type {\n",
       "        vertical-align: middle;\n",
       "    }\n",
       "\n",
       "    .dataframe tbody tr th {\n",
       "        vertical-align: top;\n",
       "    }\n",
       "\n",
       "    .dataframe thead th {\n",
       "        text-align: right;\n",
       "    }\n",
       "</style>\n",
       "<table border=\"1\" class=\"dataframe\">\n",
       "  <thead>\n",
       "    <tr style=\"text-align: right;\">\n",
       "      <th></th>\n",
       "      <th>Palavras na Tag</th>\n",
       "      <th>Número de Registros</th>\n",
       "      <th>% Registros</th>\n",
       "      <th>%Registros Acumulados</th>\n",
       "    </tr>\n",
       "  </thead>\n",
       "  <tbody>\n",
       "    <tr>\n",
       "      <th>0</th>\n",
       "      <td>1</td>\n",
       "      <td>2282</td>\n",
       "      <td>62.0</td>\n",
       "      <td>62.0</td>\n",
       "    </tr>\n",
       "    <tr>\n",
       "      <th>1</th>\n",
       "      <td>2</td>\n",
       "      <td>1057</td>\n",
       "      <td>28.7</td>\n",
       "      <td>90.7</td>\n",
       "    </tr>\n",
       "    <tr>\n",
       "      <th>2</th>\n",
       "      <td>3</td>\n",
       "      <td>275</td>\n",
       "      <td>7.5</td>\n",
       "      <td>98.2</td>\n",
       "    </tr>\n",
       "    <tr>\n",
       "      <th>3</th>\n",
       "      <td>4</td>\n",
       "      <td>43</td>\n",
       "      <td>1.2</td>\n",
       "      <td>99.4</td>\n",
       "    </tr>\n",
       "    <tr>\n",
       "      <th>4</th>\n",
       "      <td>5</td>\n",
       "      <td>16</td>\n",
       "      <td>0.4</td>\n",
       "      <td>99.8</td>\n",
       "    </tr>\n",
       "    <tr>\n",
       "      <th>5</th>\n",
       "      <td>7</td>\n",
       "      <td>4</td>\n",
       "      <td>0.1</td>\n",
       "      <td>99.9</td>\n",
       "    </tr>\n",
       "    <tr>\n",
       "      <th>6</th>\n",
       "      <td>6</td>\n",
       "      <td>3</td>\n",
       "      <td>0.1</td>\n",
       "      <td>100.0</td>\n",
       "    </tr>\n",
       "    <tr>\n",
       "      <th>7</th>\n",
       "      <td>8</td>\n",
       "      <td>1</td>\n",
       "      <td>0.0</td>\n",
       "      <td>100.0</td>\n",
       "    </tr>\n",
       "    <tr>\n",
       "      <th>8</th>\n",
       "      <td>10</td>\n",
       "      <td>1</td>\n",
       "      <td>0.0</td>\n",
       "      <td>100.0</td>\n",
       "    </tr>\n",
       "    <tr>\n",
       "      <th>9</th>\n",
       "      <td>16</td>\n",
       "      <td>1</td>\n",
       "      <td>0.0</td>\n",
       "      <td>100.0</td>\n",
       "    </tr>\n",
       "  </tbody>\n",
       "</table>\n",
       "</div>"
      ],
      "text/plain": [
       "   Palavras na Tag  Número de Registros  % Registros  %Registros Acumulados\n",
       "0                1                 2282         62.0                   62.0\n",
       "1                2                 1057         28.7                   90.7\n",
       "2                3                  275          7.5                   98.2\n",
       "3                4                   43          1.2                   99.4\n",
       "4                5                   16          0.4                   99.8\n",
       "5                7                    4          0.1                   99.9\n",
       "6                6                    3          0.1                  100.0\n",
       "7                8                    1          0.0                  100.0\n",
       "8               10                    1          0.0                  100.0\n",
       "9               16                    1          0.0                  100.0"
      ]
     },
     "execution_count": 16,
     "metadata": {},
     "output_type": "execute_result"
    }
   ],
   "source": [
    "# Verificação dos rótulos\n",
    "# De acordo com a especificação, os rótulos em geral são palavras únicas ou frases curtas\n",
    "\n",
    "# Separa o campo tags em uma lista de palavras\n",
    "lista_palavras = tags_df.tag.str.split()\n",
    "\n",
    "# Verifica quantos elementos contém cada lista (ou seja, quantas palavras o rótulo possui) e agrega os valores\n",
    "palavras_tag = lista_palavras.apply(len).value_counts().to_frame().reset_index()\n",
    "palavras_tag.columns = ['Palavras na Tag', 'Número de Registros']\n",
    "palavras_tag['% Registros'] = round((palavras_tag['Número de Registros'] / palavras_tag['Número de Registros'].sum())*100,1)\n",
    "palavras_tag['%Registros Acumulados'] = palavras_tag['% Registros'].cumsum()\n",
    "\n",
    "palavras_tag"
   ]
  },
  {
   "cell_type": "code",
   "execution_count": 17,
   "id": "hb2GYuczXQ-Z",
   "metadata": {
    "colab": {
     "base_uri": "https://localhost:8080/",
     "height": 661
    },
    "id": "hb2GYuczXQ-Z",
    "outputId": "6e3dd366-f93e-4a5d-ac79-c00b98ac56c1"
   },
   "outputs": [
    {
     "data": {
      "image/png": "[encoded data removed]",
      "text/plain": [
       "<Figure size 864x432 with 2 Axes>"
      ]
     },
     "metadata": {},
     "output_type": "display_data"
    }
   ],
   "source": [
    "def Pareto(df, Type, Count, CumPercent):\n",
    "    # Cria o barplot e define os dados os eixos, a cor das barras, titulo do gráfico\n",
    "    fig, ax = plt.subplots(figsize=(12,6))\n",
    "    ax.bar(df[Type], df[Count])\n",
    "    ax.set_title(\"Registros por número de palavras do rótulo\", fontsize=18)\n",
    "\n",
    "    # Eixo secundário\n",
    "    ax2 = ax.twinx()\n",
    "\n",
    "    # Cria a Curva de Pareto no eixo secundário\n",
    "    ax2.plot(df[Type], df[CumPercent], color=\"g\", marker=\"D\", ms=7, label='Porcentagem acumulada de registros')\n",
    "    ax2.yaxis.set_major_formatter(PercentFormatter())\n",
    "\n",
    "    # Configurações dos eixos\n",
    "    ax.set_xlabel(\"Número de palavras no rótulo\", fontsize=14)\n",
    "    \n",
    "    ax.tick_params(axis=\"y\", colors=\"b\")\n",
    "    ax.set_ylabel(\"Número de registros\", color=\"b\", fontsize=14)\n",
    "    ax.grid(False)\n",
    "    \n",
    "    ax2.tick_params(axis=\"y\", colors=\"g\")\n",
    "    ax2.set_ylabel(\"Porcentagem acumulada\", color=\"g\", fontsize=14)\n",
    "    ax2.grid(False)\n",
    "\n",
    "    # Finalmente mostra o grafico definido acima\n",
    "    plt.legend(loc='center right') # para mostrar a legenda\n",
    "    plt.show()\n",
    "\n",
    "Pareto(palavras_tag[:6], 'Palavras na Tag', 'Número de Registros', '%Registros Acumulados')"
   ]
  },
  {
   "cell_type": "markdown",
   "id": "045adbd1-fd65-4b62-89ba-47ded1eedc1d",
   "metadata": {
    "id": "045adbd1-fd65-4b62-89ba-47ded1eedc1d"
   },
   "source": [
    "Aqui é uma avaliação um pouco subjetiva, mas como visto no gráfico de Pareto, a maioria dos registros de rótulos (mais de 98%) possui até 3 palavras, o que cumpre com a especificação de um *rótulo*. \n",
    "\n",
    "É possível que os *outliers* (que contenham *muitas* palavras) não sejam termos que cumpram a função de *rótulo*."
   ]
  },
  {
   "cell_type": "markdown",
   "id": "c0d23794-ccda-4f76-be8d-8c670d8ab15b",
   "metadata": {
    "id": "c0d23794-ccda-4f76-be8d-8c670d8ab15b"
   },
   "source": [
    "#### Movies"
   ]
  },
  {
   "cell_type": "markdown",
   "id": "1a45b0c0-9a30-4d7a-84c2-e7a76aeca7e8",
   "metadata": {
    "id": "1a45b0c0-9a30-4d7a-84c2-e7a76aeca7e8"
   },
   "source": [
    "##### Linhas e Colunas"
   ]
  },
  {
   "cell_type": "code",
   "execution_count": 18,
   "id": "c047ac60-78de-429e-b1a2-85c5cafddbd8",
   "metadata": {
    "colab": {
     "base_uri": "https://localhost:8080/"
    },
    "id": "c047ac60-78de-429e-b1a2-85c5cafddbd8",
    "outputId": "db2a11a2-a8a4-4a65-eb8f-e4e02d5585c9"
   },
   "outputs": [
    {
     "name": "stdout",
     "output_type": "stream",
     "text": [
      "Número de linhas `9742` e lista de colunas `['movieId', 'title', 'genres']` do DataFrame Movies estão corretos\n"
     ]
    }
   ],
   "source": [
    "# Verificação do número de linhas e lista de colunas, de acordo com a especificação do dataset\n",
    "linhas_esperadas = 9742\n",
    "colunas_esperadas = ['movieId', 'title', 'genres']\n",
    "\n",
    "(num_linhas, num_colunas) = movies_df.shape\n",
    "lista_colunas = list(movies_df.columns)\n",
    "\n",
    "assert num_linhas == linhas_esperadas, 'Número de linhas não condiz com o esperado'\n",
    "assert num_colunas == len(colunas_esperadas), 'Número de colunas não condiz com o esperado'\n",
    "assert lista_colunas == colunas_esperadas, 'Colunas inconsistentes com o esperado'\n",
    "\n",
    "print(f'Número de linhas `{num_linhas}` e lista de colunas `{lista_colunas}` do DataFrame Movies estão corretos')"
   ]
  },
  {
   "cell_type": "code",
   "execution_count": 19,
   "id": "cd56d6ea-104b-4311-b712-4b2a01208478",
   "metadata": {
    "colab": {
     "base_uri": "https://localhost:8080/"
    },
    "id": "cd56d6ea-104b-4311-b712-4b2a01208478",
    "outputId": "4ef67c61-ded4-46af-f355-15a9dbe5d944"
   },
   "outputs": [
    {
     "name": "stdout",
     "output_type": "stream",
     "text": [
      "<class 'pandas.core.frame.DataFrame'>\n",
      "RangeIndex: 9742 entries, 0 to 9741\n",
      "Data columns (total 3 columns):\n",
      " #   Column   Non-Null Count  Dtype \n",
      "---  ------   --------------  ----- \n",
      " 0   movieId  9742 non-null   int64 \n",
      " 1   title    9742 non-null   object\n",
      " 2   genres   9742 non-null   object\n",
      "dtypes: int64(1), object(2)\n",
      "memory usage: 228.5+ KB\n"
     ]
    }
   ],
   "source": [
    "movies_df.info()"
   ]
  },
  {
   "cell_type": "markdown",
   "id": "2737715a-642f-49ba-8f01-25e917209805",
   "metadata": {
    "id": "2737715a-642f-49ba-8f01-25e917209805"
   },
   "source": [
    "Não há nenhum valor nulo para nenhuma das colunas do DataFrame\n",
    "\n",
    "O tipo de todas as colunas é condizente com o que esperamos:\n",
    "- **movieId** é *inteiros*, como esperado para Ids\n",
    "- **title** é *object*, conforme esperado, pois os títulos são *strings*\n",
    "- **genres** é *object*, conforme esperado, pois os gêneros são *strings*"
   ]
  },
  {
   "cell_type": "markdown",
   "id": "c14df620-3b9f-4212-b393-49125b726f45",
   "metadata": {
    "id": "c14df620-3b9f-4212-b393-49125b726f45"
   },
   "source": [
    "##### movieId"
   ]
  },
  {
   "cell_type": "code",
   "execution_count": 20,
   "id": "e1fce018-7b6e-42af-b281-4ffac97eee27",
   "metadata": {
    "colab": {
     "base_uri": "https://localhost:8080/"
    },
    "id": "e1fce018-7b6e-42af-b281-4ffac97eee27",
    "outputId": "c1ea8fd0-8bb8-42ea-9948-94939ea938a2"
   },
   "outputs": [
    {
     "name": "stdout",
     "output_type": "stream",
     "text": [
      "Número de filmes `9742` no DataFrame está correto de acordo com a especificação\n"
     ]
    }
   ],
   "source": [
    "# Verificação quantidade de filmes\n",
    "filmes_esperados = 9742\n",
    "\n",
    "num_filmes = len(movies_df.movieId.unique())\n",
    "\n",
    "assert num_filmes == filmes_esperados, 'Número de filmes não condiz com o esperado'\n",
    "\n",
    "print(f'Número de filmes `{num_filmes}` no DataFrame está correto de acordo com a especificação')"
   ]
  },
  {
   "cell_type": "markdown",
   "id": "04222ad9-14ce-40da-93a9-d30c758b47f8",
   "metadata": {
    "id": "04222ad9-14ce-40da-93a9-d30c758b47f8"
   },
   "source": [
    "##### title"
   ]
  },
  {
   "cell_type": "code",
   "execution_count": 21,
   "id": "86b7e18d-21a5-41d3-a439-db8ed7142a41",
   "metadata": {
    "colab": {
     "base_uri": "https://localhost:8080/"
    },
    "id": "86b7e18d-21a5-41d3-a439-db8ed7142a41",
    "outputId": "9d6a896d-603f-410c-f488-e23fe658daba"
   },
   "outputs": [
    {
     "name": "stdout",
     "output_type": "stream",
     "text": [
      "Existe `5` filmes com títulos duplicados. E `0` com título vazio\n"
     ]
    }
   ],
   "source": [
    "# Verificação dos títulos\n",
    "# Como títulos são strings, vamos verificar apenas se possuem alguma repetição ou valor vazio\n",
    "\n",
    "duplicados = movies_df[movies_df.title.duplicated()]\n",
    "vazios = movies_df[movies_df.title == '']\n",
    "\n",
    "print(f'Existe `{len(duplicados)}` filmes com títulos duplicados. E `{len(vazios)}` com título vazio')"
   ]
  },
  {
   "cell_type": "markdown",
   "id": "94b0cb36-5ac7-4a35-aee3-b04d7da03209",
   "metadata": {
    "id": "94b0cb36-5ac7-4a35-aee3-b04d7da03209"
   },
   "source": [
    "##### genres"
   ]
  },
  {
   "cell_type": "code",
   "execution_count": 22,
   "id": "bd1ed884-6373-4904-9e12-db6639d5c99d",
   "metadata": {
    "colab": {
     "base_uri": "https://localhost:8080/"
    },
    "id": "bd1ed884-6373-4904-9e12-db6639d5c99d",
    "outputId": "107a481e-9a5c-4b78-f753-af1680a54733"
   },
   "outputs": [
    {
     "name": "stdout",
     "output_type": "stream",
     "text": [
      "<class 'AssertionError'> Existe gêneros que não são esperados\n",
      "Gêneros no dataset diferentes do esperado: ['Children' 'IMAX']\n"
     ]
    }
   ],
   "source": [
    "generos_esperados = [\n",
    "    \"Action\", \"Adventure\", \"Animation\", \"Children's\", \"Comedy\", \"Crime\", \"Documentary\", \"Drama\", \"Fantasy\", \"Film-Noir\",\n",
    "    \"Horror\", \"Musical\", \"Mystery\", \"Romance\", \"Sci-Fi\", \"Thriller\", \"War\", \"Western\", \"(no genres listed)\"\n",
    "]\n",
    "\n",
    "# Separa o campo genres em uma lista de gêneros\n",
    "lista_generos = movies_df.genres.str.split(\"|\")\n",
    "\n",
    "# Transforma a lista de listas de gêneros em uma só Series com todos os valores\n",
    "# https://towardsdatascience.com/dealing-with-list-values-in-pandas-dataframes-a177e534f173\n",
    "todos_generos = pd.Series([x for _list in lista_generos for x in _list])\n",
    "\n",
    "# Vamos verificar se os gêneros no nosso dataset estão todos dentro da lista esperada\n",
    "try:\n",
    "    assert set(todos_generos.unique()).issubset(generos_esperados), 'Existe gêneros que não são esperados'\n",
    "except Exception as e:\n",
    "    print(type(e), e)\n",
    "    \n",
    "# Quais gêneros não são esperados?\n",
    "print('Gêneros no dataset diferentes do esperado:', np.setdiff1d(todos_generos,generos_esperados))"
   ]
  },
  {
   "cell_type": "markdown",
   "id": "42d86090-81b9-4f91-b3f3-edf3ec143c41",
   "metadata": {
    "id": "42d86090-81b9-4f91-b3f3-edf3ec143c41"
   },
   "source": [
    "Existem dois gêneros presentes no *dataset* que não são esperados, de acordo com a especificação: **Children** e **IMAX**\n",
    "\n",
    "No caso de **Children**, parece que houve um erro na especificação do *dataset*. Vamos sustituir o valor esperado de **Children's** para **Children**"
   ]
  },
  {
   "cell_type": "code",
   "execution_count": 23,
   "id": "076c828b-5b80-4d11-b051-4b340d187b64",
   "metadata": {
    "colab": {
     "base_uri": "https://localhost:8080/"
    },
    "id": "076c828b-5b80-4d11-b051-4b340d187b64",
    "outputId": "68e5e08d-1d14-423e-f4fa-6fb19b9153a6"
   },
   "outputs": [
    {
     "name": "stdout",
     "output_type": "stream",
     "text": [
      "Gêneros no dataset diferentes do esperado: ['IMAX']\n"
     ]
    }
   ],
   "source": [
    "try:\n",
    "    generos_esperados[generos_esperados.index(\"Children's\")] = \"Children\"\n",
    "except:\n",
    "    print(\"Children's já foi substituido. Continuando...\")\n",
    "    \n",
    "print('Gêneros no dataset diferentes do esperado:', np.setdiff1d(todos_generos,generos_esperados))"
   ]
  },
  {
   "cell_type": "markdown",
   "id": "48511d97-0669-4412-95f5-0cdf70136534",
   "metadata": {
    "id": "48511d97-0669-4412-95f5-0cdf70136534"
   },
   "source": [
    "Agora só temos o gênero **IMAX** que não está especificiado.\n",
    "\n",
    "Vamos ver quantas vezes ele ocorre"
   ]
  },
  {
   "cell_type": "code",
   "execution_count": 24,
   "id": "23b32b8a-d5d8-489b-82b1-75ed26ad27ba",
   "metadata": {
    "colab": {
     "base_uri": "https://localhost:8080/"
    },
    "id": "23b32b8a-d5d8-489b-82b1-75ed26ad27ba",
    "outputId": "504179ce-5ea4-473b-a964-85dbe2bca69d"
   },
   "outputs": [
    {
     "data": {
      "text/plain": [
       "158"
      ]
     },
     "execution_count": 24,
     "metadata": {},
     "output_type": "execute_result"
    }
   ],
   "source": [
    "(todos_generos == 'IMAX').sum()"
   ]
  },
  {
   "cell_type": "markdown",
   "id": "8621267c-f894-42c0-90fb-eba4fcec1b28",
   "metadata": {
    "id": "8621267c-f894-42c0-90fb-eba4fcec1b28"
   },
   "source": [
    "#### Links"
   ]
  },
  {
   "cell_type": "markdown",
   "id": "7c0de274-4147-47e1-b26e-c02c51c1de32",
   "metadata": {
    "id": "7c0de274-4147-47e1-b26e-c02c51c1de32"
   },
   "source": [
    "Os atributos deste dataset não nos parece necessário para as análises desejadas. Desta forma, iremos desconsiderá-lo a partir de agora"
   ]
  },
  {
   "cell_type": "markdown",
   "id": "9b073f6a-93d9-4032-b418-ac2449609c2b",
   "metadata": {
    "id": "9b073f6a-93d9-4032-b418-ac2449609c2b"
   },
   "source": [
    "#### *userId* em `ratings` e `tags`"
   ]
  },
  {
   "cell_type": "code",
   "execution_count": 25,
   "id": "03dfba32-9136-48e6-9e88-f4aed0d3eda1",
   "metadata": {
    "colab": {
     "base_uri": "https://localhost:8080/"
    },
    "id": "03dfba32-9136-48e6-9e88-f4aed0d3eda1",
    "outputId": "7221e782-aad4-4879-e5ac-f8cdd9b9f4b2"
   },
   "outputs": [
    {
     "name": "stdout",
     "output_type": "stream",
     "text": [
      "Os 58 usuários em `tags` são um subconjunto dos 610 usuários em `ratings`\n"
     ]
    }
   ],
   "source": [
    "# Verificar se os usuários de tags são um subconjunto dos usuários de ratings,\n",
    "# uma vez que este possui a lista completa de usuários\n",
    "\n",
    "usuarios_ratings = ratings_df.userId.unique()\n",
    "usuarios_tags = tags_df.userId.unique()\n",
    "\n",
    "assert set(usuarios_tags).issubset(set(usuarios_ratings)), 'Existem usuários em `tags` que não estão presentes em `ratings`'\n",
    "\n",
    "print(f'Os {len(usuarios_tags)} usuários em `tags` são um subconjunto dos {len(usuarios_ratings)} usuários em `ratings`')"
   ]
  },
  {
   "cell_type": "markdown",
   "id": "12cebfe1-cf2b-484e-b0ac-98aa22ffb18d",
   "metadata": {
    "id": "12cebfe1-cf2b-484e-b0ac-98aa22ffb18d"
   },
   "source": [
    "#### *movieId* em `ratings`, `tags` e `movies`"
   ]
  },
  {
   "cell_type": "code",
   "execution_count": 26,
   "id": "6d93f04b-7b76-40cd-9586-653f7a915885",
   "metadata": {
    "colab": {
     "base_uri": "https://localhost:8080/"
    },
    "id": "6d93f04b-7b76-40cd-9586-653f7a915885",
    "outputId": "33f5f062-2187-4b89-988b-247b9a2d831f"
   },
   "outputs": [
    {
     "name": "stdout",
     "output_type": "stream",
     "text": [
      "Os 9724 filmes em `ratings` e os 1572 em `tags` são um subconjunto dos 9742 filmes do DataFrame `movies`\n"
     ]
    }
   ],
   "source": [
    "# Verificar se os Ids de filmes em ratings e tags são um subconjunto dos filmes em movies\n",
    "\n",
    "filmes_ratings = ratings_df.movieId.unique()\n",
    "filmes_tags = tags_df.movieId.unique()\n",
    "filmes_movies = movies_df.movieId.unique()\n",
    "\n",
    "assert set(filmes_ratings).issubset(set(filmes_movies)), 'Existem filmes em `ratings` que não estão presentes em `movies`'\n",
    "assert set(filmes_tags).issubset(set(filmes_movies)), 'Existem filmes em `tags` que não estão presentes em `movies`'\n",
    "\n",
    "print(f'Os {len(filmes_ratings)} filmes em `ratings` e os {len(filmes_tags)} em `tags` são um subconjunto dos {len(filmes_movies)} filmes do DataFrame `movies`')"
   ]
  },
  {
   "cell_type": "code",
   "execution_count": 27,
   "id": "a3cb7245-c436-4615-a052-056b230d3700",
   "metadata": {
    "colab": {
     "base_uri": "https://localhost:8080/"
    },
    "id": "a3cb7245-c436-4615-a052-056b230d3700",
    "outputId": "84ee017f-9f43-49c4-e92a-f8c2edd02fa8"
   },
   "outputs": [
    {
     "name": "stdout",
     "output_type": "stream",
     "text": [
      "O conjunto de movieId nos DataFrames `ratings` e `tags` é o mesmo dos filmes no DataFrame `movies`\n"
     ]
    }
   ],
   "source": [
    "# Verificar se todos os filmes em movies receberam ao menos uma avaliação ou rótulo\n",
    "\n",
    "assert set(np.concatenate((filmes_ratings, filmes_tags))) == set(movies_df.movieId), 'Conjunto de movieId nos DataFrames `ratings` e `tags` difere dos Ids no DataFrame `movies`'\n",
    "\n",
    "print('O conjunto de movieId nos DataFrames `ratings` e `tags` é o mesmo dos filmes no DataFrame `movies`')"
   ]
  },
  {
   "cell_type": "markdown",
   "id": "1d10741e-349a-4374-b6c1-c58c7728fdf7",
   "metadata": {
    "id": "1d10741e-349a-4374-b6c1-c58c7728fdf7"
   },
   "source": [
    "#### Avaliações e rótulos duplicados de um mesmo filme por determinado usuário"
   ]
  },
  {
   "cell_type": "code",
   "execution_count": 28,
   "id": "648d441b-b021-4ec9-ae4a-45d65ea17a63",
   "metadata": {
    "colab": {
     "base_uri": "https://localhost:8080/"
    },
    "id": "648d441b-b021-4ec9-ae4a-45d65ea17a63",
    "outputId": "1e196669-ece0-41ec-a4a6-5c3daa81257d"
   },
   "outputs": [
    {
     "name": "stdout",
     "output_type": "stream",
     "text": [
      "Nenhuma avaliação ou rótulo duplicado no dataset\n"
     ]
    }
   ],
   "source": [
    "# Um mesmo usuário realizou mais de uma avaliação de um determinado filme?\n",
    "avaliacoes_duplicadas = ratings_df[ratings_df.duplicated(subset=['userId', 'movieId'])]\n",
    "\n",
    "# Um mesmo usuário atribuiu um determinado rótulo mais de uma vez para um determinado filme?\n",
    "rotulos_duplicados = tags_df[tags_df.duplicated(subset=['userId', 'movieId', 'tag'])]\n",
    "\n",
    "assert len(avaliacoes_duplicadas) == 0, 'Existem avaliações duplicadas'\n",
    "assert len(rotulos_duplicados) == 0, 'Existem rótulos duplicados'\n",
    "\n",
    "print('Nenhuma avaliação ou rótulo duplicado no dataset')"
   ]
  },
  {
   "cell_type": "markdown",
   "id": "aedd8fb6-639f-4974-9ae3-e9a4382dab0f",
   "metadata": {
    "id": "aedd8fb6-639f-4974-9ae3-e9a4382dab0f",
    "tags": []
   },
   "source": [
    "# Pré-processamento"
   ]
  },
  {
   "cell_type": "markdown",
   "id": "2973bed2-047d-49e5-8f87-c65504ea4ea2",
   "metadata": {},
   "source": [
    "## Conversão do timestamp em *ratings* e *tags* para tipo data"
   ]
  },
  {
   "cell_type": "code",
   "execution_count": 29,
   "id": "d452f573-f573-4016-9770-b0d708377b7b",
   "metadata": {},
   "outputs": [],
   "source": [
    "ratings_df.timestamp = pd.to_datetime(ratings_df.timestamp, unit=\"s\")"
   ]
  },
  {
   "cell_type": "code",
   "execution_count": 30,
   "id": "ed51207a-255c-4ce5-8e74-56fec9daa8be",
   "metadata": {},
   "outputs": [
    {
     "data": {
      "text/html": [
       "<div>\n",
       "<style scoped>\n",
       "    .dataframe tbody tr th:only-of-type {\n",
       "        vertical-align: middle;\n",
       "    }\n",
       "\n",
       "    .dataframe tbody tr th {\n",
       "        vertical-align: top;\n",
       "    }\n",
       "\n",
       "    .dataframe thead th {\n",
       "        text-align: right;\n",
       "    }\n",
       "</style>\n",
       "<table border=\"1\" class=\"dataframe\">\n",
       "  <thead>\n",
       "    <tr style=\"text-align: right;\">\n",
       "      <th></th>\n",
       "      <th>userId</th>\n",
       "      <th>movieId</th>\n",
       "      <th>rating</th>\n",
       "      <th>timestamp</th>\n",
       "    </tr>\n",
       "  </thead>\n",
       "  <tbody>\n",
       "    <tr>\n",
       "      <th>0</th>\n",
       "      <td>1</td>\n",
       "      <td>1</td>\n",
       "      <td>4.0</td>\n",
       "      <td>2000-07-30 18:45:03</td>\n",
       "    </tr>\n",
       "    <tr>\n",
       "      <th>1</th>\n",
       "      <td>1</td>\n",
       "      <td>3</td>\n",
       "      <td>4.0</td>\n",
       "      <td>2000-07-30 18:20:47</td>\n",
       "    </tr>\n",
       "    <tr>\n",
       "      <th>2</th>\n",
       "      <td>1</td>\n",
       "      <td>6</td>\n",
       "      <td>4.0</td>\n",
       "      <td>2000-07-30 18:37:04</td>\n",
       "    </tr>\n",
       "    <tr>\n",
       "      <th>3</th>\n",
       "      <td>1</td>\n",
       "      <td>47</td>\n",
       "      <td>5.0</td>\n",
       "      <td>2000-07-30 19:03:35</td>\n",
       "    </tr>\n",
       "    <tr>\n",
       "      <th>4</th>\n",
       "      <td>1</td>\n",
       "      <td>50</td>\n",
       "      <td>5.0</td>\n",
       "      <td>2000-07-30 18:48:51</td>\n",
       "    </tr>\n",
       "  </tbody>\n",
       "</table>\n",
       "</div>"
      ],
      "text/plain": [
       "   userId  movieId  rating           timestamp\n",
       "0       1        1     4.0 2000-07-30 18:45:03\n",
       "1       1        3     4.0 2000-07-30 18:20:47\n",
       "2       1        6     4.0 2000-07-30 18:37:04\n",
       "3       1       47     5.0 2000-07-30 19:03:35\n",
       "4       1       50     5.0 2000-07-30 18:48:51"
      ]
     },
     "execution_count": 30,
     "metadata": {},
     "output_type": "execute_result"
    }
   ],
   "source": [
    "ratings_df.head()"
   ]
  },
  {
   "cell_type": "code",
   "execution_count": 31,
   "id": "f8abc8ec-1ec5-42fd-9a68-6cccb6f42c91",
   "metadata": {},
   "outputs": [
    {
     "name": "stdout",
     "output_type": "stream",
     "text": [
      "<class 'pandas.core.frame.DataFrame'>\n",
      "RangeIndex: 100836 entries, 0 to 100835\n",
      "Data columns (total 4 columns):\n",
      " #   Column     Non-Null Count   Dtype         \n",
      "---  ------     --------------   -----         \n",
      " 0   userId     100836 non-null  int64         \n",
      " 1   movieId    100836 non-null  int64         \n",
      " 2   rating     100836 non-null  float64       \n",
      " 3   timestamp  100836 non-null  datetime64[ns]\n",
      "dtypes: datetime64[ns](1), float64(1), int64(2)\n",
      "memory usage: 3.1 MB\n"
     ]
    }
   ],
   "source": [
    "ratings_df.info()"
   ]
  },
  {
   "cell_type": "code",
   "execution_count": 32,
   "id": "5d3f6ba4-ed4c-483c-820a-1c526d3093fb",
   "metadata": {},
   "outputs": [],
   "source": [
    "tags_df.timestamp = pd.to_datetime(tags_df.timestamp, unit=\"s\")"
   ]
  },
  {
   "cell_type": "code",
   "execution_count": 33,
   "id": "452d0997-f171-4fe8-9ac1-0607f179dbbd",
   "metadata": {},
   "outputs": [
    {
     "name": "stdout",
     "output_type": "stream",
     "text": [
      "<class 'pandas.core.frame.DataFrame'>\n",
      "RangeIndex: 3683 entries, 0 to 3682\n",
      "Data columns (total 4 columns):\n",
      " #   Column     Non-Null Count  Dtype         \n",
      "---  ------     --------------  -----         \n",
      " 0   userId     3683 non-null   int64         \n",
      " 1   movieId    3683 non-null   int64         \n",
      " 2   tag        3683 non-null   object        \n",
      " 3   timestamp  3683 non-null   datetime64[ns]\n",
      "dtypes: datetime64[ns](1), int64(2), object(1)\n",
      "memory usage: 115.2+ KB\n"
     ]
    }
   ],
   "source": [
    "tags_df.info()"
   ]
  },
  {
   "cell_type": "markdown",
   "id": "46224d31-51ab-411b-9a44-3bd4b1ff0cb0",
   "metadata": {
    "id": "46224d31-51ab-411b-9a44-3bd4b1ff0cb0"
   },
   "source": [
    "## Rótulos com muitas palavras"
   ]
  },
  {
   "cell_type": "code",
   "execution_count": 34,
   "id": "Q4caiOfpdy6I",
   "metadata": {
    "colab": {
     "base_uri": "https://localhost:8080/",
     "height": 795
    },
    "id": "Q4caiOfpdy6I",
    "outputId": "22a9300a-6580-410e-f3ba-a4fe4bd98d0c"
   },
   "outputs": [
    {
     "data": {
      "text/html": [
       "<div>\n",
       "<style scoped>\n",
       "    .dataframe tbody tr th:only-of-type {\n",
       "        vertical-align: middle;\n",
       "    }\n",
       "\n",
       "    .dataframe tbody tr th {\n",
       "        vertical-align: top;\n",
       "    }\n",
       "\n",
       "    .dataframe thead th {\n",
       "        text-align: right;\n",
       "    }\n",
       "</style>\n",
       "<table border=\"1\" class=\"dataframe\">\n",
       "  <thead>\n",
       "    <tr style=\"text-align: right;\">\n",
       "      <th></th>\n",
       "      <th>userId</th>\n",
       "      <th>movieId</th>\n",
       "      <th>tag</th>\n",
       "      <th>timestamp</th>\n",
       "    </tr>\n",
       "  </thead>\n",
       "  <tbody>\n",
       "    <tr>\n",
       "      <th>412</th>\n",
       "      <td>106</td>\n",
       "      <td>4896</td>\n",
       "      <td>Everything you want is here</td>\n",
       "      <td>2016-07-03 17:29:04</td>\n",
       "    </tr>\n",
       "    <tr>\n",
       "      <th>485</th>\n",
       "      <td>161</td>\n",
       "      <td>52287</td>\n",
       "      <td>Something for everyone in this one... saw it w...</td>\n",
       "      <td>2007-04-13 21:14:21</td>\n",
       "    </tr>\n",
       "    <tr>\n",
       "      <th>587</th>\n",
       "      <td>318</td>\n",
       "      <td>48698</td>\n",
       "      <td>the catholic church is the most corrupt organi...</td>\n",
       "      <td>2010-06-08 14:09:49</td>\n",
       "    </tr>\n",
       "    <tr>\n",
       "      <th>621</th>\n",
       "      <td>319</td>\n",
       "      <td>364</td>\n",
       "      <td>Oscar (Best Music - Original Score)</td>\n",
       "      <td>2016-04-22 19:05:19</td>\n",
       "    </tr>\n",
       "    <tr>\n",
       "      <th>739</th>\n",
       "      <td>424</td>\n",
       "      <td>608</td>\n",
       "      <td>based on a true story</td>\n",
       "      <td>2016-03-13 20:28:02</td>\n",
       "    </tr>\n",
       "    <tr>\n",
       "      <th>840</th>\n",
       "      <td>424</td>\n",
       "      <td>3186</td>\n",
       "      <td>based on a true story</td>\n",
       "      <td>2016-03-13 05:13:22</td>\n",
       "    </tr>\n",
       "    <tr>\n",
       "      <th>1112</th>\n",
       "      <td>474</td>\n",
       "      <td>457</td>\n",
       "      <td>based on a TV show</td>\n",
       "      <td>2006-01-20 19:18:37</td>\n",
       "    </tr>\n",
       "    <tr>\n",
       "      <th>1164</th>\n",
       "      <td>474</td>\n",
       "      <td>648</td>\n",
       "      <td>based on a TV show</td>\n",
       "      <td>2006-01-24 21:19:44</td>\n",
       "    </tr>\n",
       "    <tr>\n",
       "      <th>1181</th>\n",
       "      <td>474</td>\n",
       "      <td>818</td>\n",
       "      <td>based on a TV show</td>\n",
       "      <td>2006-01-16 01:46:36</td>\n",
       "    </tr>\n",
       "    <tr>\n",
       "      <th>1201</th>\n",
       "      <td>474</td>\n",
       "      <td>912</td>\n",
       "      <td>start of a beautiful friendship</td>\n",
       "      <td>2006-01-14 01:31:59</td>\n",
       "    </tr>\n",
       "    <tr>\n",
       "      <th>1204</th>\n",
       "      <td>474</td>\n",
       "      <td>915</td>\n",
       "      <td>rich guy - poor girl</td>\n",
       "      <td>2006-01-14 02:40:49</td>\n",
       "    </tr>\n",
       "    <tr>\n",
       "      <th>1699</th>\n",
       "      <td>474</td>\n",
       "      <td>2919</td>\n",
       "      <td>Academy award (Best Supporting Actress)</td>\n",
       "      <td>2006-01-15 23:31:56</td>\n",
       "    </tr>\n",
       "    <tr>\n",
       "      <th>1759</th>\n",
       "      <td>474</td>\n",
       "      <td>3211</td>\n",
       "      <td>a dingo ate my baby</td>\n",
       "      <td>2006-01-13 22:37:34</td>\n",
       "    </tr>\n",
       "    <tr>\n",
       "      <th>1868</th>\n",
       "      <td>474</td>\n",
       "      <td>4034</td>\n",
       "      <td>based on a TV show</td>\n",
       "      <td>2006-01-20 19:18:49</td>\n",
       "    </tr>\n",
       "    <tr>\n",
       "      <th>2433</th>\n",
       "      <td>474</td>\n",
       "      <td>31658</td>\n",
       "      <td>06 Oscar Nominated Best Movie - Animation</td>\n",
       "      <td>2006-04-19 13:04:16</td>\n",
       "    </tr>\n",
       "    <tr>\n",
       "      <th>2465</th>\n",
       "      <td>474</td>\n",
       "      <td>37729</td>\n",
       "      <td>06 Oscar Nominated Best Movie - Animation</td>\n",
       "      <td>2006-02-04 13:32:18</td>\n",
       "    </tr>\n",
       "    <tr>\n",
       "      <th>2469</th>\n",
       "      <td>474</td>\n",
       "      <td>38038</td>\n",
       "      <td>06 Oscar Nominated Best Movie - Animation</td>\n",
       "      <td>2006-02-11 13:23:10</td>\n",
       "    </tr>\n",
       "    <tr>\n",
       "      <th>2496</th>\n",
       "      <td>477</td>\n",
       "      <td>34</td>\n",
       "      <td>villain nonexistent or not needed for good story</td>\n",
       "      <td>2009-06-12 06:24:05</td>\n",
       "    </tr>\n",
       "    <tr>\n",
       "      <th>2499</th>\n",
       "      <td>477</td>\n",
       "      <td>216</td>\n",
       "      <td>stop looking at me swan</td>\n",
       "      <td>2009-06-12 06:22:06</td>\n",
       "    </tr>\n",
       "    <tr>\n",
       "      <th>2519</th>\n",
       "      <td>477</td>\n",
       "      <td>832</td>\n",
       "      <td>GIVE ME BACK MY SON!</td>\n",
       "      <td>2010-03-29 03:17:16</td>\n",
       "    </tr>\n",
       "    <tr>\n",
       "      <th>2520</th>\n",
       "      <td>477</td>\n",
       "      <td>832</td>\n",
       "      <td>It was melodramatic and kind of dumb</td>\n",
       "      <td>2010-03-29 03:17:13</td>\n",
       "    </tr>\n",
       "    <tr>\n",
       "      <th>2734</th>\n",
       "      <td>477</td>\n",
       "      <td>69526</td>\n",
       "      <td>stop using useless characters for filler</td>\n",
       "      <td>2009-06-30 07:15:59</td>\n",
       "    </tr>\n",
       "    <tr>\n",
       "      <th>2784</th>\n",
       "      <td>533</td>\n",
       "      <td>356</td>\n",
       "      <td>stupid is as stupid does</td>\n",
       "      <td>2015-02-24 04:57:46</td>\n",
       "    </tr>\n",
       "    <tr>\n",
       "      <th>2785</th>\n",
       "      <td>537</td>\n",
       "      <td>527</td>\n",
       "      <td>based on a true story</td>\n",
       "      <td>2015-02-17 03:01:12</td>\n",
       "    </tr>\n",
       "    <tr>\n",
       "      <th>3515</th>\n",
       "      <td>599</td>\n",
       "      <td>296</td>\n",
       "      <td>r:disturbing violent content including rape</td>\n",
       "      <td>2017-06-26 05:55:02</td>\n",
       "    </tr>\n",
       "    <tr>\n",
       "      <th>3572</th>\n",
       "      <td>599</td>\n",
       "      <td>924</td>\n",
       "      <td>Oscar (Best Effects - Visual Effects)</td>\n",
       "      <td>2017-06-26 05:59:51</td>\n",
       "    </tr>\n",
       "  </tbody>\n",
       "</table>\n",
       "</div>"
      ],
      "text/plain": [
       "      userId  movieId                                                tag  \\\n",
       "412      106     4896                        Everything you want is here   \n",
       "485      161    52287  Something for everyone in this one... saw it w...   \n",
       "587      318    48698  the catholic church is the most corrupt organi...   \n",
       "621      319      364                Oscar (Best Music - Original Score)   \n",
       "739      424      608                              based on a true story   \n",
       "840      424     3186                              based on a true story   \n",
       "1112     474      457                                 based on a TV show   \n",
       "1164     474      648                                 based on a TV show   \n",
       "1181     474      818                                 based on a TV show   \n",
       "1201     474      912                    start of a beautiful friendship   \n",
       "1204     474      915                               rich guy - poor girl   \n",
       "1699     474     2919            Academy award (Best Supporting Actress)   \n",
       "1759     474     3211                                a dingo ate my baby   \n",
       "1868     474     4034                                 based on a TV show   \n",
       "2433     474    31658          06 Oscar Nominated Best Movie - Animation   \n",
       "2465     474    37729          06 Oscar Nominated Best Movie - Animation   \n",
       "2469     474    38038          06 Oscar Nominated Best Movie - Animation   \n",
       "2496     477       34   villain nonexistent or not needed for good story   \n",
       "2499     477      216                            stop looking at me swan   \n",
       "2519     477      832                               GIVE ME BACK MY SON!   \n",
       "2520     477      832               It was melodramatic and kind of dumb   \n",
       "2734     477    69526           stop using useless characters for filler   \n",
       "2784     533      356                           stupid is as stupid does   \n",
       "2785     537      527                              based on a true story   \n",
       "3515     599      296        r:disturbing violent content including rape   \n",
       "3572     599      924              Oscar (Best Effects - Visual Effects)   \n",
       "\n",
       "               timestamp  \n",
       "412  2016-07-03 17:29:04  \n",
       "485  2007-04-13 21:14:21  \n",
       "587  2010-06-08 14:09:49  \n",
       "621  2016-04-22 19:05:19  \n",
       "739  2016-03-13 20:28:02  \n",
       "840  2016-03-13 05:13:22  \n",
       "1112 2006-01-20 19:18:37  \n",
       "1164 2006-01-24 21:19:44  \n",
       "1181 2006-01-16 01:46:36  \n",
       "1201 2006-01-14 01:31:59  \n",
       "1204 2006-01-14 02:40:49  \n",
       "1699 2006-01-15 23:31:56  \n",
       "1759 2006-01-13 22:37:34  \n",
       "1868 2006-01-20 19:18:49  \n",
       "2433 2006-04-19 13:04:16  \n",
       "2465 2006-02-04 13:32:18  \n",
       "2469 2006-02-11 13:23:10  \n",
       "2496 2009-06-12 06:24:05  \n",
       "2499 2009-06-12 06:22:06  \n",
       "2519 2010-03-29 03:17:16  \n",
       "2520 2010-03-29 03:17:13  \n",
       "2734 2009-06-30 07:15:59  \n",
       "2784 2015-02-24 04:57:46  \n",
       "2785 2015-02-17 03:01:12  \n",
       "3515 2017-06-26 05:55:02  \n",
       "3572 2017-06-26 05:59:51  "
      ]
     },
     "execution_count": 34,
     "metadata": {},
     "output_type": "execute_result"
    }
   ],
   "source": [
    "tags_df[lista_palavras.apply(len) > 4]"
   ]
  },
  {
   "cell_type": "markdown",
   "id": "yzwR5eK5nMIe",
   "metadata": {
    "id": "yzwR5eK5nMIe"
   },
   "source": [
    "As tags com mais de 4 palavras serão mantidas para análise\n",
    "\n"
   ]
  },
  {
   "cell_type": "markdown",
   "id": "4c5f76c9-a7d0-4fd8-81ee-8fe261d5e701",
   "metadata": {
    "id": "4c5f76c9-a7d0-4fd8-81ee-8fe261d5e701"
   },
   "source": [
    "## Títulos duplicados"
   ]
  },
  {
   "cell_type": "code",
   "execution_count": 35,
   "id": "Ulz_KnJIe7jX",
   "metadata": {
    "colab": {
     "base_uri": "https://localhost:8080/",
     "height": 461
    },
    "id": "Ulz_KnJIe7jX",
    "outputId": "501d14ac-3da3-40dd-98b6-c12cc855d0f6"
   },
   "outputs": [
    {
     "data": {
      "text/html": [
       "<div>\n",
       "<style scoped>\n",
       "    .dataframe tbody tr th:only-of-type {\n",
       "        vertical-align: middle;\n",
       "    }\n",
       "\n",
       "    .dataframe tbody tr th {\n",
       "        vertical-align: top;\n",
       "    }\n",
       "\n",
       "    .dataframe thead th {\n",
       "        text-align: right;\n",
       "    }\n",
       "</style>\n",
       "<table border=\"1\" class=\"dataframe\">\n",
       "  <thead>\n",
       "    <tr style=\"text-align: right;\">\n",
       "      <th></th>\n",
       "      <th>title</th>\n",
       "      <th>genres</th>\n",
       "      <th>Ratings_count</th>\n",
       "    </tr>\n",
       "    <tr>\n",
       "      <th>movieId</th>\n",
       "      <th></th>\n",
       "      <th></th>\n",
       "      <th></th>\n",
       "    </tr>\n",
       "  </thead>\n",
       "  <tbody>\n",
       "    <tr>\n",
       "      <th>6003</th>\n",
       "      <td>Confessions of a Dangerous Mind (2002)</td>\n",
       "      <td>Comedy|Crime|Drama|Thriller</td>\n",
       "      <td>15</td>\n",
       "    </tr>\n",
       "    <tr>\n",
       "      <th>144606</th>\n",
       "      <td>Confessions of a Dangerous Mind (2002)</td>\n",
       "      <td>Comedy|Crime|Drama|Romance|Thriller</td>\n",
       "      <td>1</td>\n",
       "    </tr>\n",
       "    <tr>\n",
       "      <th>838</th>\n",
       "      <td>Emma (1996)</td>\n",
       "      <td>Comedy|Drama|Romance</td>\n",
       "      <td>50</td>\n",
       "    </tr>\n",
       "    <tr>\n",
       "      <th>26958</th>\n",
       "      <td>Emma (1996)</td>\n",
       "      <td>Romance</td>\n",
       "      <td>4</td>\n",
       "    </tr>\n",
       "    <tr>\n",
       "      <th>32600</th>\n",
       "      <td>Eros (2004)</td>\n",
       "      <td>Drama</td>\n",
       "      <td>2</td>\n",
       "    </tr>\n",
       "    <tr>\n",
       "      <th>147002</th>\n",
       "      <td>Eros (2004)</td>\n",
       "      <td>Drama|Romance</td>\n",
       "      <td>1</td>\n",
       "    </tr>\n",
       "    <tr>\n",
       "      <th>2851</th>\n",
       "      <td>Saturn 3 (1980)</td>\n",
       "      <td>Adventure|Sci-Fi|Thriller</td>\n",
       "      <td>30</td>\n",
       "    </tr>\n",
       "    <tr>\n",
       "      <th>168358</th>\n",
       "      <td>Saturn 3 (1980)</td>\n",
       "      <td>Sci-Fi|Thriller</td>\n",
       "      <td>1</td>\n",
       "    </tr>\n",
       "    <tr>\n",
       "      <th>34048</th>\n",
       "      <td>War of the Worlds (2005)</td>\n",
       "      <td>Action|Adventure|Sci-Fi|Thriller</td>\n",
       "      <td>1</td>\n",
       "    </tr>\n",
       "    <tr>\n",
       "      <th>64997</th>\n",
       "      <td>War of the Worlds (2005)</td>\n",
       "      <td>Action|Sci-Fi</td>\n",
       "      <td>1</td>\n",
       "    </tr>\n",
       "  </tbody>\n",
       "</table>\n",
       "</div>"
      ],
      "text/plain": [
       "                                          title  \\\n",
       "movieId                                           \n",
       "6003     Confessions of a Dangerous Mind (2002)   \n",
       "144606   Confessions of a Dangerous Mind (2002)   \n",
       "838                                 Emma (1996)   \n",
       "26958                               Emma (1996)   \n",
       "32600                               Eros (2004)   \n",
       "147002                              Eros (2004)   \n",
       "2851                            Saturn 3 (1980)   \n",
       "168358                          Saturn 3 (1980)   \n",
       "34048                  War of the Worlds (2005)   \n",
       "64997                  War of the Worlds (2005)   \n",
       "\n",
       "                                      genres  Ratings_count  \n",
       "movieId                                                      \n",
       "6003             Comedy|Crime|Drama|Thriller             15  \n",
       "144606   Comedy|Crime|Drama|Romance|Thriller              1  \n",
       "838                     Comedy|Drama|Romance             50  \n",
       "26958                                Romance              4  \n",
       "32600                                  Drama              2  \n",
       "147002                         Drama|Romance              1  \n",
       "2851               Adventure|Sci-Fi|Thriller             30  \n",
       "168358                       Sci-Fi|Thriller              1  \n",
       "34048       Action|Adventure|Sci-Fi|Thriller              1  \n",
       "64997                          Action|Sci-Fi              1  "
      ]
     },
     "execution_count": 35,
     "metadata": {},
     "output_type": "execute_result"
    }
   ],
   "source": [
    "# Nome dos filmes repetidos\n",
    "title_filmes_duplicados = duplicados['title']\n",
    "\n",
    "# Df com as informações dos filmes repetidos com os dados do \"movies_df\"\n",
    "lista_filmes_duplicados = movies_df.query('title in @title_filmes_duplicados').copy()\n",
    "\n",
    "# Id dos filmes repetidos\n",
    "movieId_filmes_duplicados = lista_filmes_duplicados['movieId'].values\n",
    "\n",
    "# Quantidade de Notas atribuidas aos movieId com dados do \"ratings_df\"\n",
    "lista_filmes_duplicados.set_index('movieId', inplace = True)\n",
    "lista_filmes_duplicados['Ratings_count'] = ratings_df.query('movieId in @movieId_filmes_duplicados').movieId.value_counts().values\n",
    "lista_filmes_duplicados.sort_values(by =['title'])"
   ]
  },
  {
   "cell_type": "markdown",
   "id": "cFPgpYfH5J-s",
   "metadata": {
    "id": "cFPgpYfH5J-s"
   },
   "source": [
    "Para evitar problemas de separação de dados, os ID's serão unificados conforme relação abaixo\n",
    "\n",
    "    Confessions of a Dangerous Mind (2002) - movieId: 6003 (old: 144606)\n",
    "    Emma (1996) - movieId: 838 (old: 26958)\n",
    "    Eros (2004) - movieId: 32600 (old: 147002)\n",
    "    Saturn 3 (1980)\t- movieId: 2851 (old: 168358)\n",
    "    War of the Worlds (2005) - movieId: 34048 (old:64997)"
   ]
  },
  {
   "cell_type": "code",
   "execution_count": 36,
   "id": "sFOGnSX55IVt",
   "metadata": {
    "colab": {
     "base_uri": "https://localhost:8080/"
    },
    "id": "sFOGnSX55IVt",
    "outputId": "e58894b8-3a69-4c48-90cd-cae88c8973bd"
   },
   "outputs": [
    {
     "name": "stdout",
     "output_type": "stream",
     "text": [
      "Exitem 0 filmes com o movieId excluido no movies_df\n",
      "Exitem 0 filmes com o movieId excluido no ratings_df\n",
      "Exitem 0 filmes com o movieId excluido no tags_df\n"
     ]
    }
   ],
   "source": [
    "# Lista movieId Excluidos\n",
    "movie_id_excluidos = [144606, 26958, 147002, 168358, 64997]\n",
    "\n",
    "# Função de conversão\n",
    "def conversao_movieId(num):\n",
    "  if num == 144606:\n",
    "    return 6003\n",
    "  elif num == 26958:\n",
    "    return 838\n",
    "  elif num == 147002:\n",
    "    return 32600\n",
    "  elif num == 168358:\n",
    "    return 2851\n",
    "  elif num == 64997:\n",
    "    return 34048\n",
    "  else:\n",
    "    return num\n",
    "\n",
    "# Deletar id duplicados - movies_df\n",
    "movies_df.drop((movies_df.query('movieId in @movie_id_excluidos').index), inplace = True, axis = 0)\n",
    "duplicados_movies = len(movies_df[movies_df.title.duplicated()])\n",
    "\n",
    "# Conversão de id - ratings_df\n",
    "ratings_df['movieId'] = ratings_df['movieId'].map(conversao_movieId)\n",
    "duplicados_ratings = len(ratings_df.query('movieId in @movie_id_excluidos'))\n",
    "\n",
    "# Conversão tags_df\n",
    "tags_df['movieId'] = tags_df['movieId'].map(conversao_movieId)\n",
    "duplicados_tags = len(ratings_df.query('movieId in @movie_id_excluidos'))\n",
    "\n",
    "# Verificação dos movie_id excluidos\n",
    "print(f'Exitem {duplicados_movies} filmes com o movieId excluido no movies_df')\n",
    "print(f'Exitem {duplicados_ratings} filmes com o movieId excluido no ratings_df')\n",
    "print(f'Exitem {duplicados_tags} filmes com o movieId excluido no tags_df')"
   ]
  },
  {
   "cell_type": "markdown",
   "id": "445061e5-93d3-4e90-89c9-cb46abdb3763",
   "metadata": {
    "id": "445061e5-93d3-4e90-89c9-cb46abdb3763"
   },
   "source": [
    "## Gêneros não especificados\n",
    "### IMAX"
   ]
  },
  {
   "cell_type": "code",
   "execution_count": 37,
   "id": "_L2ylV2fkkX2",
   "metadata": {
    "colab": {
     "base_uri": "https://localhost:8080/",
     "height": 305
    },
    "id": "_L2ylV2fkkX2",
    "outputId": "d34289af-95a7-4cc5-8c2f-b8ab432726bb"
   },
   "outputs": [
    {
     "name": "stdout",
     "output_type": "stream",
     "text": [
      "Quantidade de filmes com genero IMAX: 158\n",
      "\n",
      "\n"
     ]
    },
    {
     "data": {
      "text/html": [
       "<div>\n",
       "<style scoped>\n",
       "    .dataframe tbody tr th:only-of-type {\n",
       "        vertical-align: middle;\n",
       "    }\n",
       "\n",
       "    .dataframe tbody tr th {\n",
       "        vertical-align: top;\n",
       "    }\n",
       "\n",
       "    .dataframe thead th {\n",
       "        text-align: right;\n",
       "    }\n",
       "</style>\n",
       "<table border=\"1\" class=\"dataframe\">\n",
       "  <thead>\n",
       "    <tr style=\"text-align: right;\">\n",
       "      <th></th>\n",
       "      <th>movieId</th>\n",
       "      <th>title</th>\n",
       "      <th>(no genres listed)</th>\n",
       "      <th>Action</th>\n",
       "      <th>Adventure</th>\n",
       "      <th>Animation</th>\n",
       "      <th>Children</th>\n",
       "      <th>Comedy</th>\n",
       "      <th>Crime</th>\n",
       "      <th>Documentary</th>\n",
       "      <th>...</th>\n",
       "      <th>Film-Noir</th>\n",
       "      <th>Horror</th>\n",
       "      <th>IMAX</th>\n",
       "      <th>Musical</th>\n",
       "      <th>Mystery</th>\n",
       "      <th>Romance</th>\n",
       "      <th>Sci-Fi</th>\n",
       "      <th>Thriller</th>\n",
       "      <th>War</th>\n",
       "      <th>Western</th>\n",
       "    </tr>\n",
       "  </thead>\n",
       "  <tbody>\n",
       "    <tr>\n",
       "      <th>0</th>\n",
       "      <td>1</td>\n",
       "      <td>Toy Story (1995)</td>\n",
       "      <td>0</td>\n",
       "      <td>0</td>\n",
       "      <td>1</td>\n",
       "      <td>1</td>\n",
       "      <td>1</td>\n",
       "      <td>1</td>\n",
       "      <td>0</td>\n",
       "      <td>0</td>\n",
       "      <td>...</td>\n",
       "      <td>0</td>\n",
       "      <td>0</td>\n",
       "      <td>0</td>\n",
       "      <td>0</td>\n",
       "      <td>0</td>\n",
       "      <td>0</td>\n",
       "      <td>0</td>\n",
       "      <td>0</td>\n",
       "      <td>0</td>\n",
       "      <td>0</td>\n",
       "    </tr>\n",
       "    <tr>\n",
       "      <th>1</th>\n",
       "      <td>2</td>\n",
       "      <td>Jumanji (1995)</td>\n",
       "      <td>0</td>\n",
       "      <td>0</td>\n",
       "      <td>1</td>\n",
       "      <td>0</td>\n",
       "      <td>1</td>\n",
       "      <td>0</td>\n",
       "      <td>0</td>\n",
       "      <td>0</td>\n",
       "      <td>...</td>\n",
       "      <td>0</td>\n",
       "      <td>0</td>\n",
       "      <td>0</td>\n",
       "      <td>0</td>\n",
       "      <td>0</td>\n",
       "      <td>0</td>\n",
       "      <td>0</td>\n",
       "      <td>0</td>\n",
       "      <td>0</td>\n",
       "      <td>0</td>\n",
       "    </tr>\n",
       "    <tr>\n",
       "      <th>2</th>\n",
       "      <td>3</td>\n",
       "      <td>Grumpier Old Men (1995)</td>\n",
       "      <td>0</td>\n",
       "      <td>0</td>\n",
       "      <td>0</td>\n",
       "      <td>0</td>\n",
       "      <td>0</td>\n",
       "      <td>1</td>\n",
       "      <td>0</td>\n",
       "      <td>0</td>\n",
       "      <td>...</td>\n",
       "      <td>0</td>\n",
       "      <td>0</td>\n",
       "      <td>0</td>\n",
       "      <td>0</td>\n",
       "      <td>0</td>\n",
       "      <td>1</td>\n",
       "      <td>0</td>\n",
       "      <td>0</td>\n",
       "      <td>0</td>\n",
       "      <td>0</td>\n",
       "    </tr>\n",
       "    <tr>\n",
       "      <th>3</th>\n",
       "      <td>4</td>\n",
       "      <td>Waiting to Exhale (1995)</td>\n",
       "      <td>0</td>\n",
       "      <td>0</td>\n",
       "      <td>0</td>\n",
       "      <td>0</td>\n",
       "      <td>0</td>\n",
       "      <td>1</td>\n",
       "      <td>0</td>\n",
       "      <td>0</td>\n",
       "      <td>...</td>\n",
       "      <td>0</td>\n",
       "      <td>0</td>\n",
       "      <td>0</td>\n",
       "      <td>0</td>\n",
       "      <td>0</td>\n",
       "      <td>1</td>\n",
       "      <td>0</td>\n",
       "      <td>0</td>\n",
       "      <td>0</td>\n",
       "      <td>0</td>\n",
       "    </tr>\n",
       "    <tr>\n",
       "      <th>4</th>\n",
       "      <td>5</td>\n",
       "      <td>Father of the Bride Part II (1995)</td>\n",
       "      <td>0</td>\n",
       "      <td>0</td>\n",
       "      <td>0</td>\n",
       "      <td>0</td>\n",
       "      <td>0</td>\n",
       "      <td>1</td>\n",
       "      <td>0</td>\n",
       "      <td>0</td>\n",
       "      <td>...</td>\n",
       "      <td>0</td>\n",
       "      <td>0</td>\n",
       "      <td>0</td>\n",
       "      <td>0</td>\n",
       "      <td>0</td>\n",
       "      <td>0</td>\n",
       "      <td>0</td>\n",
       "      <td>0</td>\n",
       "      <td>0</td>\n",
       "      <td>0</td>\n",
       "    </tr>\n",
       "  </tbody>\n",
       "</table>\n",
       "<p>5 rows × 22 columns</p>\n",
       "</div>"
      ],
      "text/plain": [
       "   movieId                               title  (no genres listed)  Action  \\\n",
       "0        1                    Toy Story (1995)                   0       0   \n",
       "1        2                      Jumanji (1995)                   0       0   \n",
       "2        3             Grumpier Old Men (1995)                   0       0   \n",
       "3        4            Waiting to Exhale (1995)                   0       0   \n",
       "4        5  Father of the Bride Part II (1995)                   0       0   \n",
       "\n",
       "   Adventure  Animation  Children  Comedy  Crime  Documentary  ...  Film-Noir  \\\n",
       "0          1          1         1       1      0            0  ...          0   \n",
       "1          1          0         1       0      0            0  ...          0   \n",
       "2          0          0         0       1      0            0  ...          0   \n",
       "3          0          0         0       1      0            0  ...          0   \n",
       "4          0          0         0       1      0            0  ...          0   \n",
       "\n",
       "   Horror  IMAX  Musical  Mystery  Romance  Sci-Fi  Thriller  War  Western  \n",
       "0       0     0        0        0        0       0         0    0        0  \n",
       "1       0     0        0        0        0       0         0    0        0  \n",
       "2       0     0        0        0        1       0         0    0        0  \n",
       "3       0     0        0        0        1       0         0    0        0  \n",
       "4       0     0        0        0        0       0         0    0        0  \n",
       "\n",
       "[5 rows x 22 columns]"
      ]
     },
     "execution_count": 37,
     "metadata": {},
     "output_type": "execute_result"
    }
   ],
   "source": [
    "# Separar os generos por colunas\n",
    "generos = movies_df['genres'].str.get_dummies()\n",
    "\n",
    "# Juntar informações do movies_df com os generos separados por coluna\n",
    "movies_df_generos = pd.concat([movies_df, generos], axis=1)\n",
    "movies_df_generos.drop('genres',axis=1, inplace=True)\n",
    "\n",
    "print(f'Quantidade de filmes com genero IMAX: {movies_df_generos.query(\"IMAX == 1\").shape[0]}\\n\\n')\n",
    "movies_df_generos.head()"
   ]
  },
  {
   "cell_type": "markdown",
   "id": "9KXkgW30mX1c",
   "metadata": {
    "id": "9KXkgW30mX1c"
   },
   "source": [
    "Embora o genero IMAX não esteja listado na documentação do dataset, essa informação não altera as análises. Dessa forma o genero IMAX será tratado como um genero válido"
   ]
  },
  {
   "cell_type": "markdown",
   "id": "f96988eb-7b06-45b1-8e18-e425d6569858",
   "metadata": {
    "id": "f96988eb-7b06-45b1-8e18-e425d6569858"
   },
   "source": [
    "## Decisões"
   ]
  },
  {
   "cell_type": "markdown",
   "id": "ozFpQn7rmqEl",
   "metadata": {
    "id": "ozFpQn7rmqEl"
   },
   "source": [
    "- **Quantidade de dados**: Todos os datasets possuem todas as colunas completas\n",
    "- **Tipo de dados**: Os dados estão com o formato correto\n",
    "- **Outliers**:\n",
    "  - Tag: Optou-se por manter as tags com mais de 4 palavras\n",
    "- **Tratamento dos dados**:\n",
    "  - Filmes Duplicados: 5 filmes estavam com o título duplicado - Optou-se por unificar os id para evitar problemas de análises\n",
    "  - Genres IMAX: O genero \"IMAX\" não constava na documentação do arquivo, optou-se por manter essa informação"
   ]
  },
  {
   "cell_type": "markdown",
   "id": "8a8e8181-f643-479d-9bd0-51a1526bc53c",
   "metadata": {
    "id": "8a8e8181-f643-479d-9bd0-51a1526bc53c",
    "tags": []
   },
   "source": [
    "# Análise Exploratória"
   ]
  },
  {
   "cell_type": "markdown",
   "id": "9e1e0b90-822d-4bbf-bd79-3e0ec3414317",
   "metadata": {
    "id": "9e1e0b90-822d-4bbf-bd79-3e0ec3414317"
   },
   "source": [
    "## 1 - Existe alguma correlação entre o ano de lançamento do filme e sua avaliação média (média de ratings)?"
   ]
  },
  {
   "cell_type": "code",
   "execution_count": 38,
   "id": "O0ghNhqfp9Zl",
   "metadata": {
    "colab": {
     "base_uri": "https://localhost:8080/"
    },
    "id": "O0ghNhqfp9Zl",
    "outputId": "0bdba4b5-0673-4608-95b8-cfaf239ff102"
   },
   "outputs": [
    {
     "name": "stdout",
     "output_type": "stream",
     "text": [
      "<class 'pandas.core.frame.DataFrame'>\n",
      "Int64Index: 9737 entries, 0 to 9741\n",
      "Data columns (total 4 columns):\n",
      " #   Column   Non-Null Count  Dtype  \n",
      "---  ------   --------------  -----  \n",
      " 0   movieId  9737 non-null   int64  \n",
      " 1   title    9737 non-null   object \n",
      " 2   genres   9737 non-null   object \n",
      " 3   ano      9724 non-null   float64\n",
      "dtypes: float64(1), int64(1), object(2)\n",
      "memory usage: 380.4+ KB\n"
     ]
    }
   ],
   "source": [
    "# Separar o ano do titulo\n",
    "ano_movies = movies_df.copy()\n",
    "ano_movies['ano'] = ano_movies['title'].str.split('(').str.get(-1).str.split(')').str.get(0)\n",
    "\n",
    "# Converter ano para int\n",
    "ano_movies['ano'] = pd.to_numeric(ano_movies['ano'], errors='coerce')\n",
    "\n",
    "# Verificar tipo de dados\n",
    "ano_movies.info()"
   ]
  },
  {
   "cell_type": "code",
   "execution_count": 39,
   "id": "aPWux_zb_J78",
   "metadata": {
    "colab": {
     "base_uri": "https://localhost:8080/",
     "height": 470
    },
    "id": "aPWux_zb_J78",
    "outputId": "761ca7e2-6b46-4344-e7e7-58f920d4c7fb"
   },
   "outputs": [
    {
     "name": "stdout",
     "output_type": "stream",
     "text": [
      "Existem 13 filmes sem a informação do ano\n",
      "\n",
      "\n"
     ]
    },
    {
     "data": {
      "text/html": [
       "<div>\n",
       "<style scoped>\n",
       "    .dataframe tbody tr th:only-of-type {\n",
       "        vertical-align: middle;\n",
       "    }\n",
       "\n",
       "    .dataframe tbody tr th {\n",
       "        vertical-align: top;\n",
       "    }\n",
       "\n",
       "    .dataframe thead th {\n",
       "        text-align: right;\n",
       "    }\n",
       "</style>\n",
       "<table border=\"1\" class=\"dataframe\">\n",
       "  <thead>\n",
       "    <tr style=\"text-align: right;\">\n",
       "      <th></th>\n",
       "      <th>movieId</th>\n",
       "      <th>title</th>\n",
       "      <th>genres</th>\n",
       "      <th>ano</th>\n",
       "    </tr>\n",
       "  </thead>\n",
       "  <tbody>\n",
       "    <tr>\n",
       "      <th>6059</th>\n",
       "      <td>40697</td>\n",
       "      <td>Babylon 5</td>\n",
       "      <td>Sci-Fi</td>\n",
       "      <td>NaN</td>\n",
       "    </tr>\n",
       "    <tr>\n",
       "      <th>9031</th>\n",
       "      <td>140956</td>\n",
       "      <td>Ready Player One</td>\n",
       "      <td>Action|Sci-Fi|Thriller</td>\n",
       "      <td>NaN</td>\n",
       "    </tr>\n",
       "    <tr>\n",
       "      <th>9091</th>\n",
       "      <td>143410</td>\n",
       "      <td>Hyena Road</td>\n",
       "      <td>(no genres listed)</td>\n",
       "      <td>NaN</td>\n",
       "    </tr>\n",
       "    <tr>\n",
       "      <th>9138</th>\n",
       "      <td>147250</td>\n",
       "      <td>The Adventures of Sherlock Holmes and Doctor W...</td>\n",
       "      <td>(no genres listed)</td>\n",
       "      <td>NaN</td>\n",
       "    </tr>\n",
       "    <tr>\n",
       "      <th>9179</th>\n",
       "      <td>149334</td>\n",
       "      <td>Nocturnal Animals</td>\n",
       "      <td>Drama|Thriller</td>\n",
       "      <td>NaN</td>\n",
       "    </tr>\n",
       "    <tr>\n",
       "      <th>9259</th>\n",
       "      <td>156605</td>\n",
       "      <td>Paterson</td>\n",
       "      <td>(no genres listed)</td>\n",
       "      <td>NaN</td>\n",
       "    </tr>\n",
       "    <tr>\n",
       "      <th>9367</th>\n",
       "      <td>162414</td>\n",
       "      <td>Moonlight</td>\n",
       "      <td>Drama</td>\n",
       "      <td>NaN</td>\n",
       "    </tr>\n",
       "    <tr>\n",
       "      <th>9448</th>\n",
       "      <td>167570</td>\n",
       "      <td>The OA</td>\n",
       "      <td>(no genres listed)</td>\n",
       "      <td>NaN</td>\n",
       "    </tr>\n",
       "    <tr>\n",
       "      <th>9514</th>\n",
       "      <td>171495</td>\n",
       "      <td>Cosmos</td>\n",
       "      <td>(no genres listed)</td>\n",
       "      <td>NaN</td>\n",
       "    </tr>\n",
       "    <tr>\n",
       "      <th>9515</th>\n",
       "      <td>171631</td>\n",
       "      <td>Maria Bamford: Old Baby</td>\n",
       "      <td>(no genres listed)</td>\n",
       "      <td>NaN</td>\n",
       "    </tr>\n",
       "    <tr>\n",
       "      <th>9518</th>\n",
       "      <td>171749</td>\n",
       "      <td>Death Note: Desu nôto (2006–2007)</td>\n",
       "      <td>(no genres listed)</td>\n",
       "      <td>NaN</td>\n",
       "    </tr>\n",
       "    <tr>\n",
       "      <th>9525</th>\n",
       "      <td>171891</td>\n",
       "      <td>Generation Iron 2</td>\n",
       "      <td>(no genres listed)</td>\n",
       "      <td>NaN</td>\n",
       "    </tr>\n",
       "    <tr>\n",
       "      <th>9611</th>\n",
       "      <td>176601</td>\n",
       "      <td>Black Mirror</td>\n",
       "      <td>(no genres listed)</td>\n",
       "      <td>NaN</td>\n",
       "    </tr>\n",
       "  </tbody>\n",
       "</table>\n",
       "</div>"
      ],
      "text/plain": [
       "      movieId                                              title  \\\n",
       "6059    40697                                          Babylon 5   \n",
       "9031   140956                                   Ready Player One   \n",
       "9091   143410                                         Hyena Road   \n",
       "9138   147250  The Adventures of Sherlock Holmes and Doctor W...   \n",
       "9179   149334                                  Nocturnal Animals   \n",
       "9259   156605                                           Paterson   \n",
       "9367   162414                                          Moonlight   \n",
       "9448   167570                                             The OA   \n",
       "9514   171495                                             Cosmos   \n",
       "9515   171631                            Maria Bamford: Old Baby   \n",
       "9518   171749                  Death Note: Desu nôto (2006–2007)   \n",
       "9525   171891                                  Generation Iron 2   \n",
       "9611   176601                                       Black Mirror   \n",
       "\n",
       "                      genres  ano  \n",
       "6059                  Sci-Fi  NaN  \n",
       "9031  Action|Sci-Fi|Thriller  NaN  \n",
       "9091      (no genres listed)  NaN  \n",
       "9138      (no genres listed)  NaN  \n",
       "9179          Drama|Thriller  NaN  \n",
       "9259      (no genres listed)  NaN  \n",
       "9367                   Drama  NaN  \n",
       "9448      (no genres listed)  NaN  \n",
       "9514      (no genres listed)  NaN  \n",
       "9515      (no genres listed)  NaN  \n",
       "9518      (no genres listed)  NaN  \n",
       "9525      (no genres listed)  NaN  \n",
       "9611      (no genres listed)  NaN  "
      ]
     },
     "execution_count": 39,
     "metadata": {},
     "output_type": "execute_result"
    }
   ],
   "source": [
    "# Filmes sem ano definido\n",
    "filmes_sem_ano = ano_movies[ano_movies['ano'].isna()]\n",
    "print(f'Existem {filmes_sem_ano.shape[0]} filmes sem a informação do ano\\n\\n')\n",
    "filmes_sem_ano"
   ]
  },
  {
   "cell_type": "code",
   "execution_count": 40,
   "id": "g14fHFGwv0By",
   "metadata": {
    "colab": {
     "base_uri": "https://localhost:8080/",
     "height": 391
    },
    "id": "g14fHFGwv0By",
    "outputId": "34b0815b-70a9-4d12-8984-6b84d4490bd3"
   },
   "outputs": [
    {
     "data": {
      "text/html": [
       "<div>\n",
       "<style scoped>\n",
       "    .dataframe tbody tr th:only-of-type {\n",
       "        vertical-align: middle;\n",
       "    }\n",
       "\n",
       "    .dataframe tbody tr th {\n",
       "        vertical-align: top;\n",
       "    }\n",
       "\n",
       "    .dataframe thead th {\n",
       "        text-align: right;\n",
       "    }\n",
       "</style>\n",
       "<table border=\"1\" class=\"dataframe\">\n",
       "  <thead>\n",
       "    <tr style=\"text-align: right;\">\n",
       "      <th></th>\n",
       "      <th>ano</th>\n",
       "      <th>rating</th>\n",
       "      <th>count</th>\n",
       "    </tr>\n",
       "  </thead>\n",
       "  <tbody>\n",
       "    <tr>\n",
       "      <th>0</th>\n",
       "      <td>1902.0</td>\n",
       "      <td>3.500000</td>\n",
       "      <td>5</td>\n",
       "    </tr>\n",
       "    <tr>\n",
       "      <th>1</th>\n",
       "      <td>1903.0</td>\n",
       "      <td>2.500000</td>\n",
       "      <td>2</td>\n",
       "    </tr>\n",
       "    <tr>\n",
       "      <th>2</th>\n",
       "      <td>1908.0</td>\n",
       "      <td>4.000000</td>\n",
       "      <td>1</td>\n",
       "    </tr>\n",
       "    <tr>\n",
       "      <th>3</th>\n",
       "      <td>1915.0</td>\n",
       "      <td>2.000000</td>\n",
       "      <td>1</td>\n",
       "    </tr>\n",
       "    <tr>\n",
       "      <th>4</th>\n",
       "      <td>1916.0</td>\n",
       "      <td>3.600000</td>\n",
       "      <td>5</td>\n",
       "    </tr>\n",
       "    <tr>\n",
       "      <th>...</th>\n",
       "      <td>...</td>\n",
       "      <td>...</td>\n",
       "      <td>...</td>\n",
       "    </tr>\n",
       "    <tr>\n",
       "      <th>101</th>\n",
       "      <td>2014.0</td>\n",
       "      <td>3.512879</td>\n",
       "      <td>1320</td>\n",
       "    </tr>\n",
       "    <tr>\n",
       "      <th>102</th>\n",
       "      <td>2015.0</td>\n",
       "      <td>3.410386</td>\n",
       "      <td>1088</td>\n",
       "    </tr>\n",
       "    <tr>\n",
       "      <th>103</th>\n",
       "      <td>2016.0</td>\n",
       "      <td>3.387261</td>\n",
       "      <td>785</td>\n",
       "    </tr>\n",
       "    <tr>\n",
       "      <th>104</th>\n",
       "      <td>2017.0</td>\n",
       "      <td>3.578091</td>\n",
       "      <td>461</td>\n",
       "    </tr>\n",
       "    <tr>\n",
       "      <th>105</th>\n",
       "      <td>2018.0</td>\n",
       "      <td>3.483516</td>\n",
       "      <td>91</td>\n",
       "    </tr>\n",
       "  </tbody>\n",
       "</table>\n",
       "<p>106 rows × 3 columns</p>\n",
       "</div>"
      ],
      "text/plain": [
       "        ano    rating  count\n",
       "0    1902.0  3.500000      5\n",
       "1    1903.0  2.500000      2\n",
       "2    1908.0  4.000000      1\n",
       "3    1915.0  2.000000      1\n",
       "4    1916.0  3.600000      5\n",
       "..      ...       ...    ...\n",
       "101  2014.0  3.512879   1320\n",
       "102  2015.0  3.410386   1088\n",
       "103  2016.0  3.387261    785\n",
       "104  2017.0  3.578091    461\n",
       "105  2018.0  3.483516     91\n",
       "\n",
       "[106 rows x 3 columns]"
      ]
     },
     "execution_count": 40,
     "metadata": {},
     "output_type": "execute_result"
    }
   ],
   "source": [
    "# Juntando o ano com as notas\n",
    "rating_ano_movies = ratings_df.copy()\n",
    "rating_ano_movies = rating_ano_movies[['movieId', 'rating']].merge(ano_movies[['movieId', 'ano']], on = 'movieId', how = 'left')\n",
    "\n",
    "# Criando um DF com a media das notas por ano\n",
    "rating_medio_por_ano = rating_ano_movies[['ano', 'rating']].groupby('ano').mean()\n",
    "rating_medio_por_ano['count'] = rating_ano_movies[['ano', 'rating']].groupby('ano').count()\n",
    "rating_medio_por_ano = rating_medio_por_ano.rename_axis('ano').reset_index()\n",
    "rating_medio_por_ano"
   ]
  },
  {
   "cell_type": "code",
   "execution_count": 41,
   "id": "997RjWZU9KPo",
   "metadata": {
    "colab": {
     "base_uri": "https://localhost:8080/",
     "height": 367
    },
    "id": "997RjWZU9KPo",
    "outputId": "9da025cf-419f-4ea4-9717-1565c75312ef"
   },
   "outputs": [
    {
     "data": {
      "text/plain": [
       "<AxesSubplot:title={'center':'Média de votos dos filmes em relação ao ano'}, xlabel='Ano', ylabel='Nota média'>"
      ]
     },
     "execution_count": 41,
     "metadata": {},
     "output_type": "execute_result"
    },
    {
     "data": {
      "image/png": "[encoded data removed]",
      "text/plain": [
       "<Figure size 576x360 with 1 Axes>"
      ]
     },
     "metadata": {},
     "output_type": "display_data"
    }
   ],
   "source": [
    "# Gráfico de dispersão\n",
    "fig = plt.figure(figsize=(8,5))\n",
    "ax = sns.scatterplot(x = 'ano', y = 'rating', data = rating_medio_por_ano, palette=\"Blues_d\")\n",
    "ax.set(ylabel = 'Nota média', xlabel = 'Ano')\n",
    "ax.set_title('Média de votos dos filmes em relação ao ano', fontsize = 14)\n",
    "ax"
   ]
  },
  {
   "cell_type": "code",
   "execution_count": 42,
   "id": "66q0j0diXuZG",
   "metadata": {
    "colab": {
     "base_uri": "https://localhost:8080/",
     "height": 133
    },
    "id": "66q0j0diXuZG",
    "outputId": "8d83a094-40fb-4017-8ea4-cde7a7e7f2b9"
   },
   "outputs": [
    {
     "data": {
      "text/html": [
       "<div>\n",
       "<style scoped>\n",
       "    .dataframe tbody tr th:only-of-type {\n",
       "        vertical-align: middle;\n",
       "    }\n",
       "\n",
       "    .dataframe tbody tr th {\n",
       "        vertical-align: top;\n",
       "    }\n",
       "\n",
       "    .dataframe thead th {\n",
       "        text-align: right;\n",
       "    }\n",
       "</style>\n",
       "<table border=\"1\" class=\"dataframe\">\n",
       "  <thead>\n",
       "    <tr style=\"text-align: right;\">\n",
       "      <th></th>\n",
       "      <th>ano</th>\n",
       "      <th>rating</th>\n",
       "      <th>count</th>\n",
       "    </tr>\n",
       "  </thead>\n",
       "  <tbody>\n",
       "    <tr>\n",
       "      <th>ano</th>\n",
       "      <td>1.000</td>\n",
       "      <td>-0.158</td>\n",
       "      <td>0.667</td>\n",
       "    </tr>\n",
       "    <tr>\n",
       "      <th>rating</th>\n",
       "      <td>-0.158</td>\n",
       "      <td>1.000</td>\n",
       "      <td>-0.289</td>\n",
       "    </tr>\n",
       "    <tr>\n",
       "      <th>count</th>\n",
       "      <td>0.667</td>\n",
       "      <td>-0.289</td>\n",
       "      <td>1.000</td>\n",
       "    </tr>\n",
       "  </tbody>\n",
       "</table>\n",
       "</div>"
      ],
      "text/plain": [
       "          ano  rating  count\n",
       "ano     1.000  -0.158  0.667\n",
       "rating -0.158   1.000 -0.289\n",
       "count   0.667  -0.289  1.000"
      ]
     },
     "execution_count": 42,
     "metadata": {},
     "output_type": "execute_result"
    }
   ],
   "source": [
    "rating_medio_por_ano.corr().round(3)"
   ]
  },
  {
   "cell_type": "markdown",
   "id": "WUgjYoFvZ9UX",
   "metadata": {
    "id": "WUgjYoFvZ9UX"
   },
   "source": [
    "Segundo a [Tabela do Coeficiente de Correlação de Pearson](https://pt.wikipedia.org/wiki/Coeficiente_de_correla%C3%A7%C3%A3o_de_Pearson), a correlação entre o ano de lançamento do filme e sua nota média é de - 0, 158, podendo ser considerada desprezível."
   ]
  },
  {
   "cell_type": "markdown",
   "id": "6b17d27d-40a3-495b-9ebf-abbe06ceff81",
   "metadata": {
    "id": "6b17d27d-40a3-495b-9ebf-abbe06ceff81"
   },
   "source": [
    "## 2 - Qual o grupo mais disperso, o de usuários que avaliaram ou o de usuários que rotularam filmes?\n"
   ]
  },
  {
   "cell_type": "markdown",
   "id": "5BUunCCOqIfE",
   "metadata": {
    "id": "5BUunCCOqIfE"
   },
   "source": [
    "[OFF] Não sei se entendi a pergunta, vou levar em conta a dispersão da quantidade de vezes que um usuário avaliou um filme ou tageou ele"
   ]
  },
  {
   "cell_type": "code",
   "execution_count": 43,
   "id": "k5YrQv-qp9x2",
   "metadata": {
    "colab": {
     "base_uri": "https://localhost:8080/",
     "height": 105
    },
    "id": "k5YrQv-qp9x2",
    "outputId": "6d51b528-8e29-479d-fd84-4ec354bda595"
   },
   "outputs": [
    {
     "data": {
      "text/html": [
       "<div>\n",
       "<style scoped>\n",
       "    .dataframe tbody tr th:only-of-type {\n",
       "        vertical-align: middle;\n",
       "    }\n",
       "\n",
       "    .dataframe tbody tr th {\n",
       "        vertical-align: top;\n",
       "    }\n",
       "\n",
       "    .dataframe thead th {\n",
       "        text-align: right;\n",
       "    }\n",
       "</style>\n",
       "<table border=\"1\" class=\"dataframe\">\n",
       "  <thead>\n",
       "    <tr style=\"text-align: right;\">\n",
       "      <th></th>\n",
       "      <th>Count</th>\n",
       "      <th>Mean</th>\n",
       "      <th>STD</th>\n",
       "      <th>CV</th>\n",
       "    </tr>\n",
       "  </thead>\n",
       "  <tbody>\n",
       "    <tr>\n",
       "      <th>Tags</th>\n",
       "      <td>58</td>\n",
       "      <td>63.5</td>\n",
       "      <td>215.12</td>\n",
       "      <td>3.39</td>\n",
       "    </tr>\n",
       "    <tr>\n",
       "      <th>Ratings</th>\n",
       "      <td>610</td>\n",
       "      <td>165.3</td>\n",
       "      <td>269.48</td>\n",
       "      <td>1.63</td>\n",
       "    </tr>\n",
       "  </tbody>\n",
       "</table>\n",
       "</div>"
      ],
      "text/plain": [
       "         Count   Mean     STD    CV\n",
       "Tags        58   63.5  215.12  3.39\n",
       "Ratings    610  165.3  269.48  1.63"
      ]
     },
     "execution_count": 43,
     "metadata": {},
     "output_type": "execute_result"
    }
   ],
   "source": [
    "# Criando os DF de userId pela quantidade de vezes que o usuário avaliou um filme\n",
    "userId_quantidade_de_ratings = ratings_df[['userId','movieId']].groupby('userId').count()\n",
    "\n",
    "# Criando os DF de userId pela quantidade de vezes que o usuário colocou uma tag no filme\n",
    "userId_quantidade_de_tags = tags_df[['userId','movieId']].groupby('userId').count()\n",
    "\n",
    "# DF comparando valores de TAGS e RATINGS\n",
    "\n",
    "# Count = Quantidade de usuários que tiveram \"interação\" (seja avaliação ou tag)\n",
    "# Mean  = Média de inserções no dataframe\n",
    "# STD   = Desvio Padrão de inserções no dataframe\n",
    "# CV    = Coeficiente de Variação (STD / Mean)\n",
    "\n",
    "comparação_tags_e_ratings = pd.DataFrame({'Count': [userId_quantidade_de_tags.shape[0], userId_quantidade_de_ratings.shape[0]],\n",
    "                                          'Mean': [round(userId_quantidade_de_tags.mean()[0],2), round(userId_quantidade_de_ratings.mean()[0],2)],\n",
    "                                          'STD'  : [round(userId_quantidade_de_tags.std()[0],2), round(userId_quantidade_de_ratings.std()[0],2)] }, index = ['Tags','Ratings'])\n",
    "comparação_tags_e_ratings['CV'] = round(comparação_tags_e_ratings['STD'] / comparação_tags_e_ratings['Mean'],2)\n",
    "comparação_tags_e_ratings"
   ]
  },
  {
   "cell_type": "code",
   "execution_count": 44,
   "id": "alhsxeUkk9Tl",
   "metadata": {
    "colab": {
     "base_uri": "https://localhost:8080/",
     "height": 773
    },
    "id": "alhsxeUkk9Tl",
    "outputId": "9799c8b4-ebc1-42cd-c83f-ce9e0b7794b7"
   },
   "outputs": [
    {
     "data": {
      "image/png": "[encoded data removed]",
      "text/plain": [
       "<Figure size 720x576 with 2 Axes>"
      ]
     },
     "metadata": {},
     "output_type": "display_data"
    }
   ],
   "source": [
    "fig = plt.figure(figsize=(10,8))\n",
    "\n",
    "eixo = fig.add_axes([0, 0.6, 1, 0.45])\n",
    "eixo = sns.boxplot(x=userId_quantidade_de_tags.movieId,width = 0.6)\n",
    "eixo.set(xlabel = '')\n",
    "eixo.set_title('Quantidade de rótulos por usuários',fontsize = 16)\n",
    "\n",
    "eixo2 = fig.add_axes([0, 0, 1, 0.45])\n",
    "eixo2 = sns.boxplot(x=userId_quantidade_de_ratings.movieId,width = 0.6)\n",
    "eixo2.set(xlabel = '')\n",
    "eixo2.set_title('Quantidade de avaliações por usuários',fontsize = 16)\n",
    "\n",
    "plt.show()"
   ]
  },
  {
   "cell_type": "markdown",
   "id": "SSE0h2NpxJyh",
   "metadata": {
    "id": "SSE0h2NpxJyh"
   },
   "source": [
    "  A presença de um usuário que colocou tag em mais de 1400 filmes distorce bastante os valores de média e desvio padrão desse grupo de usuários, de modo que o Coeficiente de variação é mais alto quando comparado com os usuários que avaliaram os filmes.\n",
    "\n",
    "  A análise dos Boxplot permite ver que existem muito mais usuários que avaliam os filmes que estão fora dos limites do gráfico em relação aos usuários que colocam tag. \n",
    "\n",
    "  Essas duas análises permite indicar que a distribuição da quantidade de \"interações\" é maior nos usuários que avaliaram os filmes, ou seja, a dispersão dos valores é maior nos avaliadores em relação aos que colocam Tag\n",
    "\n",
    "\n"
   ]
  },
  {
   "cell_type": "markdown",
   "id": "TnbIO7bSpu2s",
   "metadata": {
    "id": "TnbIO7bSpu2s"
   },
   "source": [
    "## 3 - Qual a categoria rotulada mais frequente?"
   ]
  },
  {
   "cell_type": "code",
   "execution_count": 45,
   "id": "7K77i5Mdp-Pj",
   "metadata": {
    "colab": {
     "base_uri": "https://localhost:8080/",
     "height": 162
    },
    "id": "7K77i5Mdp-Pj",
    "outputId": "415ead31-7236-457f-c3bc-556b874fa05e"
   },
   "outputs": [
    {
     "data": {
      "text/html": [
       "<div>\n",
       "<style scoped>\n",
       "    .dataframe tbody tr th:only-of-type {\n",
       "        vertical-align: middle;\n",
       "    }\n",
       "\n",
       "    .dataframe tbody tr th {\n",
       "        vertical-align: top;\n",
       "    }\n",
       "\n",
       "    .dataframe thead th {\n",
       "        text-align: right;\n",
       "    }\n",
       "</style>\n",
       "<table border=\"1\" class=\"dataframe\">\n",
       "  <thead>\n",
       "    <tr style=\"text-align: right;\">\n",
       "      <th></th>\n",
       "      <th>(no genres listed)</th>\n",
       "      <th>Action</th>\n",
       "      <th>Adventure</th>\n",
       "      <th>Animation</th>\n",
       "      <th>Children</th>\n",
       "      <th>Comedy</th>\n",
       "      <th>Crime</th>\n",
       "      <th>Documentary</th>\n",
       "      <th>Drama</th>\n",
       "      <th>Fantasy</th>\n",
       "      <th>...</th>\n",
       "      <th>Horror</th>\n",
       "      <th>IMAX</th>\n",
       "      <th>Musical</th>\n",
       "      <th>Mystery</th>\n",
       "      <th>Romance</th>\n",
       "      <th>Sci-Fi</th>\n",
       "      <th>Thriller</th>\n",
       "      <th>War</th>\n",
       "      <th>Western</th>\n",
       "      <th>tag</th>\n",
       "    </tr>\n",
       "    <tr>\n",
       "      <th>movieId</th>\n",
       "      <th></th>\n",
       "      <th></th>\n",
       "      <th></th>\n",
       "      <th></th>\n",
       "      <th></th>\n",
       "      <th></th>\n",
       "      <th></th>\n",
       "      <th></th>\n",
       "      <th></th>\n",
       "      <th></th>\n",
       "      <th></th>\n",
       "      <th></th>\n",
       "      <th></th>\n",
       "      <th></th>\n",
       "      <th></th>\n",
       "      <th></th>\n",
       "      <th></th>\n",
       "      <th></th>\n",
       "      <th></th>\n",
       "      <th></th>\n",
       "      <th></th>\n",
       "    </tr>\n",
       "  </thead>\n",
       "  <tbody>\n",
       "    <tr>\n",
       "      <th>1</th>\n",
       "      <td>0</td>\n",
       "      <td>0</td>\n",
       "      <td>1</td>\n",
       "      <td>1</td>\n",
       "      <td>1</td>\n",
       "      <td>1</td>\n",
       "      <td>0</td>\n",
       "      <td>0</td>\n",
       "      <td>0</td>\n",
       "      <td>1</td>\n",
       "      <td>...</td>\n",
       "      <td>0</td>\n",
       "      <td>0</td>\n",
       "      <td>0</td>\n",
       "      <td>0</td>\n",
       "      <td>0</td>\n",
       "      <td>0</td>\n",
       "      <td>0</td>\n",
       "      <td>0</td>\n",
       "      <td>0</td>\n",
       "      <td>3.0</td>\n",
       "    </tr>\n",
       "    <tr>\n",
       "      <th>2</th>\n",
       "      <td>0</td>\n",
       "      <td>0</td>\n",
       "      <td>1</td>\n",
       "      <td>0</td>\n",
       "      <td>1</td>\n",
       "      <td>0</td>\n",
       "      <td>0</td>\n",
       "      <td>0</td>\n",
       "      <td>0</td>\n",
       "      <td>1</td>\n",
       "      <td>...</td>\n",
       "      <td>0</td>\n",
       "      <td>0</td>\n",
       "      <td>0</td>\n",
       "      <td>0</td>\n",
       "      <td>0</td>\n",
       "      <td>0</td>\n",
       "      <td>0</td>\n",
       "      <td>0</td>\n",
       "      <td>0</td>\n",
       "      <td>4.0</td>\n",
       "    </tr>\n",
       "    <tr>\n",
       "      <th>3</th>\n",
       "      <td>0</td>\n",
       "      <td>0</td>\n",
       "      <td>0</td>\n",
       "      <td>0</td>\n",
       "      <td>0</td>\n",
       "      <td>1</td>\n",
       "      <td>0</td>\n",
       "      <td>0</td>\n",
       "      <td>0</td>\n",
       "      <td>0</td>\n",
       "      <td>...</td>\n",
       "      <td>0</td>\n",
       "      <td>0</td>\n",
       "      <td>0</td>\n",
       "      <td>0</td>\n",
       "      <td>1</td>\n",
       "      <td>0</td>\n",
       "      <td>0</td>\n",
       "      <td>0</td>\n",
       "      <td>0</td>\n",
       "      <td>2.0</td>\n",
       "    </tr>\n",
       "  </tbody>\n",
       "</table>\n",
       "<p>3 rows × 21 columns</p>\n",
       "</div>"
      ],
      "text/plain": [
       "         (no genres listed)  Action  Adventure  Animation  Children  Comedy  \\\n",
       "movieId                                                                       \n",
       "1                         0       0          1          1         1       1   \n",
       "2                         0       0          1          0         1       0   \n",
       "3                         0       0          0          0         0       1   \n",
       "\n",
       "         Crime  Documentary  Drama  Fantasy  ...  Horror  IMAX  Musical  \\\n",
       "movieId                                      ...                          \n",
       "1            0            0      0        1  ...       0     0        0   \n",
       "2            0            0      0        1  ...       0     0        0   \n",
       "3            0            0      0        0  ...       0     0        0   \n",
       "\n",
       "         Mystery  Romance  Sci-Fi  Thriller  War  Western  tag  \n",
       "movieId                                                         \n",
       "1              0        0       0         0    0        0  3.0  \n",
       "2              0        0       0         0    0        0  4.0  \n",
       "3              0        1       0         0    0        0  2.0  \n",
       "\n",
       "[3 rows x 21 columns]"
      ]
     },
     "execution_count": 45,
     "metadata": {},
     "output_type": "execute_result"
    }
   ],
   "source": [
    "# Juntando o DF de rótulos com a quantidade de tags usando movieId como chave\n",
    "categorias_rotuladas = movies_df_generos.set_index('movieId')\n",
    "categorias_rotuladas = pd.concat([categorias_rotuladas,(tags_df[['movieId','tag']].groupby('movieId').count())], axis = 1)\n",
    "categorias_rotuladas.drop('title', axis = 1, inplace = True)\n",
    "categorias_rotuladas.head(3)"
   ]
  },
  {
   "cell_type": "code",
   "execution_count": 46,
   "id": "0ijM1geczJLR",
   "metadata": {
    "colab": {
     "base_uri": "https://localhost:8080/",
     "height": 133
    },
    "id": "0ijM1geczJLR",
    "outputId": "83ba55f9-9efe-4e0b-c0a1-468e8b651501"
   },
   "outputs": [
    {
     "data": {
      "text/html": [
       "<div>\n",
       "<style scoped>\n",
       "    .dataframe tbody tr th:only-of-type {\n",
       "        vertical-align: middle;\n",
       "    }\n",
       "\n",
       "    .dataframe tbody tr th {\n",
       "        vertical-align: top;\n",
       "    }\n",
       "\n",
       "    .dataframe thead th {\n",
       "        text-align: right;\n",
       "    }\n",
       "</style>\n",
       "<table border=\"1\" class=\"dataframe\">\n",
       "  <thead>\n",
       "    <tr style=\"text-align: right;\">\n",
       "      <th></th>\n",
       "      <th>Tags</th>\n",
       "    </tr>\n",
       "  </thead>\n",
       "  <tbody>\n",
       "    <tr>\n",
       "      <th>Drama</th>\n",
       "      <td>2095.0</td>\n",
       "    </tr>\n",
       "    <tr>\n",
       "      <th>Comedy</th>\n",
       "      <td>1154.0</td>\n",
       "    </tr>\n",
       "    <tr>\n",
       "      <th>Thriller</th>\n",
       "      <td>1099.0</td>\n",
       "    </tr>\n",
       "  </tbody>\n",
       "</table>\n",
       "</div>"
      ],
      "text/plain": [
       "            Tags\n",
       "Drama     2095.0\n",
       "Comedy    1154.0\n",
       "Thriller  1099.0"
      ]
     },
     "execution_count": 46,
     "metadata": {},
     "output_type": "execute_result"
    }
   ],
   "source": [
    "# Criando Dicionário relacionando Generos com quantidade de tags\n",
    "qtd_tags_por_rotulos = {}\n",
    "for i in categorias_rotuladas.columns:\n",
    "  qtd_tags_por_rotulos[i] = categorias_rotuladas[categorias_rotuladas[i] == 1].sum()[-1]\n",
    "\n",
    "# Transformando Dicionário em DF\n",
    "qtd_tags_por_rotulos = pd.DataFrame(qtd_tags_por_rotulos.values(), index = qtd_tags_por_rotulos.keys(), columns = ['Tags'])\n",
    "qtd_tags_por_rotulos.sort_values(by='Tags', ascending= False).head(3)"
   ]
  },
  {
   "cell_type": "markdown",
   "id": "40ftYLk87NIY",
   "metadata": {
    "id": "40ftYLk87NIY"
   },
   "source": [
    "A categoria Drama foi a mais rotulada com 2.095 Tags atribuidas"
   ]
  },
  {
   "cell_type": "markdown",
   "id": "tDfjCepQpuus",
   "metadata": {
    "id": "tDfjCepQpuus"
   },
   "source": [
    "## 4 - Como estão distribuídas as avaliações ao longo do tempo?"
   ]
  },
  {
   "cell_type": "code",
   "execution_count": 47,
   "id": "2a7ab2c8-dc62-4ae9-b01b-ddda7c23ba17",
   "metadata": {},
   "outputs": [
    {
     "data": {
      "image/png": "[encoded data removed]",
      "text/plain": [
       "<Figure size 1728x864 with 2 Axes>"
      ]
     },
     "metadata": {},
     "output_type": "display_data"
    }
   ],
   "source": [
    "# Número de avaliações e média das avaliações por mês\n",
    "ratings_timestamp = ratings_df.groupby(pd.Grouper(key='timestamp',freq='M')).agg({'rating': ['mean','count']}).droplevel(level=0, axis=1)\n",
    "\n",
    "fig, (ax1, ax2) = plt.subplots(2, sharex=True, figsize=(24,12))\n",
    "\n",
    "# Gráfico da média das avaliações\n",
    "ax1.plot(ratings_timestamp['mean'])\n",
    "ax1.set_title('Média mensal das avaliações ao longo do tempo', fontsize=18)\n",
    "ax1.grid(False)\n",
    "\n",
    "# Gráfico do número de avaliações\n",
    "ax2.plot(ratings_timestamp['count'])\n",
    "ax2.set_title('Número mensal de avaliações ao longo do tempo', fontsize=18)\n",
    "ax2.grid(False)\n",
    "\n",
    "# Rótulo anual para eixo x\n",
    "ax2.xaxis.set_major_formatter(mdates.DateFormatter('%Y'))\n",
    "ax2.xaxis.set_major_locator(mdates.YearLocator())\n",
    "\n",
    "plt.show()"
   ]
  },
  {
   "cell_type": "code",
   "execution_count": 48,
   "id": "88a57738-9895-49da-901a-af7ffc85ca2a",
   "metadata": {},
   "outputs": [
    {
     "data": {
      "image/png": "[encoded data removed]",
      "text/plain": [
       "<Figure size 1152x432 with 2 Axes>"
      ]
     },
     "metadata": {},
     "output_type": "display_data"
    }
   ],
   "source": [
    "# Número de avaliações e média das avaliações por ano\n",
    "ratings_timestamp = ratings_df.groupby(pd.Grouper(key='timestamp',freq='Y')).agg({'rating': ['mean','count']}).droplevel(level=0, axis=1)\n",
    "\n",
    "fig, ax = plt.subplots(figsize=(16,6))\n",
    "\n",
    "# Gráfico de barras com o múmero de avaliações\n",
    "ax.bar(ratings_timestamp.index.year, ratings_timestamp['count'])\n",
    "ax.tick_params(axis=\"y\", colors=\"b\")\n",
    "ax.set_ylabel(\"Número de avaliações\", color=\"b\", fontsize=14)\n",
    "ax.grid(False)\n",
    "\n",
    "ax2 = ax.twinx()\n",
    "ax2.plot(ratings_timestamp.index.year, ratings_timestamp['mean'], color=\"g\")\n",
    "ax2.tick_params(axis=\"y\", colors=\"g\")\n",
    "ax2.set_ylabel(\"Média das avaliações\", color=\"g\", fontsize=14)\n",
    "ax2.grid(False)\n",
    "ax2.grid(False)\n",
    "\n",
    "\n",
    "plt.title(\"Total de avaliações e média ao longo dos anos\", fontsize=18)\n",
    "plt.show()"
   ]
  },
  {
   "cell_type": "code",
   "execution_count": 49,
   "id": "48d7f98d-cb1a-4123-9aa9-8e66248b65c5",
   "metadata": {},
   "outputs": [
    {
     "data": {
      "text/html": [
       "<div>\n",
       "<style scoped>\n",
       "    .dataframe tbody tr th:only-of-type {\n",
       "        vertical-align: middle;\n",
       "    }\n",
       "\n",
       "    .dataframe tbody tr th {\n",
       "        vertical-align: top;\n",
       "    }\n",
       "\n",
       "    .dataframe thead th {\n",
       "        text-align: right;\n",
       "    }\n",
       "</style>\n",
       "<table border=\"1\" class=\"dataframe\">\n",
       "  <thead>\n",
       "    <tr style=\"text-align: right;\">\n",
       "      <th></th>\n",
       "      <th>mean</th>\n",
       "      <th>count</th>\n",
       "    </tr>\n",
       "  </thead>\n",
       "  <tbody>\n",
       "    <tr>\n",
       "      <th>mean</th>\n",
       "      <td>1.000000</td>\n",
       "      <td>-0.514578</td>\n",
       "    </tr>\n",
       "    <tr>\n",
       "      <th>count</th>\n",
       "      <td>-0.514578</td>\n",
       "      <td>1.000000</td>\n",
       "    </tr>\n",
       "  </tbody>\n",
       "</table>\n",
       "</div>"
      ],
      "text/plain": [
       "           mean     count\n",
       "mean   1.000000 -0.514578\n",
       "count -0.514578  1.000000"
      ]
     },
     "execution_count": 49,
     "metadata": {},
     "output_type": "execute_result"
    }
   ],
   "source": [
    "ratings_timestamp.corr()"
   ]
  },
  {
   "cell_type": "code",
   "execution_count": 50,
   "id": "0c5688a5-db00-4d03-acc6-feaee44b8210",
   "metadata": {},
   "outputs": [
    {
     "data": {
      "image/png": "[encoded data removed]",
      "text/plain": [
       "<Figure size 432x288 with 1 Axes>"
      ]
     },
     "metadata": {},
     "output_type": "display_data"
    }
   ],
   "source": [
    "sns.regplot(data=ratings_timestamp, x='count', y='mean')\n",
    "\n",
    "plt.show()"
   ]
  },
  {
   "cell_type": "markdown",
   "id": "NJ0roL55pupE",
   "metadata": {
    "id": "NJ0roL55pupE"
   },
   "source": [
    "## 5 - Qual é a correlação entre a avaliação e a criação de rótulos entre os usuários?"
   ]
  },
  {
   "cell_type": "code",
   "execution_count": 51,
   "id": "jo4ItuRPDaL8",
   "metadata": {
    "colab": {
     "base_uri": "https://localhost:8080/",
     "height": 220
    },
    "id": "jo4ItuRPDaL8",
    "outputId": "de09ea1d-3f69-4dbe-8546-663f0ea96f8d"
   },
   "outputs": [
    {
     "data": {
      "text/html": [
       "<div>\n",
       "<style scoped>\n",
       "    .dataframe tbody tr th:only-of-type {\n",
       "        vertical-align: middle;\n",
       "    }\n",
       "\n",
       "    .dataframe tbody tr th {\n",
       "        vertical-align: top;\n",
       "    }\n",
       "\n",
       "    .dataframe thead th {\n",
       "        text-align: right;\n",
       "    }\n",
       "</style>\n",
       "<table border=\"1\" class=\"dataframe\">\n",
       "  <thead>\n",
       "    <tr style=\"text-align: right;\">\n",
       "      <th></th>\n",
       "      <th>tag</th>\n",
       "      <th>rating</th>\n",
       "    </tr>\n",
       "    <tr>\n",
       "      <th>userId</th>\n",
       "      <th></th>\n",
       "      <th></th>\n",
       "    </tr>\n",
       "  </thead>\n",
       "  <tbody>\n",
       "    <tr>\n",
       "      <th>2</th>\n",
       "      <td>9</td>\n",
       "      <td>29</td>\n",
       "    </tr>\n",
       "    <tr>\n",
       "      <th>7</th>\n",
       "      <td>1</td>\n",
       "      <td>152</td>\n",
       "    </tr>\n",
       "    <tr>\n",
       "      <th>18</th>\n",
       "      <td>16</td>\n",
       "      <td>502</td>\n",
       "    </tr>\n",
       "    <tr>\n",
       "      <th>21</th>\n",
       "      <td>4</td>\n",
       "      <td>443</td>\n",
       "    </tr>\n",
       "    <tr>\n",
       "      <th>49</th>\n",
       "      <td>3</td>\n",
       "      <td>21</td>\n",
       "    </tr>\n",
       "  </tbody>\n",
       "</table>\n",
       "</div>"
      ],
      "text/plain": [
       "        tag  rating\n",
       "userId             \n",
       "2         9      29\n",
       "7         1     152\n",
       "18       16     502\n",
       "21        4     443\n",
       "49        3      21"
      ]
     },
     "execution_count": 51,
     "metadata": {},
     "output_type": "execute_result"
    }
   ],
   "source": [
    "# Criando DF com a quantidade de rotulos criadas pro usuário\n",
    "rating_tags = tags_df[['userId','tag']].groupby('userId').count()\n",
    "\n",
    "# Criando coluna relacionando o userId com a quantidade de filmes avaliados\n",
    "rating_tags['rating'] = ratings_df[['userId','rating']].groupby('userId').count()\n",
    "\n",
    "# Visualizando o DF\n",
    "rating_tags.head()"
   ]
  },
  {
   "cell_type": "code",
   "execution_count": 52,
   "id": "5p63gUGwFElu",
   "metadata": {
    "colab": {
     "base_uri": "https://localhost:8080/",
     "height": 105
    },
    "id": "5p63gUGwFElu",
    "outputId": "6441944a-4bc0-4be6-dc41-2f4f93108b7d"
   },
   "outputs": [
    {
     "data": {
      "text/html": [
       "<div>\n",
       "<style scoped>\n",
       "    .dataframe tbody tr th:only-of-type {\n",
       "        vertical-align: middle;\n",
       "    }\n",
       "\n",
       "    .dataframe tbody tr th {\n",
       "        vertical-align: top;\n",
       "    }\n",
       "\n",
       "    .dataframe thead th {\n",
       "        text-align: right;\n",
       "    }\n",
       "</style>\n",
       "<table border=\"1\" class=\"dataframe\">\n",
       "  <thead>\n",
       "    <tr style=\"text-align: right;\">\n",
       "      <th></th>\n",
       "      <th>tag</th>\n",
       "      <th>rating</th>\n",
       "    </tr>\n",
       "  </thead>\n",
       "  <tbody>\n",
       "    <tr>\n",
       "      <th>tag</th>\n",
       "      <td>1.00</td>\n",
       "      <td>0.54</td>\n",
       "    </tr>\n",
       "    <tr>\n",
       "      <th>rating</th>\n",
       "      <td>0.54</td>\n",
       "      <td>1.00</td>\n",
       "    </tr>\n",
       "  </tbody>\n",
       "</table>\n",
       "</div>"
      ],
      "text/plain": [
       "         tag  rating\n",
       "tag     1.00    0.54\n",
       "rating  0.54    1.00"
      ]
     },
     "execution_count": 52,
     "metadata": {},
     "output_type": "execute_result"
    }
   ],
   "source": [
    "rating_tags.corr().round(2)"
   ]
  },
  {
   "cell_type": "markdown",
   "id": "HH2J-uQNsOGs",
   "metadata": {
    "id": "HH2J-uQNsOGs"
   },
   "source": [
    "Segundo a [Tabela do Coeficiente de Correlação de Pearson](https://pt.wikipedia.org/wiki/Coeficiente_de_correla%C3%A7%C3%A3o_de_Pearson), a correlação de 0,54 é considerada positiva moderada. "
   ]
  },
  {
   "cell_type": "markdown",
   "id": "G3LZ1GmKpuwm",
   "metadata": {
    "id": "G3LZ1GmKpuwm"
   },
   "source": [
    "## 6 - Como é a distribuição das notas em relação aos filmes?"
   ]
  },
  {
   "cell_type": "code",
   "execution_count": 53,
   "id": "gY0TbQogsutb",
   "metadata": {
    "colab": {
     "base_uri": "https://localhost:8080/",
     "height": 688
    },
    "id": "gY0TbQogsutb",
    "outputId": "9eeccc96-5ea0-4da2-e63c-d02c3b1d2b8b"
   },
   "outputs": [
    {
     "data": {
      "text/plain": [
       "Text(0.5, 1.0, 'Distribuição das notas médias dos filmes (Densidade acumulada)')"
      ]
     },
     "execution_count": 53,
     "metadata": {},
     "output_type": "execute_result"
    },
    {
     "data": {
      "image/png": "[encoded data removed]",
      "text/plain": [
       "<Figure size 720x576 with 2 Axes>"
      ]
     },
     "metadata": {},
     "output_type": "display_data"
    }
   ],
   "source": [
    "mean_rating = ratings_df[['movieId', 'rating']].groupby('movieId').mean().round(2)\n",
    "\n",
    "fig = plt.figure(figsize=(10,8))\n",
    "\n",
    "# Gráfico 1\n",
    "eixo = fig.add_axes([0, 0.6, 1, 0.45])\n",
    "eixo = sns.histplot(mean_rating, kde = True, bins = 10)\n",
    "eixo.set_title('Distribuição das notas médias dos filmes',fontsize = 16)\n",
    "\n",
    "# Gráfico 2\n",
    "eixo2 = fig.add_axes([0, 0, 1, 0.45])\n",
    "eixo2 = sns.histplot(mean_rating, kde = True, bins = 10, cumulative = True)\n",
    "eixo2.set_title('Distribuição das notas médias dos filmes (Densidade acumulada)',fontsize = 16)"
   ]
  },
  {
   "cell_type": "markdown",
   "id": "dDZ9yn_vvXrC",
   "metadata": {
    "id": "dDZ9yn_vvXrC"
   },
   "source": [
    "A nota média dos filmes se assemelha a uma curva assimétrica a esquerda, de modo que a maior parte das notas encontra-se entre 3 e 4. Notas médias abaixo de 2 a acima de 4,5 são menos comuns."
   ]
  },
  {
   "cell_type": "markdown",
   "id": "iw0csppOpu0S",
   "metadata": {
    "id": "iw0csppOpu0S"
   },
   "source": [
    "## 7 - Como é distribuida das notas dos filmes em relação ao ano de lançamento?"
   ]
  },
  {
   "cell_type": "code",
   "execution_count": 54,
   "id": "3d7pIgCKp-zt",
   "metadata": {
    "colab": {
     "base_uri": "https://localhost:8080/",
     "height": 133
    },
    "id": "3d7pIgCKp-zt",
    "outputId": "08c52c6b-e3b8-462e-9740-c1df38c106b4"
   },
   "outputs": [
    {
     "data": {
      "text/html": [
       "<div>\n",
       "<style scoped>\n",
       "    .dataframe tbody tr th:only-of-type {\n",
       "        vertical-align: middle;\n",
       "    }\n",
       "\n",
       "    .dataframe tbody tr th {\n",
       "        vertical-align: top;\n",
       "    }\n",
       "\n",
       "    .dataframe thead th {\n",
       "        text-align: right;\n",
       "    }\n",
       "</style>\n",
       "<table border=\"1\" class=\"dataframe\">\n",
       "  <thead>\n",
       "    <tr style=\"text-align: right;\">\n",
       "      <th></th>\n",
       "      <th>ano</th>\n",
       "      <th>rating</th>\n",
       "      <th>count</th>\n",
       "    </tr>\n",
       "  </thead>\n",
       "  <tbody>\n",
       "    <tr>\n",
       "      <th>0</th>\n",
       "      <td>1902.0</td>\n",
       "      <td>3.5</td>\n",
       "      <td>5</td>\n",
       "    </tr>\n",
       "    <tr>\n",
       "      <th>1</th>\n",
       "      <td>1903.0</td>\n",
       "      <td>2.5</td>\n",
       "      <td>2</td>\n",
       "    </tr>\n",
       "    <tr>\n",
       "      <th>2</th>\n",
       "      <td>1908.0</td>\n",
       "      <td>4.0</td>\n",
       "      <td>1</td>\n",
       "    </tr>\n",
       "  </tbody>\n",
       "</table>\n",
       "</div>"
      ],
      "text/plain": [
       "      ano  rating  count\n",
       "0  1902.0     3.5      5\n",
       "1  1903.0     2.5      2\n",
       "2  1908.0     4.0      1"
      ]
     },
     "execution_count": 54,
     "metadata": {},
     "output_type": "execute_result"
    }
   ],
   "source": [
    "rating_medio_por_ano.head(3)"
   ]
  },
  {
   "cell_type": "code",
   "execution_count": 55,
   "id": "ZO6kkpGWY9bh",
   "metadata": {
    "colab": {
     "base_uri": "https://localhost:8080/",
     "height": 366
    },
    "id": "ZO6kkpGWY9bh",
    "outputId": "2f2a87c5-3a63-48f7-c836-2db7eaeed3ed"
   },
   "outputs": [
    {
     "data": {
      "text/plain": [
       "Text(0.5, 1.0, 'Quantidade de votos dos filmes em relação ao ano')"
      ]
     },
     "execution_count": 55,
     "metadata": {},
     "output_type": "execute_result"
    },
    {
     "data": {
      "image/png": "[encoded data removed]",
      "text/plain": [
       "<Figure size 576x360 with 1 Axes>"
      ]
     },
     "metadata": {},
     "output_type": "display_data"
    }
   ],
   "source": [
    "fig = plt.figure(figsize=(8,5))\n",
    "\n",
    "#Gráfico de Linhas\n",
    "ax = sns.lineplot(x = 'ano', y = 'count', data = rating_medio_por_ano)\n",
    "ax.set(ylabel = 'Quantidade de votos', xlabel = 'Ano')\n",
    "ax.set_title('Quantidade de votos dos filmes em relação ao ano')\n"
   ]
  },
  {
   "cell_type": "markdown",
   "id": "iQ4aiJcr9EUO",
   "metadata": {
    "id": "iQ4aiJcr9EUO"
   },
   "source": [
    "As notas possuem uma semelhança comm uma distribuição assimétrica à esquerda, com o pico de notas referentes a filmes lançados nos anos 2000"
   ]
  },
  {
   "cell_type": "markdown",
   "id": "AD-GOZR3putC",
   "metadata": {
    "id": "AD-GOZR3putC"
   },
   "source": [
    "## 8 - Existe uma correlação entre a nota dos filmes e a quantidade de tags?"
   ]
  },
  {
   "cell_type": "code",
   "execution_count": 56,
   "id": "8TiI85zwTcvr",
   "metadata": {
    "colab": {
     "base_uri": "https://localhost:8080/",
     "height": 105
    },
    "id": "8TiI85zwTcvr",
    "outputId": "a9ce5e49-7758-4ad7-d905-46c09a2ee995"
   },
   "outputs": [
    {
     "data": {
      "text/html": [
       "<div>\n",
       "<style scoped>\n",
       "    .dataframe tbody tr th:only-of-type {\n",
       "        vertical-align: middle;\n",
       "    }\n",
       "\n",
       "    .dataframe tbody tr th {\n",
       "        vertical-align: top;\n",
       "    }\n",
       "\n",
       "    .dataframe thead th {\n",
       "        text-align: right;\n",
       "    }\n",
       "</style>\n",
       "<table border=\"1\" class=\"dataframe\">\n",
       "  <thead>\n",
       "    <tr style=\"text-align: right;\">\n",
       "      <th></th>\n",
       "      <th>rating</th>\n",
       "      <th>tag</th>\n",
       "    </tr>\n",
       "  </thead>\n",
       "  <tbody>\n",
       "    <tr>\n",
       "      <th>rating</th>\n",
       "      <td>1.000</td>\n",
       "      <td>0.079</td>\n",
       "    </tr>\n",
       "    <tr>\n",
       "      <th>tag</th>\n",
       "      <td>0.079</td>\n",
       "      <td>1.000</td>\n",
       "    </tr>\n",
       "  </tbody>\n",
       "</table>\n",
       "</div>"
      ],
      "text/plain": [
       "        rating    tag\n",
       "rating   1.000  0.079\n",
       "tag      0.079  1.000"
      ]
     },
     "execution_count": 56,
     "metadata": {},
     "output_type": "execute_result"
    }
   ],
   "source": [
    "mean_rating_tag = mean_rating.copy()\n",
    "mean_rating_tag['tag'] = tags_df.groupby('movieId').count().tag\n",
    "mean_rating_tag.dropna(inplace = True)\n",
    "mean_rating_tag.corr().round(3)\n"
   ]
  },
  {
   "cell_type": "markdown",
   "id": "nj3FDiJ9U_qF",
   "metadata": {
    "id": "nj3FDiJ9U_qF"
   },
   "source": [
    "O Coeficiente de correlação de Pearson é próximo de 0, ou seja, não existe uma correlação direta entre a nota média dos filmes e a quantidade de vezes que os usuários rotularam ele"
   ]
  },
  {
   "cell_type": "markdown",
   "id": "uoBY4Go1purB",
   "metadata": {
    "id": "uoBY4Go1purB"
   },
   "source": [
    "## 9 - Filmes que se enquadram em mais generos são possuem uma avaliação melhor?"
   ]
  },
  {
   "cell_type": "code",
   "execution_count": 57,
   "id": "Z3P9uBYXWaIc",
   "metadata": {
    "colab": {
     "base_uri": "https://localhost:8080/",
     "height": 220
    },
    "id": "Z3P9uBYXWaIc",
    "outputId": "b68bcdf2-aa0b-4593-a021-d1ddd4aed810"
   },
   "outputs": [
    {
     "data": {
      "text/html": [
       "<div>\n",
       "<style scoped>\n",
       "    .dataframe tbody tr th:only-of-type {\n",
       "        vertical-align: middle;\n",
       "    }\n",
       "\n",
       "    .dataframe tbody tr th {\n",
       "        vertical-align: top;\n",
       "    }\n",
       "\n",
       "    .dataframe thead th {\n",
       "        text-align: right;\n",
       "    }\n",
       "</style>\n",
       "<table border=\"1\" class=\"dataframe\">\n",
       "  <thead>\n",
       "    <tr style=\"text-align: right;\">\n",
       "      <th></th>\n",
       "      <th>title</th>\n",
       "      <th>Quantidade de Generos</th>\n",
       "    </tr>\n",
       "    <tr>\n",
       "      <th>movieId</th>\n",
       "      <th></th>\n",
       "      <th></th>\n",
       "    </tr>\n",
       "  </thead>\n",
       "  <tbody>\n",
       "    <tr>\n",
       "      <th>1</th>\n",
       "      <td>Toy Story (1995)</td>\n",
       "      <td>5</td>\n",
       "    </tr>\n",
       "    <tr>\n",
       "      <th>2</th>\n",
       "      <td>Jumanji (1995)</td>\n",
       "      <td>3</td>\n",
       "    </tr>\n",
       "    <tr>\n",
       "      <th>3</th>\n",
       "      <td>Grumpier Old Men (1995)</td>\n",
       "      <td>2</td>\n",
       "    </tr>\n",
       "    <tr>\n",
       "      <th>4</th>\n",
       "      <td>Waiting to Exhale (1995)</td>\n",
       "      <td>3</td>\n",
       "    </tr>\n",
       "    <tr>\n",
       "      <th>5</th>\n",
       "      <td>Father of the Bride Part II (1995)</td>\n",
       "      <td>1</td>\n",
       "    </tr>\n",
       "  </tbody>\n",
       "</table>\n",
       "</div>"
      ],
      "text/plain": [
       "                                      title  Quantidade de Generos\n",
       "movieId                                                           \n",
       "1                          Toy Story (1995)                      5\n",
       "2                            Jumanji (1995)                      3\n",
       "3                   Grumpier Old Men (1995)                      2\n",
       "4                  Waiting to Exhale (1995)                      3\n",
       "5        Father of the Bride Part II (1995)                      1"
      ]
     },
     "execution_count": 57,
     "metadata": {},
     "output_type": "execute_result"
    }
   ],
   "source": [
    "# Montando DF da quantidade de generos por filme\n",
    "quantidade_de_generos = generos.sum(axis = 1)\n",
    "movie_qtd_generos= pd.concat([movies_df, quantidade_de_generos], axis = 1)\n",
    "movie_qtd_generos.rename(columns = {0:'Quantidade de Generos'}, inplace = True)\n",
    "movie_qtd_generos.drop('genres', axis = 1, inplace = True)\n",
    "movie_qtd_generos.set_index('movieId', inplace = True)\n",
    "movie_qtd_generos.head()"
   ]
  },
  {
   "cell_type": "code",
   "execution_count": 58,
   "id": "eFByWPffXinm",
   "metadata": {
    "colab": {
     "base_uri": "https://localhost:8080/",
     "height": 220
    },
    "id": "eFByWPffXinm",
    "outputId": "b5836863-1da7-4403-b040-77cca8905d3c"
   },
   "outputs": [
    {
     "data": {
      "text/html": [
       "<div>\n",
       "<style scoped>\n",
       "    .dataframe tbody tr th:only-of-type {\n",
       "        vertical-align: middle;\n",
       "    }\n",
       "\n",
       "    .dataframe tbody tr th {\n",
       "        vertical-align: top;\n",
       "    }\n",
       "\n",
       "    .dataframe thead th {\n",
       "        text-align: right;\n",
       "    }\n",
       "</style>\n",
       "<table border=\"1\" class=\"dataframe\">\n",
       "  <thead>\n",
       "    <tr style=\"text-align: right;\">\n",
       "      <th></th>\n",
       "      <th>title</th>\n",
       "      <th>Quantidade de Generos</th>\n",
       "      <th>rating</th>\n",
       "    </tr>\n",
       "    <tr>\n",
       "      <th>movieId</th>\n",
       "      <th></th>\n",
       "      <th></th>\n",
       "      <th></th>\n",
       "    </tr>\n",
       "  </thead>\n",
       "  <tbody>\n",
       "    <tr>\n",
       "      <th>1</th>\n",
       "      <td>Toy Story (1995)</td>\n",
       "      <td>5</td>\n",
       "      <td>3.92</td>\n",
       "    </tr>\n",
       "    <tr>\n",
       "      <th>2</th>\n",
       "      <td>Jumanji (1995)</td>\n",
       "      <td>3</td>\n",
       "      <td>3.43</td>\n",
       "    </tr>\n",
       "    <tr>\n",
       "      <th>3</th>\n",
       "      <td>Grumpier Old Men (1995)</td>\n",
       "      <td>2</td>\n",
       "      <td>3.26</td>\n",
       "    </tr>\n",
       "    <tr>\n",
       "      <th>4</th>\n",
       "      <td>Waiting to Exhale (1995)</td>\n",
       "      <td>3</td>\n",
       "      <td>2.36</td>\n",
       "    </tr>\n",
       "    <tr>\n",
       "      <th>5</th>\n",
       "      <td>Father of the Bride Part II (1995)</td>\n",
       "      <td>1</td>\n",
       "      <td>3.07</td>\n",
       "    </tr>\n",
       "  </tbody>\n",
       "</table>\n",
       "</div>"
      ],
      "text/plain": [
       "                                      title  Quantidade de Generos  rating\n",
       "movieId                                                                   \n",
       "1                          Toy Story (1995)                      5    3.92\n",
       "2                            Jumanji (1995)                      3    3.43\n",
       "3                   Grumpier Old Men (1995)                      2    3.26\n",
       "4                  Waiting to Exhale (1995)                      3    2.36\n",
       "5        Father of the Bride Part II (1995)                      1    3.07"
      ]
     },
     "execution_count": 58,
     "metadata": {},
     "output_type": "execute_result"
    }
   ],
   "source": [
    "# Criando DF do rating médio por movieId\n",
    "rating_medio_por_filme = ratings_df[['movieId','rating']].groupby('movieId').mean().round(2)\n",
    "\n",
    "# Concatenando DF\n",
    "movie_qtd_generos_e_rating = pd.concat([movie_qtd_generos, rating_medio_por_filme], axis = 1)\n",
    "movie_qtd_generos_e_rating.head()"
   ]
  },
  {
   "cell_type": "code",
   "execution_count": 59,
   "id": "1NCtz4kQWaGB",
   "metadata": {
    "colab": {
     "base_uri": "https://localhost:8080/",
     "height": 105
    },
    "id": "1NCtz4kQWaGB",
    "outputId": "815a6304-0aee-41cc-a1c6-de967ab7bff0"
   },
   "outputs": [
    {
     "data": {
      "text/html": [
       "<div>\n",
       "<style scoped>\n",
       "    .dataframe tbody tr th:only-of-type {\n",
       "        vertical-align: middle;\n",
       "    }\n",
       "\n",
       "    .dataframe tbody tr th {\n",
       "        vertical-align: top;\n",
       "    }\n",
       "\n",
       "    .dataframe thead th {\n",
       "        text-align: right;\n",
       "    }\n",
       "</style>\n",
       "<table border=\"1\" class=\"dataframe\">\n",
       "  <thead>\n",
       "    <tr style=\"text-align: right;\">\n",
       "      <th></th>\n",
       "      <th>Quantidade de Generos</th>\n",
       "      <th>rating</th>\n",
       "    </tr>\n",
       "  </thead>\n",
       "  <tbody>\n",
       "    <tr>\n",
       "      <th>Quantidade de Generos</th>\n",
       "      <td>1.000000</td>\n",
       "      <td>0.000306</td>\n",
       "    </tr>\n",
       "    <tr>\n",
       "      <th>rating</th>\n",
       "      <td>0.000306</td>\n",
       "      <td>1.000000</td>\n",
       "    </tr>\n",
       "  </tbody>\n",
       "</table>\n",
       "</div>"
      ],
      "text/plain": [
       "                       Quantidade de Generos    rating\n",
       "Quantidade de Generos               1.000000  0.000306\n",
       "rating                              0.000306  1.000000"
      ]
     },
     "execution_count": 59,
     "metadata": {},
     "output_type": "execute_result"
    }
   ],
   "source": [
    "movie_qtd_generos_e_rating.corr()"
   ]
  },
  {
   "cell_type": "code",
   "execution_count": 60,
   "id": "O6y2zCTzWaER",
   "metadata": {
    "colab": {
     "base_uri": "https://localhost:8080/",
     "height": 370
    },
    "id": "O6y2zCTzWaER",
    "outputId": "2de1a215-a2dd-4b11-aee1-6f29b159c374"
   },
   "outputs": [
    {
     "data": {
      "text/plain": [
       "<AxesSubplot:title={'center':'Boxplot da Quantidade de generos pelo rating médio dos filmes'}, xlabel='Quantidade de Generos', ylabel='rating'>"
      ]
     },
     "execution_count": 60,
     "metadata": {},
     "output_type": "execute_result"
    },
    {
     "data": {
      "image/png": "[encoded data removed]",
      "text/plain": [
       "<Figure size 576x360 with 1 Axes>"
      ]
     },
     "metadata": {},
     "output_type": "display_data"
    }
   ],
   "source": [
    "fig = plt.figure(figsize=(8,5))\n",
    "ax = sns.boxplot(y = movie_qtd_generos_e_rating['rating'], x = movie_qtd_generos_e_rating['Quantidade de Generos'])\n",
    "ax.set_title('Boxplot da Quantidade de generos pelo rating médio dos filmes', fontsize = 18)\n",
    "ax"
   ]
  },
  {
   "cell_type": "markdown",
   "id": "LHjEeIm2WY7X",
   "metadata": {
    "id": "LHjEeIm2WY7X"
   },
   "source": [
    "Pelo valor do coeficiente de correlação e pela análise do Boxplot, a quantidade de generos do filme não afeta a nota dada pelo usuário"
   ]
  },
  {
   "cell_type": "markdown",
   "id": "eev1akNdpuyp",
   "metadata": {
    "id": "eev1akNdpuyp"
   },
   "source": [
    "## 10 - Montar modelo de Clusterização para separar os filmes em 5 grupos em relação aos gêneros"
   ]
  },
  {
   "cell_type": "code",
   "execution_count": 61,
   "id": "jShGuHyyDaSN",
   "metadata": {
    "colab": {
     "base_uri": "https://localhost:8080/",
     "height": 622
    },
    "id": "jShGuHyyDaSN",
    "outputId": "128e1620-de73-4f75-b5c3-f52cc5dbbfdd"
   },
   "outputs": [
    {
     "data": {
      "text/html": [
       "<div>\n",
       "<style scoped>\n",
       "    .dataframe tbody tr th:only-of-type {\n",
       "        vertical-align: middle;\n",
       "    }\n",
       "\n",
       "    .dataframe tbody tr th {\n",
       "        vertical-align: top;\n",
       "    }\n",
       "\n",
       "    .dataframe thead th {\n",
       "        text-align: right;\n",
       "    }\n",
       "</style>\n",
       "<table border=\"1\" class=\"dataframe\">\n",
       "  <thead>\n",
       "    <tr style=\"text-align: right;\">\n",
       "      <th></th>\n",
       "      <th>0</th>\n",
       "      <th>1</th>\n",
       "      <th>2</th>\n",
       "      <th>3</th>\n",
       "      <th>4</th>\n",
       "    </tr>\n",
       "  </thead>\n",
       "  <tbody>\n",
       "    <tr>\n",
       "      <th>(no genres listed)</th>\n",
       "      <td>-0.059195</td>\n",
       "      <td>-0.059195</td>\n",
       "      <td>0.041413</td>\n",
       "      <td>-0.059195</td>\n",
       "      <td>-0.059195</td>\n",
       "    </tr>\n",
       "    <tr>\n",
       "      <th>Action</th>\n",
       "      <td>0.336104</td>\n",
       "      <td>0.377689</td>\n",
       "      <td>-0.242748</td>\n",
       "      <td>0.768904</td>\n",
       "      <td>-0.104539</td>\n",
       "    </tr>\n",
       "    <tr>\n",
       "      <th>Adventure</th>\n",
       "      <td>-0.165170</td>\n",
       "      <td>0.038004</td>\n",
       "      <td>-0.176177</td>\n",
       "      <td>0.536754</td>\n",
       "      <td>0.911130</td>\n",
       "    </tr>\n",
       "    <tr>\n",
       "      <th>Animation</th>\n",
       "      <td>-0.240615</td>\n",
       "      <td>-0.204350</td>\n",
       "      <td>-0.251552</td>\n",
       "      <td>0.068511</td>\n",
       "      <td>2.186738</td>\n",
       "    </tr>\n",
       "    <tr>\n",
       "      <th>Children</th>\n",
       "      <td>-0.263983</td>\n",
       "      <td>-0.260059</td>\n",
       "      <td>-0.270526</td>\n",
       "      <td>-0.236942</td>\n",
       "      <td>2.719653</td>\n",
       "    </tr>\n",
       "    <tr>\n",
       "      <th>Comedy</th>\n",
       "      <td>-0.578821</td>\n",
       "      <td>-0.477883</td>\n",
       "      <td>0.244446</td>\n",
       "      <td>-0.431397</td>\n",
       "      <td>0.278882</td>\n",
       "    </tr>\n",
       "    <tr>\n",
       "      <th>Crime</th>\n",
       "      <td>0.838822</td>\n",
       "      <td>-0.294237</td>\n",
       "      <td>-0.151379</td>\n",
       "      <td>-0.290803</td>\n",
       "      <td>-0.314732</td>\n",
       "    </tr>\n",
       "    <tr>\n",
       "      <th>Documentary</th>\n",
       "      <td>-0.212255</td>\n",
       "      <td>-0.065118</td>\n",
       "      <td>0.138751</td>\n",
       "      <td>-0.212453</td>\n",
       "      <td>-0.211982</td>\n",
       "    </tr>\n",
       "    <tr>\n",
       "      <th>Drama</th>\n",
       "      <td>0.088094</td>\n",
       "      <td>0.680951</td>\n",
       "      <td>0.095928</td>\n",
       "      <td>-0.481058</td>\n",
       "      <td>-0.593404</td>\n",
       "    </tr>\n",
       "    <tr>\n",
       "      <th>Fantasy</th>\n",
       "      <td>-0.132783</td>\n",
       "      <td>-0.236539</td>\n",
       "      <td>-0.100589</td>\n",
       "      <td>0.149764</td>\n",
       "      <td>0.885468</td>\n",
       "    </tr>\n",
       "    <tr>\n",
       "      <th>Film-Noir</th>\n",
       "      <td>0.401629</td>\n",
       "      <td>-0.094950</td>\n",
       "      <td>-0.094950</td>\n",
       "      <td>-0.072460</td>\n",
       "      <td>-0.094950</td>\n",
       "    </tr>\n",
       "    <tr>\n",
       "      <th>Horror</th>\n",
       "      <td>0.413880</td>\n",
       "      <td>-0.307817</td>\n",
       "      <td>-0.137875</td>\n",
       "      <td>0.426264</td>\n",
       "      <td>-0.287998</td>\n",
       "    </tr>\n",
       "    <tr>\n",
       "      <th>IMAX</th>\n",
       "      <td>-0.106675</td>\n",
       "      <td>-0.065781</td>\n",
       "      <td>-0.115997</td>\n",
       "      <td>0.759360</td>\n",
       "      <td>0.191819</td>\n",
       "    </tr>\n",
       "    <tr>\n",
       "      <th>Musical</th>\n",
       "      <td>-0.176387</td>\n",
       "      <td>-0.159475</td>\n",
       "      <td>0.024439</td>\n",
       "      <td>-0.147770</td>\n",
       "      <td>0.440368</td>\n",
       "    </tr>\n",
       "    <tr>\n",
       "      <th>Mystery</th>\n",
       "      <td>0.812825</td>\n",
       "      <td>-0.216420</td>\n",
       "      <td>-0.221870</td>\n",
       "      <td>0.006245</td>\n",
       "      <td>-0.151808</td>\n",
       "    </tr>\n",
       "    <tr>\n",
       "      <th>Romance</th>\n",
       "      <td>-0.286225</td>\n",
       "      <td>-0.057101</td>\n",
       "      <td>0.184368</td>\n",
       "      <td>-0.296378</td>\n",
       "      <td>-0.270384</td>\n",
       "    </tr>\n",
       "    <tr>\n",
       "      <th>Sci-Fi</th>\n",
       "      <td>-0.301230</td>\n",
       "      <td>-0.237594</td>\n",
       "      <td>-0.334151</td>\n",
       "      <td>2.806080</td>\n",
       "      <td>-0.114927</td>\n",
       "    </tr>\n",
       "    <tr>\n",
       "      <th>Thriller</th>\n",
       "      <td>1.661128</td>\n",
       "      <td>-0.217684</td>\n",
       "      <td>-0.488005</td>\n",
       "      <td>0.284500</td>\n",
       "      <td>-0.476484</td>\n",
       "    </tr>\n",
       "    <tr>\n",
       "      <th>War</th>\n",
       "      <td>-0.202074</td>\n",
       "      <td>4.948690</td>\n",
       "      <td>-0.202074</td>\n",
       "      <td>-0.196623</td>\n",
       "      <td>-0.190164</td>\n",
       "    </tr>\n",
       "    <tr>\n",
       "      <th>Western</th>\n",
       "      <td>-0.051649</td>\n",
       "      <td>0.071123</td>\n",
       "      <td>0.033263</td>\n",
       "      <td>-0.058746</td>\n",
       "      <td>-0.078675</td>\n",
       "    </tr>\n",
       "  </tbody>\n",
       "</table>\n",
       "</div>"
      ],
      "text/plain": [
       "                           0         1         2         3         4\n",
       "(no genres listed) -0.059195 -0.059195  0.041413 -0.059195 -0.059195\n",
       "Action              0.336104  0.377689 -0.242748  0.768904 -0.104539\n",
       "Adventure          -0.165170  0.038004 -0.176177  0.536754  0.911130\n",
       "Animation          -0.240615 -0.204350 -0.251552  0.068511  2.186738\n",
       "Children           -0.263983 -0.260059 -0.270526 -0.236942  2.719653\n",
       "Comedy             -0.578821 -0.477883  0.244446 -0.431397  0.278882\n",
       "Crime               0.838822 -0.294237 -0.151379 -0.290803 -0.314732\n",
       "Documentary        -0.212255 -0.065118  0.138751 -0.212453 -0.211982\n",
       "Drama               0.088094  0.680951  0.095928 -0.481058 -0.593404\n",
       "Fantasy            -0.132783 -0.236539 -0.100589  0.149764  0.885468\n",
       "Film-Noir           0.401629 -0.094950 -0.094950 -0.072460 -0.094950\n",
       "Horror              0.413880 -0.307817 -0.137875  0.426264 -0.287998\n",
       "IMAX               -0.106675 -0.065781 -0.115997  0.759360  0.191819\n",
       "Musical            -0.176387 -0.159475  0.024439 -0.147770  0.440368\n",
       "Mystery             0.812825 -0.216420 -0.221870  0.006245 -0.151808\n",
       "Romance            -0.286225 -0.057101  0.184368 -0.296378 -0.270384\n",
       "Sci-Fi             -0.301230 -0.237594 -0.334151  2.806080 -0.114927\n",
       "Thriller            1.661128 -0.217684 -0.488005  0.284500 -0.476484\n",
       "War                -0.202074  4.948690 -0.202074 -0.196623 -0.190164\n",
       "Western            -0.051649  0.071123  0.033263 -0.058746 -0.078675"
      ]
     },
     "execution_count": 61,
     "metadata": {},
     "output_type": "execute_result"
    }
   ],
   "source": [
    "# Separar os generos por colunas\n",
    "generos = movies_df['genres'].str.get_dummies()\n",
    "\n",
    "# Escalar os generos\n",
    "from sklearn.preprocessing import StandardScaler\n",
    "escalador = StandardScaler()\n",
    "generos_escalados = escalador.fit_transform(generos)\n",
    "\n",
    "# Clusterizar os filmes em 5 grupos\n",
    "from sklearn.cluster import KMeans\n",
    "modelo = KMeans(n_clusters = 5, random_state= 1234)\n",
    "modelo.fit(generos_escalados)\n",
    "\n",
    "# Montar um DF dos grupos com os centroids e em relação aos grupos\n",
    "grupos = pd.DataFrame(modelo.cluster_centers_,\n",
    "             columns = generos.columns).T\n",
    "grupos  "
   ]
  },
  {
   "cell_type": "code",
   "execution_count": 62,
   "id": "6Lj23G0bDaQK",
   "metadata": {
    "colab": {
     "base_uri": "https://localhost:8080/",
     "height": 1000
    },
    "id": "6Lj23G0bDaQK",
    "outputId": "2aa5d992-b4a4-407d-9983-b40b27a843f5"
   },
   "outputs": [
    {
     "data": {
      "text/plain": [
       "array([<AxesSubplot:title={'center':'0'}>,\n",
       "       <AxesSubplot:title={'center':'1'}>,\n",
       "       <AxesSubplot:title={'center':'2'}>,\n",
       "       <AxesSubplot:title={'center':'3'}>,\n",
       "       <AxesSubplot:title={'center':'4'}>], dtype=object)"
      ]
     },
     "execution_count": 62,
     "metadata": {},
     "output_type": "execute_result"
    },
    {
     "data": {
      "image/png": "[encoded data removed]",
      "text/plain": [
       "<Figure size 1800x2520 with 5 Axes>"
      ]
     },
     "metadata": {},
     "output_type": "display_data"
    }
   ],
   "source": [
    "grupos.plot.bar(subplots = True, figsize = (25,35), sharex = False)"
   ]
  },
  {
   "cell_type": "markdown",
   "id": "CuCyXjZNFE2D",
   "metadata": {
    "id": "CuCyXjZNFE2D"
   },
   "source": [
    "Separando os generos dos filmes pelo KMeans em 5 grupos, pode-se definir os grupos da seguinte foram\n",
    "\n",
    "\n",
    "\n",
    "> Grupo 0: Filmes de *Horror* com um pouco de *Thriller*\n",
    "\n",
    "> Grupo 1: Filmes *Infantis* de *Animação*, com um pouco de *Aventura* e *Fantasia*\n",
    "\n",
    "> Grupo 2: Filmes de *Romance*, com um pocuo de *Comédia* e *Drama*\n",
    "\n",
    "> Grupo 3: *Documentários*\n",
    "\n",
    "> Grupo 4: Filmes de *Ação*, *Crimes* e *Drama*\n"
   ]
  }
 ],
 "metadata": {
  "colab": {
   "name": "AED-movie-lens-small.ipynb",
   "provenance": []
  },
  "kernelspec": {
   "display_name": "Python 3",
   "language": "python",
   "name": "python3"
  },
  "language_info": {
   "codemirror_mode": {
    "name": "ipython",
    "version": 3
   },
   "file_extension": ".py",
   "mimetype": "text/x-python",
   "name": "python",
   "nbconvert_exporter": "python",
   "pygments_lexer": "ipython3",
   "version": "3.9.2"
  }
 },
 "nbformat": 4,
 "nbformat_minor": 5
}
