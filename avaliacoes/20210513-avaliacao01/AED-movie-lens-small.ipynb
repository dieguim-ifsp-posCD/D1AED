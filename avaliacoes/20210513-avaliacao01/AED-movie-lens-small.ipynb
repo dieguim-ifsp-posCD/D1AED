{
  "nbformat": 4,
  "nbformat_minor": 5,
  "metadata": {
    "colab": {
      "name": "AED-movie-lens-small.ipynb",
      "provenance": []
    },
    "kernelspec": {
      "display_name": "Python 3",
      "language": "python",
      "name": "python3"
    },
    "language_info": {
      "codemirror_mode": {
        "name": "ipython",
        "version": 3
      },
      "file_extension": ".py",
      "mimetype": "text/x-python",
      "name": "python",
      "nbconvert_exporter": "python",
      "pygments_lexer": "ipython3",
      "version": "3.9.2"
    }
  },
  "cells": [
    {
      "cell_type": "markdown",
      "metadata": {
        "id": "56baeb7f-c83d-4e6d-9e20-af09365ad74e"
      },
      "source": [
        "# **Análise do Dataset Movie Lens Small**"
      ],
      "id": "56baeb7f-c83d-4e6d-9e20-af09365ad74e"
    },
    {
      "cell_type": "markdown",
      "metadata": {
        "id": "vTWywVIcpYIk"
      },
      "source": [
        "# Informações Gerais"
      ],
      "id": "vTWywVIcpYIk"
    },
    {
      "cell_type": "markdown",
      "metadata": {
        "id": "vUFhnz63pBbt"
      },
      "source": [
        "## Conhecendo o dataset"
      ],
      "id": "vUFhnz63pBbt"
    },
    {
      "cell_type": "markdown",
      "metadata": {
        "id": "5576008b-4db4-4860-aeaa-1991644d843f"
      },
      "source": [
        "\n",
        "Trata-se do conjunto de dados [Movie Lens Small](https://files.grouplens.org/datasets/movielens/ml-latest-small.zip), contendo classificação de filmes do serviço de recomendação [movielens](http://movielens.org).\n",
        "\n",
        "### Informações do [README](data/ml-latest-small/README.txt) do dataset\n",
        "\n",
        "O dataset contém **100.836 avaliações** e **3.683 *rótulos*** para **9.742 filmes**. Os dados foram criados por **610 usuários**. Cada usuário avaliou pelo menos 20 filmes.\n",
        "\n",
        "Os arquivos estão em formato *CSV*, com uma única linha de cabeçalho. Colunas que contenham vírgula estão escapadas com aspas duplas. Codificação é UTF-8.\n",
        "\n",
        "- **User Ids**: São consistentes entre os arquivos `ratigns.csv` e `tags.csv` (mesmo *id* se refere a um mesmo usuário nestes dois arquivos)\n",
        "- **Movie Ids**: Apenas filmes com ao menos uma avaliação ou *rótulo* estão inclusos no dataset. Ids são consistentes entre os arquivos `ratings.csv`, `tags.csv`, `movies.csv` e `links.csv`\n",
        "\n",
        "#### `ratings.csv`\n",
        "> 100.836 avaliações\n",
        "\n",
        "Cada linha do arquivo representa uma avaliação de um filme por um usuário, no seguinte formato:\n",
        "\n",
        "    userId,movieId,rating,timestamp\n",
        "\n",
        "As avaliações estão em uma escala de *5 estrelas*, com incrementos de *0,5 estrelas* (0,5 - 5.0). *Timestamp* é uma valor em [Unix time](https://en.wikipedia.org/wiki/Unix_time).\n",
        "\n",
        "#### `tags.csv`\n",
        "> 3.683 *rótulos*\n",
        "\n",
        "Cada linha do arquivo representa um *rótulo* atribuído a um filme por um usuário, no seguinte formato:\n",
        "\n",
        "    userId,movieId,tag,timestamp\n",
        "\n",
        "*Rótulos* são metadados dos filmes, formadas em geral por palavras únicas ou frases curtas. *Timestamp* é uma valor em [Unix time](https://en.wikipedia.org/wiki/Unix_time).\n",
        "\n",
        "#### `movies.csv`\n",
        "> 9.742 filmes\n",
        "\n",
        "Cada linha do arquivo representa um filme, no seguinte formato:\n",
        "\n",
        "    movieId,title,genres\n",
        "\n",
        "Os títulos dos filmes podem conter erros e inconsistências. O ano de lançamento está incluso entre parêntesis.\n",
        "\n",
        "Os gêneros estão em uma lista separadas por pipe (`|`), e são selecionados dos seguintes valores:\n",
        "\n",
        "* Action\n",
        "* Adventure\n",
        "* Animation\n",
        "* Children's\n",
        "* Comedy\n",
        "* Crime\n",
        "* Documentary\n",
        "* Drama\n",
        "* Fantasy\n",
        "* Film-Noir\n",
        "* Horror\n",
        "* Musical\n",
        "* Mystery\n",
        "* Romance\n",
        "* Sci-Fi\n",
        "* Thriller\n",
        "* War\n",
        "* Western\n",
        "* (no genres listed)\n",
        "\n",
        "#### `links.csv`\n",
        "> 9.742 *links*\n",
        "\n",
        "Cada linha do arquivo representa um filme, contendo *links* para outras fontes de dados de filmes, no seguinte formato:\n",
        "\n",
        "    movieId,imdbId,tmdbId\n",
        "\n",
        "*movieId* é um identificador dos filmes usado pelo [movielens](https://movielens.org)<br />\n",
        "*imdbId* é um identificador dos filmes usado pelo [IMDb](http://www.imdb.com)<br />\n",
        "*tmdbId* é um identificador dos filmes usado pelo [TMDB](https://www.themoviedb.org)"
      ],
      "id": "5576008b-4db4-4860-aeaa-1991644d843f"
    },
    {
      "cell_type": "markdown",
      "metadata": {
        "id": "b312197c-11e4-4021-87c7-4e1dbaaf9a1d"
      },
      "source": [
        "### Diagrama dos Dados"
      ],
      "id": "b312197c-11e4-4021-87c7-4e1dbaaf9a1d"
    },
    {
      "cell_type": "markdown",
      "metadata": {
        "id": "9f634eaf-e17f-400e-bf9e-86e52247f9d8"
      },
      "source": [
        "A partir da especificação dos dados, podemos traçar um diagrama para melhor visualizar a relação entre as diferentes tabelas. Isto nos ajudará no momento de validar e limpar os dados carregados."
      ],
      "id": "9f634eaf-e17f-400e-bf9e-86e52247f9d8"
    },
    {
      "cell_type": "markdown",
      "metadata": {
        "id": "feb22413-189d-41fe-adff-48231ab9761a"
      },
      "source": [
        "![](https://github.com/dieguim-ifsp-posCD/D1AED/blob/evaluation-01/avaliacoes/20210513-avaliacao01/recursos/20210524-diagrama_dados.png?raw=1)"
      ],
      "id": "feb22413-189d-41fe-adff-48231ab9761a"
    },
    {
      "cell_type": "markdown",
      "metadata": {
        "id": "93dbcba5-3d39-414c-8fbb-c736dbb52eaf"
      },
      "source": [
        "## Importação do Dataset"
      ],
      "id": "93dbcba5-3d39-414c-8fbb-c736dbb52eaf"
    },
    {
      "cell_type": "code",
      "metadata": {
        "id": "8d0e91ad-5ca2-404d-b1ef-3cffe20a6b92"
      },
      "source": [
        "import numpy as np\n",
        "import pandas as pd\n",
        "import matplotlib.pyplot as plt"
      ],
      "id": "8d0e91ad-5ca2-404d-b1ef-3cffe20a6b92",
      "execution_count": 71,
      "outputs": []
    },
    {
      "cell_type": "code",
      "metadata": {
        "id": "d5fa5c58-513e-44a2-8686-7cb8f3542f25"
      },
      "source": [
        "DATAPATH = 'https://raw.githubusercontent.com/dieguim-ifsp-posCD/D1AED/evaluation-01/avaliacoes/20210513-avaliacao01/data/ml-latest-small'\n",
        "\n",
        "ratings_df = pd.read_csv(f'{DATAPATH}/ratings.csv')\n",
        "tags_df    = pd.read_csv(f'{DATAPATH}/tags.csv')\n",
        "movies_df  = pd.read_csv(f'{DATAPATH}/movies.csv')\n",
        "links_df   = pd.read_csv(f'{DATAPATH}/links.csv')"
      ],
      "id": "d5fa5c58-513e-44a2-8686-7cb8f3542f25",
      "execution_count": 72,
      "outputs": []
    },
    {
      "cell_type": "code",
      "metadata": {
        "colab": {
          "base_uri": "https://localhost:8080/",
          "height": 0
        },
        "id": "6cf1a23d-d856-48a7-b09c-1d812053e32b",
        "outputId": "81feb336-8557-42f7-96c6-ae807ac612ee"
      },
      "source": [
        "ratings_df.head(3)"
      ],
      "id": "6cf1a23d-d856-48a7-b09c-1d812053e32b",
      "execution_count": 73,
      "outputs": [
        {
          "output_type": "execute_result",
          "data": {
            "text/html": [
              "<div>\n",
              "<style scoped>\n",
              "    .dataframe tbody tr th:only-of-type {\n",
              "        vertical-align: middle;\n",
              "    }\n",
              "\n",
              "    .dataframe tbody tr th {\n",
              "        vertical-align: top;\n",
              "    }\n",
              "\n",
              "    .dataframe thead th {\n",
              "        text-align: right;\n",
              "    }\n",
              "</style>\n",
              "<table border=\"1\" class=\"dataframe\">\n",
              "  <thead>\n",
              "    <tr style=\"text-align: right;\">\n",
              "      <th></th>\n",
              "      <th>userId</th>\n",
              "      <th>movieId</th>\n",
              "      <th>rating</th>\n",
              "      <th>timestamp</th>\n",
              "    </tr>\n",
              "  </thead>\n",
              "  <tbody>\n",
              "    <tr>\n",
              "      <th>0</th>\n",
              "      <td>1</td>\n",
              "      <td>1</td>\n",
              "      <td>4.0</td>\n",
              "      <td>964982703</td>\n",
              "    </tr>\n",
              "    <tr>\n",
              "      <th>1</th>\n",
              "      <td>1</td>\n",
              "      <td>3</td>\n",
              "      <td>4.0</td>\n",
              "      <td>964981247</td>\n",
              "    </tr>\n",
              "    <tr>\n",
              "      <th>2</th>\n",
              "      <td>1</td>\n",
              "      <td>6</td>\n",
              "      <td>4.0</td>\n",
              "      <td>964982224</td>\n",
              "    </tr>\n",
              "  </tbody>\n",
              "</table>\n",
              "</div>"
            ],
            "text/plain": [
              "   userId  movieId  rating  timestamp\n",
              "0       1        1     4.0  964982703\n",
              "1       1        3     4.0  964981247\n",
              "2       1        6     4.0  964982224"
            ]
          },
          "metadata": {
            "tags": []
          },
          "execution_count": 73
        }
      ]
    },
    {
      "cell_type": "code",
      "metadata": {
        "colab": {
          "base_uri": "https://localhost:8080/",
          "height": 0
        },
        "id": "a27ae437-ac05-41db-bb3f-ac14f95f427a",
        "outputId": "c873529d-7924-48f6-cc3c-bbbca2d68be8"
      },
      "source": [
        "tags_df.head(3)"
      ],
      "id": "a27ae437-ac05-41db-bb3f-ac14f95f427a",
      "execution_count": 74,
      "outputs": [
        {
          "output_type": "execute_result",
          "data": {
            "text/html": [
              "<div>\n",
              "<style scoped>\n",
              "    .dataframe tbody tr th:only-of-type {\n",
              "        vertical-align: middle;\n",
              "    }\n",
              "\n",
              "    .dataframe tbody tr th {\n",
              "        vertical-align: top;\n",
              "    }\n",
              "\n",
              "    .dataframe thead th {\n",
              "        text-align: right;\n",
              "    }\n",
              "</style>\n",
              "<table border=\"1\" class=\"dataframe\">\n",
              "  <thead>\n",
              "    <tr style=\"text-align: right;\">\n",
              "      <th></th>\n",
              "      <th>userId</th>\n",
              "      <th>movieId</th>\n",
              "      <th>tag</th>\n",
              "      <th>timestamp</th>\n",
              "    </tr>\n",
              "  </thead>\n",
              "  <tbody>\n",
              "    <tr>\n",
              "      <th>0</th>\n",
              "      <td>2</td>\n",
              "      <td>60756</td>\n",
              "      <td>funny</td>\n",
              "      <td>1445714994</td>\n",
              "    </tr>\n",
              "    <tr>\n",
              "      <th>1</th>\n",
              "      <td>2</td>\n",
              "      <td>60756</td>\n",
              "      <td>Highly quotable</td>\n",
              "      <td>1445714996</td>\n",
              "    </tr>\n",
              "    <tr>\n",
              "      <th>2</th>\n",
              "      <td>2</td>\n",
              "      <td>60756</td>\n",
              "      <td>will ferrell</td>\n",
              "      <td>1445714992</td>\n",
              "    </tr>\n",
              "  </tbody>\n",
              "</table>\n",
              "</div>"
            ],
            "text/plain": [
              "   userId  movieId              tag   timestamp\n",
              "0       2    60756            funny  1445714994\n",
              "1       2    60756  Highly quotable  1445714996\n",
              "2       2    60756     will ferrell  1445714992"
            ]
          },
          "metadata": {
            "tags": []
          },
          "execution_count": 74
        }
      ]
    },
    {
      "cell_type": "code",
      "metadata": {
        "colab": {
          "base_uri": "https://localhost:8080/",
          "height": 0
        },
        "id": "9fa8293a-7d0a-42c7-a6ac-866743e54de0",
        "outputId": "ade432c5-77dd-4552-c2df-afeb7b78cf3d"
      },
      "source": [
        "movies_df.head(3)"
      ],
      "id": "9fa8293a-7d0a-42c7-a6ac-866743e54de0",
      "execution_count": 75,
      "outputs": [
        {
          "output_type": "execute_result",
          "data": {
            "text/html": [
              "<div>\n",
              "<style scoped>\n",
              "    .dataframe tbody tr th:only-of-type {\n",
              "        vertical-align: middle;\n",
              "    }\n",
              "\n",
              "    .dataframe tbody tr th {\n",
              "        vertical-align: top;\n",
              "    }\n",
              "\n",
              "    .dataframe thead th {\n",
              "        text-align: right;\n",
              "    }\n",
              "</style>\n",
              "<table border=\"1\" class=\"dataframe\">\n",
              "  <thead>\n",
              "    <tr style=\"text-align: right;\">\n",
              "      <th></th>\n",
              "      <th>movieId</th>\n",
              "      <th>title</th>\n",
              "      <th>genres</th>\n",
              "    </tr>\n",
              "  </thead>\n",
              "  <tbody>\n",
              "    <tr>\n",
              "      <th>0</th>\n",
              "      <td>1</td>\n",
              "      <td>Toy Story (1995)</td>\n",
              "      <td>Adventure|Animation|Children|Comedy|Fantasy</td>\n",
              "    </tr>\n",
              "    <tr>\n",
              "      <th>1</th>\n",
              "      <td>2</td>\n",
              "      <td>Jumanji (1995)</td>\n",
              "      <td>Adventure|Children|Fantasy</td>\n",
              "    </tr>\n",
              "    <tr>\n",
              "      <th>2</th>\n",
              "      <td>3</td>\n",
              "      <td>Grumpier Old Men (1995)</td>\n",
              "      <td>Comedy|Romance</td>\n",
              "    </tr>\n",
              "  </tbody>\n",
              "</table>\n",
              "</div>"
            ],
            "text/plain": [
              "   movieId  ...                                       genres\n",
              "0        1  ...  Adventure|Animation|Children|Comedy|Fantasy\n",
              "1        2  ...                   Adventure|Children|Fantasy\n",
              "2        3  ...                               Comedy|Romance\n",
              "\n",
              "[3 rows x 3 columns]"
            ]
          },
          "metadata": {
            "tags": []
          },
          "execution_count": 75
        }
      ]
    },
    {
      "cell_type": "code",
      "metadata": {
        "colab": {
          "base_uri": "https://localhost:8080/",
          "height": 0
        },
        "id": "4c3c1cbf-561c-4f18-94df-c6a753962979",
        "outputId": "b9969d11-8424-4dc2-8e20-280482595237"
      },
      "source": [
        "links_df.head(3)"
      ],
      "id": "4c3c1cbf-561c-4f18-94df-c6a753962979",
      "execution_count": 76,
      "outputs": [
        {
          "output_type": "execute_result",
          "data": {
            "text/html": [
              "<div>\n",
              "<style scoped>\n",
              "    .dataframe tbody tr th:only-of-type {\n",
              "        vertical-align: middle;\n",
              "    }\n",
              "\n",
              "    .dataframe tbody tr th {\n",
              "        vertical-align: top;\n",
              "    }\n",
              "\n",
              "    .dataframe thead th {\n",
              "        text-align: right;\n",
              "    }\n",
              "</style>\n",
              "<table border=\"1\" class=\"dataframe\">\n",
              "  <thead>\n",
              "    <tr style=\"text-align: right;\">\n",
              "      <th></th>\n",
              "      <th>movieId</th>\n",
              "      <th>imdbId</th>\n",
              "      <th>tmdbId</th>\n",
              "    </tr>\n",
              "  </thead>\n",
              "  <tbody>\n",
              "    <tr>\n",
              "      <th>0</th>\n",
              "      <td>1</td>\n",
              "      <td>114709</td>\n",
              "      <td>862.0</td>\n",
              "    </tr>\n",
              "    <tr>\n",
              "      <th>1</th>\n",
              "      <td>2</td>\n",
              "      <td>113497</td>\n",
              "      <td>8844.0</td>\n",
              "    </tr>\n",
              "    <tr>\n",
              "      <th>2</th>\n",
              "      <td>3</td>\n",
              "      <td>113228</td>\n",
              "      <td>15602.0</td>\n",
              "    </tr>\n",
              "  </tbody>\n",
              "</table>\n",
              "</div>"
            ],
            "text/plain": [
              "   movieId  imdbId   tmdbId\n",
              "0        1  114709    862.0\n",
              "1        2  113497   8844.0\n",
              "2        3  113228  15602.0"
            ]
          },
          "metadata": {
            "tags": []
          },
          "execution_count": 76
        }
      ]
    },
    {
      "cell_type": "markdown",
      "metadata": {
        "id": "b8e5855f-1014-492b-9b4a-4d9ac8989de7"
      },
      "source": [
        "## Consistência dos dados"
      ],
      "id": "b8e5855f-1014-492b-9b4a-4d9ac8989de7"
    },
    {
      "cell_type": "markdown",
      "metadata": {
        "id": "38ce27ee-4aa4-4f56-a661-57ed3bc395f4"
      },
      "source": [
        "#### Ratings"
      ],
      "id": "38ce27ee-4aa4-4f56-a661-57ed3bc395f4"
    },
    {
      "cell_type": "markdown",
      "metadata": {
        "id": "f354301a-7c10-457d-938f-e554bc895d8e"
      },
      "source": [
        "##### Linhas e Colunas"
      ],
      "id": "f354301a-7c10-457d-938f-e554bc895d8e"
    },
    {
      "cell_type": "code",
      "metadata": {
        "id": "fd9d898f-8e81-423d-98b4-76f238376caf",
        "colab": {
          "base_uri": "https://localhost:8080/"
        },
        "outputId": "a66c69c9-2afc-47e8-d943-25e2abc42a74"
      },
      "source": [
        "# Verificação do número de linhas e lista de colunas, de acordo com a especificação do dataset\n",
        "linhas_esperadas = 100836\n",
        "colunas_esperadas = ['userId', 'movieId', 'rating', 'timestamp']\n",
        "\n",
        "(num_linhas, num_colunas) = ratings_df.shape\n",
        "lista_colunas = list(ratings_df.columns)\n",
        "\n",
        "assert num_linhas == linhas_esperadas, 'Número de linhas não condiz com o esperado'\n",
        "assert num_colunas == len(colunas_esperadas), 'Número de colunas não condiz com o esperado'\n",
        "assert lista_colunas == colunas_esperadas, 'Colunas inconsistentes com o esperado'\n",
        "\n",
        "print(f'Número de linhas `{num_linhas}` e lista de colunas `{lista_colunas}` do DataFrame Ratings estão corretos')"
      ],
      "id": "fd9d898f-8e81-423d-98b4-76f238376caf",
      "execution_count": 77,
      "outputs": [
        {
          "output_type": "stream",
          "text": [
            "Número de linhas `100836` e lista de colunas `['userId', 'movieId', 'rating', 'timestamp']` do DataFrame Ratings estão corretos\n"
          ],
          "name": "stdout"
        }
      ]
    },
    {
      "cell_type": "code",
      "metadata": {
        "id": "59ca1437-cf07-41fa-9b68-c19be4908a4d",
        "colab": {
          "base_uri": "https://localhost:8080/"
        },
        "outputId": "53a3ce17-55e8-41fc-82ca-752902c1a443"
      },
      "source": [
        "ratings_df.info()"
      ],
      "id": "59ca1437-cf07-41fa-9b68-c19be4908a4d",
      "execution_count": 78,
      "outputs": [
        {
          "output_type": "stream",
          "text": [
            "<class 'pandas.core.frame.DataFrame'>\n",
            "RangeIndex: 100836 entries, 0 to 100835\n",
            "Data columns (total 4 columns):\n",
            " #   Column     Non-Null Count   Dtype  \n",
            "---  ------     --------------   -----  \n",
            " 0   userId     100836 non-null  int64  \n",
            " 1   movieId    100836 non-null  int64  \n",
            " 2   rating     100836 non-null  float64\n",
            " 3   timestamp  100836 non-null  int64  \n",
            "dtypes: float64(1), int64(3)\n",
            "memory usage: 3.1 MB\n"
          ],
          "name": "stdout"
        }
      ]
    },
    {
      "cell_type": "markdown",
      "metadata": {
        "id": "21a8732c-b919-4bfd-b8e6-dd8f7fe8d4bc"
      },
      "source": [
        "Não há nenhum valor nulo para nenhuma das colunas do DataFrame\n",
        "\n",
        "O tipo de todas as colunas é condizente com o que esperamos:\n",
        "- **userId** e **movieId** são *inteiros*, como esperado para Ids\n",
        "- **rating** é *real*, conforme esperado, pois as avaliações estão em um intervalo de 0,5 estrelas\n",
        "- **timestamp** é *inteiro*, como esperado para um valor de *Unix time*"
      ],
      "id": "21a8732c-b919-4bfd-b8e6-dd8f7fe8d4bc"
    },
    {
      "cell_type": "markdown",
      "metadata": {
        "id": "295571ba-c4cd-4f56-85f3-4943a018f741"
      },
      "source": [
        "##### userId"
      ],
      "id": "295571ba-c4cd-4f56-85f3-4943a018f741"
    },
    {
      "cell_type": "code",
      "metadata": {
        "id": "33690a7b-fb77-45dd-ac82-a1bbb77b112c",
        "colab": {
          "base_uri": "https://localhost:8080/"
        },
        "outputId": "9a7aeae1-d6b0-496d-aeaa-1836c26da956"
      },
      "source": [
        "# Verificação da quantidade de usuários únicos\n",
        "# De acordo com especificação, todos usuários avaliaram pelo menos 20 filmes, logo todos devem estar presentes no DataFrame\n",
        "usuarios_esperados = 610\n",
        "\n",
        "num_usuarios = len(ratings_df.userId.unique())\n",
        "\n",
        "assert num_usuarios == usuarios_esperados, 'Número de usuários não condiz com o esperado'\n",
        "\n",
        "print(f'Número de usuários `{num_usuarios}` do DataFrame está correto')\n",
        "print(f'{(num_usuarios/usuarios_esperados * 100):.2f}% dos usuários realizaram avaliação de algum filme')"
      ],
      "id": "33690a7b-fb77-45dd-ac82-a1bbb77b112c",
      "execution_count": 79,
      "outputs": [
        {
          "output_type": "stream",
          "text": [
            "Número de usuários `610` do DataFrame está correto\n",
            "100.00% dos usuários realizaram avaliação de algum filme\n"
          ],
          "name": "stdout"
        }
      ]
    },
    {
      "cell_type": "markdown",
      "metadata": {
        "id": "402621a6-5677-4261-acbf-d89f7550d18b"
      },
      "source": [
        "##### movieId"
      ],
      "id": "402621a6-5677-4261-acbf-d89f7550d18b"
    },
    {
      "cell_type": "code",
      "metadata": {
        "id": "116cc61c-f029-43d8-be8b-c955d538c7ad",
        "colab": {
          "base_uri": "https://localhost:8080/"
        },
        "outputId": "80b86164-832a-4b07-c6fe-6af2c81dd9c8"
      },
      "source": [
        "# Verificação quantidade de filmes avaliados\n",
        "# A especificação não diz que todos os filmes possuem avaliação (alguns filmes podem possuir apenas rótulos),\n",
        "# portanto iremos avaliar apenas se o número de ids de filmes é menor do que o total do dataset\n",
        "filmes_maximo = 9742\n",
        "\n",
        "num_filmes = len(ratings_df.movieId.unique())\n",
        "\n",
        "assert num_filmes <= filmes_maximo, 'Número de filmes é maior do que o máximo esperado'\n",
        "\n",
        "print(f'Número de filmes `{num_filmes}` no DataFrame está dentro do limite máximo esperado')\n",
        "print(f'{(num_filmes/filmes_maximo * 100):.2f}% dos filmes receberam pelo menos uma avaliação')"
      ],
      "id": "116cc61c-f029-43d8-be8b-c955d538c7ad",
      "execution_count": 80,
      "outputs": [
        {
          "output_type": "stream",
          "text": [
            "Número de filmes `9724` no DataFrame está dentro do limite máximo esperado\n",
            "99.82% dos filmes receberam pelo menos uma avaliação\n"
          ],
          "name": "stdout"
        }
      ]
    },
    {
      "cell_type": "markdown",
      "metadata": {
        "id": "8a31f0fd-19c3-496b-9457-a1a5d04554e1"
      },
      "source": [
        "##### rating"
      ],
      "id": "8a31f0fd-19c3-496b-9457-a1a5d04554e1"
    },
    {
      "cell_type": "code",
      "metadata": {
        "id": "8d20558c-c469-4b3b-95dc-8b7ddb91c72a",
        "colab": {
          "base_uri": "https://localhost:8080/"
        },
        "outputId": "175d8ed4-f9d3-4be5-cadb-34aea3459ae6"
      },
      "source": [
        "# Verificação das avaliações (mais importante)\n",
        "# De acordo com a especificação, as notas estão no intervalo [0.5, 5.0], com saltos de 0.5\n",
        "avaliacoes_esperadas = np.arange(0.5, 5.1, 0.5) # Colocamos um valor ligeiramente maior que 5.0 como 'stop' para que o '5.0' seja incluido\n",
        "\n",
        "lista_avaliacoes = ratings_df.rating.unique()\n",
        "\n",
        "assert set(lista_avaliacoes).issubset(set(avaliacoes_esperadas)), 'Lista de avaliações possui valores diferentes do esperado'\n",
        "\n",
        "print(f'Avaliações `{lista_avaliacoes}` dos registros do DataFrame estão dentro do conjunto esperado')"
      ],
      "id": "8d20558c-c469-4b3b-95dc-8b7ddb91c72a",
      "execution_count": 81,
      "outputs": [
        {
          "output_type": "stream",
          "text": [
            "Avaliações `[4.  5.  3.  2.  1.  4.5 3.5 2.5 0.5 1.5]` dos registros do DataFrame estão dentro do conjunto esperado\n"
          ],
          "name": "stdout"
        }
      ]
    },
    {
      "cell_type": "code",
      "metadata": {
        "id": "iSsgQrmtLzyF"
      },
      "source": [
        ""
      ],
      "id": "iSsgQrmtLzyF",
      "execution_count": 81,
      "outputs": []
    },
    {
      "cell_type": "markdown",
      "metadata": {
        "id": "d022878f-6d67-45f5-9d5a-bc6b7cec0334"
      },
      "source": [
        "#### Tags"
      ],
      "id": "d022878f-6d67-45f5-9d5a-bc6b7cec0334"
    },
    {
      "cell_type": "markdown",
      "metadata": {
        "id": "d74474d7-8967-4202-af64-d8eaae9849e3"
      },
      "source": [
        "##### Linhas e Colunas"
      ],
      "id": "d74474d7-8967-4202-af64-d8eaae9849e3"
    },
    {
      "cell_type": "code",
      "metadata": {
        "id": "aad8d290-2b6d-415d-bdb2-a3aaa50780b7",
        "colab": {
          "base_uri": "https://localhost:8080/"
        },
        "outputId": "297dfeb7-2e52-4c30-f719-b18e44fcc049"
      },
      "source": [
        "# Verificação do número de linhas e lista de colunas, de acordo com a especificação do dataset\n",
        "linhas_esperadas = 3683\n",
        "colunas_esperadas = ['userId', 'movieId', 'tag', 'timestamp']\n",
        "\n",
        "(num_linhas, num_colunas) = tags_df.shape\n",
        "lista_colunas = list(tags_df.columns)\n",
        "\n",
        "assert num_linhas == linhas_esperadas, 'Número de linhas não condiz com o esperado'\n",
        "assert num_colunas == len(colunas_esperadas), 'Número de colunas não condiz com o esperado'\n",
        "assert lista_colunas == colunas_esperadas, 'Colunas inconsistentes com o esperado'\n",
        "\n",
        "print(f'Número de linhas `{num_linhas}` e lista de colunas `{lista_colunas}` do DataFrame Tags estão corretos')"
      ],
      "id": "aad8d290-2b6d-415d-bdb2-a3aaa50780b7",
      "execution_count": 82,
      "outputs": [
        {
          "output_type": "stream",
          "text": [
            "Número de linhas `3683` e lista de colunas `['userId', 'movieId', 'tag', 'timestamp']` do DataFrame Tags estão corretos\n"
          ],
          "name": "stdout"
        }
      ]
    },
    {
      "cell_type": "code",
      "metadata": {
        "id": "7f162dd7-ab69-4ad4-a9e4-2db918d6b2fb",
        "colab": {
          "base_uri": "https://localhost:8080/"
        },
        "outputId": "112c86d8-b2c1-40ea-cbe0-5e2a2ab6e694"
      },
      "source": [
        "tags_df.info()"
      ],
      "id": "7f162dd7-ab69-4ad4-a9e4-2db918d6b2fb",
      "execution_count": 83,
      "outputs": [
        {
          "output_type": "stream",
          "text": [
            "<class 'pandas.core.frame.DataFrame'>\n",
            "RangeIndex: 3683 entries, 0 to 3682\n",
            "Data columns (total 4 columns):\n",
            " #   Column     Non-Null Count  Dtype \n",
            "---  ------     --------------  ----- \n",
            " 0   userId     3683 non-null   int64 \n",
            " 1   movieId    3683 non-null   int64 \n",
            " 2   tag        3683 non-null   object\n",
            " 3   timestamp  3683 non-null   int64 \n",
            "dtypes: int64(3), object(1)\n",
            "memory usage: 115.2+ KB\n"
          ],
          "name": "stdout"
        }
      ]
    },
    {
      "cell_type": "markdown",
      "metadata": {
        "id": "c14e29f9-16a5-4209-920c-7b86d9125e24"
      },
      "source": [
        "Não há nenhum valor nulo para nenhuma das colunas do DataFrame\n",
        "\n",
        "O tipo de todas as colunas é condizente com o que esperamos:\n",
        "- **userId** e **movieId** são *inteiros*, como esperado para Ids\n",
        "- **tags** é *object*, conforme esperado, pois as tags são *strings*\n",
        "- **timestamp** é *inteiro*, como esperado para um valor de *Unix time*"
      ],
      "id": "c14e29f9-16a5-4209-920c-7b86d9125e24"
    },
    {
      "cell_type": "markdown",
      "metadata": {
        "id": "0c81a7a1-e162-4bc8-9305-14252efa8d8f"
      },
      "source": [
        "##### userId"
      ],
      "id": "0c81a7a1-e162-4bc8-9305-14252efa8d8f"
    },
    {
      "cell_type": "code",
      "metadata": {
        "id": "e99296e2-7905-45cf-9630-05c0f550ceec",
        "colab": {
          "base_uri": "https://localhost:8080/"
        },
        "outputId": "d746a6f7-948e-4138-b40f-dfe96a87c747"
      },
      "source": [
        "# Verificação da quantidade de usuários únicos\n",
        "# A especificação não diz que todos os usuários rotularam filmes,\n",
        "# portanto podemos avaliar apenas se o número de usuários é menor que o máximo do dataset\n",
        "usuarios_maximo = 610\n",
        "\n",
        "num_usuarios = len(tags_df.userId.unique())\n",
        "\n",
        "assert num_usuarios <= usuarios_esperados, 'Número de usuários é maior que o máximo esperado'\n",
        "\n",
        "print(f'Número de usuários `{num_usuarios}` do DataFrame está dentro do limite máximo esperado')\n",
        "print(f'{(num_usuarios/usuarios_maximo * 100):.2f}% dos usuários rotularam algum filme')"
      ],
      "id": "e99296e2-7905-45cf-9630-05c0f550ceec",
      "execution_count": 84,
      "outputs": [
        {
          "output_type": "stream",
          "text": [
            "Número de usuários `58` do DataFrame está dentro do limite máximo esperado\n",
            "9.51% dos usuários rotularam algum filme\n"
          ],
          "name": "stdout"
        }
      ]
    },
    {
      "cell_type": "markdown",
      "metadata": {
        "id": "cc6e6d64-0dee-4dd3-a955-b68be39c93ec"
      },
      "source": [
        "Aqui já podemos notar que o número de usuários presentes no DataFrame de *tags* é consideravelmente pequeno."
      ],
      "id": "cc6e6d64-0dee-4dd3-a955-b68be39c93ec"
    },
    {
      "cell_type": "markdown",
      "metadata": {
        "id": "b3fa142f-1b0f-411d-8081-4587aa8d6967"
      },
      "source": [
        "##### movieId"
      ],
      "id": "b3fa142f-1b0f-411d-8081-4587aa8d6967"
    },
    {
      "cell_type": "code",
      "metadata": {
        "id": "eea8930b-e5fa-4a50-bfb0-4bbc12003705",
        "colab": {
          "base_uri": "https://localhost:8080/"
        },
        "outputId": "91a84295-acea-4f48-b63d-3ab0e7d4feb4"
      },
      "source": [
        "# Verificação quantidade de filmes avaliados\n",
        "# A especificação não diz que todos os filmes possuem rótulos,\n",
        "# portanto iremos avaliar apenas se o número de ids de filmes é menor do que o total do dataset\n",
        "filmes_maximo = 9742\n",
        "\n",
        "num_filmes = len(tags_df.movieId.unique())\n",
        "\n",
        "assert num_filmes <= filmes_maximo, 'Número de filmes é maior do que o máximo esperado'\n",
        "\n",
        "print(f'Número de filmes `{num_filmes}` no DataFrame está dentro do limite máximo esperado')\n",
        "print(f'{(num_filmes/filmes_maximo * 100):.2f}% dos filmes receberam pelo menos um rótulo')"
      ],
      "id": "eea8930b-e5fa-4a50-bfb0-4bbc12003705",
      "execution_count": 85,
      "outputs": [
        {
          "output_type": "stream",
          "text": [
            "Número de filmes `1572` no DataFrame está dentro do limite máximo esperado\n",
            "16.14% dos filmes receberam pelo menos um rótulo\n"
          ],
          "name": "stdout"
        }
      ]
    },
    {
      "cell_type": "markdown",
      "metadata": {
        "id": "64a4715c-9658-4faa-91f5-10fa32dd58ca"
      },
      "source": [
        "O número de filmes *rotulados* também é consideravelmente pequeno."
      ],
      "id": "64a4715c-9658-4faa-91f5-10fa32dd58ca"
    },
    {
      "cell_type": "markdown",
      "metadata": {
        "id": "f3e648ed-8d7c-47c6-bae5-33ea4dddec26"
      },
      "source": [
        "##### tags"
      ],
      "id": "f3e648ed-8d7c-47c6-bae5-33ea4dddec26"
    },
    {
      "cell_type": "code",
      "metadata": {
        "id": "35ab7aba-79bb-4a22-84a8-e853107edae8",
        "colab": {
          "base_uri": "https://localhost:8080/",
          "height": 335
        },
        "outputId": "8b4650d9-0371-477b-948e-76e69744d4e8"
      },
      "source": [
        "# Verificação dos rótulos\n",
        "# De acordo com a especificação, os rótulos em geral são palavras únicas ou frases curtas\n",
        "\n",
        "# Separa o campo tags em uma lista de palavras\n",
        "lista_palavras = tags_df.tag.str.split()\n",
        "\n",
        "# Verifica quantos elementos contém cada lista (ou seja, quantas palavras o rótulo possui) e agrega os valores\n",
        "palavras_tag = lista_palavras.apply(len).value_counts().to_frame().reset_index()\n",
        "palavras_tag.columns = ['Palavras na Tag', 'Número de Registros']\n",
        "palavras_tag['% Registros'] = round((palavras_tag['Número de Registros'] / palavras_tag['Número de Registros'].sum())*100,1)\n",
        "palavras_tag['%Registros Acumulados'] = palavras_tag['% Registros'].cumsum()\n",
        "\n",
        "palavras_tag"
      ],
      "id": "35ab7aba-79bb-4a22-84a8-e853107edae8",
      "execution_count": 86,
      "outputs": [
        {
          "output_type": "execute_result",
          "data": {
            "text/html": [
              "<div>\n",
              "<style scoped>\n",
              "    .dataframe tbody tr th:only-of-type {\n",
              "        vertical-align: middle;\n",
              "    }\n",
              "\n",
              "    .dataframe tbody tr th {\n",
              "        vertical-align: top;\n",
              "    }\n",
              "\n",
              "    .dataframe thead th {\n",
              "        text-align: right;\n",
              "    }\n",
              "</style>\n",
              "<table border=\"1\" class=\"dataframe\">\n",
              "  <thead>\n",
              "    <tr style=\"text-align: right;\">\n",
              "      <th></th>\n",
              "      <th>Palavras na Tag</th>\n",
              "      <th>Número de Registros</th>\n",
              "      <th>% Registros</th>\n",
              "      <th>%Registros Acumulados</th>\n",
              "    </tr>\n",
              "  </thead>\n",
              "  <tbody>\n",
              "    <tr>\n",
              "      <th>0</th>\n",
              "      <td>1</td>\n",
              "      <td>2282</td>\n",
              "      <td>62.0</td>\n",
              "      <td>62.0</td>\n",
              "    </tr>\n",
              "    <tr>\n",
              "      <th>1</th>\n",
              "      <td>2</td>\n",
              "      <td>1057</td>\n",
              "      <td>28.7</td>\n",
              "      <td>90.7</td>\n",
              "    </tr>\n",
              "    <tr>\n",
              "      <th>2</th>\n",
              "      <td>3</td>\n",
              "      <td>275</td>\n",
              "      <td>7.5</td>\n",
              "      <td>98.2</td>\n",
              "    </tr>\n",
              "    <tr>\n",
              "      <th>3</th>\n",
              "      <td>4</td>\n",
              "      <td>43</td>\n",
              "      <td>1.2</td>\n",
              "      <td>99.4</td>\n",
              "    </tr>\n",
              "    <tr>\n",
              "      <th>4</th>\n",
              "      <td>5</td>\n",
              "      <td>16</td>\n",
              "      <td>0.4</td>\n",
              "      <td>99.8</td>\n",
              "    </tr>\n",
              "    <tr>\n",
              "      <th>5</th>\n",
              "      <td>7</td>\n",
              "      <td>4</td>\n",
              "      <td>0.1</td>\n",
              "      <td>99.9</td>\n",
              "    </tr>\n",
              "    <tr>\n",
              "      <th>6</th>\n",
              "      <td>6</td>\n",
              "      <td>3</td>\n",
              "      <td>0.1</td>\n",
              "      <td>100.0</td>\n",
              "    </tr>\n",
              "    <tr>\n",
              "      <th>7</th>\n",
              "      <td>16</td>\n",
              "      <td>1</td>\n",
              "      <td>0.0</td>\n",
              "      <td>100.0</td>\n",
              "    </tr>\n",
              "    <tr>\n",
              "      <th>8</th>\n",
              "      <td>10</td>\n",
              "      <td>1</td>\n",
              "      <td>0.0</td>\n",
              "      <td>100.0</td>\n",
              "    </tr>\n",
              "    <tr>\n",
              "      <th>9</th>\n",
              "      <td>8</td>\n",
              "      <td>1</td>\n",
              "      <td>0.0</td>\n",
              "      <td>100.0</td>\n",
              "    </tr>\n",
              "  </tbody>\n",
              "</table>\n",
              "</div>"
            ],
            "text/plain": [
              "   Palavras na Tag  Número de Registros  % Registros  %Registros Acumulados\n",
              "0                1                 2282         62.0                   62.0\n",
              "1                2                 1057         28.7                   90.7\n",
              "2                3                  275          7.5                   98.2\n",
              "3                4                   43          1.2                   99.4\n",
              "4                5                   16          0.4                   99.8\n",
              "5                7                    4          0.1                   99.9\n",
              "6                6                    3          0.1                  100.0\n",
              "7               16                    1          0.0                  100.0\n",
              "8               10                    1          0.0                  100.0\n",
              "9                8                    1          0.0                  100.0"
            ]
          },
          "metadata": {
            "tags": []
          },
          "execution_count": 86
        }
      ]
    },
    {
      "cell_type": "code",
      "metadata": {
        "colab": {
          "base_uri": "https://localhost:8080/",
          "height": 608
        },
        "id": "hb2GYuczXQ-Z",
        "outputId": "c46eb442-611f-4f25-f336-ce66af3a47f4"
      },
      "source": [
        "import matplotlib.pyplot as plt\n",
        "from matplotlib.ticker import PercentFormatter\n",
        "\n",
        "def Pareto(df, Type, Count, CumPercent):\n",
        "  # Cria o barplot e define os dados os eixos, a cor das barras, titulo do gráfico\n",
        "  fig, ax = plt.subplots(figsize=(20,10))\n",
        "  ax.bar(df[Type], df[Count], color=\"C0\")\n",
        "  ax.set_title(\"Pareto\")\n",
        "\n",
        "  # Eixo secundário\n",
        "  ax2 = ax.twinx()\n",
        "\n",
        "  # Cria a Curva de Pareto no eixo secundário\n",
        "  ax2.plot(df[Type], df[CumPercent], color=\"G\", marker=\"D\", ms=7, label='Pareto')\n",
        "  ax2.yaxis.set_major_formatter(PercentFormatter())\n",
        "\n",
        "  # Configurações dos eixos \n",
        "  ax.tick_params(axis=\"y\", colors=\"B\")\n",
        "  ax2.tick_params(axis=\"y\", colors=\"G\")\n",
        "  ax2.set_ylim([0,110])\n",
        "\n",
        "  # Ajusta a inclinação dos labels do eixo x\n",
        "  for tick in ax.get_xticklabels():\n",
        "      tick.set_rotation(45)\n",
        "\n",
        "  # Finalmente mostra o grafico definido acima\n",
        "  plt.legend() # para mostrar a legenda\n",
        "  plt.show()\n",
        "\n",
        "Pareto(palavras_tag[:6], 'Palavras na Tag', 'Número de Registros', '%Registros Acumulados')"
      ],
      "id": "hb2GYuczXQ-Z",
      "execution_count": 87,
      "outputs": [
        {
          "output_type": "display_data",
          "data": {
            "image/png": "[encoded data removed]",
            "text/plain": [
              "<Figure size 1440x720 with 2 Axes>"
            ]
          },
          "metadata": {
            "tags": [],
            "needs_background": "light"
          }
        }
      ]
    },
    {
      "cell_type": "markdown",
      "metadata": {
        "id": "045adbd1-fd65-4b62-89ba-47ded1eedc1d"
      },
      "source": [
        "Aqui é uma avaliação um pouco subjetiva, mas como visto no gráfico de Pareto, a maioria dos registros de rótulos (mais de 98%) possui até 3 palavras, o que cumpre com a especificação de um *rótulo*. \n",
        "\n",
        "É possível que os *outliers* (que contenham *muitas* palavras) não sejam termos que cumpram a função de *rótulo*."
      ],
      "id": "045adbd1-fd65-4b62-89ba-47ded1eedc1d"
    },
    {
      "cell_type": "markdown",
      "metadata": {
        "id": "c0d23794-ccda-4f76-be8d-8c670d8ab15b"
      },
      "source": [
        "#### Movies"
      ],
      "id": "c0d23794-ccda-4f76-be8d-8c670d8ab15b"
    },
    {
      "cell_type": "markdown",
      "metadata": {
        "id": "1a45b0c0-9a30-4d7a-84c2-e7a76aeca7e8"
      },
      "source": [
        "##### Linhas e Colunas"
      ],
      "id": "1a45b0c0-9a30-4d7a-84c2-e7a76aeca7e8"
    },
    {
      "cell_type": "code",
      "metadata": {
        "id": "c047ac60-78de-429e-b1a2-85c5cafddbd8",
        "colab": {
          "base_uri": "https://localhost:8080/"
        },
        "outputId": "9b036efa-1aee-426c-fa13-99eb1add5bbb"
      },
      "source": [
        "# Verificação do número de linhas e lista de colunas, de acordo com a especificação do dataset\n",
        "linhas_esperadas = 9742\n",
        "colunas_esperadas = ['movieId', 'title', 'genres']\n",
        "\n",
        "(num_linhas, num_colunas) = movies_df.shape\n",
        "lista_colunas = list(movies_df.columns)\n",
        "\n",
        "assert num_linhas == linhas_esperadas, 'Número de linhas não condiz com o esperado'\n",
        "assert num_colunas == len(colunas_esperadas), 'Número de colunas não condiz com o esperado'\n",
        "assert lista_colunas == colunas_esperadas, 'Colunas inconsistentes com o esperado'\n",
        "\n",
        "print(f'Número de linhas `{num_linhas}` e lista de colunas `{lista_colunas}` do DataFrame Movies estão corretos')"
      ],
      "id": "c047ac60-78de-429e-b1a2-85c5cafddbd8",
      "execution_count": 88,
      "outputs": [
        {
          "output_type": "stream",
          "text": [
            "Número de linhas `9742` e lista de colunas `['movieId', 'title', 'genres']` do DataFrame Movies estão corretos\n"
          ],
          "name": "stdout"
        }
      ]
    },
    {
      "cell_type": "code",
      "metadata": {
        "id": "cd56d6ea-104b-4311-b712-4b2a01208478",
        "colab": {
          "base_uri": "https://localhost:8080/"
        },
        "outputId": "55005f1b-56a4-472a-fc6a-83673a8365fb"
      },
      "source": [
        "movies_df.info()"
      ],
      "id": "cd56d6ea-104b-4311-b712-4b2a01208478",
      "execution_count": 89,
      "outputs": [
        {
          "output_type": "stream",
          "text": [
            "<class 'pandas.core.frame.DataFrame'>\n",
            "RangeIndex: 9742 entries, 0 to 9741\n",
            "Data columns (total 3 columns):\n",
            " #   Column   Non-Null Count  Dtype \n",
            "---  ------   --------------  ----- \n",
            " 0   movieId  9742 non-null   int64 \n",
            " 1   title    9742 non-null   object\n",
            " 2   genres   9742 non-null   object\n",
            "dtypes: int64(1), object(2)\n",
            "memory usage: 228.5+ KB\n"
          ],
          "name": "stdout"
        }
      ]
    },
    {
      "cell_type": "markdown",
      "metadata": {
        "id": "2737715a-642f-49ba-8f01-25e917209805"
      },
      "source": [
        "Não há nenhum valor nulo para nenhuma das colunas do DataFrame\n",
        "\n",
        "O tipo de todas as colunas é condizente com o que esperamos:\n",
        "- **movieId** é *inteiros*, como esperado para Ids\n",
        "- **title** é *object*, conforme esperado, pois os títulos são *strings*\n",
        "- **genres** é *object*, conforme esperado, pois os gêneros são *strings*"
      ],
      "id": "2737715a-642f-49ba-8f01-25e917209805"
    },
    {
      "cell_type": "markdown",
      "metadata": {
        "id": "c14df620-3b9f-4212-b393-49125b726f45"
      },
      "source": [
        "##### movieId"
      ],
      "id": "c14df620-3b9f-4212-b393-49125b726f45"
    },
    {
      "cell_type": "code",
      "metadata": {
        "id": "e1fce018-7b6e-42af-b281-4ffac97eee27",
        "colab": {
          "base_uri": "https://localhost:8080/"
        },
        "outputId": "64bcc980-0040-49d4-a702-a49b69288f9a"
      },
      "source": [
        "# Verificação quantidade de filmes\n",
        "filmes_esperados = 9742\n",
        "\n",
        "num_filmes = len(movies_df.movieId.unique())\n",
        "\n",
        "assert num_filmes == filmes_esperados, 'Número de filmes não condiz com o esperado'\n",
        "\n",
        "print(f'Número de filmes `{num_filmes}` no DataFrame está correto de acordo com a especificação')"
      ],
      "id": "e1fce018-7b6e-42af-b281-4ffac97eee27",
      "execution_count": 90,
      "outputs": [
        {
          "output_type": "stream",
          "text": [
            "Número de filmes `9742` no DataFrame está correto de acordo com a especificação\n"
          ],
          "name": "stdout"
        }
      ]
    },
    {
      "cell_type": "markdown",
      "metadata": {
        "id": "04222ad9-14ce-40da-93a9-d30c758b47f8"
      },
      "source": [
        "##### title"
      ],
      "id": "04222ad9-14ce-40da-93a9-d30c758b47f8"
    },
    {
      "cell_type": "code",
      "metadata": {
        "id": "86b7e18d-21a5-41d3-a439-db8ed7142a41",
        "colab": {
          "base_uri": "https://localhost:8080/"
        },
        "outputId": "c5c69f53-1996-4e9b-ff28-e5b9cf6345db"
      },
      "source": [
        "# Verificação dos títulos\n",
        "# Como títulos são strings, vamos verificar apenas se possuem alguma repetição ou valor vazio\n",
        "\n",
        "duplicados = movies_df[movies_df.title.duplicated()]\n",
        "vazios = movies_df[movies_df.title == '']\n",
        "\n",
        "print(f'Existe `{len(duplicados)}` filmes com títulos duplicados. E `{len(vazios)}` com título vazio')"
      ],
      "id": "86b7e18d-21a5-41d3-a439-db8ed7142a41",
      "execution_count": 91,
      "outputs": [
        {
          "output_type": "stream",
          "text": [
            "Existe `5` filmes com títulos duplicados. E `0` com título vazio\n"
          ],
          "name": "stdout"
        }
      ]
    },
    {
      "cell_type": "markdown",
      "metadata": {
        "id": "94b0cb36-5ac7-4a35-aee3-b04d7da03209"
      },
      "source": [
        "##### genres"
      ],
      "id": "94b0cb36-5ac7-4a35-aee3-b04d7da03209"
    },
    {
      "cell_type": "code",
      "metadata": {
        "id": "bd1ed884-6373-4904-9e12-db6639d5c99d",
        "colab": {
          "base_uri": "https://localhost:8080/"
        },
        "outputId": "5d05ed17-a01f-4f0c-ccb6-8acc04313bb9"
      },
      "source": [
        "generos_esperados = [\n",
        "    \"Action\", \"Adventure\", \"Animation\", \"Children's\", \"Comedy\", \"Crime\", \"Documentary\", \"Drama\", \"Fantasy\", \"Film-Noir\",\n",
        "    \"Horror\", \"Musical\", \"Mystery\", \"Romance\", \"Sci-Fi\", \"Thriller\", \"War\", \"Western\", \"(no genres listed)\"\n",
        "]\n",
        "\n",
        "# Separa o campo genres em uma lista de gêneros\n",
        "lista_generos = movies_df.genres.str.split(\"|\")\n",
        "\n",
        "# Transforma a lista de listas de gêneros em uma só Series com todos os valores\n",
        "# https://towardsdatascience.com/dealing-with-list-values-in-pandas-dataframes-a177e534f173\n",
        "todos_generos = pd.Series([x for _list in lista_generos for x in _list])\n",
        "\n",
        "# Vamos verificar se os gêneros no nosso dataset estão todos dentro da lista esperada\n",
        "try:\n",
        "    assert set(todos_generos.unique()).issubset(generos_esperados), 'Existe gêneros que não são esperados'\n",
        "except Exception as e:\n",
        "    print(type(e), e)\n",
        "    \n",
        "# Quais gêneros não são esperados?\n",
        "print('Gêneros no dataset diferentes do esperado:', np.setdiff1d(todos_generos,generos_esperados))"
      ],
      "id": "bd1ed884-6373-4904-9e12-db6639d5c99d",
      "execution_count": 92,
      "outputs": [
        {
          "output_type": "stream",
          "text": [
            "<class 'AssertionError'> Existe gêneros que não são esperados\n",
            "Gêneros no dataset diferentes do esperado: ['Children' 'IMAX']\n"
          ],
          "name": "stdout"
        }
      ]
    },
    {
      "cell_type": "markdown",
      "metadata": {
        "id": "42d86090-81b9-4f91-b3f3-edf3ec143c41"
      },
      "source": [
        "Existem dois gêneros presentes no *dataset* que não são esperados, de acordo com a especificação: **Children** e **IMAX**\n",
        "\n",
        "No caso de **Children**, parece que houve um erro na especificação do *dataset*. Vamos sustituir o valor esperado de **Children's** para **Children**"
      ],
      "id": "42d86090-81b9-4f91-b3f3-edf3ec143c41"
    },
    {
      "cell_type": "code",
      "metadata": {
        "id": "076c828b-5b80-4d11-b051-4b340d187b64",
        "colab": {
          "base_uri": "https://localhost:8080/"
        },
        "outputId": "4a78e28c-a81e-4751-df28-336c875376ee"
      },
      "source": [
        "try:\n",
        "    generos_esperados[generos_esperados.index(\"Children's\")] = \"Children\"\n",
        "except:\n",
        "    print(\"Children's já foi substituido. Continuando...\")\n",
        "    \n",
        "print('Gêneros no dataset diferentes do esperado:', np.setdiff1d(todos_generos,generos_esperados))"
      ],
      "id": "076c828b-5b80-4d11-b051-4b340d187b64",
      "execution_count": 93,
      "outputs": [
        {
          "output_type": "stream",
          "text": [
            "Gêneros no dataset diferentes do esperado: ['IMAX']\n"
          ],
          "name": "stdout"
        }
      ]
    },
    {
      "cell_type": "markdown",
      "metadata": {
        "id": "48511d97-0669-4412-95f5-0cdf70136534"
      },
      "source": [
        "Agora só temos o gênero **IMAX** que não está especificiado.\n",
        "\n",
        "Vamos ver quantas vezes ele ocorre"
      ],
      "id": "48511d97-0669-4412-95f5-0cdf70136534"
    },
    {
      "cell_type": "code",
      "metadata": {
        "id": "23b32b8a-d5d8-489b-82b1-75ed26ad27ba",
        "colab": {
          "base_uri": "https://localhost:8080/"
        },
        "outputId": "782f17c1-c137-4544-8290-34e43d569c14"
      },
      "source": [
        "(todos_generos == 'IMAX').sum()"
      ],
      "id": "23b32b8a-d5d8-489b-82b1-75ed26ad27ba",
      "execution_count": 94,
      "outputs": [
        {
          "output_type": "execute_result",
          "data": {
            "text/plain": [
              "158"
            ]
          },
          "metadata": {
            "tags": []
          },
          "execution_count": 94
        }
      ]
    },
    {
      "cell_type": "markdown",
      "metadata": {
        "id": "8621267c-f894-42c0-90fb-eba4fcec1b28"
      },
      "source": [
        "#### Links"
      ],
      "id": "8621267c-f894-42c0-90fb-eba4fcec1b28"
    },
    {
      "cell_type": "markdown",
      "metadata": {
        "id": "7c0de274-4147-47e1-b26e-c02c51c1de32"
      },
      "source": [
        "Os atributos deste dataset não nos parece necessário para as análises desejadas. Desta forma, iremos desconsiderá-lo a partir de agora"
      ],
      "id": "7c0de274-4147-47e1-b26e-c02c51c1de32"
    },
    {
      "cell_type": "markdown",
      "metadata": {
        "id": "9b073f6a-93d9-4032-b418-ac2449609c2b"
      },
      "source": [
        "#### *userId* em `ratings` e `tags`"
      ],
      "id": "9b073f6a-93d9-4032-b418-ac2449609c2b"
    },
    {
      "cell_type": "code",
      "metadata": {
        "id": "03dfba32-9136-48e6-9e88-f4aed0d3eda1",
        "colab": {
          "base_uri": "https://localhost:8080/"
        },
        "outputId": "fd38e19b-426e-49b0-afc3-119f8615d110"
      },
      "source": [
        "# Verificar se os usuários de tags são um subconjunto dos usuários de ratings,\n",
        "# uma vez que este possui a lista completa de usuários\n",
        "\n",
        "usuarios_ratings = ratings_df.userId.unique()\n",
        "usuarios_tags = tags_df.userId.unique()\n",
        "\n",
        "assert set(usuarios_tags).issubset(set(usuarios_ratings)), 'Existem usuários em `tags` que não estão presentes em `ratings`'\n",
        "\n",
        "print(f'Os {len(usuarios_tags)} usuários em `tags` são um subconjunto dos {len(usuarios_ratings)} usuários em `ratings`')"
      ],
      "id": "03dfba32-9136-48e6-9e88-f4aed0d3eda1",
      "execution_count": 95,
      "outputs": [
        {
          "output_type": "stream",
          "text": [
            "Os 58 usuários em `tags` são um subconjunto dos 610 usuários em `ratings`\n"
          ],
          "name": "stdout"
        }
      ]
    },
    {
      "cell_type": "markdown",
      "metadata": {
        "id": "12cebfe1-cf2b-484e-b0ac-98aa22ffb18d"
      },
      "source": [
        "#### *movieId* em `ratings`, `tags` e `movies`"
      ],
      "id": "12cebfe1-cf2b-484e-b0ac-98aa22ffb18d"
    },
    {
      "cell_type": "code",
      "metadata": {
        "id": "6d93f04b-7b76-40cd-9586-653f7a915885",
        "colab": {
          "base_uri": "https://localhost:8080/"
        },
        "outputId": "cd45da93-c501-49df-f05d-bf902095cee3"
      },
      "source": [
        "# Verificar se os Ids de filmes em ratings e tags são um subconjunto dos filmes em movies\n",
        "\n",
        "filmes_ratings = ratings_df.movieId.unique()\n",
        "filmes_tags = tags_df.movieId.unique()\n",
        "filmes_movies = movies_df.movieId.unique()\n",
        "\n",
        "assert set(filmes_ratings).issubset(set(filmes_movies)), 'Existem filmes em `ratings` que não estão presentes em `movies`'\n",
        "assert set(filmes_tags).issubset(set(filmes_movies)), 'Existem filmes em `tags` que não estão presentes em `movies`'\n",
        "\n",
        "print(f'Os {len(filmes_ratings)} filmes em `ratings` e os {len(filmes_tags)} em `tags` são um subconjunto dos {len(filmes_movies)} filmes do DataFrame `movies`')"
      ],
      "id": "6d93f04b-7b76-40cd-9586-653f7a915885",
      "execution_count": 96,
      "outputs": [
        {
          "output_type": "stream",
          "text": [
            "Os 9724 filmes em `ratings` e os 1572 em `tags` são um subconjunto dos 9742 filmes do DataFrame `movies`\n"
          ],
          "name": "stdout"
        }
      ]
    },
    {
      "cell_type": "code",
      "metadata": {
        "id": "a3cb7245-c436-4615-a052-056b230d3700",
        "colab": {
          "base_uri": "https://localhost:8080/"
        },
        "outputId": "44504d5f-28bb-4f70-b8b4-c15c87abdee9"
      },
      "source": [
        "# Verificar se todos os filmes em movies receberam ao menos uma avaliação ou rótulo\n",
        "\n",
        "assert set(np.concatenate((filmes_ratings, filmes_tags))) == set(movies_df.movieId), 'Conjunto de movieId nos DataFrames `ratings` e `tags` difere dos Ids no DataFrame `movies`'\n",
        "\n",
        "print('O conjunto de movieId nos DataFrames `ratings` e `tags` é o mesmo dos filmes no DataFrame `movies`')"
      ],
      "id": "a3cb7245-c436-4615-a052-056b230d3700",
      "execution_count": 97,
      "outputs": [
        {
          "output_type": "stream",
          "text": [
            "O conjunto de movieId nos DataFrames `ratings` e `tags` é o mesmo dos filmes no DataFrame `movies`\n"
          ],
          "name": "stdout"
        }
      ]
    },
    {
      "cell_type": "markdown",
      "metadata": {
        "id": "1d10741e-349a-4374-b6c1-c58c7728fdf7"
      },
      "source": [
        "#### Avaliações e rótulos duplicados de um mesmo filme por determinado usuário"
      ],
      "id": "1d10741e-349a-4374-b6c1-c58c7728fdf7"
    },
    {
      "cell_type": "code",
      "metadata": {
        "id": "648d441b-b021-4ec9-ae4a-45d65ea17a63",
        "colab": {
          "base_uri": "https://localhost:8080/"
        },
        "outputId": "abfed1e7-012d-462f-bdc9-e4e2ae92617f"
      },
      "source": [
        "# Um mesmo usuário realizou mais de uma avaliação de um determinado filme?\n",
        "avaliacoes_duplicadas = ratings_df[ratings_df.duplicated(subset=['userId', 'movieId'])]\n",
        "\n",
        "# Um mesmo usuário atribuiu um determinado rótulo mais de uma vez para um determinado filme?\n",
        "rotulos_duplicados = tags_df[tags_df.duplicated(subset=['userId', 'movieId', 'tag'])]\n",
        "\n",
        "assert len(avaliacoes_duplicadas) == 0, 'Existem avaliações duplicadas'\n",
        "assert len(rotulos_duplicados) == 0, 'Existem rótulos duplicados'\n",
        "\n",
        "print('Nenhuma avaliação ou rótulo duplicado no dataset')"
      ],
      "id": "648d441b-b021-4ec9-ae4a-45d65ea17a63",
      "execution_count": 98,
      "outputs": [
        {
          "output_type": "stream",
          "text": [
            "Nenhuma avaliação ou rótulo duplicado no dataset\n"
          ],
          "name": "stdout"
        }
      ]
    },
    {
      "cell_type": "markdown",
      "metadata": {
        "id": "aedd8fb6-639f-4974-9ae3-e9a4382dab0f"
      },
      "source": [
        "# Pré-processamento"
      ],
      "id": "aedd8fb6-639f-4974-9ae3-e9a4382dab0f"
    },
    {
      "cell_type": "markdown",
      "metadata": {
        "id": "46224d31-51ab-411b-9a44-3bd4b1ff0cb0"
      },
      "source": [
        "## Rótulos com muitas palavras"
      ],
      "id": "46224d31-51ab-411b-9a44-3bd4b1ff0cb0"
    },
    {
      "cell_type": "code",
      "metadata": {
        "colab": {
          "base_uri": "https://localhost:8080/",
          "height": 0
        },
        "id": "Q4caiOfpdy6I",
        "outputId": "db85de22-285c-447b-bf64-1f0ec6e05022"
      },
      "source": [
        "tags_df[lista_palavras.apply(len) > 4]"
      ],
      "id": "Q4caiOfpdy6I",
      "execution_count": 334,
      "outputs": [
        {
          "output_type": "execute_result",
          "data": {
            "text/html": [
              "<div>\n",
              "<style scoped>\n",
              "    .dataframe tbody tr th:only-of-type {\n",
              "        vertical-align: middle;\n",
              "    }\n",
              "\n",
              "    .dataframe tbody tr th {\n",
              "        vertical-align: top;\n",
              "    }\n",
              "\n",
              "    .dataframe thead th {\n",
              "        text-align: right;\n",
              "    }\n",
              "</style>\n",
              "<table border=\"1\" class=\"dataframe\">\n",
              "  <thead>\n",
              "    <tr style=\"text-align: right;\">\n",
              "      <th></th>\n",
              "      <th>userId</th>\n",
              "      <th>movieId</th>\n",
              "      <th>tag</th>\n",
              "      <th>timestamp</th>\n",
              "    </tr>\n",
              "  </thead>\n",
              "  <tbody>\n",
              "    <tr>\n",
              "      <th>412</th>\n",
              "      <td>106</td>\n",
              "      <td>4896</td>\n",
              "      <td>Everything you want is here</td>\n",
              "      <td>1467566944</td>\n",
              "    </tr>\n",
              "    <tr>\n",
              "      <th>485</th>\n",
              "      <td>161</td>\n",
              "      <td>52287</td>\n",
              "      <td>Something for everyone in this one... saw it w...</td>\n",
              "      <td>1176498861</td>\n",
              "    </tr>\n",
              "    <tr>\n",
              "      <th>587</th>\n",
              "      <td>318</td>\n",
              "      <td>48698</td>\n",
              "      <td>the catholic church is the most corrupt organi...</td>\n",
              "      <td>1276006189</td>\n",
              "    </tr>\n",
              "    <tr>\n",
              "      <th>621</th>\n",
              "      <td>319</td>\n",
              "      <td>364</td>\n",
              "      <td>Oscar (Best Music - Original Score)</td>\n",
              "      <td>1461351919</td>\n",
              "    </tr>\n",
              "    <tr>\n",
              "      <th>739</th>\n",
              "      <td>424</td>\n",
              "      <td>608</td>\n",
              "      <td>based on a true story</td>\n",
              "      <td>1457900882</td>\n",
              "    </tr>\n",
              "    <tr>\n",
              "      <th>840</th>\n",
              "      <td>424</td>\n",
              "      <td>3186</td>\n",
              "      <td>based on a true story</td>\n",
              "      <td>1457846002</td>\n",
              "    </tr>\n",
              "    <tr>\n",
              "      <th>1112</th>\n",
              "      <td>474</td>\n",
              "      <td>457</td>\n",
              "      <td>based on a TV show</td>\n",
              "      <td>1137784717</td>\n",
              "    </tr>\n",
              "    <tr>\n",
              "      <th>1164</th>\n",
              "      <td>474</td>\n",
              "      <td>648</td>\n",
              "      <td>based on a TV show</td>\n",
              "      <td>1138137584</td>\n",
              "    </tr>\n",
              "    <tr>\n",
              "      <th>1181</th>\n",
              "      <td>474</td>\n",
              "      <td>818</td>\n",
              "      <td>based on a TV show</td>\n",
              "      <td>1137375996</td>\n",
              "    </tr>\n",
              "    <tr>\n",
              "      <th>1201</th>\n",
              "      <td>474</td>\n",
              "      <td>912</td>\n",
              "      <td>start of a beautiful friendship</td>\n",
              "      <td>1137202319</td>\n",
              "    </tr>\n",
              "    <tr>\n",
              "      <th>1204</th>\n",
              "      <td>474</td>\n",
              "      <td>915</td>\n",
              "      <td>rich guy - poor girl</td>\n",
              "      <td>1137206449</td>\n",
              "    </tr>\n",
              "    <tr>\n",
              "      <th>1699</th>\n",
              "      <td>474</td>\n",
              "      <td>2919</td>\n",
              "      <td>Academy award (Best Supporting Actress)</td>\n",
              "      <td>1137367916</td>\n",
              "    </tr>\n",
              "    <tr>\n",
              "      <th>1759</th>\n",
              "      <td>474</td>\n",
              "      <td>3211</td>\n",
              "      <td>a dingo ate my baby</td>\n",
              "      <td>1137191854</td>\n",
              "    </tr>\n",
              "    <tr>\n",
              "      <th>1868</th>\n",
              "      <td>474</td>\n",
              "      <td>4034</td>\n",
              "      <td>based on a TV show</td>\n",
              "      <td>1137784729</td>\n",
              "    </tr>\n",
              "    <tr>\n",
              "      <th>2433</th>\n",
              "      <td>474</td>\n",
              "      <td>31658</td>\n",
              "      <td>06 Oscar Nominated Best Movie - Animation</td>\n",
              "      <td>1145451856</td>\n",
              "    </tr>\n",
              "    <tr>\n",
              "      <th>2465</th>\n",
              "      <td>474</td>\n",
              "      <td>37729</td>\n",
              "      <td>06 Oscar Nominated Best Movie - Animation</td>\n",
              "      <td>1139059938</td>\n",
              "    </tr>\n",
              "    <tr>\n",
              "      <th>2469</th>\n",
              "      <td>474</td>\n",
              "      <td>38038</td>\n",
              "      <td>06 Oscar Nominated Best Movie - Animation</td>\n",
              "      <td>1139664190</td>\n",
              "    </tr>\n",
              "    <tr>\n",
              "      <th>2496</th>\n",
              "      <td>477</td>\n",
              "      <td>34</td>\n",
              "      <td>villain nonexistent or not needed for good story</td>\n",
              "      <td>1244787845</td>\n",
              "    </tr>\n",
              "    <tr>\n",
              "      <th>2499</th>\n",
              "      <td>477</td>\n",
              "      <td>216</td>\n",
              "      <td>stop looking at me swan</td>\n",
              "      <td>1244787726</td>\n",
              "    </tr>\n",
              "    <tr>\n",
              "      <th>2519</th>\n",
              "      <td>477</td>\n",
              "      <td>832</td>\n",
              "      <td>GIVE ME BACK MY SON!</td>\n",
              "      <td>1269832636</td>\n",
              "    </tr>\n",
              "    <tr>\n",
              "      <th>2520</th>\n",
              "      <td>477</td>\n",
              "      <td>832</td>\n",
              "      <td>It was melodramatic and kind of dumb</td>\n",
              "      <td>1269832633</td>\n",
              "    </tr>\n",
              "    <tr>\n",
              "      <th>2734</th>\n",
              "      <td>477</td>\n",
              "      <td>69526</td>\n",
              "      <td>stop using useless characters for filler</td>\n",
              "      <td>1246346159</td>\n",
              "    </tr>\n",
              "    <tr>\n",
              "      <th>2784</th>\n",
              "      <td>533</td>\n",
              "      <td>356</td>\n",
              "      <td>stupid is as stupid does</td>\n",
              "      <td>1424753866</td>\n",
              "    </tr>\n",
              "    <tr>\n",
              "      <th>2785</th>\n",
              "      <td>537</td>\n",
              "      <td>527</td>\n",
              "      <td>based on a true story</td>\n",
              "      <td>1424142072</td>\n",
              "    </tr>\n",
              "    <tr>\n",
              "      <th>3515</th>\n",
              "      <td>599</td>\n",
              "      <td>296</td>\n",
              "      <td>r:disturbing violent content including rape</td>\n",
              "      <td>1498456502</td>\n",
              "    </tr>\n",
              "    <tr>\n",
              "      <th>3572</th>\n",
              "      <td>599</td>\n",
              "      <td>924</td>\n",
              "      <td>Oscar (Best Effects - Visual Effects)</td>\n",
              "      <td>1498456791</td>\n",
              "    </tr>\n",
              "  </tbody>\n",
              "</table>\n",
              "</div>"
            ],
            "text/plain": [
              "      userId  ...   timestamp\n",
              "412      106  ...  1467566944\n",
              "485      161  ...  1176498861\n",
              "587      318  ...  1276006189\n",
              "621      319  ...  1461351919\n",
              "739      424  ...  1457900882\n",
              "840      424  ...  1457846002\n",
              "1112     474  ...  1137784717\n",
              "1164     474  ...  1138137584\n",
              "1181     474  ...  1137375996\n",
              "1201     474  ...  1137202319\n",
              "1204     474  ...  1137206449\n",
              "1699     474  ...  1137367916\n",
              "1759     474  ...  1137191854\n",
              "1868     474  ...  1137784729\n",
              "2433     474  ...  1145451856\n",
              "2465     474  ...  1139059938\n",
              "2469     474  ...  1139664190\n",
              "2496     477  ...  1244787845\n",
              "2499     477  ...  1244787726\n",
              "2519     477  ...  1269832636\n",
              "2520     477  ...  1269832633\n",
              "2734     477  ...  1246346159\n",
              "2784     533  ...  1424753866\n",
              "2785     537  ...  1424142072\n",
              "3515     599  ...  1498456502\n",
              "3572     599  ...  1498456791\n",
              "\n",
              "[26 rows x 4 columns]"
            ]
          },
          "metadata": {
            "tags": []
          },
          "execution_count": 334
        }
      ]
    },
    {
      "cell_type": "markdown",
      "metadata": {
        "id": "yzwR5eK5nMIe"
      },
      "source": [
        "As tags com mais de 4 palavras serão mantidas para análise\n",
        "\n"
      ],
      "id": "yzwR5eK5nMIe"
    },
    {
      "cell_type": "markdown",
      "metadata": {
        "id": "4c5f76c9-a7d0-4fd8-81ee-8fe261d5e701"
      },
      "source": [
        "## Títulos duplicados"
      ],
      "id": "4c5f76c9-a7d0-4fd8-81ee-8fe261d5e701"
    },
    {
      "cell_type": "code",
      "metadata": {
        "colab": {
          "base_uri": "https://localhost:8080/",
          "height": 0
        },
        "id": "Ulz_KnJIe7jX",
        "outputId": "a9126c89-4d24-4258-ba73-4890ef7a3e1a"
      },
      "source": [
        "# Nome dos filmes repetidos\n",
        "title_filmes_duplicados = duplicados['title']\n",
        "\n",
        "# Df com as informações dos filmes repetidos com os dados do \"movies_df\"\n",
        "lista_filmes_duplicados = movies_df.query('title in @title_filmes_duplicados')\n",
        "\n",
        "# Id dos filmes repetidos\n",
        "movieId_filmes_duplicados = lista_filmes_duplicados['movieId'].values\n",
        "\n",
        "# Quantidade de Notas atribuidas aos movieId com dados do \"ratings_df\"\n",
        "lista_filmes_duplicados.set_index('movieId', inplace = True)\n",
        "lista_filmes_duplicados['Ratings_count'] = ratings_df.query('movieId in @movieId_filmes_duplicados').movieId.value_counts()\n",
        "lista_filmes_duplicados.sort_values(by =['title'])"
      ],
      "id": "Ulz_KnJIe7jX",
      "execution_count": 335,
      "outputs": [
        {
          "output_type": "stream",
          "text": [
            "/usr/local/lib/python3.7/dist-packages/ipykernel_launcher.py:12: SettingWithCopyWarning: \n",
            "A value is trying to be set on a copy of a slice from a DataFrame.\n",
            "Try using .loc[row_indexer,col_indexer] = value instead\n",
            "\n",
            "See the caveats in the documentation: https://pandas.pydata.org/pandas-docs/stable/user_guide/indexing.html#returning-a-view-versus-a-copy\n",
            "  if sys.path[0] == '':\n"
          ],
          "name": "stderr"
        },
        {
          "output_type": "execute_result",
          "data": {
            "text/html": [
              "<div>\n",
              "<style scoped>\n",
              "    .dataframe tbody tr th:only-of-type {\n",
              "        vertical-align: middle;\n",
              "    }\n",
              "\n",
              "    .dataframe tbody tr th {\n",
              "        vertical-align: top;\n",
              "    }\n",
              "\n",
              "    .dataframe thead th {\n",
              "        text-align: right;\n",
              "    }\n",
              "</style>\n",
              "<table border=\"1\" class=\"dataframe\">\n",
              "  <thead>\n",
              "    <tr style=\"text-align: right;\">\n",
              "      <th></th>\n",
              "      <th>title</th>\n",
              "      <th>genres</th>\n",
              "      <th>Ratings_count</th>\n",
              "    </tr>\n",
              "    <tr>\n",
              "      <th>movieId</th>\n",
              "      <th></th>\n",
              "      <th></th>\n",
              "      <th></th>\n",
              "    </tr>\n",
              "  </thead>\n",
              "  <tbody>\n",
              "    <tr>\n",
              "      <th>6003</th>\n",
              "      <td>Confessions of a Dangerous Mind (2002)</td>\n",
              "      <td>Comedy|Crime|Drama|Thriller</td>\n",
              "      <td>16</td>\n",
              "    </tr>\n",
              "    <tr>\n",
              "      <th>838</th>\n",
              "      <td>Emma (1996)</td>\n",
              "      <td>Comedy|Drama|Romance</td>\n",
              "      <td>31</td>\n",
              "    </tr>\n",
              "    <tr>\n",
              "      <th>32600</th>\n",
              "      <td>Eros (2004)</td>\n",
              "      <td>Drama</td>\n",
              "      <td>2</td>\n",
              "    </tr>\n",
              "    <tr>\n",
              "      <th>2851</th>\n",
              "      <td>Saturn 3 (1980)</td>\n",
              "      <td>Adventure|Sci-Fi|Thriller</td>\n",
              "      <td>5</td>\n",
              "    </tr>\n",
              "    <tr>\n",
              "      <th>34048</th>\n",
              "      <td>War of the Worlds (2005)</td>\n",
              "      <td>Action|Adventure|Sci-Fi|Thriller</td>\n",
              "      <td>52</td>\n",
              "    </tr>\n",
              "  </tbody>\n",
              "</table>\n",
              "</div>"
            ],
            "text/plain": [
              "                                          title  ... Ratings_count\n",
              "movieId                                          ...              \n",
              "6003     Confessions of a Dangerous Mind (2002)  ...            16\n",
              "838                                 Emma (1996)  ...            31\n",
              "32600                               Eros (2004)  ...             2\n",
              "2851                            Saturn 3 (1980)  ...             5\n",
              "34048                  War of the Worlds (2005)  ...            52\n",
              "\n",
              "[5 rows x 3 columns]"
            ]
          },
          "metadata": {
            "tags": []
          },
          "execution_count": 335
        }
      ]
    },
    {
      "cell_type": "markdown",
      "metadata": {
        "id": "cFPgpYfH5J-s"
      },
      "source": [
        "Para evitar problemas de separação de dados, os ID's serão unificados conforme relação abaixo\n",
        "\n",
        "> Confessions of a Dangerous Mind (2002) - movieId: 6003 (old: 144606)\n",
        "\n",
        "> Emma (1996) - movieId: 838 (old: 26958)\n",
        "\n",
        "> Eros (2004) - movieId: 32600 (old: 147002)\n",
        "\n",
        "> Saturn 3 (1980)\t- movieId: 2851 (old: 168358)\n",
        "\n",
        "> War of the Worlds (2005) - movieId: 34048 (old:64997)"
      ],
      "id": "cFPgpYfH5J-s"
    },
    {
      "cell_type": "code",
      "metadata": {
        "id": "sFOGnSX55IVt",
        "colab": {
          "base_uri": "https://localhost:8080/"
        },
        "outputId": "e90a64dc-c58b-48db-e5ec-2e5ce2328e61"
      },
      "source": [
        "# Lista movieId Excluidos\n",
        "movie_id_excluidos = [144606, 26958, 147002, 168358, 64997]\n",
        "\n",
        "# Função de conversão\n",
        "def conversao_movieId(num):\n",
        "  if num == 144606:\n",
        "    return 6003\n",
        "  elif num == 26958:\n",
        "    return 838\n",
        "  elif num == 147002:\n",
        "    return 32600\n",
        "  elif num == 168358:\n",
        "    return 2851\n",
        "  elif num == 64997:\n",
        "    return 34048\n",
        "  else:\n",
        "    return num\n",
        "\n",
        "# Deletar id duplicados - movies_df\n",
        "movies_df.drop((movies_df.query('movieId in @movie_id_excluidos').index), inplace = True, axis = 0)\n",
        "duplicados_movies = len(movies_df[movies_df.title.duplicated()])\n",
        "\n",
        "# Conversão de id - ratings_df\n",
        "ratings_df['movieId'] = ratings_df['movieId'].map(conversao_movieId)\n",
        "duplicados_ratings = len(ratings_df.query('movieId in @movie_id_excluidos'))\n",
        "\n",
        "# Conversão tags_df\n",
        "tags_df['movieId'] = tags_df['movieId'].map(conversao_movieId)\n",
        "duplicados_tags = len(ratings_df.query('movieId in @movie_id_excluidos'))\n",
        "\n",
        "# Verificação dos movie_id excluidos\n",
        "print(f'Exitem {duplicados_movies} filmes com o movieId excluido no movies_df')\n",
        "print(f'Exitem {duplicados_ratings} filmes com o movieId excluido no ratings_df')\n",
        "print(f'Exitem {duplicados_tags} filmes com o movieId excluido no tags_df')"
      ],
      "id": "sFOGnSX55IVt",
      "execution_count": 336,
      "outputs": [
        {
          "output_type": "stream",
          "text": [
            "Exitem 0 filmes com o movieId excluido no movies_df\n",
            "Exitem 0 filmes com o movieId excluido no ratings_df\n",
            "Exitem 0 filmes com o movieId excluido no tags_df\n"
          ],
          "name": "stdout"
        }
      ]
    },
    {
      "cell_type": "markdown",
      "metadata": {
        "id": "445061e5-93d3-4e90-89c9-cb46abdb3763"
      },
      "source": [
        "## Gêneros não especificados\n",
        "### IMAX"
      ],
      "id": "445061e5-93d3-4e90-89c9-cb46abdb3763"
    },
    {
      "cell_type": "code",
      "metadata": {
        "colab": {
          "base_uri": "https://localhost:8080/",
          "height": 0
        },
        "id": "_L2ylV2fkkX2",
        "outputId": "cedbfa5e-0f62-4b15-d282-3349f08cef95"
      },
      "source": [
        "# Separar os generos por colunas\n",
        "generos = movies_df['genres'].str.get_dummies()\n",
        "\n",
        "# Juntar informações do movies_df com os generos separados por coluna\n",
        "movies_df_generos = pd.concat([movies_df, generos], axis = 1)\n",
        "movies_df_generos.drop('genres',axis =1, inplace = True)\n",
        "\n",
        "print(f'Quantidade de filmes com genero IMAX: {movies_df_generos.query(\"IMAX == 1\").shape[0]}\\n\\n')\n",
        "movies_df_generos.head()"
      ],
      "id": "_L2ylV2fkkX2",
      "execution_count": 337,
      "outputs": [
        {
          "output_type": "stream",
          "text": [
            "Quantidade de filmes com genero IMAX: 158\n",
            "\n",
            "\n"
          ],
          "name": "stdout"
        },
        {
          "output_type": "execute_result",
          "data": {
            "text/html": [
              "<div>\n",
              "<style scoped>\n",
              "    .dataframe tbody tr th:only-of-type {\n",
              "        vertical-align: middle;\n",
              "    }\n",
              "\n",
              "    .dataframe tbody tr th {\n",
              "        vertical-align: top;\n",
              "    }\n",
              "\n",
              "    .dataframe thead th {\n",
              "        text-align: right;\n",
              "    }\n",
              "</style>\n",
              "<table border=\"1\" class=\"dataframe\">\n",
              "  <thead>\n",
              "    <tr style=\"text-align: right;\">\n",
              "      <th></th>\n",
              "      <th>movieId</th>\n",
              "      <th>title</th>\n",
              "      <th>(no genres listed)</th>\n",
              "      <th>Action</th>\n",
              "      <th>Adventure</th>\n",
              "      <th>Animation</th>\n",
              "      <th>Children</th>\n",
              "      <th>Comedy</th>\n",
              "      <th>Crime</th>\n",
              "      <th>Documentary</th>\n",
              "      <th>Drama</th>\n",
              "      <th>Fantasy</th>\n",
              "      <th>Film-Noir</th>\n",
              "      <th>Horror</th>\n",
              "      <th>IMAX</th>\n",
              "      <th>Musical</th>\n",
              "      <th>Mystery</th>\n",
              "      <th>Romance</th>\n",
              "      <th>Sci-Fi</th>\n",
              "      <th>Thriller</th>\n",
              "      <th>War</th>\n",
              "      <th>Western</th>\n",
              "    </tr>\n",
              "  </thead>\n",
              "  <tbody>\n",
              "    <tr>\n",
              "      <th>0</th>\n",
              "      <td>1</td>\n",
              "      <td>Toy Story (1995)</td>\n",
              "      <td>0</td>\n",
              "      <td>0</td>\n",
              "      <td>1</td>\n",
              "      <td>1</td>\n",
              "      <td>1</td>\n",
              "      <td>1</td>\n",
              "      <td>0</td>\n",
              "      <td>0</td>\n",
              "      <td>0</td>\n",
              "      <td>1</td>\n",
              "      <td>0</td>\n",
              "      <td>0</td>\n",
              "      <td>0</td>\n",
              "      <td>0</td>\n",
              "      <td>0</td>\n",
              "      <td>0</td>\n",
              "      <td>0</td>\n",
              "      <td>0</td>\n",
              "      <td>0</td>\n",
              "      <td>0</td>\n",
              "    </tr>\n",
              "    <tr>\n",
              "      <th>1</th>\n",
              "      <td>2</td>\n",
              "      <td>Jumanji (1995)</td>\n",
              "      <td>0</td>\n",
              "      <td>0</td>\n",
              "      <td>1</td>\n",
              "      <td>0</td>\n",
              "      <td>1</td>\n",
              "      <td>0</td>\n",
              "      <td>0</td>\n",
              "      <td>0</td>\n",
              "      <td>0</td>\n",
              "      <td>1</td>\n",
              "      <td>0</td>\n",
              "      <td>0</td>\n",
              "      <td>0</td>\n",
              "      <td>0</td>\n",
              "      <td>0</td>\n",
              "      <td>0</td>\n",
              "      <td>0</td>\n",
              "      <td>0</td>\n",
              "      <td>0</td>\n",
              "      <td>0</td>\n",
              "    </tr>\n",
              "    <tr>\n",
              "      <th>2</th>\n",
              "      <td>3</td>\n",
              "      <td>Grumpier Old Men (1995)</td>\n",
              "      <td>0</td>\n",
              "      <td>0</td>\n",
              "      <td>0</td>\n",
              "      <td>0</td>\n",
              "      <td>0</td>\n",
              "      <td>1</td>\n",
              "      <td>0</td>\n",
              "      <td>0</td>\n",
              "      <td>0</td>\n",
              "      <td>0</td>\n",
              "      <td>0</td>\n",
              "      <td>0</td>\n",
              "      <td>0</td>\n",
              "      <td>0</td>\n",
              "      <td>0</td>\n",
              "      <td>1</td>\n",
              "      <td>0</td>\n",
              "      <td>0</td>\n",
              "      <td>0</td>\n",
              "      <td>0</td>\n",
              "    </tr>\n",
              "    <tr>\n",
              "      <th>3</th>\n",
              "      <td>4</td>\n",
              "      <td>Waiting to Exhale (1995)</td>\n",
              "      <td>0</td>\n",
              "      <td>0</td>\n",
              "      <td>0</td>\n",
              "      <td>0</td>\n",
              "      <td>0</td>\n",
              "      <td>1</td>\n",
              "      <td>0</td>\n",
              "      <td>0</td>\n",
              "      <td>1</td>\n",
              "      <td>0</td>\n",
              "      <td>0</td>\n",
              "      <td>0</td>\n",
              "      <td>0</td>\n",
              "      <td>0</td>\n",
              "      <td>0</td>\n",
              "      <td>1</td>\n",
              "      <td>0</td>\n",
              "      <td>0</td>\n",
              "      <td>0</td>\n",
              "      <td>0</td>\n",
              "    </tr>\n",
              "    <tr>\n",
              "      <th>4</th>\n",
              "      <td>5</td>\n",
              "      <td>Father of the Bride Part II (1995)</td>\n",
              "      <td>0</td>\n",
              "      <td>0</td>\n",
              "      <td>0</td>\n",
              "      <td>0</td>\n",
              "      <td>0</td>\n",
              "      <td>1</td>\n",
              "      <td>0</td>\n",
              "      <td>0</td>\n",
              "      <td>0</td>\n",
              "      <td>0</td>\n",
              "      <td>0</td>\n",
              "      <td>0</td>\n",
              "      <td>0</td>\n",
              "      <td>0</td>\n",
              "      <td>0</td>\n",
              "      <td>0</td>\n",
              "      <td>0</td>\n",
              "      <td>0</td>\n",
              "      <td>0</td>\n",
              "      <td>0</td>\n",
              "    </tr>\n",
              "  </tbody>\n",
              "</table>\n",
              "</div>"
            ],
            "text/plain": [
              "   movieId                               title  ...  War  Western\n",
              "0        1                    Toy Story (1995)  ...    0        0\n",
              "1        2                      Jumanji (1995)  ...    0        0\n",
              "2        3             Grumpier Old Men (1995)  ...    0        0\n",
              "3        4            Waiting to Exhale (1995)  ...    0        0\n",
              "4        5  Father of the Bride Part II (1995)  ...    0        0\n",
              "\n",
              "[5 rows x 22 columns]"
            ]
          },
          "metadata": {
            "tags": []
          },
          "execution_count": 337
        }
      ]
    },
    {
      "cell_type": "markdown",
      "metadata": {
        "id": "9KXkgW30mX1c"
      },
      "source": [
        "Embora o genero IMAX não esteja listado na documentação do dataset, essa informação não altera as análises. Dessa forma o genero IMAX será tratado como um genero válido"
      ],
      "id": "9KXkgW30mX1c"
    },
    {
      "cell_type": "markdown",
      "metadata": {
        "id": "f96988eb-7b06-45b1-8e18-e425d6569858"
      },
      "source": [
        "## Decisões"
      ],
      "id": "f96988eb-7b06-45b1-8e18-e425d6569858"
    },
    {
      "cell_type": "markdown",
      "metadata": {
        "id": "ozFpQn7rmqEl"
      },
      "source": [
        "> **Quantidade de dados**: Todos os datasets possuem todas as colunas completas\n",
        "\n",
        "> **Tipo de dados**: Os dados estão com o formato correto\n",
        "\n",
        "> **Outliers**:\n",
        "\n",
        "\n",
        "*   Tag: Optou-se por manter as tags com mais de 4 palavras\n",
        "\n",
        "> **Tratamento dos dados**:\n",
        "\n",
        "*   Filmes Duplicados: 5 filmes estavam com o título duplicado - Optou-se por unificar os id para evitar problemas de análises\n",
        "\n",
        "*   Genres IMAX: O genero \"IMAX\" não constava na documentação do arquivo, optou-se por manter essa informação\n",
        "\n"
      ],
      "id": "ozFpQn7rmqEl"
    },
    {
      "cell_type": "markdown",
      "metadata": {
        "id": "8a8e8181-f643-479d-9bd0-51a1526bc53c"
      },
      "source": [
        "# Análise Exploratória"
      ],
      "id": "8a8e8181-f643-479d-9bd0-51a1526bc53c"
    },
    {
      "cell_type": "markdown",
      "metadata": {
        "id": "9e1e0b90-822d-4bbf-bd79-3e0ec3414317"
      },
      "source": [
        "## 1 – Existe alguma correlação entre o ano de lançamento do filme e sua avaliação média (média de ratings)?"
      ],
      "id": "9e1e0b90-822d-4bbf-bd79-3e0ec3414317"
    },
    {
      "cell_type": "code",
      "metadata": {
        "colab": {
          "base_uri": "https://localhost:8080/"
        },
        "id": "O0ghNhqfp9Zl",
        "outputId": "ca27da22-9f46-4b1e-a0c7-13ff95fb9858"
      },
      "source": [
        "# Separar o ano do titulo\n",
        "ano_movies = movies_df.copy()\n",
        "ano_movies['ano'] = ano_movies['title'].str.split('(').str.get(-1).str.split(')').str.get(0)\n",
        "\n",
        "# Converter ano para int\n",
        "ano_movies['ano'] = pd.to_numeric(ano_movies['ano'], errors='coerce')\n",
        "\n",
        "# Verificar tipo de dados\n",
        "ano_movies.info()"
      ],
      "id": "O0ghNhqfp9Zl",
      "execution_count": 338,
      "outputs": [
        {
          "output_type": "stream",
          "text": [
            "<class 'pandas.core.frame.DataFrame'>\n",
            "Int64Index: 9737 entries, 0 to 9741\n",
            "Data columns (total 4 columns):\n",
            " #   Column   Non-Null Count  Dtype  \n",
            "---  ------   --------------  -----  \n",
            " 0   movieId  9737 non-null   int64  \n",
            " 1   title    9737 non-null   object \n",
            " 2   genres   9737 non-null   object \n",
            " 3   ano      9724 non-null   float64\n",
            "dtypes: float64(1), int64(1), object(2)\n",
            "memory usage: 700.4+ KB\n"
          ],
          "name": "stdout"
        }
      ]
    },
    {
      "cell_type": "code",
      "metadata": {
        "id": "aPWux_zb_J78",
        "colab": {
          "base_uri": "https://localhost:8080/",
          "height": 0
        },
        "outputId": "21ebef71-21c7-4e24-a7a8-332cd859148f"
      },
      "source": [
        "# Filmes sem ano definido\n",
        "\n",
        "filmes_sem_ano = ano_movies[ano_movies['ano'].isna()]\n",
        "print(f'Existem {filmes_sem_ano.shape[0]} filmes sem a informação do ano\\n\\n')\n",
        "filmes_sem_ano"
      ],
      "id": "aPWux_zb_J78",
      "execution_count": 339,
      "outputs": [
        {
          "output_type": "stream",
          "text": [
            "Existem 13 filmes sem a informação do ano\n",
            "\n",
            "\n"
          ],
          "name": "stdout"
        },
        {
          "output_type": "execute_result",
          "data": {
            "text/html": [
              "<div>\n",
              "<style scoped>\n",
              "    .dataframe tbody tr th:only-of-type {\n",
              "        vertical-align: middle;\n",
              "    }\n",
              "\n",
              "    .dataframe tbody tr th {\n",
              "        vertical-align: top;\n",
              "    }\n",
              "\n",
              "    .dataframe thead th {\n",
              "        text-align: right;\n",
              "    }\n",
              "</style>\n",
              "<table border=\"1\" class=\"dataframe\">\n",
              "  <thead>\n",
              "    <tr style=\"text-align: right;\">\n",
              "      <th></th>\n",
              "      <th>movieId</th>\n",
              "      <th>title</th>\n",
              "      <th>genres</th>\n",
              "      <th>ano</th>\n",
              "    </tr>\n",
              "  </thead>\n",
              "  <tbody>\n",
              "    <tr>\n",
              "      <th>6059</th>\n",
              "      <td>40697</td>\n",
              "      <td>Babylon 5</td>\n",
              "      <td>Sci-Fi</td>\n",
              "      <td>NaN</td>\n",
              "    </tr>\n",
              "    <tr>\n",
              "      <th>9031</th>\n",
              "      <td>140956</td>\n",
              "      <td>Ready Player One</td>\n",
              "      <td>Action|Sci-Fi|Thriller</td>\n",
              "      <td>NaN</td>\n",
              "    </tr>\n",
              "    <tr>\n",
              "      <th>9091</th>\n",
              "      <td>143410</td>\n",
              "      <td>Hyena Road</td>\n",
              "      <td>(no genres listed)</td>\n",
              "      <td>NaN</td>\n",
              "    </tr>\n",
              "    <tr>\n",
              "      <th>9138</th>\n",
              "      <td>147250</td>\n",
              "      <td>The Adventures of Sherlock Holmes and Doctor W...</td>\n",
              "      <td>(no genres listed)</td>\n",
              "      <td>NaN</td>\n",
              "    </tr>\n",
              "    <tr>\n",
              "      <th>9179</th>\n",
              "      <td>149334</td>\n",
              "      <td>Nocturnal Animals</td>\n",
              "      <td>Drama|Thriller</td>\n",
              "      <td>NaN</td>\n",
              "    </tr>\n",
              "    <tr>\n",
              "      <th>9259</th>\n",
              "      <td>156605</td>\n",
              "      <td>Paterson</td>\n",
              "      <td>(no genres listed)</td>\n",
              "      <td>NaN</td>\n",
              "    </tr>\n",
              "    <tr>\n",
              "      <th>9367</th>\n",
              "      <td>162414</td>\n",
              "      <td>Moonlight</td>\n",
              "      <td>Drama</td>\n",
              "      <td>NaN</td>\n",
              "    </tr>\n",
              "    <tr>\n",
              "      <th>9448</th>\n",
              "      <td>167570</td>\n",
              "      <td>The OA</td>\n",
              "      <td>(no genres listed)</td>\n",
              "      <td>NaN</td>\n",
              "    </tr>\n",
              "    <tr>\n",
              "      <th>9514</th>\n",
              "      <td>171495</td>\n",
              "      <td>Cosmos</td>\n",
              "      <td>(no genres listed)</td>\n",
              "      <td>NaN</td>\n",
              "    </tr>\n",
              "    <tr>\n",
              "      <th>9515</th>\n",
              "      <td>171631</td>\n",
              "      <td>Maria Bamford: Old Baby</td>\n",
              "      <td>(no genres listed)</td>\n",
              "      <td>NaN</td>\n",
              "    </tr>\n",
              "    <tr>\n",
              "      <th>9518</th>\n",
              "      <td>171749</td>\n",
              "      <td>Death Note: Desu nôto (2006–2007)</td>\n",
              "      <td>(no genres listed)</td>\n",
              "      <td>NaN</td>\n",
              "    </tr>\n",
              "    <tr>\n",
              "      <th>9525</th>\n",
              "      <td>171891</td>\n",
              "      <td>Generation Iron 2</td>\n",
              "      <td>(no genres listed)</td>\n",
              "      <td>NaN</td>\n",
              "    </tr>\n",
              "    <tr>\n",
              "      <th>9611</th>\n",
              "      <td>176601</td>\n",
              "      <td>Black Mirror</td>\n",
              "      <td>(no genres listed)</td>\n",
              "      <td>NaN</td>\n",
              "    </tr>\n",
              "  </tbody>\n",
              "</table>\n",
              "</div>"
            ],
            "text/plain": [
              "      movieId  ... ano\n",
              "6059    40697  ... NaN\n",
              "9031   140956  ... NaN\n",
              "9091   143410  ... NaN\n",
              "9138   147250  ... NaN\n",
              "9179   149334  ... NaN\n",
              "9259   156605  ... NaN\n",
              "9367   162414  ... NaN\n",
              "9448   167570  ... NaN\n",
              "9514   171495  ... NaN\n",
              "9515   171631  ... NaN\n",
              "9518   171749  ... NaN\n",
              "9525   171891  ... NaN\n",
              "9611   176601  ... NaN\n",
              "\n",
              "[13 rows x 4 columns]"
            ]
          },
          "metadata": {
            "tags": []
          },
          "execution_count": 339
        }
      ]
    },
    {
      "cell_type": "code",
      "metadata": {
        "colab": {
          "base_uri": "https://localhost:8080/",
          "height": 0
        },
        "id": "g14fHFGwv0By",
        "outputId": "8527d2fd-bb7d-4084-a5fb-6d6d90f4722a"
      },
      "source": [
        "# Juntando o ano com as notas\n",
        "rating_ano_movies = ratings_df.copy()\n",
        "rating_ano_movies = rating_ano_movies[['movieId', 'rating']].merge(ano_movies[['movieId', 'ano']], on = 'movieId', how = 'left')\n",
        "\n",
        "# Criando um DF com a media das notas por ano\n",
        "rating_medio_por_ano = rating_ano_movies[['ano', 'rating']].groupby('ano').mean()\n",
        "rating_medio_por_ano['count'] = rating_ano_movies[['ano', 'rating']].groupby('ano').count()\n",
        "rating_medio_por_ano = rating_medio_por_ano.rename_axis('ano').reset_index()\n",
        "rating_medio_por_ano"
      ],
      "id": "g14fHFGwv0By",
      "execution_count": 340,
      "outputs": [
        {
          "output_type": "execute_result",
          "data": {
            "text/html": [
              "<div>\n",
              "<style scoped>\n",
              "    .dataframe tbody tr th:only-of-type {\n",
              "        vertical-align: middle;\n",
              "    }\n",
              "\n",
              "    .dataframe tbody tr th {\n",
              "        vertical-align: top;\n",
              "    }\n",
              "\n",
              "    .dataframe thead th {\n",
              "        text-align: right;\n",
              "    }\n",
              "</style>\n",
              "<table border=\"1\" class=\"dataframe\">\n",
              "  <thead>\n",
              "    <tr style=\"text-align: right;\">\n",
              "      <th></th>\n",
              "      <th>ano</th>\n",
              "      <th>rating</th>\n",
              "      <th>count</th>\n",
              "    </tr>\n",
              "  </thead>\n",
              "  <tbody>\n",
              "    <tr>\n",
              "      <th>0</th>\n",
              "      <td>1902.0</td>\n",
              "      <td>3.500000</td>\n",
              "      <td>5</td>\n",
              "    </tr>\n",
              "    <tr>\n",
              "      <th>1</th>\n",
              "      <td>1903.0</td>\n",
              "      <td>2.500000</td>\n",
              "      <td>2</td>\n",
              "    </tr>\n",
              "    <tr>\n",
              "      <th>2</th>\n",
              "      <td>1908.0</td>\n",
              "      <td>4.000000</td>\n",
              "      <td>1</td>\n",
              "    </tr>\n",
              "    <tr>\n",
              "      <th>3</th>\n",
              "      <td>1915.0</td>\n",
              "      <td>2.000000</td>\n",
              "      <td>1</td>\n",
              "    </tr>\n",
              "    <tr>\n",
              "      <th>4</th>\n",
              "      <td>1916.0</td>\n",
              "      <td>3.600000</td>\n",
              "      <td>5</td>\n",
              "    </tr>\n",
              "    <tr>\n",
              "      <th>...</th>\n",
              "      <td>...</td>\n",
              "      <td>...</td>\n",
              "      <td>...</td>\n",
              "    </tr>\n",
              "    <tr>\n",
              "      <th>101</th>\n",
              "      <td>2014.0</td>\n",
              "      <td>3.512879</td>\n",
              "      <td>1320</td>\n",
              "    </tr>\n",
              "    <tr>\n",
              "      <th>102</th>\n",
              "      <td>2015.0</td>\n",
              "      <td>3.410386</td>\n",
              "      <td>1088</td>\n",
              "    </tr>\n",
              "    <tr>\n",
              "      <th>103</th>\n",
              "      <td>2016.0</td>\n",
              "      <td>3.387261</td>\n",
              "      <td>785</td>\n",
              "    </tr>\n",
              "    <tr>\n",
              "      <th>104</th>\n",
              "      <td>2017.0</td>\n",
              "      <td>3.578091</td>\n",
              "      <td>461</td>\n",
              "    </tr>\n",
              "    <tr>\n",
              "      <th>105</th>\n",
              "      <td>2018.0</td>\n",
              "      <td>3.483516</td>\n",
              "      <td>91</td>\n",
              "    </tr>\n",
              "  </tbody>\n",
              "</table>\n",
              "<p>106 rows × 3 columns</p>\n",
              "</div>"
            ],
            "text/plain": [
              "        ano    rating  count\n",
              "0    1902.0  3.500000      5\n",
              "1    1903.0  2.500000      2\n",
              "2    1908.0  4.000000      1\n",
              "3    1915.0  2.000000      1\n",
              "4    1916.0  3.600000      5\n",
              "..      ...       ...    ...\n",
              "101  2014.0  3.512879   1320\n",
              "102  2015.0  3.410386   1088\n",
              "103  2016.0  3.387261    785\n",
              "104  2017.0  3.578091    461\n",
              "105  2018.0  3.483516     91\n",
              "\n",
              "[106 rows x 3 columns]"
            ]
          },
          "metadata": {
            "tags": []
          },
          "execution_count": 340
        }
      ]
    },
    {
      "cell_type": "code",
      "metadata": {
        "colab": {
          "base_uri": "https://localhost:8080/",
          "height": 0
        },
        "id": "ZO6kkpGWY9bh",
        "outputId": "0393eacf-13ae-4e8f-ebf6-4d71b223bcb7"
      },
      "source": [
        "import seaborn as sns\n",
        "\n",
        "fig = plt.figure(figsize=(12,10))\n",
        "\n",
        "#Gráfico de Barra ([OFF]NÃO CONSEGUI TIRAR O EIXO X)\n",
        "eixo = fig.add_axes([0, 0.55, 1, 0.5])\n",
        "eixo = sns.barplot(x = 'ano', y = 'count', data = rating_medio_por_ano, palette=\"Blues_d\")\n",
        "eixo.set(ylabel = 'Quantidade de votos', xlabel = '')\n",
        "eixo.set_title('Quantidade de votos dos filmes em relação ao ano')\n",
        "\n",
        "# Gráfico de Dispersão\n",
        "eixo2 = fig.add_axes([0, 0, 1, 0.5])\n",
        "eixo2 = sns.scatterplot(x = 'ano', y = 'rating', data = rating_medio_por_ano, palette=\"Blues_d\")\n",
        "eixo2.set(ylabel = 'Nota média', xlabel = 'Ano')\n",
        "eixo2.set_title('Média de votos dos filmes em relação ao ano')"
      ],
      "id": "ZO6kkpGWY9bh",
      "execution_count": 341,
      "outputs": [
        {
          "output_type": "execute_result",
          "data": {
            "text/plain": [
              "Text(0.5, 1.0, 'Média de votos dos filmes em relação ao ano')"
            ]
          },
          "metadata": {
            "tags": []
          },
          "execution_count": 341
        },
        {
          "output_type": "display_data",
          "data": {
            "image/png": "[encoded data removed]",
            "text/plain": [
              "<Figure size 864x720 with 2 Axes>"
            ]
          },
          "metadata": {
            "tags": [],
            "needs_background": "light"
          }
        }
      ]
    },
    {
      "cell_type": "code",
      "metadata": {
        "colab": {
          "base_uri": "https://localhost:8080/",
          "height": 0
        },
        "id": "66q0j0diXuZG",
        "outputId": "c5d9024a-88c6-49ac-e7d4-56fe3555be61"
      },
      "source": [
        "rating_medio_por_ano.corr().round(3)"
      ],
      "id": "66q0j0diXuZG",
      "execution_count": 342,
      "outputs": [
        {
          "output_type": "execute_result",
          "data": {
            "text/html": [
              "<div>\n",
              "<style scoped>\n",
              "    .dataframe tbody tr th:only-of-type {\n",
              "        vertical-align: middle;\n",
              "    }\n",
              "\n",
              "    .dataframe tbody tr th {\n",
              "        vertical-align: top;\n",
              "    }\n",
              "\n",
              "    .dataframe thead th {\n",
              "        text-align: right;\n",
              "    }\n",
              "</style>\n",
              "<table border=\"1\" class=\"dataframe\">\n",
              "  <thead>\n",
              "    <tr style=\"text-align: right;\">\n",
              "      <th></th>\n",
              "      <th>ano</th>\n",
              "      <th>rating</th>\n",
              "      <th>count</th>\n",
              "    </tr>\n",
              "  </thead>\n",
              "  <tbody>\n",
              "    <tr>\n",
              "      <th>ano</th>\n",
              "      <td>1.000</td>\n",
              "      <td>-0.158</td>\n",
              "      <td>0.667</td>\n",
              "    </tr>\n",
              "    <tr>\n",
              "      <th>rating</th>\n",
              "      <td>-0.158</td>\n",
              "      <td>1.000</td>\n",
              "      <td>-0.289</td>\n",
              "    </tr>\n",
              "    <tr>\n",
              "      <th>count</th>\n",
              "      <td>0.667</td>\n",
              "      <td>-0.289</td>\n",
              "      <td>1.000</td>\n",
              "    </tr>\n",
              "  </tbody>\n",
              "</table>\n",
              "</div>"
            ],
            "text/plain": [
              "          ano  rating  count\n",
              "ano     1.000  -0.158  0.667\n",
              "rating -0.158   1.000 -0.289\n",
              "count   0.667  -0.289  1.000"
            ]
          },
          "metadata": {
            "tags": []
          },
          "execution_count": 342
        }
      ]
    },
    {
      "cell_type": "markdown",
      "metadata": {
        "id": "WUgjYoFvZ9UX"
      },
      "source": [
        "A tabela de correlação indica que a nota média dos filmes tem uma correlação negativa muito fraca em relação ao ano de lançamento (-0.158).\n",
        "\n",
        "O gráfico de dispersão indica que as notas dos filmes mais antigos possuem uma média distante dos demais valores. Isso ocorre devido a baixa quantidade de avaliações que esses filmes tiveram. \n",
        "\n",
        "A partir de 1940 a variação das notas começam a diminuir, de modo que as notas começam a ter um comportamento mais linear. O pico de avaliações ocorrem em torno dos filmes dos anos 2000.\n",
        "\n",
        "De 1980 até 2000 as notas médias passam de em torno de 4.0 para 3.5, indicando uma variação negativa. Dos anos 2000 até 2020 as notas médias se mantem estáveis visualmente."
      ],
      "id": "WUgjYoFvZ9UX"
    },
    {
      "cell_type": "markdown",
      "metadata": {
        "id": "6b17d27d-40a3-495b-9ebf-abbe06ceff81"
      },
      "source": [
        "## 2 – Qual o grupo mais disperso, o de usuários que avaliaram ou o de usuários que rotularam filmes?\n"
      ],
      "id": "6b17d27d-40a3-495b-9ebf-abbe06ceff81"
    },
    {
      "cell_type": "markdown",
      "metadata": {
        "id": "5BUunCCOqIfE"
      },
      "source": [
        "[OFF] Não sei se entendi a pergunta, vou levar em conta a dispersão da quantidade de vezes que um usuário avaliou um filme ou tageou ele"
      ],
      "id": "5BUunCCOqIfE"
    },
    {
      "cell_type": "code",
      "metadata": {
        "id": "k5YrQv-qp9x2",
        "colab": {
          "base_uri": "https://localhost:8080/",
          "height": 105
        },
        "outputId": "c6755257-5a37-4ac4-9e6f-9c9d68dac652"
      },
      "source": [
        "# Criando os DF de userId pela quantidade de vezes que o usuário avaliou um filme\n",
        "userId_quantidade_de_ratings = ratings_df[['userId','movieId']].groupby('userId').count()\n",
        "\n",
        "# Criando os DF de userId pela quantidade de vezes que o usuário colocou uma tag no filme\n",
        "userId_quantidade_de_tags = tags_df[['userId','movieId']].groupby('userId').count()\n",
        "\n",
        "# DF comparando valores de TAGS e RATINGS\n",
        "\n",
        "# Count = Quantidade de usuários que tiveram \"interação\" (seja avaliação ou tag)\n",
        "# Mean  = Média de inserções no dataframe\n",
        "# STD   = Desvio Padrão de inserções no dataframe\n",
        "# CV    = Coeficiente de Variação (STD / Mean)\n",
        "\n",
        "comparação_tags_e_ratings = pd.DataFrame({'Count': [userId_quantidade_de_tags.shape[0], userId_quantidade_de_ratings.shape[0]],\n",
        "                                          'Mean': [round(userId_quantidade_de_tags.mean()[0],2), round(userId_quantidade_de_ratings.mean()[0],2)],\n",
        "                                          'STD'  : [round(userId_quantidade_de_tags.std()[0],2), round(userId_quantidade_de_ratings.std()[0],2)] }, index = ['Tags','Ratings'])\n",
        "comparação_tags_e_ratings['CV'] = round(comparação_tags_e_ratings['STD'] / comparação_tags_e_ratings['Mean'],2)\n",
        "comparação_tags_e_ratings"
      ],
      "id": "k5YrQv-qp9x2",
      "execution_count": 343,
      "outputs": [
        {
          "output_type": "execute_result",
          "data": {
            "text/html": [
              "<div>\n",
              "<style scoped>\n",
              "    .dataframe tbody tr th:only-of-type {\n",
              "        vertical-align: middle;\n",
              "    }\n",
              "\n",
              "    .dataframe tbody tr th {\n",
              "        vertical-align: top;\n",
              "    }\n",
              "\n",
              "    .dataframe thead th {\n",
              "        text-align: right;\n",
              "    }\n",
              "</style>\n",
              "<table border=\"1\" class=\"dataframe\">\n",
              "  <thead>\n",
              "    <tr style=\"text-align: right;\">\n",
              "      <th></th>\n",
              "      <th>Count</th>\n",
              "      <th>Mean</th>\n",
              "      <th>STD</th>\n",
              "      <th>CV</th>\n",
              "    </tr>\n",
              "  </thead>\n",
              "  <tbody>\n",
              "    <tr>\n",
              "      <th>Tags</th>\n",
              "      <td>58</td>\n",
              "      <td>63.5</td>\n",
              "      <td>215.12</td>\n",
              "      <td>3.39</td>\n",
              "    </tr>\n",
              "    <tr>\n",
              "      <th>Ratings</th>\n",
              "      <td>610</td>\n",
              "      <td>165.3</td>\n",
              "      <td>269.48</td>\n",
              "      <td>1.63</td>\n",
              "    </tr>\n",
              "  </tbody>\n",
              "</table>\n",
              "</div>"
            ],
            "text/plain": [
              "         Count   Mean     STD    CV\n",
              "Tags        58   63.5  215.12  3.39\n",
              "Ratings    610  165.3  269.48  1.63"
            ]
          },
          "metadata": {
            "tags": []
          },
          "execution_count": 343
        }
      ]
    },
    {
      "cell_type": "code",
      "metadata": {
        "colab": {
          "base_uri": "https://localhost:8080/",
          "height": 938
        },
        "id": "6ZOMxcFApwLs",
        "outputId": "17b90b07-2ac7-43f6-abd0-19a408cb0351"
      },
      "source": [
        "fig = plt.figure(figsize=(12,10))\n",
        "\n",
        "#BoxPlot - Quantidade de Tags\n",
        "eixo = fig.add_axes([0, 0.57, 1, 0.5])\n",
        "eixo = sns.boxplot(userId_quantidade_de_tags.movieId, width = 0.6)\n",
        "eixo.set_title('Quantidade de tags por usuário', fontsize = 16)\n",
        "eixo.set(xlabel = '')\n",
        "\n",
        "#BoxPlot - Quantidade de ratings\n",
        "eixo2 = fig.add_axes([0, 0, 1, 0.5])\n",
        "eixo2 = sns.boxplot(userId_quantidade_de_ratings.movieId, width = 0.6)\n",
        "eixo2.set_title('Quantidade de avaliações por usuário', fontsize = 16)\n",
        "eixo2.set(xlabel = '')\n"
      ],
      "id": "6ZOMxcFApwLs",
      "execution_count": 344,
      "outputs": [
        {
          "output_type": "stream",
          "text": [
            "/usr/local/lib/python3.7/dist-packages/seaborn/_decorators.py:43: FutureWarning: Pass the following variable as a keyword arg: x. From version 0.12, the only valid positional argument will be `data`, and passing other arguments without an explicit keyword will result in an error or misinterpretation.\n",
            "  FutureWarning\n",
            "/usr/local/lib/python3.7/dist-packages/seaborn/_decorators.py:43: FutureWarning: Pass the following variable as a keyword arg: x. From version 0.12, the only valid positional argument will be `data`, and passing other arguments without an explicit keyword will result in an error or misinterpretation.\n",
            "  FutureWarning\n"
          ],
          "name": "stderr"
        },
        {
          "output_type": "execute_result",
          "data": {
            "text/plain": [
              "[Text(0.5, 0, '')]"
            ]
          },
          "metadata": {
            "tags": []
          },
          "execution_count": 344
        },
        {
          "output_type": "display_data",
          "data": {
            "image/png": "[encoded data removed]",
            "text/plain": [
              "<Figure size 864x720 with 2 Axes>"
            ]
          },
          "metadata": {
            "tags": [],
            "needs_background": "light"
          }
        }
      ]
    },
    {
      "cell_type": "markdown",
      "metadata": {
        "id": "SSE0h2NpxJyh"
      },
      "source": [
        "A presença de um usuário que colocou tag em mais de 1400 filmes distorce bastante os valores de média e desvio padrão desse grupo de usuários, de modo que o Coeficiente de variação é mais alto quando comparado com os usuários que avaliaram os filmes.\n",
        "\n",
        "A análise dos Boxplot permite ver que existem muito mais usuários que avaliam os filmes que estão fora dos limites do gráfico em relação aos usuários que colocam tag. \n",
        "\n",
        "Essas duas análises permite indicar que a distribuição da quantidade de \"interações\" é maior nos usuários que avaliaram os filmes, ou seja, a dispersão dos valores é maior nos avaliadores em relação aos que colocam Tag"
      ],
      "id": "SSE0h2NpxJyh"
    },
    {
      "cell_type": "code",
      "metadata": {
        "id": "Ir8U-Qn0pwOP"
      },
      "source": [
        ""
      ],
      "id": "Ir8U-Qn0pwOP",
      "execution_count": 344,
      "outputs": []
    },
    {
      "cell_type": "code",
      "metadata": {
        "id": "316YRILvpwID"
      },
      "source": [
        ""
      ],
      "id": "316YRILvpwID",
      "execution_count": 344,
      "outputs": []
    },
    {
      "cell_type": "markdown",
      "metadata": {
        "id": "TnbIO7bSpu2s"
      },
      "source": [
        "## 3 – Qual a categoria rotulada mais frequente?"
      ],
      "id": "TnbIO7bSpu2s"
    },
    {
      "cell_type": "code",
      "metadata": {
        "id": "7K77i5Mdp-Pj",
        "colab": {
          "base_uri": "https://localhost:8080/",
          "height": 162
        },
        "outputId": "eae406fb-d64f-400d-c06d-946f6f584e5d"
      },
      "source": [
        "# Juntando o DF de rótulos com a quantidade de tags usando movieId como chave\n",
        "categorias_rotuladas = movies_df_generos.set_index('movieId')\n",
        "categorias_rotuladas = pd.concat([categorias_rotuladas,(tags_df[['movieId','tag']].groupby('movieId').count())], axis = 1)\n",
        "categorias_rotuladas.drop('title', axis = 1, inplace = True)\n",
        "categorias_rotuladas.head(3)"
      ],
      "id": "7K77i5Mdp-Pj",
      "execution_count": 414,
      "outputs": [
        {
          "output_type": "execute_result",
          "data": {
            "text/html": [
              "<div>\n",
              "<style scoped>\n",
              "    .dataframe tbody tr th:only-of-type {\n",
              "        vertical-align: middle;\n",
              "    }\n",
              "\n",
              "    .dataframe tbody tr th {\n",
              "        vertical-align: top;\n",
              "    }\n",
              "\n",
              "    .dataframe thead th {\n",
              "        text-align: right;\n",
              "    }\n",
              "</style>\n",
              "<table border=\"1\" class=\"dataframe\">\n",
              "  <thead>\n",
              "    <tr style=\"text-align: right;\">\n",
              "      <th></th>\n",
              "      <th>(no genres listed)</th>\n",
              "      <th>Action</th>\n",
              "      <th>Adventure</th>\n",
              "      <th>Animation</th>\n",
              "      <th>Children</th>\n",
              "      <th>Comedy</th>\n",
              "      <th>Crime</th>\n",
              "      <th>Documentary</th>\n",
              "      <th>Drama</th>\n",
              "      <th>Fantasy</th>\n",
              "      <th>Film-Noir</th>\n",
              "      <th>Horror</th>\n",
              "      <th>IMAX</th>\n",
              "      <th>Musical</th>\n",
              "      <th>Mystery</th>\n",
              "      <th>Romance</th>\n",
              "      <th>Sci-Fi</th>\n",
              "      <th>Thriller</th>\n",
              "      <th>War</th>\n",
              "      <th>Western</th>\n",
              "      <th>tag</th>\n",
              "    </tr>\n",
              "    <tr>\n",
              "      <th>movieId</th>\n",
              "      <th></th>\n",
              "      <th></th>\n",
              "      <th></th>\n",
              "      <th></th>\n",
              "      <th></th>\n",
              "      <th></th>\n",
              "      <th></th>\n",
              "      <th></th>\n",
              "      <th></th>\n",
              "      <th></th>\n",
              "      <th></th>\n",
              "      <th></th>\n",
              "      <th></th>\n",
              "      <th></th>\n",
              "      <th></th>\n",
              "      <th></th>\n",
              "      <th></th>\n",
              "      <th></th>\n",
              "      <th></th>\n",
              "      <th></th>\n",
              "      <th></th>\n",
              "    </tr>\n",
              "  </thead>\n",
              "  <tbody>\n",
              "    <tr>\n",
              "      <th>1</th>\n",
              "      <td>0</td>\n",
              "      <td>0</td>\n",
              "      <td>1</td>\n",
              "      <td>1</td>\n",
              "      <td>1</td>\n",
              "      <td>1</td>\n",
              "      <td>0</td>\n",
              "      <td>0</td>\n",
              "      <td>0</td>\n",
              "      <td>1</td>\n",
              "      <td>0</td>\n",
              "      <td>0</td>\n",
              "      <td>0</td>\n",
              "      <td>0</td>\n",
              "      <td>0</td>\n",
              "      <td>0</td>\n",
              "      <td>0</td>\n",
              "      <td>0</td>\n",
              "      <td>0</td>\n",
              "      <td>0</td>\n",
              "      <td>3.0</td>\n",
              "    </tr>\n",
              "    <tr>\n",
              "      <th>2</th>\n",
              "      <td>0</td>\n",
              "      <td>0</td>\n",
              "      <td>1</td>\n",
              "      <td>0</td>\n",
              "      <td>1</td>\n",
              "      <td>0</td>\n",
              "      <td>0</td>\n",
              "      <td>0</td>\n",
              "      <td>0</td>\n",
              "      <td>1</td>\n",
              "      <td>0</td>\n",
              "      <td>0</td>\n",
              "      <td>0</td>\n",
              "      <td>0</td>\n",
              "      <td>0</td>\n",
              "      <td>0</td>\n",
              "      <td>0</td>\n",
              "      <td>0</td>\n",
              "      <td>0</td>\n",
              "      <td>0</td>\n",
              "      <td>4.0</td>\n",
              "    </tr>\n",
              "    <tr>\n",
              "      <th>3</th>\n",
              "      <td>0</td>\n",
              "      <td>0</td>\n",
              "      <td>0</td>\n",
              "      <td>0</td>\n",
              "      <td>0</td>\n",
              "      <td>1</td>\n",
              "      <td>0</td>\n",
              "      <td>0</td>\n",
              "      <td>0</td>\n",
              "      <td>0</td>\n",
              "      <td>0</td>\n",
              "      <td>0</td>\n",
              "      <td>0</td>\n",
              "      <td>0</td>\n",
              "      <td>0</td>\n",
              "      <td>1</td>\n",
              "      <td>0</td>\n",
              "      <td>0</td>\n",
              "      <td>0</td>\n",
              "      <td>0</td>\n",
              "      <td>2.0</td>\n",
              "    </tr>\n",
              "  </tbody>\n",
              "</table>\n",
              "</div>"
            ],
            "text/plain": [
              "         (no genres listed)  Action  Adventure  ...  War  Western  tag\n",
              "movieId                                         ...                   \n",
              "1                         0       0          1  ...    0        0  3.0\n",
              "2                         0       0          1  ...    0        0  4.0\n",
              "3                         0       0          0  ...    0        0  2.0\n",
              "\n",
              "[3 rows x 21 columns]"
            ]
          },
          "metadata": {
            "tags": []
          },
          "execution_count": 414
        }
      ]
    },
    {
      "cell_type": "code",
      "metadata": {
        "id": "0ijM1geczJLR",
        "outputId": "39b2b5ea-4a5a-464a-a503-7ba7afc9ef61",
        "colab": {
          "base_uri": "https://localhost:8080/",
          "height": 133
        }
      },
      "source": [
        "# Criando Dicionário relacionando Generos com quantidade de tags\n",
        "qtd_tags_por_rotulos = {}\n",
        "for i in categorias_rotuladas.columns:\n",
        "  qtd_tags_por_rotulos[i] = categorias_rotuladas[categorias_rotuladas[i] == 1].sum()[-1]\n",
        "\n",
        "# Transformando Dicionário em DF\n",
        "qtd_tags_por_rotulos = pd.DataFrame(qtd_tags_por_rotulos.values(), index = qtd_tags_por_rotulos.keys(), columns = ['Tags'])\n",
        "qtd_tags_por_rotulos.sort_values(by='Tags', ascending= False).head(3)"
      ],
      "id": "0ijM1geczJLR",
      "execution_count": 413,
      "outputs": [
        {
          "output_type": "execute_result",
          "data": {
            "text/html": [
              "<div>\n",
              "<style scoped>\n",
              "    .dataframe tbody tr th:only-of-type {\n",
              "        vertical-align: middle;\n",
              "    }\n",
              "\n",
              "    .dataframe tbody tr th {\n",
              "        vertical-align: top;\n",
              "    }\n",
              "\n",
              "    .dataframe thead th {\n",
              "        text-align: right;\n",
              "    }\n",
              "</style>\n",
              "<table border=\"1\" class=\"dataframe\">\n",
              "  <thead>\n",
              "    <tr style=\"text-align: right;\">\n",
              "      <th></th>\n",
              "      <th>Tags</th>\n",
              "    </tr>\n",
              "  </thead>\n",
              "  <tbody>\n",
              "    <tr>\n",
              "      <th>Drama</th>\n",
              "      <td>2095.0</td>\n",
              "    </tr>\n",
              "    <tr>\n",
              "      <th>Comedy</th>\n",
              "      <td>1154.0</td>\n",
              "    </tr>\n",
              "    <tr>\n",
              "      <th>Thriller</th>\n",
              "      <td>1099.0</td>\n",
              "    </tr>\n",
              "  </tbody>\n",
              "</table>\n",
              "</div>"
            ],
            "text/plain": [
              "            Tags\n",
              "Drama     2095.0\n",
              "Comedy    1154.0\n",
              "Thriller  1099.0"
            ]
          },
          "metadata": {
            "tags": []
          },
          "execution_count": 413
        }
      ]
    },
    {
      "cell_type": "markdown",
      "metadata": {
        "id": "40ftYLk87NIY"
      },
      "source": [
        "A categoria Drama foi a mais rotulada com 2.095 Tags atribuidas"
      ],
      "id": "40ftYLk87NIY"
    },
    {
      "cell_type": "markdown",
      "metadata": {
        "id": "iw0csppOpu0S"
      },
      "source": [
        "## 4 – Como estão distribuídas as avaliações ao longo do tempo?"
      ],
      "id": "iw0csppOpu0S"
    },
    {
      "cell_type": "code",
      "metadata": {
        "id": "3d7pIgCKp-zt"
      },
      "source": [
        ""
      ],
      "id": "3d7pIgCKp-zt",
      "execution_count": null,
      "outputs": []
    },
    {
      "cell_type": "markdown",
      "metadata": {
        "id": "eev1akNdpuyp"
      },
      "source": [
        "## 5 -"
      ],
      "id": "eev1akNdpuyp"
    },
    {
      "cell_type": "markdown",
      "metadata": {
        "id": "G3LZ1GmKpuwm"
      },
      "source": [
        "## 6 -"
      ],
      "id": "G3LZ1GmKpuwm"
    },
    {
      "cell_type": "markdown",
      "metadata": {
        "id": "tDfjCepQpuus"
      },
      "source": [
        "## 7 -"
      ],
      "id": "tDfjCepQpuus"
    },
    {
      "cell_type": "markdown",
      "metadata": {
        "id": "AD-GOZR3putC"
      },
      "source": [
        "## 8 -"
      ],
      "id": "AD-GOZR3putC"
    },
    {
      "cell_type": "markdown",
      "metadata": {
        "id": "uoBY4Go1purB"
      },
      "source": [
        "## 9 -"
      ],
      "id": "uoBY4Go1purB"
    },
    {
      "cell_type": "markdown",
      "metadata": {
        "id": "NJ0roL55pupE"
      },
      "source": [
        "## 10 -"
      ],
      "id": "NJ0roL55pupE"
    }
  ]
}