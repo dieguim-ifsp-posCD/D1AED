{
  "nbformat": 4,
  "nbformat_minor": 5,
  "metadata": {
    "kernelspec": {
      "display_name": "Python 3",
      "language": "python",
      "name": "python3"
    },
    "language_info": {
      "codemirror_mode": {
        "name": "ipython",
        "version": 3
      },
      "file_extension": ".py",
      "mimetype": "text/x-python",
      "name": "python",
      "nbconvert_exporter": "python",
      "pygments_lexer": "ipython3",
      "version": "3.9.2"
    },
    "colab": {
      "name": "AED-movie-lens-small.ipynb",
      "provenance": []
    }
  },
  "cells": [
    {
      "cell_type": "markdown",
      "metadata": {
        "id": "56baeb7f-c83d-4e6d-9e20-af09365ad74e"
      },
      "source": [
        "# Análide do Dataset Movie Lens Small"
      ],
      "id": "56baeb7f-c83d-4e6d-9e20-af09365ad74e"
    },
    {
      "cell_type": "markdown",
      "metadata": {
        "id": "5576008b-4db4-4860-aeaa-1991644d843f"
      },
      "source": [
        "## Conhecendo o dataset\n",
        "\n",
        "Trata-se do conjunto de dados [Movie Lens Small](https://files.grouplens.org/datasets/movielens/ml-latest-small.zip), contendo classificação de filmes do serviço de recomendação [movielens](http://movielens.org).\n",
        "\n",
        "### Informações do [README](data/ml-latest-small/README.txt) do dataset\n",
        "\n",
        "O dataset contém **100.836 avaliações** e **3.683 *rótulos*** para **9.742 filmes**. Os dados foram criados por **610 usuários**. Cada usuário avaliou pelo menos 20 filmes.\n",
        "\n",
        "Os arquivos estão em formato *CSV*, com uma única linha de cabeçalho. Colunas que contenham vírgula estão escapadas com aspas duplas. Codificação é UTF-8.\n",
        "\n",
        "- **User Ids**: São consistentes entre os arquivos `ratigns.csv` e `tags.csv` (mesmo *id* se refere a um mesmo usuário nestes dois arquivos)\n",
        "- **Movie Ids**: Apenas filmes com ao menos uma avaliação ou *rótulo* estão inclusos no dataset. Ids são consistentes entre os arquivos `ratings.csv`, `tags.csv`, `movies.csv` e `links.csv`\n",
        "\n",
        "#### `ratings.csv`\n",
        "> 100.836 avaliações\n",
        "\n",
        "Cada linha do arquivo representa uma avaliação de um filme por um usuário, no seguinte formato:\n",
        "\n",
        "    userId,movieId,rating,timestamp\n",
        "\n",
        "As avaliações estão em uma escala de *5 estrelas*, com incrementos de *0,5 estrelas* (0,5 - 5.0). *Timestamp* é uma valor em [Unix time](https://en.wikipedia.org/wiki/Unix_time).\n",
        "\n",
        "#### `tags.csv`\n",
        "> 3.683 *rótulos*\n",
        "\n",
        "Cada linha do arquivo representa um *rótulo* atribuído a um filme por um usuário, no seguinte formato:\n",
        "\n",
        "    userId,movieId,tag,timestamp\n",
        "\n",
        "*Rótulos* são metadados dos filmes, formadas em geral por palavras únicas ou frases curtas. *Timestamp* é uma valor em [Unix time](https://en.wikipedia.org/wiki/Unix_time).\n",
        "\n",
        "#### `movies.csv`\n",
        "> 9.742 filmes\n",
        "\n",
        "Cada linha do arquivo representa um filme, no seguinte formato:\n",
        "\n",
        "    movieId,title,genres\n",
        "\n",
        "Os títulos dos filmes podem conter erros e inconsistências. O ano de lançamento está incluso entre parêntesis.\n",
        "\n",
        "Os gêneros estão em uma lista separadas por pipe (`|`), e são selecionados dos seguintes valores:\n",
        "\n",
        "* Action\n",
        "* Adventure\n",
        "* Animation\n",
        "* Children's\n",
        "* Comedy\n",
        "* Crime\n",
        "* Documentary\n",
        "* Drama\n",
        "* Fantasy\n",
        "* Film-Noir\n",
        "* Horror\n",
        "* Musical\n",
        "* Mystery\n",
        "* Romance\n",
        "* Sci-Fi\n",
        "* Thriller\n",
        "* War\n",
        "* Western\n",
        "* (no genres listed)\n",
        "\n",
        "#### `links.csv`\n",
        "> 9.742 *links*\n",
        "\n",
        "Cada linha do arquivo representa um filme, contendo *links* para outras fontes de dados de filmes, no seguinte formato:\n",
        "\n",
        "    movieId,imdbId,tmdbId\n",
        "\n",
        "*movieId* é um identificador dos filmes usado pelo [movielens](https://movielens.org)<br />\n",
        "*imdbId* é um identificador dos filmes usado pelo [IMDb](http://www.imdb.com)<br />\n",
        "*tmdbId* é um identificador dos filmes usado pelo [TMDB](https://www.themoviedb.org)"
      ],
      "id": "5576008b-4db4-4860-aeaa-1991644d843f"
    },
    {
      "cell_type": "markdown",
      "metadata": {
        "id": "b312197c-11e4-4021-87c7-4e1dbaaf9a1d"
      },
      "source": [
        "### Diagrama dos Dados"
      ],
      "id": "b312197c-11e4-4021-87c7-4e1dbaaf9a1d"
    },
    {
      "cell_type": "markdown",
      "metadata": {
        "id": "9f634eaf-e17f-400e-bf9e-86e52247f9d8"
      },
      "source": [
        "A partir da especificação dos dados, podemos traçar um diagrama para melhor visualizar a relação entre as diferentes tabelas. Isto nos ajudará no momento de validar e limpar os dados carregados."
      ],
      "id": "9f634eaf-e17f-400e-bf9e-86e52247f9d8"
    },
    {
      "cell_type": "markdown",
      "metadata": {
        "id": "feb22413-189d-41fe-adff-48231ab9761a"
      },
      "source": [
        "![](https://github.com/dieguim-ifsp-posCD/D1AED/blob/evaluation-01/avaliacoes/20210513-avaliacao01/recursos/20210524-diagrama_dados.png?raw=1)"
      ],
      "id": "feb22413-189d-41fe-adff-48231ab9761a"
    },
    {
      "cell_type": "markdown",
      "metadata": {
        "id": "93dbcba5-3d39-414c-8fbb-c736dbb52eaf"
      },
      "source": [
        "## Importação do Dataset"
      ],
      "id": "93dbcba5-3d39-414c-8fbb-c736dbb52eaf"
    },
    {
      "cell_type": "code",
      "metadata": {
        "id": "8d0e91ad-5ca2-404d-b1ef-3cffe20a6b92"
      },
      "source": [
        "import numpy as np\n",
        "import pandas as pd\n",
        "import matplotlib.pyplot as plt"
      ],
      "id": "8d0e91ad-5ca2-404d-b1ef-3cffe20a6b92",
      "execution_count": 1,
      "outputs": []
    },
    {
      "cell_type": "code",
      "metadata": {
        "id": "d5fa5c58-513e-44a2-8686-7cb8f3542f25"
      },
      "source": [
        "ratings_df = pd.read_csv('https://raw.githubusercontent.com/dieguim-ifsp-posCD/D1AED/evaluation-01/avaliacoes/20210513-avaliacao01/data/ml-latest-small/ratings.csv')\n",
        "tags_df    = pd.read_csv('https://raw.githubusercontent.com/dieguim-ifsp-posCD/D1AED/evaluation-01/avaliacoes/20210513-avaliacao01/data/ml-latest-small/tags.csv')\n",
        "movies_df  = pd.read_csv('https://raw.githubusercontent.com/dieguim-ifsp-posCD/D1AED/evaluation-01/avaliacoes/20210513-avaliacao01/data/ml-latest-small/movies.csv')\n",
        "links_df   = pd.read_csv('https://raw.githubusercontent.com/dieguim-ifsp-posCD/D1AED/evaluation-01/avaliacoes/20210513-avaliacao01/data/ml-latest-small/links.csv')"
      ],
      "id": "d5fa5c58-513e-44a2-8686-7cb8f3542f25",
      "execution_count": 9,
      "outputs": []
    },
    {
      "cell_type": "code",
      "metadata": {
        "id": "6cf1a23d-d856-48a7-b09c-1d812053e32b",
        "outputId": "bdd02f9d-0da8-4352-b02b-ab494a8cb48c",
        "colab": {
          "base_uri": "https://localhost:8080/",
          "height": 133
        }
      },
      "source": [
        "ratings_df.head(3)"
      ],
      "id": "6cf1a23d-d856-48a7-b09c-1d812053e32b",
      "execution_count": 4,
      "outputs": [
        {
          "output_type": "execute_result",
          "data": {
            "text/html": [
              "<div>\n",
              "<style scoped>\n",
              "    .dataframe tbody tr th:only-of-type {\n",
              "        vertical-align: middle;\n",
              "    }\n",
              "\n",
              "    .dataframe tbody tr th {\n",
              "        vertical-align: top;\n",
              "    }\n",
              "\n",
              "    .dataframe thead th {\n",
              "        text-align: right;\n",
              "    }\n",
              "</style>\n",
              "<table border=\"1\" class=\"dataframe\">\n",
              "  <thead>\n",
              "    <tr style=\"text-align: right;\">\n",
              "      <th></th>\n",
              "      <th>userId</th>\n",
              "      <th>movieId</th>\n",
              "      <th>rating</th>\n",
              "      <th>timestamp</th>\n",
              "    </tr>\n",
              "  </thead>\n",
              "  <tbody>\n",
              "    <tr>\n",
              "      <th>0</th>\n",
              "      <td>1</td>\n",
              "      <td>1</td>\n",
              "      <td>4.0</td>\n",
              "      <td>964982703</td>\n",
              "    </tr>\n",
              "    <tr>\n",
              "      <th>1</th>\n",
              "      <td>1</td>\n",
              "      <td>3</td>\n",
              "      <td>4.0</td>\n",
              "      <td>964981247</td>\n",
              "    </tr>\n",
              "    <tr>\n",
              "      <th>2</th>\n",
              "      <td>1</td>\n",
              "      <td>6</td>\n",
              "      <td>4.0</td>\n",
              "      <td>964982224</td>\n",
              "    </tr>\n",
              "  </tbody>\n",
              "</table>\n",
              "</div>"
            ],
            "text/plain": [
              "   userId  movieId  rating  timestamp\n",
              "0       1        1     4.0  964982703\n",
              "1       1        3     4.0  964981247\n",
              "2       1        6     4.0  964982224"
            ]
          },
          "metadata": {
            "tags": []
          },
          "execution_count": 4
        }
      ]
    },
    {
      "cell_type": "code",
      "metadata": {
        "id": "a27ae437-ac05-41db-bb3f-ac14f95f427a",
        "outputId": "7e91f472-1b3c-4f12-a1ca-fb164dbe6c71",
        "colab": {
          "base_uri": "https://localhost:8080/",
          "height": 133
        }
      },
      "source": [
        "tags_df.head(3)"
      ],
      "id": "a27ae437-ac05-41db-bb3f-ac14f95f427a",
      "execution_count": 5,
      "outputs": [
        {
          "output_type": "execute_result",
          "data": {
            "text/html": [
              "<div>\n",
              "<style scoped>\n",
              "    .dataframe tbody tr th:only-of-type {\n",
              "        vertical-align: middle;\n",
              "    }\n",
              "\n",
              "    .dataframe tbody tr th {\n",
              "        vertical-align: top;\n",
              "    }\n",
              "\n",
              "    .dataframe thead th {\n",
              "        text-align: right;\n",
              "    }\n",
              "</style>\n",
              "<table border=\"1\" class=\"dataframe\">\n",
              "  <thead>\n",
              "    <tr style=\"text-align: right;\">\n",
              "      <th></th>\n",
              "      <th>userId</th>\n",
              "      <th>movieId</th>\n",
              "      <th>tag</th>\n",
              "      <th>timestamp</th>\n",
              "    </tr>\n",
              "  </thead>\n",
              "  <tbody>\n",
              "    <tr>\n",
              "      <th>0</th>\n",
              "      <td>2</td>\n",
              "      <td>60756</td>\n",
              "      <td>funny</td>\n",
              "      <td>1445714994</td>\n",
              "    </tr>\n",
              "    <tr>\n",
              "      <th>1</th>\n",
              "      <td>2</td>\n",
              "      <td>60756</td>\n",
              "      <td>Highly quotable</td>\n",
              "      <td>1445714996</td>\n",
              "    </tr>\n",
              "    <tr>\n",
              "      <th>2</th>\n",
              "      <td>2</td>\n",
              "      <td>60756</td>\n",
              "      <td>will ferrell</td>\n",
              "      <td>1445714992</td>\n",
              "    </tr>\n",
              "  </tbody>\n",
              "</table>\n",
              "</div>"
            ],
            "text/plain": [
              "   userId  movieId              tag   timestamp\n",
              "0       2    60756            funny  1445714994\n",
              "1       2    60756  Highly quotable  1445714996\n",
              "2       2    60756     will ferrell  1445714992"
            ]
          },
          "metadata": {
            "tags": []
          },
          "execution_count": 5
        }
      ]
    },
    {
      "cell_type": "code",
      "metadata": {
        "id": "9fa8293a-7d0a-42c7-a6ac-866743e54de0",
        "outputId": "04bf5eba-7d76-4ac3-d13b-88e5e5dcbe28",
        "colab": {
          "base_uri": "https://localhost:8080/",
          "height": 133
        }
      },
      "source": [
        "movies_df.head(3)"
      ],
      "id": "9fa8293a-7d0a-42c7-a6ac-866743e54de0",
      "execution_count": 6,
      "outputs": [
        {
          "output_type": "execute_result",
          "data": {
            "text/html": [
              "<div>\n",
              "<style scoped>\n",
              "    .dataframe tbody tr th:only-of-type {\n",
              "        vertical-align: middle;\n",
              "    }\n",
              "\n",
              "    .dataframe tbody tr th {\n",
              "        vertical-align: top;\n",
              "    }\n",
              "\n",
              "    .dataframe thead th {\n",
              "        text-align: right;\n",
              "    }\n",
              "</style>\n",
              "<table border=\"1\" class=\"dataframe\">\n",
              "  <thead>\n",
              "    <tr style=\"text-align: right;\">\n",
              "      <th></th>\n",
              "      <th>movieId</th>\n",
              "      <th>title</th>\n",
              "      <th>genres</th>\n",
              "    </tr>\n",
              "  </thead>\n",
              "  <tbody>\n",
              "    <tr>\n",
              "      <th>0</th>\n",
              "      <td>1</td>\n",
              "      <td>Toy Story (1995)</td>\n",
              "      <td>Adventure|Animation|Children|Comedy|Fantasy</td>\n",
              "    </tr>\n",
              "    <tr>\n",
              "      <th>1</th>\n",
              "      <td>2</td>\n",
              "      <td>Jumanji (1995)</td>\n",
              "      <td>Adventure|Children|Fantasy</td>\n",
              "    </tr>\n",
              "    <tr>\n",
              "      <th>2</th>\n",
              "      <td>3</td>\n",
              "      <td>Grumpier Old Men (1995)</td>\n",
              "      <td>Comedy|Romance</td>\n",
              "    </tr>\n",
              "  </tbody>\n",
              "</table>\n",
              "</div>"
            ],
            "text/plain": [
              "   movieId  ...                                       genres\n",
              "0        1  ...  Adventure|Animation|Children|Comedy|Fantasy\n",
              "1        2  ...                   Adventure|Children|Fantasy\n",
              "2        3  ...                               Comedy|Romance\n",
              "\n",
              "[3 rows x 3 columns]"
            ]
          },
          "metadata": {
            "tags": []
          },
          "execution_count": 6
        }
      ]
    },
    {
      "cell_type": "code",
      "metadata": {
        "id": "4c3c1cbf-561c-4f18-94df-c6a753962979",
        "outputId": "9431a5a0-85fa-427e-b514-c02f4fba33e6",
        "colab": {
          "base_uri": "https://localhost:8080/",
          "height": 133
        }
      },
      "source": [
        "links_df.head(3)"
      ],
      "id": "4c3c1cbf-561c-4f18-94df-c6a753962979",
      "execution_count": 7,
      "outputs": [
        {
          "output_type": "execute_result",
          "data": {
            "text/html": [
              "<div>\n",
              "<style scoped>\n",
              "    .dataframe tbody tr th:only-of-type {\n",
              "        vertical-align: middle;\n",
              "    }\n",
              "\n",
              "    .dataframe tbody tr th {\n",
              "        vertical-align: top;\n",
              "    }\n",
              "\n",
              "    .dataframe thead th {\n",
              "        text-align: right;\n",
              "    }\n",
              "</style>\n",
              "<table border=\"1\" class=\"dataframe\">\n",
              "  <thead>\n",
              "    <tr style=\"text-align: right;\">\n",
              "      <th></th>\n",
              "      <th>movieId</th>\n",
              "      <th>imdbId</th>\n",
              "      <th>tmdbId</th>\n",
              "    </tr>\n",
              "  </thead>\n",
              "  <tbody>\n",
              "    <tr>\n",
              "      <th>0</th>\n",
              "      <td>1</td>\n",
              "      <td>114709</td>\n",
              "      <td>862.0</td>\n",
              "    </tr>\n",
              "    <tr>\n",
              "      <th>1</th>\n",
              "      <td>2</td>\n",
              "      <td>113497</td>\n",
              "      <td>8844.0</td>\n",
              "    </tr>\n",
              "    <tr>\n",
              "      <th>2</th>\n",
              "      <td>3</td>\n",
              "      <td>113228</td>\n",
              "      <td>15602.0</td>\n",
              "    </tr>\n",
              "  </tbody>\n",
              "</table>\n",
              "</div>"
            ],
            "text/plain": [
              "   movieId  imdbId   tmdbId\n",
              "0        1  114709    862.0\n",
              "1        2  113497   8844.0\n",
              "2        3  113228  15602.0"
            ]
          },
          "metadata": {
            "tags": []
          },
          "execution_count": 7
        }
      ]
    },
    {
      "cell_type": "markdown",
      "metadata": {
        "id": "b8e5855f-1014-492b-9b4a-4d9ac8989de7"
      },
      "source": [
        "### Consistência dos dados"
      ],
      "id": "b8e5855f-1014-492b-9b4a-4d9ac8989de7"
    },
    {
      "cell_type": "markdown",
      "metadata": {
        "id": "38ce27ee-4aa4-4f56-a661-57ed3bc395f4"
      },
      "source": [
        "#### Ratings"
      ],
      "id": "38ce27ee-4aa4-4f56-a661-57ed3bc395f4"
    },
    {
      "cell_type": "markdown",
      "metadata": {
        "id": "f354301a-7c10-457d-938f-e554bc895d8e"
      },
      "source": [
        "##### Linhas e Colunas"
      ],
      "id": "f354301a-7c10-457d-938f-e554bc895d8e"
    },
    {
      "cell_type": "code",
      "metadata": {
        "id": "fd9d898f-8e81-423d-98b4-76f238376caf",
        "outputId": "f9a14bda-3427-44e2-8158-8cc4a0dfdeaf"
      },
      "source": [
        "# Verificação do número de linhas e lista de colunas, de acordo com a especificação do dataset\n",
        "linhas_esperadas = 100836\n",
        "colunas_esperadas = ['userId', 'movieId', 'rating', 'timestamp']\n",
        "\n",
        "(num_linhas, num_colunas) = ratings_df.shape\n",
        "lista_colunas = list(ratings_df.columns)\n",
        "\n",
        "assert num_linhas == linhas_esperadas, 'Número de linhas não condiz com o esperado'\n",
        "assert num_colunas == len(colunas_esperadas), 'Número de colunas não condiz com o esperado'\n",
        "assert lista_colunas == colunas_esperadas, 'Colunas inconsistentes com o esperado'\n",
        "\n",
        "print(f'Número de linhas `{num_linhas}` e lista de colunas `{lista_colunas}` do DataFrame Ratings estão corretos')"
      ],
      "id": "fd9d898f-8e81-423d-98b4-76f238376caf",
      "execution_count": null,
      "outputs": [
        {
          "output_type": "stream",
          "text": [
            "Número de linhas `100836` e lista de colunas `['userId', 'movieId', 'rating', 'timestamp']` do DataFrame Ratings estão corretos\n"
          ],
          "name": "stdout"
        }
      ]
    },
    {
      "cell_type": "code",
      "metadata": {
        "id": "59ca1437-cf07-41fa-9b68-c19be4908a4d",
        "outputId": "0c2d01a6-b119-4340-c32a-c364498b2fdf"
      },
      "source": [
        "ratings_df.info()"
      ],
      "id": "59ca1437-cf07-41fa-9b68-c19be4908a4d",
      "execution_count": null,
      "outputs": [
        {
          "output_type": "stream",
          "text": [
            "<class 'pandas.core.frame.DataFrame'>\n",
            "RangeIndex: 100836 entries, 0 to 100835\n",
            "Data columns (total 4 columns):\n",
            " #   Column     Non-Null Count   Dtype  \n",
            "---  ------     --------------   -----  \n",
            " 0   userId     100836 non-null  int64  \n",
            " 1   movieId    100836 non-null  int64  \n",
            " 2   rating     100836 non-null  float64\n",
            " 3   timestamp  100836 non-null  int64  \n",
            "dtypes: float64(1), int64(3)\n",
            "memory usage: 3.1 MB\n"
          ],
          "name": "stdout"
        }
      ]
    },
    {
      "cell_type": "markdown",
      "metadata": {
        "id": "21a8732c-b919-4bfd-b8e6-dd8f7fe8d4bc"
      },
      "source": [
        "Não há nenhum valor nulo para nenhuma das colunas do DataFrame\n",
        "\n",
        "O tipo de todas as colunas é condizente com o que esperamos:\n",
        "- **userId** e **movieId** são *inteiros*, como esperado para Ids\n",
        "- **rating** é *real*, conforme esperado, pois as avaliações estão em um intervalo de 0,5 estrelas\n",
        "- **timestamp** é *inteiro*, como esperado para um valor de *Unix time*"
      ],
      "id": "21a8732c-b919-4bfd-b8e6-dd8f7fe8d4bc"
    },
    {
      "cell_type": "markdown",
      "metadata": {
        "id": "295571ba-c4cd-4f56-85f3-4943a018f741"
      },
      "source": [
        "##### userId"
      ],
      "id": "295571ba-c4cd-4f56-85f3-4943a018f741"
    },
    {
      "cell_type": "code",
      "metadata": {
        "id": "33690a7b-fb77-45dd-ac82-a1bbb77b112c",
        "outputId": "49ae8927-459e-41af-ca8b-547ee9773f4d"
      },
      "source": [
        "# Verificação da quantidade de usuários únicos\n",
        "# De acordo com especificação, todos usuários avaliaram pelo menos 20 filmes, logo todos devem estar presentes no DataFrame\n",
        "usuarios_esperados = 610\n",
        "\n",
        "num_usuarios = len(ratings_df.userId.unique())\n",
        "\n",
        "assert num_usuarios == usuarios_esperados, 'Número de usuários não condiz com o esperado'\n",
        "\n",
        "print(f'Número de usuários `{num_usuarios}` do DataFrame está correto')\n",
        "print(f'{(num_usuarios/usuarios_esperados * 100):.2f}% dos usuários realizaram avaliação de algum filme')"
      ],
      "id": "33690a7b-fb77-45dd-ac82-a1bbb77b112c",
      "execution_count": null,
      "outputs": [
        {
          "output_type": "stream",
          "text": [
            "Número de usuários `610` do DataFrame está correto\n",
            "100.00% dos usuários realizaram avaliação de algum filme\n"
          ],
          "name": "stdout"
        }
      ]
    },
    {
      "cell_type": "markdown",
      "metadata": {
        "id": "402621a6-5677-4261-acbf-d89f7550d18b"
      },
      "source": [
        "##### movieId"
      ],
      "id": "402621a6-5677-4261-acbf-d89f7550d18b"
    },
    {
      "cell_type": "code",
      "metadata": {
        "id": "116cc61c-f029-43d8-be8b-c955d538c7ad",
        "outputId": "4fe094dc-09e4-4a73-b479-b28e770f405f"
      },
      "source": [
        "# Verificação quantidade de filmes avaliados\n",
        "# A especificação não diz que todos os filmes possuem avaliação (alguns filmes podem possuir apenas rótulos),\n",
        "# portanto iremos avaliar apenas se o número de ids de filmes é menor do que o total do dataset\n",
        "filmes_maximo = 9742\n",
        "\n",
        "num_filmes = len(ratings_df.movieId.unique())\n",
        "\n",
        "assert num_filmes <= filmes_maximo, 'Número de filmes é maior do que o máximo esperado'\n",
        "\n",
        "print(f'Número de filmes `{num_filmes}` no DataFrame está dentro do limite máximo esperado')\n",
        "print(f'{(num_filmes/filmes_maximo * 100):.2f}% dos filmes receberam pelo menos uma avaliação')"
      ],
      "id": "116cc61c-f029-43d8-be8b-c955d538c7ad",
      "execution_count": null,
      "outputs": [
        {
          "output_type": "stream",
          "text": [
            "Número de filmes `9724` no DataFrame está dentro do limite máximo esperado\n",
            "99.82% dos filmes receberam pelo menos uma avaliação\n"
          ],
          "name": "stdout"
        }
      ]
    },
    {
      "cell_type": "markdown",
      "metadata": {
        "id": "8a31f0fd-19c3-496b-9457-a1a5d04554e1"
      },
      "source": [
        "##### rating"
      ],
      "id": "8a31f0fd-19c3-496b-9457-a1a5d04554e1"
    },
    {
      "cell_type": "code",
      "metadata": {
        "id": "8d20558c-c469-4b3b-95dc-8b7ddb91c72a",
        "outputId": "265e2fcd-3271-4733-959a-d8a0eb831aa9"
      },
      "source": [
        "# Verificação das avaliações (mais importante)\n",
        "# De acordo com a especificação, as notas estão no intervalo [0.5, 5.0], com saltos de 0.5\n",
        "avaliacoes_esperadas = np.arange(0.5, 5.1, 0.5) # Colocamos um valor ligeiramente maior que 5.0 como 'stop' para que o '5.0' seja incluido\n",
        "\n",
        "lista_avaliacoes = ratings_df.rating.unique()\n",
        "\n",
        "assert set(lista_avaliacoes).issubset(set(avaliacoes_esperadas)), 'Lista de avaliações possui valores diferentes do esperado'\n",
        "\n",
        "print(f'Avaliações `{lista_avaliacoes}` dos registros do DataFrame estão dentro do conjunto esperado')"
      ],
      "id": "8d20558c-c469-4b3b-95dc-8b7ddb91c72a",
      "execution_count": null,
      "outputs": [
        {
          "output_type": "stream",
          "text": [
            "Avaliações `[4.  5.  3.  2.  1.  4.5 3.5 2.5 0.5 1.5]` dos registros do DataFrame estão dentro do conjunto esperado\n"
          ],
          "name": "stdout"
        }
      ]
    },
    {
      "cell_type": "markdown",
      "metadata": {
        "id": "d022878f-6d67-45f5-9d5a-bc6b7cec0334"
      },
      "source": [
        "#### Tags"
      ],
      "id": "d022878f-6d67-45f5-9d5a-bc6b7cec0334"
    },
    {
      "cell_type": "markdown",
      "metadata": {
        "id": "d74474d7-8967-4202-af64-d8eaae9849e3"
      },
      "source": [
        "##### Linhas e Colunas"
      ],
      "id": "d74474d7-8967-4202-af64-d8eaae9849e3"
    },
    {
      "cell_type": "code",
      "metadata": {
        "id": "aad8d290-2b6d-415d-bdb2-a3aaa50780b7",
        "outputId": "6c8afe26-67b5-4081-babd-7fd478280392"
      },
      "source": [
        "# Verificação do número de linhas e lista de colunas, de acordo com a especificação do dataset\n",
        "linhas_esperadas = 3683\n",
        "colunas_esperadas = ['userId', 'movieId', 'tag', 'timestamp']\n",
        "\n",
        "(num_linhas, num_colunas) = tags_df.shape\n",
        "lista_colunas = list(tags_df.columns)\n",
        "\n",
        "assert num_linhas == linhas_esperadas, 'Número de linhas não condiz com o esperado'\n",
        "assert num_colunas == len(colunas_esperadas), 'Número de colunas não condiz com o esperado'\n",
        "assert lista_colunas == colunas_esperadas, 'Colunas inconsistentes com o esperado'\n",
        "\n",
        "print(f'Número de linhas `{num_linhas}` e lista de colunas `{lista_colunas}` do DataFrame Tags estão corretos')"
      ],
      "id": "aad8d290-2b6d-415d-bdb2-a3aaa50780b7",
      "execution_count": null,
      "outputs": [
        {
          "output_type": "stream",
          "text": [
            "Número de linhas `3683` e lista de colunas `['userId', 'movieId', 'tag', 'timestamp']` do DataFrame Tags estão corretos\n"
          ],
          "name": "stdout"
        }
      ]
    },
    {
      "cell_type": "code",
      "metadata": {
        "id": "7f162dd7-ab69-4ad4-a9e4-2db918d6b2fb",
        "outputId": "fa9402da-b495-419d-f16d-fe52cfa5b2ef"
      },
      "source": [
        "tags_df.info()"
      ],
      "id": "7f162dd7-ab69-4ad4-a9e4-2db918d6b2fb",
      "execution_count": null,
      "outputs": [
        {
          "output_type": "stream",
          "text": [
            "<class 'pandas.core.frame.DataFrame'>\n",
            "RangeIndex: 3683 entries, 0 to 3682\n",
            "Data columns (total 4 columns):\n",
            " #   Column     Non-Null Count  Dtype \n",
            "---  ------     --------------  ----- \n",
            " 0   userId     3683 non-null   int64 \n",
            " 1   movieId    3683 non-null   int64 \n",
            " 2   tag        3683 non-null   object\n",
            " 3   timestamp  3683 non-null   int64 \n",
            "dtypes: int64(3), object(1)\n",
            "memory usage: 115.2+ KB\n"
          ],
          "name": "stdout"
        }
      ]
    },
    {
      "cell_type": "markdown",
      "metadata": {
        "id": "c14e29f9-16a5-4209-920c-7b86d9125e24"
      },
      "source": [
        "Não há nenhum valor nulo para nenhuma das colunas do DataFrame\n",
        "\n",
        "O tipo de todas as colunas é condizente com o que esperamos:\n",
        "- **userId** e **movieId** são *inteiros*, como esperado para Ids\n",
        "- **tags** é *object*, conforme esperado, pois as tags são *strings*\n",
        "- **timestamp** é *inteiro*, como esperado para um valor de *Unix time*"
      ],
      "id": "c14e29f9-16a5-4209-920c-7b86d9125e24"
    },
    {
      "cell_type": "markdown",
      "metadata": {
        "id": "0c81a7a1-e162-4bc8-9305-14252efa8d8f"
      },
      "source": [
        "##### userId"
      ],
      "id": "0c81a7a1-e162-4bc8-9305-14252efa8d8f"
    },
    {
      "cell_type": "code",
      "metadata": {
        "id": "e99296e2-7905-45cf-9630-05c0f550ceec",
        "outputId": "10837467-60ec-4b9e-bdc0-84d8a10b3a8e"
      },
      "source": [
        "# Verificação da quantidade de usuários únicos\n",
        "# A especificação não diz que todos os usuários rotularam filmes,\n",
        "# portanto podemos avaliar apenas se o número de usuários é menor que o máximo do dataset\n",
        "usuarios_maximo = 610\n",
        "\n",
        "num_usuarios = len(tags_df.userId.unique())\n",
        "\n",
        "assert num_usuarios <= usuarios_esperados, 'Número de usuários é maior que o máximo esperado'\n",
        "\n",
        "print(f'Número de usuários `{num_usuarios}` do DataFrame está dentro do limite máximo esperado')\n",
        "print(f'{(num_usuarios/usuarios_maximo * 100):.2f}% dos usuários rotularam algum filme')"
      ],
      "id": "e99296e2-7905-45cf-9630-05c0f550ceec",
      "execution_count": null,
      "outputs": [
        {
          "output_type": "stream",
          "text": [
            "Número de usuários `58` do DataFrame está dentro do limite máximo esperado\n",
            "9.51% dos usuários rotularam algum filme\n"
          ],
          "name": "stdout"
        }
      ]
    },
    {
      "cell_type": "markdown",
      "metadata": {
        "id": "cc6e6d64-0dee-4dd3-a955-b68be39c93ec"
      },
      "source": [
        "O número de usuários presentes no DataFrame de *tags* é consideravelmente pequeno.\n",
        "\n",
        "**TODO: Verificar se essa é uma relação interessante de ser explorada**"
      ],
      "id": "cc6e6d64-0dee-4dd3-a955-b68be39c93ec"
    },
    {
      "cell_type": "markdown",
      "metadata": {
        "id": "b3fa142f-1b0f-411d-8081-4587aa8d6967"
      },
      "source": [
        "##### movieId"
      ],
      "id": "b3fa142f-1b0f-411d-8081-4587aa8d6967"
    },
    {
      "cell_type": "code",
      "metadata": {
        "id": "eea8930b-e5fa-4a50-bfb0-4bbc12003705",
        "outputId": "d6a50022-d94e-4bf6-dcb8-e4f931e503d7"
      },
      "source": [
        "# Verificação quantidade de filmes avaliados\n",
        "# A especificação não diz que todos os filmes possuem rótulos,\n",
        "# portanto iremos avaliar apenas se o número de ids de filmes é menor do que o total do dataset\n",
        "filmes_maximo = 9742\n",
        "\n",
        "num_filmes = len(tags_df.movieId.unique())\n",
        "\n",
        "assert num_filmes <= filmes_maximo, 'Número de filmes é maior do que o máximo esperado'\n",
        "\n",
        "print(f'Número de filmes `{num_filmes}` no DataFrame está dentro do limite máximo esperado')\n",
        "print(f'{(num_filmes/filmes_maximo * 100):.2f}% dos filmes receberam pelo menos um rótulo')"
      ],
      "id": "eea8930b-e5fa-4a50-bfb0-4bbc12003705",
      "execution_count": null,
      "outputs": [
        {
          "output_type": "stream",
          "text": [
            "Número de filmes `1572` no DataFrame está dentro do limite máximo esperado\n",
            "16.14% dos filmes receberam pelo menos um rótulo\n"
          ],
          "name": "stdout"
        }
      ]
    },
    {
      "cell_type": "markdown",
      "metadata": {
        "id": "64a4715c-9658-4faa-91f5-10fa32dd58ca"
      },
      "source": [
        "O número de filmes *rotulados* é consideravelmente pequeno.\n",
        "\n",
        "**TODO: Verificar se essa é uma relação interessante de ser explorada**"
      ],
      "id": "64a4715c-9658-4faa-91f5-10fa32dd58ca"
    },
    {
      "cell_type": "markdown",
      "metadata": {
        "id": "f3e648ed-8d7c-47c6-bae5-33ea4dddec26"
      },
      "source": [
        "##### tags"
      ],
      "id": "f3e648ed-8d7c-47c6-bae5-33ea4dddec26"
    },
    {
      "cell_type": "code",
      "metadata": {
        "id": "35ab7aba-79bb-4a22-84a8-e853107edae8",
        "outputId": "2129d0a1-a082-4721-cea2-1ccfd1067634"
      },
      "source": [
        "# Verificação dos rótulos\n",
        "# De acordo com a especificação, os rótulos em geral são palavras únicas ou frases curtas\n",
        "\n",
        "# Separa o campo tags em uma lista de palavras\n",
        "lista_palavras = tags_df.tag.str.split()\n",
        "\n",
        "# Verifica quantos elementos contém cada lista (ou seja, quantas palavras o rótulo possui) e agrega os valores\n",
        "palavras_tag = lista_palavras.apply(len).value_counts().to_frame().reset_index()\n",
        "palavras_tag.columns = ['Palavras na Tag', 'Número de Registros']\n",
        "palavras_tag['% Registros'] = palavras_tag['Número de Registros'] / palavras_tag['Número de Registros'].sum()\n",
        "palavras_tag"
      ],
      "id": "35ab7aba-79bb-4a22-84a8-e853107edae8",
      "execution_count": null,
      "outputs": [
        {
          "output_type": "execute_result",
          "data": {
            "text/html": [
              "<div>\n",
              "<style scoped>\n",
              "    .dataframe tbody tr th:only-of-type {\n",
              "        vertical-align: middle;\n",
              "    }\n",
              "\n",
              "    .dataframe tbody tr th {\n",
              "        vertical-align: top;\n",
              "    }\n",
              "\n",
              "    .dataframe thead th {\n",
              "        text-align: right;\n",
              "    }\n",
              "</style>\n",
              "<table border=\"1\" class=\"dataframe\">\n",
              "  <thead>\n",
              "    <tr style=\"text-align: right;\">\n",
              "      <th></th>\n",
              "      <th>Palavras na Tag</th>\n",
              "      <th>Número de Registros</th>\n",
              "      <th>% Registros</th>\n",
              "    </tr>\n",
              "  </thead>\n",
              "  <tbody>\n",
              "    <tr>\n",
              "      <th>0</th>\n",
              "      <td>1</td>\n",
              "      <td>2282</td>\n",
              "      <td>0.619604</td>\n",
              "    </tr>\n",
              "    <tr>\n",
              "      <th>1</th>\n",
              "      <td>2</td>\n",
              "      <td>1057</td>\n",
              "      <td>0.286994</td>\n",
              "    </tr>\n",
              "    <tr>\n",
              "      <th>2</th>\n",
              "      <td>3</td>\n",
              "      <td>275</td>\n",
              "      <td>0.074667</td>\n",
              "    </tr>\n",
              "    <tr>\n",
              "      <th>3</th>\n",
              "      <td>4</td>\n",
              "      <td>43</td>\n",
              "      <td>0.011675</td>\n",
              "    </tr>\n",
              "    <tr>\n",
              "      <th>4</th>\n",
              "      <td>5</td>\n",
              "      <td>16</td>\n",
              "      <td>0.004344</td>\n",
              "    </tr>\n",
              "    <tr>\n",
              "      <th>5</th>\n",
              "      <td>7</td>\n",
              "      <td>4</td>\n",
              "      <td>0.001086</td>\n",
              "    </tr>\n",
              "    <tr>\n",
              "      <th>6</th>\n",
              "      <td>6</td>\n",
              "      <td>3</td>\n",
              "      <td>0.000815</td>\n",
              "    </tr>\n",
              "    <tr>\n",
              "      <th>7</th>\n",
              "      <td>8</td>\n",
              "      <td>1</td>\n",
              "      <td>0.000272</td>\n",
              "    </tr>\n",
              "    <tr>\n",
              "      <th>8</th>\n",
              "      <td>10</td>\n",
              "      <td>1</td>\n",
              "      <td>0.000272</td>\n",
              "    </tr>\n",
              "    <tr>\n",
              "      <th>9</th>\n",
              "      <td>16</td>\n",
              "      <td>1</td>\n",
              "      <td>0.000272</td>\n",
              "    </tr>\n",
              "  </tbody>\n",
              "</table>\n",
              "</div>"
            ],
            "text/plain": [
              "   Palavras na Tag  Número de Registros  % Registros\n",
              "0                1                 2282     0.619604\n",
              "1                2                 1057     0.286994\n",
              "2                3                  275     0.074667\n",
              "3                4                   43     0.011675\n",
              "4                5                   16     0.004344\n",
              "5                7                    4     0.001086\n",
              "6                6                    3     0.000815\n",
              "7                8                    1     0.000272\n",
              "8               10                    1     0.000272\n",
              "9               16                    1     0.000272"
            ]
          },
          "metadata": {
            "tags": []
          },
          "execution_count": 16
        }
      ]
    },
    {
      "cell_type": "markdown",
      "metadata": {
        "id": "045adbd1-fd65-4b62-89ba-47ded1eedc1d"
      },
      "source": [
        "Aqui é uma avaliação um pouco subjetiva, porém a maioria dos registros (mais de *98%*) de *rótulos* possui até 3 palavras. É possível que os *outliers* não sejam *rótulos* significativos para o seu propósito.\n",
        "\n",
        "**TODO: Verificar os rótulos com *outlier* de palavras**"
      ],
      "id": "045adbd1-fd65-4b62-89ba-47ded1eedc1d"
    },
    {
      "cell_type": "markdown",
      "metadata": {
        "id": "c0d23794-ccda-4f76-be8d-8c670d8ab15b"
      },
      "source": [
        "#### Movies"
      ],
      "id": "c0d23794-ccda-4f76-be8d-8c670d8ab15b"
    },
    {
      "cell_type": "markdown",
      "metadata": {
        "id": "1a45b0c0-9a30-4d7a-84c2-e7a76aeca7e8"
      },
      "source": [
        "##### Linhas e Colunas"
      ],
      "id": "1a45b0c0-9a30-4d7a-84c2-e7a76aeca7e8"
    },
    {
      "cell_type": "code",
      "metadata": {
        "id": "c047ac60-78de-429e-b1a2-85c5cafddbd8",
        "outputId": "b4e6b1e3-736e-4369-9539-2c59ae29b7af"
      },
      "source": [
        "# Verificação do número de linhas e lista de colunas, de acordo com a especificação do dataset\n",
        "linhas_esperadas = 9742\n",
        "colunas_esperadas = ['movieId', 'title', 'genres']\n",
        "\n",
        "(num_linhas, num_colunas) = movies_df.shape\n",
        "lista_colunas = list(movies_df.columns)\n",
        "\n",
        "assert num_linhas == linhas_esperadas, 'Número de linhas não condiz com o esperado'\n",
        "assert num_colunas == len(colunas_esperadas), 'Número de colunas não condiz com o esperado'\n",
        "assert lista_colunas == colunas_esperadas, 'Colunas inconsistentes com o esperado'\n",
        "\n",
        "print(f'Número de linhas `{num_linhas}` e lista de colunas `{lista_colunas}` do DataFrame Movies estão corretos')"
      ],
      "id": "c047ac60-78de-429e-b1a2-85c5cafddbd8",
      "execution_count": null,
      "outputs": [
        {
          "output_type": "stream",
          "text": [
            "Número de linhas `9742` e lista de colunas `['movieId', 'title', 'genres']` do DataFrame Movies estão corretos\n"
          ],
          "name": "stdout"
        }
      ]
    },
    {
      "cell_type": "code",
      "metadata": {
        "id": "cd56d6ea-104b-4311-b712-4b2a01208478",
        "outputId": "b85fe0cf-f7b5-4336-cb8c-784c02f94a7a"
      },
      "source": [
        "movies_df.info()"
      ],
      "id": "cd56d6ea-104b-4311-b712-4b2a01208478",
      "execution_count": null,
      "outputs": [
        {
          "output_type": "stream",
          "text": [
            "<class 'pandas.core.frame.DataFrame'>\n",
            "RangeIndex: 9742 entries, 0 to 9741\n",
            "Data columns (total 3 columns):\n",
            " #   Column   Non-Null Count  Dtype \n",
            "---  ------   --------------  ----- \n",
            " 0   movieId  9742 non-null   int64 \n",
            " 1   title    9742 non-null   object\n",
            " 2   genres   9742 non-null   object\n",
            "dtypes: int64(1), object(2)\n",
            "memory usage: 228.5+ KB\n"
          ],
          "name": "stdout"
        }
      ]
    },
    {
      "cell_type": "markdown",
      "metadata": {
        "id": "2737715a-642f-49ba-8f01-25e917209805"
      },
      "source": [
        "Não há nenhum valor nulo para nenhuma das colunas do DataFrame\n",
        "\n",
        "O tipo de todas as colunas é condizente com o que esperamos:\n",
        "- **movieId** é *inteiros*, como esperado para Ids\n",
        "- **title** é *object*, conforme esperado, pois os títulos são *strings*\n",
        "- **genres** é *object*, conforme esperado, pois os gêneros são *strings*"
      ],
      "id": "2737715a-642f-49ba-8f01-25e917209805"
    },
    {
      "cell_type": "markdown",
      "metadata": {
        "id": "c14df620-3b9f-4212-b393-49125b726f45"
      },
      "source": [
        "##### movieId"
      ],
      "id": "c14df620-3b9f-4212-b393-49125b726f45"
    },
    {
      "cell_type": "code",
      "metadata": {
        "id": "e1fce018-7b6e-42af-b281-4ffac97eee27",
        "outputId": "da55aa91-ddf3-4a8a-f172-1446984b44d3"
      },
      "source": [
        "# Verificação quantidade de filmes\n",
        "filmes_esperados = 9742\n",
        "\n",
        "num_filmes = len(movies_df.movieId.unique())\n",
        "\n",
        "assert num_filmes == filmes_esperados, 'Número de filmes não condiz com o esperado'\n",
        "\n",
        "print(f'Número de filmes `{num_filmes}` no DataFrame está correto de acordo com a especificação')"
      ],
      "id": "e1fce018-7b6e-42af-b281-4ffac97eee27",
      "execution_count": null,
      "outputs": [
        {
          "output_type": "stream",
          "text": [
            "Número de filmes `9742` no DataFrame está correto de acordo com a especificação\n"
          ],
          "name": "stdout"
        }
      ]
    },
    {
      "cell_type": "markdown",
      "metadata": {
        "id": "04222ad9-14ce-40da-93a9-d30c758b47f8"
      },
      "source": [
        "##### title"
      ],
      "id": "04222ad9-14ce-40da-93a9-d30c758b47f8"
    },
    {
      "cell_type": "code",
      "metadata": {
        "id": "86b7e18d-21a5-41d3-a439-db8ed7142a41",
        "outputId": "de96cefd-74a3-4b85-c835-f5e11e48cc15"
      },
      "source": [
        "# Verificação dos títulos\n",
        "# Como títulos são strings, vamos verificar apenas se possuem alguma repetição ou valor vazio\n",
        "\n",
        "duplicados = movies_df[movies_df.title.duplicated()]\n",
        "vazios = movies_df[movies_df.title == '']\n",
        "\n",
        "print(f'Existe `{len(duplicados)}` filmes com títulos duplicados. E {len(vazios)} com título vazio')"
      ],
      "id": "86b7e18d-21a5-41d3-a439-db8ed7142a41",
      "execution_count": null,
      "outputs": [
        {
          "output_type": "stream",
          "text": [
            "Existe `5` filmes com títulos duplicados. E 0 com título vazio\n"
          ],
          "name": "stdout"
        }
      ]
    },
    {
      "cell_type": "markdown",
      "metadata": {
        "id": "1bade8f5-3c9a-4e67-913a-011ca93cd532"
      },
      "source": [
        "**TODO: Tratar esses títulos duplicados. Sugestão: unificar em um único ID (inclusive a lista de gêneros) e realizar as substituições correspondentes nos dfs de ratings e tags**"
      ],
      "id": "1bade8f5-3c9a-4e67-913a-011ca93cd532"
    },
    {
      "cell_type": "markdown",
      "metadata": {
        "id": "94b0cb36-5ac7-4a35-aee3-b04d7da03209"
      },
      "source": [
        "##### genres"
      ],
      "id": "94b0cb36-5ac7-4a35-aee3-b04d7da03209"
    },
    {
      "cell_type": "code",
      "metadata": {
        "id": "bd1ed884-6373-4904-9e12-db6639d5c99d",
        "outputId": "84507d1a-9077-4305-bef8-f5a11739473d"
      },
      "source": [
        "generos_esperados = [\n",
        "    \"Action\", \"Adventure\", \"Animation\", \"Children's\", \"Comedy\", \"Crime\", \"Documentary\", \"Drama\", \"Fantasy\", \"Film-Noir\",\n",
        "    \"Horror\", \"Musical\", \"Mystery\", \"Romance\", \"Sci-Fi\", \"Thriller\", \"War\", \"Western\", \"(no genres listed)\"\n",
        "]\n",
        "\n",
        "# Separa o campo genres em uma lista de gêneros\n",
        "lista_generos = movies_df.genres.str.split(\"|\")\n",
        "\n",
        "# Transforma a lista de listas de gêneros em uma só Series com todos os valores\n",
        "# https://towardsdatascience.com/dealing-with-list-values-in-pandas-dataframes-a177e534f173\n",
        "todos_generos = pd.Series([x for _list in lista_generos for x in _list])\n",
        "\n",
        "# Vamos verificar se os gêneros no nosso dataset estão todos dentro da lista esperada\n",
        "try:\n",
        "    assert set(todos_generos.unique()).issubset(generos_esperados), 'Existe gêneros que não são esperados'\n",
        "except Exception as e:\n",
        "    print(type(e), e)\n",
        "    \n",
        "# Quais gêneros não são esperados?\n",
        "print('Gêneros no dataset diferentes do esperado:',np.setdiff1d(todos_generos,generos_esperados))"
      ],
      "id": "bd1ed884-6373-4904-9e12-db6639d5c99d",
      "execution_count": null,
      "outputs": [
        {
          "output_type": "stream",
          "text": [
            "<class 'AssertionError'> Existe gêneros que não são esperados\n",
            "Gêneros no dataset diferentes do esperado: ['Children' 'IMAX']\n"
          ],
          "name": "stdout"
        }
      ]
    },
    {
      "cell_type": "markdown",
      "metadata": {
        "id": "42d86090-81b9-4f91-b3f3-edf3ec143c41"
      },
      "source": [
        "Existem dois gêneros presentes no *dataset* que não são esperados, de acordo com a especificação: **Children** e **IMAX**\n",
        "\n",
        "No caso de **Children**, parece que houve um erro na especificação do *dataset*. Vamos sustituir o valor esperado de **Children's** para **Children**"
      ],
      "id": "42d86090-81b9-4f91-b3f3-edf3ec143c41"
    },
    {
      "cell_type": "code",
      "metadata": {
        "id": "076c828b-5b80-4d11-b051-4b340d187b64",
        "outputId": "52fafc47-5093-44c4-bb18-f39e5fbffae4"
      },
      "source": [
        "try:\n",
        "    generos_esperados[generos_esperados.index(\"Children's\")] = \"Children\"\n",
        "except:\n",
        "    print(\"Children's já foi substituido. Continuando...\")\n",
        "    \n",
        "print('Gêneros no dataset diferentes do esperado:',np.setdiff1d(todos_generos,generos_esperados))"
      ],
      "id": "076c828b-5b80-4d11-b051-4b340d187b64",
      "execution_count": null,
      "outputs": [
        {
          "output_type": "stream",
          "text": [
            "Gêneros no dataset diferentes do esperado: ['IMAX']\n"
          ],
          "name": "stdout"
        }
      ]
    },
    {
      "cell_type": "markdown",
      "metadata": {
        "id": "48511d97-0669-4412-95f5-0cdf70136534"
      },
      "source": [
        "Agora só temos o gênero **IMAX** que não está especificiado.\n",
        "\n",
        "Vamos ver quantas vezes ele ocorre"
      ],
      "id": "48511d97-0669-4412-95f5-0cdf70136534"
    },
    {
      "cell_type": "code",
      "metadata": {
        "id": "23b32b8a-d5d8-489b-82b1-75ed26ad27ba",
        "outputId": "055e9a02-a251-464c-dbb3-ca432ce5d7fd"
      },
      "source": [
        "(todos_generos == 'IMAX').sum()"
      ],
      "id": "23b32b8a-d5d8-489b-82b1-75ed26ad27ba",
      "execution_count": null,
      "outputs": [
        {
          "output_type": "execute_result",
          "data": {
            "text/plain": [
              "158"
            ]
          },
          "metadata": {
            "tags": []
          },
          "execution_count": 23
        }
      ]
    },
    {
      "cell_type": "markdown",
      "metadata": {
        "id": "70198c93-8364-4f34-8cc3-3e3ddefde999"
      },
      "source": [
        "**TODO: Que fazer nesse caso? Sugestão: simplesmente ignorar que IMAX não é um valor esperado e tratar como sendo um gênero válido**"
      ],
      "id": "70198c93-8364-4f34-8cc3-3e3ddefde999"
    },
    {
      "cell_type": "markdown",
      "metadata": {
        "id": "8621267c-f894-42c0-90fb-eba4fcec1b28"
      },
      "source": [
        "#### Links"
      ],
      "id": "8621267c-f894-42c0-90fb-eba4fcec1b28"
    },
    {
      "cell_type": "markdown",
      "metadata": {
        "id": "7c0de274-4147-47e1-b26e-c02c51c1de32"
      },
      "source": [
        "Os atributos deste dataset não nos parece necessário para as análises desejadas. Desta forma, iremos desconsiderá-lo a partir de agora"
      ],
      "id": "7c0de274-4147-47e1-b26e-c02c51c1de32"
    },
    {
      "cell_type": "markdown",
      "metadata": {
        "id": "9b073f6a-93d9-4032-b418-ac2449609c2b"
      },
      "source": [
        "#### *userId* em `ratings` e `tags`"
      ],
      "id": "9b073f6a-93d9-4032-b418-ac2449609c2b"
    },
    {
      "cell_type": "code",
      "metadata": {
        "id": "03dfba32-9136-48e6-9e88-f4aed0d3eda1",
        "outputId": "c6f33e23-a66d-466e-bf24-7853f47568ba"
      },
      "source": [
        "# Verificar se os usuários de tags são um subconjunto dos usuários de ratings,\n",
        "# uma vez que este possui a lista completa de usuários\n",
        "\n",
        "usuarios_ratings = ratings_df.userId.unique()\n",
        "usuarios_tags = tags_df.userId.unique()\n",
        "\n",
        "assert set(usuarios_tags).issubset(set(usuarios_ratings)), 'Existem usuários em `tags` que não estão presentes em `ratings`'\n",
        "\n",
        "print(f'Os {len(usuarios_tags)} usuários em `tags` são um subconjunto dos {len(usuarios_ratings)} usuários em `ratings`')"
      ],
      "id": "03dfba32-9136-48e6-9e88-f4aed0d3eda1",
      "execution_count": null,
      "outputs": [
        {
          "output_type": "stream",
          "text": [
            "Os 58 usuários em `tags` são um subconjunto dos 610 usuários em `ratings`\n"
          ],
          "name": "stdout"
        }
      ]
    },
    {
      "cell_type": "markdown",
      "metadata": {
        "id": "12cebfe1-cf2b-484e-b0ac-98aa22ffb18d"
      },
      "source": [
        "#### *movieId* em `ratings`, `tags` e `movies`"
      ],
      "id": "12cebfe1-cf2b-484e-b0ac-98aa22ffb18d"
    },
    {
      "cell_type": "code",
      "metadata": {
        "id": "6d93f04b-7b76-40cd-9586-653f7a915885",
        "outputId": "da38a796-e932-4d0a-bb0f-b576960cf304"
      },
      "source": [
        "# Verificar se os Ids de filmes em ratings e tags são um subconjunto dos filmes em movies\n",
        "\n",
        "filmes_ratings = ratings_df.movieId.unique()\n",
        "filmes_tags = tags_df.movieId.unique()\n",
        "filmes_movies = movies_df.movieId.unique()\n",
        "\n",
        "assert set(filmes_ratings).issubset(set(filmes_movies)), 'Existem filmes em `ratings` que não estão presentes em `movies`'\n",
        "assert set(filmes_tags).issubset(set(filmes_movies)), 'Existem filmes em `tags` que não estão presentes em `movies`'\n",
        "\n",
        "print(f'Os {len(filmes_ratings)} filmes em `ratings` e os {len(filmes_tags)} em `tags` são um subconjunto dos {len(filmes_movies)} filmes do DataFrame `movies`')"
      ],
      "id": "6d93f04b-7b76-40cd-9586-653f7a915885",
      "execution_count": null,
      "outputs": [
        {
          "output_type": "stream",
          "text": [
            "Os 9724 filmes em `ratings` e os 1572 em `tags` são um subconjunto dos 9742 filmes do DataFrame `movies`\n"
          ],
          "name": "stdout"
        }
      ]
    },
    {
      "cell_type": "code",
      "metadata": {
        "id": "a3cb7245-c436-4615-a052-056b230d3700",
        "outputId": "0e7497de-530a-4f42-8f17-0dbf4541a025"
      },
      "source": [
        "# Verificar se todos os filmes em movies receberam ao menos uma avaliação ou rótulo\n",
        "\n",
        "assert set(np.concatenate((filmes_ratings, filmes_tags))) == set(movies_df.movieId), 'Conjunto de movieId nos DataFrames `ratings` e `tags` difere dos Ids no DataFrame `movies`'\n",
        "\n",
        "print('O conjunto de movieId nos DataFrames `ratings` e `tags` é o mesmo dos filmes no DataFrame `movies`')"
      ],
      "id": "a3cb7245-c436-4615-a052-056b230d3700",
      "execution_count": null,
      "outputs": [
        {
          "output_type": "stream",
          "text": [
            "O conjunto de movieId nos DataFrames `ratings` e `tags` é o mesmo dos filmes no DataFrame `movies`\n"
          ],
          "name": "stdout"
        }
      ]
    },
    {
      "cell_type": "markdown",
      "metadata": {
        "id": "1d10741e-349a-4374-b6c1-c58c7728fdf7"
      },
      "source": [
        "#### Avaliações e rótulos duplicados de um mesmo filme por determinado usuário"
      ],
      "id": "1d10741e-349a-4374-b6c1-c58c7728fdf7"
    },
    {
      "cell_type": "code",
      "metadata": {
        "id": "648d441b-b021-4ec9-ae4a-45d65ea17a63",
        "outputId": "80924c9c-0c66-4946-e352-13429b8fe9e2"
      },
      "source": [
        "# Um mesmo usuário realizou mais de uma avaliação de um determinado filme?\n",
        "avaliacoes_duplicadas = ratings_df[ratings_df.duplicated(subset=['userId', 'movieId'])]\n",
        "\n",
        "# Um mesmo usuário atribuiu um determinado rótulo mais de uma vez para um determinado filme?\n",
        "rotulos_duplicados = tags_df[tags_df.duplicated(subset=['userId', 'movieId', 'tag'])]\n",
        "\n",
        "assert len(avaliacoes_duplicadas) == 0, 'Existem avaliações duplicadas'\n",
        "assert len(rotulos_duplicados) == 0, 'Existem rótulos duplicados'\n",
        "\n",
        "print('Nenhuma avaliação ou rótulo duplicado no dataset')"
      ],
      "id": "648d441b-b021-4ec9-ae4a-45d65ea17a63",
      "execution_count": null,
      "outputs": [
        {
          "output_type": "stream",
          "text": [
            "Nenhuma avaliação ou rótulo duplicado no dataset\n"
          ],
          "name": "stdout"
        }
      ]
    },
    {
      "cell_type": "markdown",
      "metadata": {
        "id": "aedd8fb6-639f-4974-9ae3-e9a4382dab0f"
      },
      "source": [
        "## Limpeza dos Dados"
      ],
      "id": "aedd8fb6-639f-4974-9ae3-e9a4382dab0f"
    },
    {
      "cell_type": "markdown",
      "metadata": {
        "id": "46224d31-51ab-411b-9a44-3bd4b1ff0cb0"
      },
      "source": [
        "### Rótulos com muitas palavras"
      ],
      "id": "46224d31-51ab-411b-9a44-3bd4b1ff0cb0"
    },
    {
      "cell_type": "markdown",
      "metadata": {
        "id": "4c5f76c9-a7d0-4fd8-81ee-8fe261d5e701"
      },
      "source": [
        "### Títulos duplicados"
      ],
      "id": "4c5f76c9-a7d0-4fd8-81ee-8fe261d5e701"
    },
    {
      "cell_type": "markdown",
      "metadata": {
        "id": "445061e5-93d3-4e90-89c9-cb46abdb3763"
      },
      "source": [
        "### Gêneros não especificados\n",
        "#### IMAX"
      ],
      "id": "445061e5-93d3-4e90-89c9-cb46abdb3763"
    },
    {
      "cell_type": "markdown",
      "metadata": {
        "id": "f96988eb-7b06-45b1-8e18-e425d6569858"
      },
      "source": [
        "## Pré-processamento"
      ],
      "id": "f96988eb-7b06-45b1-8e18-e425d6569858"
    },
    {
      "cell_type": "markdown",
      "metadata": {
        "id": "ea13dc4a-47c8-4114-beca-02ab8705abc9"
      },
      "source": [
        "### Separação do ano do título"
      ],
      "id": "ea13dc4a-47c8-4114-beca-02ab8705abc9"
    },
    {
      "cell_type": "markdown",
      "metadata": {
        "id": "8a8e8181-f643-479d-9bd0-51a1526bc53c"
      },
      "source": [
        "## Exploração"
      ],
      "id": "8a8e8181-f643-479d-9bd0-51a1526bc53c"
    },
    {
      "cell_type": "markdown",
      "metadata": {
        "id": "9e1e0b90-822d-4bbf-bd79-3e0ec3414317"
      },
      "source": [
        "### Baixa proporção de tags"
      ],
      "id": "9e1e0b90-822d-4bbf-bd79-3e0ec3414317"
    },
    {
      "cell_type": "markdown",
      "metadata": {
        "id": "6b17d27d-40a3-495b-9ebf-abbe06ceff81"
      },
      "source": [
        "#### Filmes rotulados por um usuário também são avaliados por ele?"
      ],
      "id": "6b17d27d-40a3-495b-9ebf-abbe06ceff81"
    },
    {
      "cell_type": "markdown",
      "metadata": {
        "id": "XEEbfstmIxsQ"
      },
      "source": [
        "teste de salvamento no github"
      ],
      "id": "XEEbfstmIxsQ"
    }
  ]
}