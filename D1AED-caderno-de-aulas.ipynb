{
 "cells": [
  {
   "cell_type": "markdown",
   "id": "4bb6aef6",
   "metadata": {},
   "source": [
    "# D1AED - Análise Estatística para Ciência de Dados\n",
    "\n",
    "- Professores [Samuel Botter Martins](https://lattes.cnpq.br/8252944637606624) e [Ricardo Barz Sovat](https://lattes.cnpq.br/0404624792247041)\n",
    "- Email [samuel.martins@ifsp.edu.br](mailto:samuel.martins@ifsp.edu.br) e [sovat@ifsp.edu.br](mailto:sovat@ifsp.edu.br)\n",
    "- Horário de atendimento: [Samuel: quinta, 17:00 às 19:00](https://teams.microsoft.com/l/meetup-join/19%3ameeting_MjRlYmQxNDYtNDc2OS00Nzg2LTg2NDYtZThmMmQzYzcwMTQ0%40thread.v2/0?context=%7b%22Tid%22%3a%2291808bd0-5c6a-49df-93df-fb6a740f594d%22%2c%22Oid%22%3a%22f8f09c98-71f0-450b-b670-36841d96801a%22%7d)\n",
    "- Rótulo para Assunto do E-mail: `[D1AED]`\n",
    "- Microsoft Teams: [Link para equipe](https://teams.microsoft.com/l/team/19%3ae13d4ddeeeb442538f119357449209bd%40thread.tacv2/conversations?groupId=8ac828f4-3150-4b02-94ee-4dd83919207c&tenantId=91808bd0-5c6a-49df-93df-fb6a740f594d) (Código: y2myiih) | [Link das aulas](https://teams.microsoft.com/l/meetup-join/19%3ae13d4ddeeeb442538f119357449209bd%40thread.tacv2/1619094087947?context=%7b%22Tid%22%3a%2291808bd0-5c6a-49df-93df-fb6a740f594d%22%2c%22Oid%22%3a%22f8f09c98-71f0-450b-b670-36841d96801a%22%7d)\n",
    "- Repositório de Códigos: [https://github.com/xavecoding/IFSP-CMP-D1AED-2021.1](https://github.com/xavecoding/IFSP-CMP-D1AED-2021.1) | [Fork](https://github.com/dieguim-ifsp-posCD/IFSP-CMP-D1AED-2021.1)\n",
    "- Livro texto: [Practical Statistics for Data Scientists, 2nd Edition](https://www.oreilly.com/library/view/practical-statistics-for/9781492072935/) | [Github](https://github.com/gedeck/practical-statistics-for-data-scientists)\n",
    "- Cursos de base: [Python Essencial para Data Science](https://www.youtube.com/playlist?list=PL3ZslI15yo2qCEmnYOa2sq6VQOzQ2CFhj) | [Pandas Essencial](https://www.youtube.com/playlist?list=PL3ZslI15yo2pfkf7EGNR14xTwe-wZ2bNX) | [Statistic 1 (Simple Learning Pro)](https://www.youtube.com/playlist?list=PL0KQuRyPJoe6KjlUM6iNYgt8d0DwI-IGR)"
   ]
  },
  {
   "cell_type": "markdown",
   "id": "6672423e",
   "metadata": {},
   "source": [
    "## 22/04/2021 - Aula 00 e 01: Apresentação da Disciplina e Manipulação de Dados\n",
    "\n",
    "### Materiais de aula\n",
    "\n",
    "- [Vídeo: Gravação da aula](https://ifspedubr.sharepoint.com/:v:/s/D1AED2021.1-AnliseEstatsticaparaCinciadeDados/EZICNjXoOOZAj9vMo4TdHHsB0YVRr4wyC0_CYmK4ZeVCXQ?e=3kFsIu)\n",
    "- [Slides: Apresentação da Disciplina](slides/20210422-D1AED-aula00-apresentacao_da_disciplina.pdf)\n",
    "- [Slides: Instalando o Ambiente](slides/20210422-D1AED-aula01-00-instalando_o_ambiente.pdf)\n",
    "- [Slides: Manipulação de Dados](slides/20210422-D1AED-aula01-01-manipulacao_de_dados.pdf)\n",
    "- [Artigo: 50 years of Data Science](recursos/20210422-aula01/50_Years_of_Data_Science.pdf)\n",
    "- [Github: Código base da aula](https://github.com/xavecoding/IFSP-CMP-D1AED-2021.1/blob/main/manipulacao_de_dados/manipulacao_de_dados_codigo_base.ipynb)\n",
    "- Repositório Local: [Código base da aula](repositorio-curso/manipulacao_de_dados/manipulacao_de_dados_codigo_base.ipynb) | [Código final](repositorio-curso/manipulacao_de_dados/manipulacao_de_dados.ipynb) | [Código de estudo](repositorio-curso/manipulacao_de_dados/manipulacao_de_dados_studying.ipynb)\n",
    "- [Atividade 01 - Manipulação de Dados](atividades/20210422-D1AED-atividade01.png)"
   ]
  },
  {
   "cell_type": "markdown",
   "id": "def519ea",
   "metadata": {},
   "source": [
    "### Apresentação\n",
    "\n",
    "- Objetivo é uma abordagem prática da estatística, para Análise Exploratória e Aprendizado de de máquina. Sem muita demostração e/ou formalidade.\n",
    "- Bastante ênfase em **Regressão**\n",
    "\n",
    "#### Presença\n",
    "\n",
    "- Atividades via moodle, a ser entregue até o início da aula subsequente\n",
    "\n",
    "#### Avaliação\n",
    "\n",
    "$$\n",
    "\\mathbf{NF} = 0.2*T_1 + 0.25*T_2 + 0.5*P + 0.05*Q\n",
    "$$\n",
    "\n",
    "$\\mathbf{T_1}$: Primeira Tarefa\n",
    "\n",
    "$\\mathbf{T_2}$: Segunda Tarefa\n",
    "\n",
    "$\\mathbf{P}$: Nota do Projeto Interdisciplinar em Grupo\n",
    "\n",
    "$\\mathbf{Q}$:Atividades/questões semanais\n",
    "\n",
    "#### Aprovação\n",
    "\n",
    "$$\n",
    "\\textrm{NF} \\geq 6\n",
    "$$\n",
    "\n",
    "$$\n",
    "\\textrm{Freq} \\geq 75\\%\n",
    "$$\n",
    "\n",
    "#### Projeto interdisciplinar\n",
    "\n",
    "- Feito em até 3 pessoas. Parte da nota do grupo e parte individual\n",
    "- Consiste em duas partes: Análise exploratória e Machile Learning\n",
    "- Na verdade, o objetivo é passar por todo o *pipeline* de ciência de dados\n",
    "\n",
    "#### Material Complementar\n",
    "\n",
    "- Pythons e Pandas são base e devem ser buscados por conta do aluno.\n",
    "- Sugestão dos cursos oferecidos pelo próprio professor Samuel ([canal no youtube](https://www.youtube.com/c/xavecoding))"
   ]
  },
  {
   "cell_type": "markdown",
   "id": "d850939a",
   "metadata": {},
   "source": [
    "### Manipulação de Dados\n",
    "\n",
    "- A partir da Análise Exploratória (exploração, pré-processamento e modelagem), existe a possibilidade de partir direto para apresentação (pulando etapas de ML e validação)\n",
    "- Ciência de Dados não existe apenas com IA/ML. Modelos estatísticos podem ser, muitas vezes, suficientes para produzir Ciência de Dados.\n",
    "  - IA/ML é uma parte importante e muito poderosa, mas não é tudo\n",
    "- Indicação de artigo [50 Years of Data Science](https://doi.org/10.1080/10618600.2017.1384734)\n",
    "- Dados estruturados e não estruturados podem ser usados juntos para análise e produção de modelos. Por exemplo: análise diagnóstica a partir de imagens (não estruturado) + dados tabulares"
   ]
  },
  {
   "cell_type": "markdown",
   "id": "f76ecf39-5a27-49c9-91dc-36ae9f3af2e7",
   "metadata": {},
   "source": [
    "## 29/04/2021 - Aula 02: Análise Exploratória de Dados\n",
    "\n",
    "### Materiais de aula\n",
    "\n",
    "- [Video: Gravação da aula](https://ifspedubr.sharepoint.com/:v:/s/D1AED2021.1-AnliseEstatsticaparaCinciadeDados/EZUCkLO-JplIoZGWQiZvuSABAbQV8eB8d9kEXSNtBaa2DQ?e=3elWmr)\n",
    "- [Slides: Análise Exploratória de Dados (Estatística Descritiva)](slides/20210429-D1AED-aula02-analise_exploratoria_de_dados.pdf)\n",
    "- [Github: Código base da aula](https://github.com/xavecoding/IFSP-CMP-D1AED-2021.1/tree/main/analise_exploratoria_de_dados)\n",
    "- Repositório Local:  [Código base da aula](repositorio-curso/analise_exploratoria_de_dados/codigos_base/analise_exploratoria_de_dados_precos_combustiveis.ipynb) | [Código final](repositorio-curso/analise_exploratoria_de_dados/analise_exploratoria_de_dados_precos_combustiveis.ipynb) | [Código de estudo](repositorio-curso/analise_exploratoria_de_dados/studying/analise_exploratoria_de_dados_precos_combustiveis.ipynb)\n",
    "- [Atividade 02 - Estatísticas Descritivas](atividades/20210429-D1AED-atividade02.png)"
   ]
  },
  {
   "cell_type": "markdown",
   "id": "ea5f8d2d-98f4-434d-9614-077b6673e844",
   "metadata": {},
   "source": [
    "### Estatística Descritiva\n",
    "\n",
    "- Em conjuntos com *outliers* bem discrepantes, a média e a mediana serão bem diferentes\n",
    "  - E a mediana pode fornecer uma tendência central mais fidedigna\n",
    "- Melhor medida depende do que se deseja saber: por exemplo, podemos querer saber exatamente se existem *outliers*\n",
    "\n",
    "#### Estimativas de Variabilidade\n",
    "\n",
    "- Violin plot: curva de cima e de baixo são apenas \"espelhos\"\n",
    "  - Pode-se pensar em uma visualização que apresente informações diferentes em cada curva (p.ex: separar valores de homens e mulheres)\n",
    "- Por o desvio padrão elevar as diferenças ao quadrado, quanto maior a diferença, mais peso ela ganha. Ou seja, valores muito distantes da média ganham uma relevância maior no cálculo\n",
    "\n",
    "#### Correlação\n",
    "\n",
    "- Coeficiente de correlação representa o quão dispersos os pontos do gráfico estão em relação à reta de regressão"
   ]
  },
  {
   "cell_type": "markdown",
   "id": "515dcc61-72f9-43d1-8773-e4d0fa02ad34",
   "metadata": {},
   "source": [
    "## 06/05/2021 - Aula 03: Análise Exploratória de Dados"
   ]
  },
  {
   "cell_type": "markdown",
   "id": "610f5f9a-9601-40e5-918b-ec59cb40467e",
   "metadata": {},
   "source": [
    "### Aula complementar\n",
    "\n",
    "- [Notebook: Limpeza e Pré-Processamento de Dados - Dataset: Google Play](https://github.com/xavecoding/IFSP-CMP-D1AED-2021.1/blob/main/analise_exploratoria_de_dados/limpeza_e_preprocessamento_de_dados_googleplaystore.ipynb) | [Repositório Local](repositorio-curso/analise_exploratoria_de_dados/limpeza_e_preprocessamento_de_dados_googleplaystore.ipynb)\n",
    "- [Mini-curso no Kaggle: Data Cleaning](https://www.kaggle.com/learn/data-cleaning)\n",
    "  - Tópicos sugeridos:\n",
    "    1. Filling in missing values automatically\n",
    "    2. Scalling and Normalization\n",
    "- [Artigo: Ways to Detect and Remove the Outliers](https://towardsdatascience.com/ways-to-detect-and-remove-the-outliers-404d16608dba)\n",
    "- [Notebook: Preços dos Combustíveis Brasileiros](https://github.com/xavecoding/IFSP-CMP-D1AED-2021.1/blob/main/analise_exploratoria_de_dados/analise_exploratoria_de_dados_precos_combustiveis.ipynb): [Código base](repositorio-curso/analise_exploratoria_de_dados/codigos_base/analise_exploratoria_de_dados_precos_combustiveis.ipynb) | [Código final](repositorio-curso/analise_exploratoria_de_dados/analise_exploratoria_de_dados_precos_combustiveis.ipynb) | [Código de estudo](repositorio-curso/analise_exploratoria_de_dados/studying/analise_exploratoria_de_dados_precos_combustiveis.ipynb)\n",
    "- [Atividade 03 - Análise Exploratória de Dados](atividades/20210506-D1AED-atividade03-aula_complementar.png) | [Notebook auxiliar](atividades/D1AED-atividades-notebook_auxiliar.ipynb#06/05/2021:-Atividade-03---Análise-Exploratória-de-Dados-(Aula-complementar))\n",
    "\n",
    "Materiais para estudo individual, que não foram abordados na aula presencial"
   ]
  },
  {
   "cell_type": "markdown",
   "id": "e70daa00-34ee-420c-9ba4-f0ecb1deda54",
   "metadata": {},
   "source": [
    "### Materiais de aula\n",
    "\n",
    "- [Video: Gravação da aula](https://ifspedubr.sharepoint.com/:v:/s/D1AED2021.1-AnliseEstatsticaparaCinciadeDados/EUwqOCxucjJLrBJtUzO8HWwBy8BIB8b2BB6EiA5mUtOb1Q?e=k1hmIU)\n",
    "- [Notebook: Análise Exploratória de Dados - Google Play Store](https://github.com/xavecoding/IFSP-CMP-D1AED-2021.1/blob/main/analise_exploratoria_de_dados/analise_exploratoria_de_dados_googleplaystore.ipynb): [Código Base](repositorio-curso/analise_exploratoria_de_dados/codigos_base/analise_exploratoria_de_dados_googleplaystore.ipynb) | [Código Final](repositorio-curso/analise_exploratoria_de_dados/analise_exploratoria_de_dados_googleplaystore.ipynb) | [Código de Estudo (v01 - parcial)](repositorio-curso/analise_exploratoria_de_dados/studying/analise_exploratoria_de_dados_googleplaystore_versao01.ipynb)\n",
    "- [Atividade 04 - Análise Exploratória de Dados](atividades/20210506-D1AED-atividade04.png) | [Notebook auxiliar](atividades/D1AED-atividades-notebook_auxiliar.ipynb#06/05/2021:-Atividade-04---Análise-Exploratória-de-Dados)\n",
    "\n",
    "Aula prática de Análise Exploratória de Dados com o notebook da _google play store_"
   ]
  },
  {
   "cell_type": "markdown",
   "id": "c2b39bda-653f-4c6c-892f-877b03805dd6",
   "metadata": {},
   "source": [
    "## 13/05/2021 - Aula 04: Análise Exploratória de Dados\n",
    "\n",
    "### Materiais de aula\n",
    "\n",
    "- [Video: Gravação da aula](https://ifspedubr.sharepoint.com/:v:/s/D1AED2021.1-AnliseEstatsticaparaCinciadeDados/EcFwRudfuBZOtPfWBmcHIikBvvIcYfjsg1_7TqfOAo9vwQ?e=lIN1Ss)\n",
    "- [Notebook: Análise Exploratória de Dados - Google Play Store](https://github.com/xavecoding/IFSP-CMP-D1AED-2021.1/blob/main/analise_exploratoria_de_dados/analise_exploratoria_de_dados_googleplaystore.ipynb): [Código Base](repositorio-curso/analise_exploratoria_de_dados/codigos_base/analise_exploratoria_de_dados_googleplaystore.ipynb) | [Código Final](repositorio-curso/analise_exploratoria_de_dados/analise_exploratoria_de_dados_googleplaystore.ipynb) | [Código de Estudo](repositorio-curso/analise_exploratoria_de_dados/studying/analise_exploratoria_de_dados_googleplaystore.ipynb)\n",
    "- [Artigo: Dealing with List Values in Pandas Dataframes](https://towardsdatascience.com/dealing-with-list-values-in-pandas-dataframes-a177e534f173)\n",
    "- [Atividade 05 - Análise Exploratória de Dados](atividades/20210513-D1AED-atividade05.png)\n",
    "\n",
    "#### Aprofundamento de estudos: Análise de Séries Temporais\n",
    "- [The Complete Guide to Time Series Analysis and Forecasting](https://towardsdatascience.com/the-complete-guide-to-time-series-analysis-and-forecasting-70d476bfe775)\n",
    "- [Time Series Analysis in Python – A Comprehensive Guide with Examples](https://www.machinelearningplus.com/time-series/time-series-analysis-python/)\n",
    "- [An End-to-End Project on Time Series Analysis and Forecasting with Python](https://towardsdatascience.com/an-end-to-end-project-on-time-series-analysis-and-forecasting-with-python-4835e6bf050b)"
   ]
  },
  {
   "cell_type": "markdown",
   "id": "0f08c958-36a2-498d-a663-e4fe606628a5",
   "metadata": {},
   "source": [
    "### Avaliação 01\n",
    "\n",
    "- [Documento: Enunciado](avaliacoes/20210513-avaliacao01/D1AED-avaliacao01-enunciado.pdf)\n",
    "- [Dataset: Movie Lens Small](avaliacoes/20210513-avaliacao01/data/ml-latest-small.zip)\n",
    "- [Notebook: Análise Exploratória de Dados](avaliacoes/20210513-avaliacao01/AED-movie-lens-small.ipynb)"
   ]
  },
  {
   "cell_type": "markdown",
   "id": "ee6ffe41-0998-4b72-9971-b715b0c67d46",
   "metadata": {},
   "source": [
    "## 20/05/2021 - Aula 05: Distribuições de Dados - Parte 1\n",
    "\n",
    "### Materiais de aula\n",
    "\n",
    "- [Video: Gravação da aula](https://ifspedubr.sharepoint.com/:v:/s/D1AED2021.1-AnliseEstatsticaparaCinciadeDados/Ed-GpQeZm45PjGaxX-UmY9UBkw0MmCeRNKRDnLtGETgzDw?e=YMzFlK)\n",
    "- [Slides: Data and Sampling Distributions](slides/20210520-D1AED-aula05-data_and_sampling_distributions.pdf)\n",
    "- [Notebook: Data Distributions](https://github.com/xavecoding/IFSP-CMP-D1AED-2021.1/blob/main/data_distributions/data_distributions.ipynb): [Código Base](repositorio-curso/data_distributions/codigos_base/data_distributions.ipynb) | [Código Final](repositorio-curso/data_distributions/data_distributions.ipynb) | [Código de Estudo](repositorio-curso/data_distributions/studying/data_distributions_20210520.ipynb)\n",
    "- [Atividade 06 - Data Distribution - Part 1](atividades/20210520-D1AED-atividade06.png)\n",
    "\n",
    "#### Aprofundamento de Estudos\n",
    "- [Artigo: Types of Sampling](https://www.scribbr.com/methodology/sampling-methods/)\n",
    "- [Artigo Types of Biases](https://www.statisticshowto.com/what-is-bias/)\n",
    "- [Video: Regression to the Mean](https://www.youtube.com/watch?v=1tSqSMOyNFE)\n",
    "- [Artigo: Regression to the Mean](https://www.statisticshowto.com/regression-mean/)\n",
    "- [Video: Law of Large Numbers](https://www.youtube.com/watch?v=MntX3zWNWec)\n",
    "- [Artigo: Probability Distributions in Data Science](https://www.kdnuggets.com/2020/02/probability-distributions-data-science.html)\n",
    "- [Artigo: 6 Common Probability Distributions every data science professional should know](https://www.analyticsvidhya.com/blog/2017/09/6-probability-distributions-data-science/)\n",
    "- [Artigo: Common Probability Distributions: The Data Scientist’s Crib Sheet](https://medium.com/@srowen/common-probability-distributions-347e6b945ce4)\n",
    "\n",
    "### Aula complementar\n",
    "\n",
    "- [Notebook: Análise Exploratória de Dados - Google Play Store](https://github.com/xavecoding/IFSP-CMP-D1AED-2021.1/blob/main/analise_exploratoria_de_dados/analise_exploratoria_de_dados_googleplaystore.ipynb): [Código Base](repositorio-curso/analise_exploratoria_de_dados/codigos_base/analise_exploratoria_de_dados_googleplaystore.ipynb) | [Código Final](repositorio-curso/analise_exploratoria_de_dados/analise_exploratoria_de_dados_googleplaystore.ipynb) | [Código de Estudo](repositorio-curso/analise_exploratoria_de_dados/studying/analise_exploratoria_de_dados_googleplaystore.ipynb) (Estudar a partir da pergunta/hipótese 2.9 em diante)\n",
    "- [Atividade 07 - Comentários sobre a disciplina](atividades/20210520-D1AED-atividade07-aula_complementar.png)\n",
    "\n",
    "#### Aprofundamento de Estudos\n",
    "\n",
    "- [Artigo: Improve Your Analytics Projects w/ These Data Distributions Visualizations](https://towardsdatascience.com/improve-your-analytics-projects-w-these-data-distributions-visualizations-7ba3821f2092)"
   ]
  },
  {
   "cell_type": "markdown",
   "id": "93d07e48-3388-4eb0-bafe-c16fd666c9af",
   "metadata": {},
   "source": [
    "### Distribuição de dados e amostragem\n",
    "\n",
    "#### Poulação e Amostra\n",
    "\n",
    "Muitas vezes é inviável realizar uma contagem em toda população. Dessa forma, tentamos inferir valores da população a partir de uma amostra. Existem técnicas de amostragem (como obter a amostra a ser analisada).\n",
    "\n",
    "#### A importância dos Dados\n",
    "\n",
    "Cursos de estatística pressupõem que você está trabalhando com *bons dados*, organizados, sem falhas, sem ruído etc. Se os seus dados de entrada são *lixo* (ruidos, valores faltantes, viés, dados não representativos), então seus resultados de saída (conclusões) também serão *lixo* (independente do quão *chique* seja sua análise).\n",
    "\n",
    "**Qualidade dos dados** em geral importa mais do que a **quantidade** quando se trata de realizar estimativas ou modelos por amostragem.\n",
    "\n",
    "#### Precisão vs Acurácia\n",
    "\n",
    "**Precisão** se relaciona ao quanto seus resultados estão **concentrados**.\n",
    "\n",
    "**Acurácia** se relaciona ao quanto seus resultados estão **próximos do alvo**.\n",
    "\n",
    "- $\\uparrow$ precisão e $\\downarrow$ acurácia pode ocorrer quando seus dados são *lixo* e suas análises são robustas (análises *descalibradas*)\n",
    "\n",
    "#### Métodos de amostragem\n",
    "\n",
    "Podem ser **não probabilísticos** (seleção baseada em critérios não aleatórios e nem todos indivíduos tem chances de serem incluídos) ou **probabilísticos** (cada indivíduo da população tem chance de ser selecionado).\n",
    "\n",
    "##### Amostragem aleatória\n",
    "\n",
    "Tenta obter uma seleção representativa da população, evitando viéses de seleção. Cada indivíduo tem a mesma chance de ser selecionado.\n",
    "\n",
    "**Não é garantido** que a distribuição da amostra seja exatamente o mesmo da população (desvio). *Grande desvio é possível, porém improvável.*\n",
    "\n",
    "Para um dataframe, usando pandas:\n",
    "```python\n",
    "# Obtem uma amostra de 100 registros aleatórios de um DataFrame chamado 'population'\n",
    "sample = population.sample(100)\n",
    "```\n",
    "\n",
    "##### Amostragem estratificada\n",
    "\n",
    "Primeiramente, divide-se a população em *subgrupos* baseado em determinada característica (rótulos). Após, realiza-se uma amostragem aleatória em cada um destes subgrupos, respeitando-se sua proporção na população.\n",
    "\n",
    "Busca com que cada **subgrupo/classe** esteja propriamente representado na amostra.\n",
    "\n",
    "O pandas não possui função nativa para amostragem estratificada. Com o *Scikit-learn*, é possível usar o atributo `stratify` do método `train_test_split()` para estratificar uma amostragem (https://scikit-learn.org/stable/modules/cross_validation.html#stratification)"
   ]
  },
  {
   "cell_type": "markdown",
   "id": "f14e9133-7e70-41f1-8b8a-fa80cd8259d1",
   "metadata": {},
   "source": [
    "### Viés\n",
    "\n",
    "Erro sistêmico de medida ou de amostragem e produzido pelo processo de medição ou amostragem.\n",
    "\n",
    "Tendência de uma estatística *subestimar* ou *superestimar* um parâmetro.\n",
    "\n",
    "Focaremos em dois tipos: *viés de seleção*, *viés de auto-seleção*\n",
    "\n",
    "#### Viés de seleção\n",
    "\n",
    "Observação em grupos que sistematicamente diferem da população de interesse. *Seleção tendenciosa*\n",
    "\n",
    "Características intra-grupos não variam muito, mas inter-grupos variam bastante.\n",
    "\n",
    "Pode ser usado para estudar um dado fenômeno específico para dado grupo.\n",
    "\n",
    "#### Viés de auto-seleção\n",
    "\n",
    "Indivíduos **não aleatórios e com interesse (motivados)** em ser parte da amostra."
   ]
  },
  {
   "cell_type": "markdown",
   "id": "cfc4023d-e5a7-4c0f-bbb9-b39f61b34547",
   "metadata": {},
   "source": [
    "### Distribuição de Dados\n",
    "\n",
    "#### Motivação\n",
    "\n",
    "Alguns modelos de ML funcionam melhor sob determinada distribuição dos dados\n",
    "\n",
    "Conhecendo melhor a distribuição, podemos identificar os melhores modelos de ML a serem usados. Facilita análises e inferências durante EDA\n",
    "\n",
    "#### Notação\n",
    "\n",
    "Parâmetro populacional | Estatística amostral | Descrição\n",
    "--- | --- | ---\n",
    "$N$ | $n$ | Número de elementos\n",
    "$\\mu$ | $\\bar{x}$ | Média\n",
    "$\\sigma$ | $s$ | Desvio padrão\n",
    "$\\rho$ | $r$ | Coeficiente de correlação\n",
    "\n",
    "#### Conceitos básicos\n",
    "\n",
    "**Experimento aleatório**: Observação de uma incerteza. Ensaio que pode ser repetido inúmeras vezes sob as **mesmas condições**.\n",
    "\n",
    "**Resultado de experimento aleatório**: Um dado resultado individual **não pode ser afetado por resultados anteriores** e **não pode ser predito com certeza**. *Resultados independentes*.\n",
    "\n",
    "**Espaço amostral**: Conjunto de todos possíveis resultados do experimento.\n",
    "\n",
    "**Evento**: Um resultado ou conjunto de resultados de um experimento aleatório. *Subconjunto do Espaço amostral*\n",
    "\n",
    "**Variável aleatória**: Variável cujo valor depende do resultado de um experimento aleatório. Ex: lançar uma moeda $X = 0$ (cara) ou $1$ (coroa). Podem ser discretas ou contínuas.\n",
    "\n",
    "**Distribuição de dados**: Distribuição de pontos individuais de um conjunto de dados. *Distribuição de frequência*. *Distribuição de probabilidades*.\n",
    "\n",
    "**Distribuição de probabilidades**: Função matemática que fornece a **probabilidade de ocorrência** de possíveis resultados de um experimento.\n",
    "\n",
    "**Probability Mass Function (PMF)**: Distribuição de probabilidade de uma **variável aleatória discreta**.\n",
    "- $P(X = x) = f(x)$: Probabilidade de $X$ no ponto $x$\n",
    "- $P(x) \\geq 0$\n",
    "- $0 \\leq P(x) \\leq 1$\n",
    "- $\\sum P(x) = 1$\n",
    "\n",
    "**Probability Density Function (PDF)**: Distribuição de probabilidade de uma **variável aleatória contínua**.\n",
    "- $P(X = x) = 0$ (Probabilidade em um ponto específico é sempre $0$)\n",
    "- $P(a \\leq X \\leq b) = \\int_a^b f(x)$\n",
    "- $f(x) \\geq 0$, para todo $x \\in \\mathbb{R}$\n",
    "- $\\int_{-\\infty}^{+\\infty} f(x) = 1$\n",
    "\n",
    "**Cumulative Distribution Function (CDF)**: Valor de probabilidade acumulado de $-\\infty$ até $x$ para uma variável aleatória $X$. Probabilidade de que o valor de $X$ seja menor ou igual a $x$\n",
    "- $P(X \\leq x)$, para todo $x \\in \\mathbb{R}$\n",
    "\n",
    "**Valor Esperado (Esperança)**\n",
    "- $\\displaystyle E(X) = \\sum_{x \\in S} xP(X=x)$, $S$ no espaço amostral\n",
    "\n",
    "#### Distribuição de Bernoulli\n",
    "\n",
    "A distribuição mais simples. Os resultados possíveis são 0 (falha) ou 1 (sucesso). Uma única tentativa\n",
    "\n",
    "#### Distribuição Binomial\n",
    "\n",
    "Distribuição de frequência do número de sucessos ($x$) em um dado número de tentativas ($n$) com uma probabilidade específica de sucesso ($p$) em cada tentativa.\n",
    "\n",
    "- Número fixo de tentativas idênticas\n",
    "- Tentativas independentes umas das outras\n",
    "- Experimento binário. Apenas dois resultados possíveis (sucesso ou falha)\n",
    "- Probabilidade de sucesso ($p$) fixa. Probabilidade de falha $q = 1 - p$\n",
    "\n",
    "\\begin{align*}\n",
    "P(X = x) &= \\binom{n}{x} p^x q^{n-x}\\\\\n",
    "\\mu &= np\\\\\n",
    "\\sigma &= \\sqrt{npq}\n",
    "\\end{align*}"
   ]
  },
  {
   "cell_type": "markdown",
   "id": "9885c2d7-044c-4e90-b10d-6f4ceb55dc12",
   "metadata": {},
   "source": [
    "## 27/05/2021 - Aula 06: Distribuição de Dados - Parte 2\n",
    "\n",
    "### Materiais de aula\n",
    "\n",
    "- [Video: Gravação da aula](https://ifspedubr.sharepoint.com/:v:/s/D1AED2021.1-AnliseEstatsticaparaCinciadeDados/Ef5BEEt3xPJKlVAxcfUGHX8BR_o_x7gwLUv1fvQPznzn2Q?e=oU7VhH)\n",
    "- [Slides: Data Distributions - Part 2](slides/20210527-D1AED-aula06-data_distributions-part_2.pdf)\n",
    "- [Slides: Data Distributions - Part 3](slides/20210527-D1AED-aula06-data_distributions-part_3.pdf)\n",
    "- [Notebook: Data Distributions](https://github.com/xavecoding/IFSP-CMP-D1AED-2021.1/blob/main/data_distributions/data_distributions.ipynb): [Código Base](repositorio-curso/data_distributions/codigos_base/data_distributions.ipynb) | [Código Final](repositorio-curso/data_distributions/data_distributions.ipynb) | [Código de Estudo](repositorio-curso/data_distributions/studying/data_distributions_20210527.ipynb)\n",
    "- [Atividade 08 - Data Distributions - Part 2](atividades/20210527-D1AED-atividade08.png)\n",
    "\n",
    "#### Aprofundamento de Estudos\n",
    "\n",
    "- [Artigo: Conditions for inference on a mean](https://www.khanacademy.org/math/ap-statistics/estimating-confidence-ap/one-sample-t-interval-mean/a/reference-conditions-inference-one-mean)\n",
    "- [Artigo: A Confidence Interval for A Population Proportion](https://openstax.org/books/introductory-business-statistics/pages/8-3-a-confidence-interval-for-a-population-proportion)\n",
    "- [Video: Small sample size confidence intervals](https://www.khanacademy.org/math/statistics-probability/confidence-intervals-one-sample/old-confidence-interval-videos/v/small-sample-size-confidence-intervals)\n",
    "- [Video: How To Calculate The Sample Size Given The Confidence Level & Margin of Error](https://www.youtube.com/watch?v=nkkxu09K3ZA)"
   ]
  },
  {
   "cell_type": "markdown",
   "id": "a8d944c6-f533-4984-964b-3544fda7eb33",
   "metadata": {},
   "source": [
    "### Distribuição de Dados\n",
    "\n",
    "#### Distribuição de Poisson\n",
    "\n",
    "Usada para descrever o **número de ocorrências** em um **período específico de tempo ou espaço**\n",
    "- A probabilidade de sucesso é uma amostra de todo o período\n",
    "- O sucesso de um evento não influencia o resultado de outro evento\n",
    "  - O número de ocorrências de um dado intervalo é independente de outro intervalo\n",
    "- A probabilidade de sucesso é a mesma em intervalos de mesmo tamanho\n",
    "- A medida que o intervalo fica menor, a probabilidade de sucesso tende a zero\n",
    "\n",
    "$$\n",
    "P(X=x) = \\frac{e^{-\\lambda}\\lambda^x}{x!} \\text{,} x = 1, 2, 3...\n",
    "$$\n",
    "\n",
    "#### Distribuição Uniforme\n",
    "\n",
    "Define uma probabilidade igual em um dado intervalo\n",
    "\n",
    "Uma variável $x$ está uniformemente distribuída se sua função de densidade é:\n",
    "$$\n",
    "f(x) = \\frac{1}{b - a} \\text{, para } a \\leq x \\leq b\n",
    "$$\n",
    "\n",
    "#### Distribuição Normal\n",
    "\n",
    "- Distribuição cuja curva tem uma forma de *sino*\n",
    "- Simétrica em relação à média ($\\mu$)\n",
    "- Calcula-se a probabilidade em um intervalo de valores pela integral da curva neste intervalo\n",
    "\n",
    "##### Propriedades\n",
    "\n",
    "- Distribuição Unimodal\n",
    "- Simétrica em relação à média\n",
    "- Totalmente caracterizada pela média ($\\mu$) (**posição**) e desvio padrão ($\\sigma$) (**espalhamento**)\n",
    "- $X \\sim N(\\mu, \\sigma)$\n",
    "- Os extremos da curva tendem ao infinito (nunca tocam o eixo $x$)\n",
    "\n",
    "##### Regra $68-95-99,7$\n",
    "\n",
    "- $P(\\mu - \\sigma < x < \\mu + \\sigma) = 68\\%$\n",
    "- $P(\\mu - 2\\sigma < x < \\mu + 2\\sigma) = 95\\%$\n",
    "- $P(\\mu - 3\\sigma < x < \\mu + 3\\sigma) = 99.7\\%$\n",
    "  \n",
    "##### Distribuição normal padrão\n",
    "\n",
    "- $\\mu = 0$\n",
    "- $\\sigma = 1$\n",
    "- *Score Z*: Quandos desvios padrões a observação está da média\n",
    "- Qualquer distribuição normal pode ser transformada em uma normal padrão\n",
    "  - $z = \\frac{x - \\mu}{\\sigma}$"
   ]
  },
  {
   "cell_type": "markdown",
   "id": "b46246ca-1623-4eb2-aa33-5d63dece9905",
   "metadata": {},
   "source": [
    "### Teorema do Limite Central\n",
    "\n",
    "**Inferência Estatística**: processo de usar uma **amostra** para fazer inferências sobre a **população**\n",
    "\n",
    "#### Tipos de Estimativa\n",
    "\n",
    "- Estimativa pontual: estimativa única de um parâmetro populacional: $\\bar{x}$\n",
    "- Estimativa de Intervalo: **grau de confiança** de que o parâmetro populacional sendo estimado esteja dentro do **intervalo**: $[\\bar{x} - e, \\bar{x} + e]$, com grau de confiaça de $95\\%$"
   ]
  },
  {
   "cell_type": "markdown",
   "id": "b3139caa-2139-4131-9d97-e59682aaad91",
   "metadata": {},
   "source": [
    "## 05/06/2021 - Aula 07 (complementar): Distribuição de Dados - Partes 3 e 4\n",
    "\n",
    "### Materiais de aula\n",
    "\n",
    "- [Slides: Data Distributions - Part 3](slides/20210605-D1AED-aula07-data_distributions-part_3.pdf)\n",
    "- Videos: Data Distributions - Part 3\n",
    "  - https://www.loom.com/share/5c5e4eea6f14438da6749de7f41b5ef8\n",
    "  - https://www.loom.com/share/73dd33b5f8ba4509a9fcdd7ce8038875\n",
    "  - https://www.loom.com/share/9331aefba4a1497988abc39e375a782a\n",
    "  - https://www.loom.com/share/a340be2623904f4d8a39dd58ac74b63d\n",
    "  - https://www.loom.com/share/2536000a286c462f8acab284d7d4e37c\n",
    "  - https://www.loom.com/share/2d49e3a63cb5486485812e04fb4de88b\n",
    "  - https://www.loom.com/share/500fdb437ecd4b74b8b70b90aed1093f\n",
    "  - https://www.loom.com/share/9ebb187794b04c3c8e0c0ce5e776804f\n",
    "- [Slides: Data Distributions - Part 4](slides/20210605-D1AED-aula07-data_distributions-part_4.pdf)\n",
    "- Videos: Data Distributions - Part 4\n",
    "  - https://www.loom.com/share/d6a4b6423567473f9d507d4a56fea011\n",
    "  - https://www.loom.com/share/437b7ceaed45453f9c6e7e2c548aac95\n",
    "  - https://www.loom.com/share/97f2761c174a4e989a202675f8a50064\n",
    "  - https://www.loom.com/share/621c32915e2340f48156cd71881920f2\n",
    "- [Notebook: Data Distributions](https://github.com/xavecoding/IFSP-CMP-D1AED-2021.1/blob/main/data_distributions/data_distributions.ipynb): [Código Base](repositorio-curso/data_distributions/codigos_base/data_distributions.ipynb) | [Código Final](repositorio-curso/data_distributions/data_distributions.ipynb) | [Código de Estudo](repositorio-curso/data_distributions/studying/data_distributions_20210605.ipynb)\n",
    "- [Atividade 09 - Data Distributions - Parts 3 and 4](atividades/20210605-D1AED-atividade09.png)\n",
    "\n",
    "#### Aprofundamento de Estudos\n",
    "\n",
    "- [Video: Deduzindo a fórmula do Intervalo de Confiança para a Média Populacional](https://www.loom.com/share/5228b3470ee64de48bb393db1b46cddc)\n",
    "- [Video: Intervalo de Confiança para Amostras Pequenas](https://www.loom.com/share/6b8367463bc041e28606c5d51eeb3e93)\n",
    "- Vídeos: Escolhendo o Tamanho da Amostra [Parte 1](https://www.loom.com/share/ba1d0830af484655aafdab88e32219bd) e [Parte 2](https://www.loom.com/share/dd635fe12c974e3e9f959d7b05b72794)"
   ]
  },
  {
   "cell_type": "markdown",
   "id": "6df1c6f2-0489-4530-b17a-0dbf5d8aa5d5",
   "metadata": {},
   "source": [
    "### Estimativa\n",
    "\n",
    "- O processo de usar uma amostra para fazer inferências sobre toda a população é chamado de **inferência estatística**\n",
    "- Estimativas podem ser de dois tipos:\n",
    "  - Estimativa pontual: estimativa única de um parâmetro populacional $\\bar{x}$\n",
    "  - Estimativa intervalar: **grau de confiança** de que determinado intervalo contenha o parâmetro populacional sendo estimado: $[\\bar{x} - e, \\bar{x} + e]$ com intervalo de confiança de 95% (por exemplo)"
   ]
  },
  {
   "cell_type": "markdown",
   "id": "272c1a7a-3c04-4f0a-966f-84b48d4058fe",
   "metadata": {},
   "source": [
    "### Distribuição amostral de uma estatística\n",
    "\n",
    "- Obtem-se $k$ amostras de tamanho $n$ da população. Para cada uma dessas amostras, calculamos uma estatística, por exemplo a média: $\\bar{x}_1, \\bar{x}_2, ..., \\bar{x}_k$\n",
    "- Tem-se então a distribuição dessa estatística entre as amostras. Por exemplo, um histograma das médias obtidas por cada uma das amostras"
   ]
  },
  {
   "cell_type": "markdown",
   "id": "d6890dd3-ca88-4023-91fb-d7eb8111c168",
   "metadata": {},
   "source": [
    "### Teorema do Limite Central\n",
    "\n",
    "- A medida que o tamanho das amostras aumentam ($\\uparrow n$), a distribuição amostral da média se aproxima de uma normal (independente da distribuição populacional)\n",
    "  - A média da distribuição amostral é igual à média populacional: $\\mu_{\\bar{x}} = \\mu$\n",
    "  - O desvio padrão da distribuição amostral (**erro padrão**) é igual ao desvio padrão da população dividido por raiz de $n$: $\\sigma_{\\bar{x}} = \\frac{\\sigma}{\\sqrt{n}}$"
   ]
  },
  {
   "cell_type": "markdown",
   "id": "46481382-df53-4cd7-b5c5-4daa5572d5aa",
   "metadata": {},
   "source": [
    "### Nível de confiança e de significância\n",
    "\n",
    "- Nível de confiança: estimativa da porcentagem de **sucesso** dentro de um dado intervalo, exemplo: 95% ($1 - \\alpha$)\n",
    "- Nível de significância ($\\alpha$): estimativa da porcentagem de **falha** dentro de um dado intervalo, exemplo: 5%\n",
    "- Computados a partir da distribuição normal padronizada"
   ]
  },
  {
   "cell_type": "markdown",
   "id": "79a31484-506d-498b-9aa3-11fc86acff71",
   "metadata": {},
   "source": [
    "### Margem de erro\n",
    "\n",
    "- $e = z_{\\alpha/2}\\frac{\\sigma}{\\sqrt{n}}$ = Valor crítico (z-score da área $\\alpha / 2$) $\\times$ Erro padrão"
   ]
  },
  {
   "cell_type": "markdown",
   "id": "0a1bdf51-9650-47db-bdd7-62dfebb24441",
   "metadata": {},
   "source": [
    "### Intervalo de confiaça para a média\n",
    "\n",
    "\\begin{align*}\n",
    "\\mu &= \\bar{x} \\pm e\\\\\n",
    "\\mu &= \\bar{x} \\pm z_{\\alpha/2}\\sigma_{\\bar{x}}\\\\\n",
    "\\mu &= \\bar{x} \\pm z_{\\alpha/2}\\frac{\\sigma}{\\sqrt{n}}\\\\\n",
    "\\end{align*}\n",
    "\n",
    "- Quando o desvio padrão da população é conhecido: Erro padrão = $\\sigma_{\\bar{x}} = \\frac{\\sigma}{\\sqrt{n}}$\n",
    "- Quando o desvio padrão da população não é conhecido, utiliza-se o desvio padrão da amostrapara calcular o erro padrão (aproximado) = $\\sigma_{\\bar{x}} = \\frac{s}{\\sqrt{n}}$"
   ]
  },
  {
   "cell_type": "markdown",
   "id": "115136ef-9471-4510-aadb-ce4aaaa8cb6c",
   "metadata": {},
   "source": [
    "### Intervalo de confiança para a média em amostras pequenas ($n < 30$)\n",
    "\n",
    "- Para amostras pequenas, a distribuição das médias amostrais não necessariamente se aproximam por uma normal.\n",
    "- Dessa forma, podemos usar a [**distribuição T de Student**](https://pt.wikipedia.org/wiki/Distribui%C3%A7%C3%A3o_t_de_Student)\n",
    "  - $\\mu = \\bar{x} \\pm t_{(\\alpha/2, n-1)}\\frac{\\sigma}{\\sqrt{n}}$\n",
    "  - $n$ é o número de graus de liberdade (no caso, utiliza-se a distribuição *T de Student* para $n-1$ graus de liberdade"
   ]
  },
  {
   "cell_type": "markdown",
   "id": "745dce80-9221-4bd6-95a7-97d67e1f1b48",
   "metadata": {},
   "source": [
    "### Calculando o tamanho da amostra\n",
    "\n",
    "#### Para uma população infinita\n",
    "$$\n",
    "e = z_{\\alpha/2}\\frac{\\sigma}{\\sqrt{n}} \\implies n = \\left(z_{\\alpha/2}\\frac{\\sigma}{e}\\right)^2\n",
    "$$"
   ]
  },
  {
   "cell_type": "markdown",
   "id": "5e820d85-e57f-45d0-abe4-9940052bac6f",
   "metadata": {},
   "source": [
    "### Problemas com a técnica tradicional de Intervalo de Confiança\n",
    "\n",
    "- Assume uma distribuição normal (que só existe teoricamente)\n",
    "- O que seria uma amostra *grande o suficiente* (para que a distribuição das médias amostrais se aproxime de uma normal) em dado problema específico?\n",
    "- Ou o desvio padrão populacional ($\\sigma$) é conhecido (o que não é realista supor), ou deve ser aproximado pelo desvio padrão da amostra ($s$), o que em alguns casos pode ser bem ruim\n",
    "- Calcular o **erro padrão** para algumas estatísticas pode ser bem difícil (para além da média)\n",
    "  - Exemplo: estimar o intervalo entre o $80^{o}$ e $90^{o}$ percentil"
   ]
  },
  {
   "cell_type": "markdown",
   "id": "4be8d201-15d9-4fdf-bb29-7fa2c8aabd34",
   "metadata": {},
   "source": [
    "### Reamostragem\n",
    "\n",
    "- A partir da população, obtém-se a amostra ($n$)\n",
    "- A amostra é replicada um grande número de vezes ($n * k$), gerando uma *população simulada* (em geral, $k = 10000$)\n",
    "- A partir da população simulada, são obtidas várias novas amostras (*resample #1*, *resample #2* ... *resample #m*)\n",
    "\n",
    "#### Alternativa mais rápida\n",
    "\n",
    "- Em vez de replicar a amostra, basta que as reamostragens sejam feitas **com reposição** dos elementos já selecionados"
   ]
  },
  {
   "cell_type": "markdown",
   "id": "50e82a31-da29-4ae9-844b-ecf81455970b",
   "metadata": {},
   "source": [
    "### Bootstrap\n",
    "\n",
    "- A partir da técnica de reamostragem, possível graças ao poder computacional, podemos de fato desenhar uma distribuição amostral.\n",
    "  - Aplicar as técnicas do Teorema do Limite Central\n",
    "- Não é necessário supor que os dados são normalmente distribuídos\n",
    "\n",
    "#### Intervalo de confiança com Bootstrap\n",
    "\n",
    "1. Obter uma amostra $S$ (de tamanho $n$) da população\n",
    "1. Repetir $k$ vezes ($\\sim 10000$ vezes)\n",
    "   1. Gerar uma **amostra bootstrap** ($B_1, B_2, ..., B_{10000}$), cada uma de tamanho $n$, a partir de uma reamostragem de $S$\n",
    "   1. Calcular a estatística desejada para a amostra bootstrap ($\\bar{x}_{B_1}, \\bar{x}_{B_2}, ..., \\bar{x}_{B_{10000}}$)\n",
    "1. Construir a distribuição amostral\n",
    "1. Computar o intervalo ao redor da média, que contenha $c\\%$ das observações\n",
    "   1. $c\\%$ é o **nível de confiança**\n",
    "   1. Pode-se obter o intervalo entre quaisquer percentis da distribuição"
   ]
  },
  {
   "cell_type": "markdown",
   "id": "be3d84e7-0dee-4e25-8c11-cf6874dfda98",
   "metadata": {},
   "source": [
    "## 10/06/2021 - Aula 08: Regressão Linear Simples\n",
    "\n",
    "### Materiais de aula\n",
    "\n",
    "- [Video: Gravação da aula](https://ifspedubr.sharepoint.com/:v:/s/D1AED2021.1-AnliseEstatsticaparaCinciadeDados/EQsjSe1QGb1Lqr2079DKyXgB9Ztq8xiLa5kn42hM-4G29A?e=kujRlT)\n",
    "- [Slides: Regressão Linear Simples](slides/20210610-D1AED-aula08-regressao_linear_simples.pdf)\n",
    "- [Notebook: Regressão Linear Simples](https://github.com/xavecoding/IFSP-CMP-D1AED-2021.1/blob/main/regressao_linear/regressao_linear_simples.ipynb): [Código Base](repositorio-curso/regressao_linear/codigos_base/regressao_linear_simples.ipynb) | [Código Final](repositorio-curso/regressao_linear/regressao_linear_simples.ipynb) | [Código de Estudo](repositorio-curso/regressao_linear/studying/20210610-regressao_linear_simples.ipynb)\n",
    "- [Atividade 10 - Regressão Linear Simples](atividades/20210610-D1AED-atividade10.png)\n",
    "\n",
    "#### Aprofundamento de Estudos\n",
    "\n",
    "- [Artigo: Understanding the OLS method for Simple Linear Regression](https://towardsdatascience.com/understanding-the-ols-method-for-simple-linear-regression-e0a4e8f692cc)\n",
    "- [Artigo: Linear Regression with Gradient Descent Maths, Implementation and Example Using Scikit-Learn](https://nitin9809.medium.com/linear-regression-with-gradient-descent-maths-implementation-and-example-using-scikit-learn-1ed1ed3440cc)\n",
    "- [Artigo: Bootstrapping prediction intervals](https://saattrupdan.github.io/2020-03-01-bootstrap-prediction/)\n",
    "- [Artigo: Regression Metrics for Machine Learning](https://machinelearningmastery.com/regression-metrics-for-machine-learning/)\n",
    "- [Artigo: Regression Slope: Confidence Interval](https://stattrek.com/regression/slope-confidence-interval.aspx)"
   ]
  },
  {
   "cell_type": "markdown",
   "id": "ec1d653c-7a1b-45fe-bd73-e9cf13e47597",
   "metadata": {},
   "source": [
    "### Regressão Linear Simples\n",
    "\n",
    "- Apenas uma única variável independente e uma única variável dependente\n",
    "- Correlação: medida que uma variável muda a partir de uma mudança de outra variável\n",
    "- Regressão é estimar um modelo (linear) que mais aproxime os pontos das observações\n",
    "  - A partir desta reta, é possível realizar *predições* de valores de pontos que não estão no conjunto de treinamento\n",
    "  \n",
    "$$\n",
    "\\hat{y} = b_0 + b_1 x\n",
    "$$\n",
    "\n",
    "$b_0$: intercepto em $y$\n",
    "\n",
    "$b_1$: inclinação da reta\n",
    "\n",
    "#### Como definir a reta de regressão\n",
    "\n",
    "##### Erro do Modelo Linear\n",
    "\n",
    "Diferença entre cada valor *real* e seu valor *previsto*\n",
    "\n",
    "$$\n",
    "y_i - \\hat{y_i}\n",
    "$$\n",
    "\n",
    "##### Mean Square Error (Função de Custo)\n",
    "\n",
    "$$\n",
    "\\textbf{MSE} = f_c(b_0, b_1) = \\frac{\\sum_{i=1}^N (\\hat{y_i} - y_i)^2}{N}\n",
    "$$\n",
    "\n",
    "- Por a diferença ser elevada ao quadrado, erros maiores ganham mais peso\n",
    "  - Torna todas as diferenças positivas\n",
    "  - É mais fácil de aplicar algumas funções (por exemplo derivada) do que o módulo\n",
    "\n",
    "**Objetivo**: Achar os parâmetros $b_0$ e $b_1$ que minimizam a função MSE (qual das infinitar retas possíveis tem o menor MSE)"
   ]
  },
  {
   "cell_type": "markdown",
   "id": "deae3408-109f-4e84-a7e7-2fa344517087",
   "metadata": {},
   "source": [
    "## 17/06/2021 - Aula 09: Regressão Linear Múltipla\n",
    "\n",
    "### Materiais de aula\n",
    "\n",
    "- [Video: Gravação da aula](https://ifspedubr.sharepoint.com/:v:/s/D1AED2021.1-AnliseEstatsticaparaCinciadeDados/EeH0MDhPgDlEj-bbqR4pYSEBJvxR-HKsGWsAmJGrJL931Q?e=YC1EW1)\n",
    "- [Slides: Regressão Linear Múltipla](slides/20210617-D1AED-aula09-regressao_linear_multipla.pdf)\n",
    "- [Notebook: Regressão Linear Múltipla](https://github.com/xavecoding/IFSP-CMP-D1AED-2021.1/blob/main/regressao_linear/regressao_linear_multipla.ipynb): [Código Base](repositorio-curso/regressao_linear/codigos_base/regressao_linear_multipla.ipynb) | [Código Final](repositorio-curso/regressao_linear/regressao_linear_multipla.ipynb) | [Código de Estudo](repositorio-curso/regressao_linear/studying/20210617-regressao_linear_multipla.ipynb)\n",
    "- [Atividade 11 - Regressão Linear Múltipla](atividades/20210617-D1AED-atividade11.png)\n",
    "\n",
    "#### Aprofundamento de Estudos\n",
    "\n",
    "- [What are the pros and cons between get_dummies (Pandas) and OneHotEncoder (Scikit-learn)?](https://stackoverflow.com/questions/36631163/what-are-the-pros-and-cons-between-get-dummies-pandas-and-onehotencoder-sciki)\n",
    "- [Understand Forward and Backward Stepwise Regression](https://quantifyinghealth.com/stepwise-selection/)\n",
    "- [Which Variables Should You Include in a Regression Model?](https://quantifyinghealth.com/variables-to-include-in-regression/)"
   ]
  },
  {
   "cell_type": "markdown",
   "id": "46a7044e-981d-441d-8ab3-cc3788f83a40",
   "metadata": {},
   "source": [
    "### Regressão Linear Múltipla\n",
    "\n",
    "Múltiplas variáveis independentes. Em vez de uma reta, teremos um hiperplano\n",
    "$$\n",
    "h(x) = \\hat{y} = b_0 + b_1 x_1 + b_2 x_2 + ... + b_n x_n\n",
    "$$"
   ]
  },
  {
   "cell_type": "markdown",
   "id": "abb5883f-fdea-4dbb-a840-62b76335b65d",
   "metadata": {},
   "source": [
    "## 24/06/2021 - Aula 10: Regressão Logística\n",
    "\n",
    "### Materiais de aula\n",
    "\n",
    "- [Video: Gravação da aula](https://ifspedubr.sharepoint.com/:v:/s/D1AED2021.1-AnliseEstatsticaparaCinciadeDados/Ed6bPBXNBpBHknPz6VVNhoMBmem7dukkD3x-s-3afELdSQ?e=Sacfmm)\n",
    "- [Slides: Regressão Logística](slides/20210624-D1AED-aula10-regressao_logistica.pdf)\n",
    "- [Notebook: Regressão Logística](https://github.com/xavecoding/IFSP-CMP-D1AED-2021.1/blob/main/regressao_logistica/regressao_logistica_parte_1.ipynb): [Código Base](repositorio-curso/regressao_logistica/codigos_base/regressao_logistica_parte_1.ipynb) | [Código Final](repositorio-curso/regressao_logistica/regressao_logistica_parte_1.ipynb)\n",
    "\n",
    "#### Aprofundamento de Estudos\n",
    "\n",
    "- [Advantages and Disadvantages of Logistic Regression](https://www.geeksforgeeks.org/advantages-and-disadvantages-of-logistic-regression/)\n",
    "- [Logistic Regression](https://sci2lab.github.io/ml_tutorial/logistic_regression/)\n",
    "- [Logistic Regression and Decision Boundary](https://towardsdatascience.com/logistic-regression-and-decision-boundary-eab6e00c1e8)\n",
    "- [How to plot logistic regression decision boundary?](https://datascience.stackexchange.com/questions/49573/how-to-plot-logistic-regression-decision-boundary)\n",
    "- [Plotting the decision boundary of a logistic regression model](https://scipython.com/blog/plotting-the-decision-boundary-of-a-logistic-regression-model/)\n",
    "- [Multinomial Logistic Regression With Python](https://machinelearningmastery.com/multinomial-logistic-regression-with-python/)\n",
    "- [Deep dive into multi-label classification..! (With detailed Case Study)](https://towardsdatascience.com/journey-to-the-center-of-multi-label-classification-384c40229bff)"
   ]
  },
  {
   "cell_type": "markdown",
   "id": "15f94257-c2ff-400d-82ae-5db5471cba47",
   "metadata": {},
   "source": [
    "### Classificação Binária\n",
    "\n",
    "- Quando se fala em classificação, estamos falando de variáveis categóricas\n",
    "- Classificação binária é quando temos apenas 2 valores (classes) possíveis para a variável dependente\n",
    "  - Exemplos: Sim/Não; Aprovado/Reprovado; Maligno/Benigno; Gratuito/Pago etc\n",
    "  - $y \\in \\{0,1\\}$"
   ]
  },
  {
   "cell_type": "markdown",
   "id": "af099efb-c4c1-40be-8e18-de92b67224ed",
   "metadata": {},
   "source": [
    "### Reescrevendo os termos da regressão linear\n",
    "\n",
    "Forma mais comumente utilizada nos cursos de aprendizado de máquina\n",
    "\n",
    "\\begin{align*}\n",
    "h_{\\theta}(x) &= \\hat{y} = \\theta_0 + \\theta_1 x_1 + \\theta_2 x_2 + ... + \\theta_n x_n\\\\\n",
    "h_{\\theta}(x) &= \\hat{y} = \\theta^T * x\n",
    "\\end{align*}\n",
    "\n",
    "$\\theta$ e $x$ são vetores coluna, com $n+1$ linhas"
   ]
  },
  {
   "cell_type": "markdown",
   "id": "15cfb61e-bc7b-4e4b-b12f-dda88a4bd827",
   "metadata": {
    "tags": []
   },
   "source": [
    "### Regressão Logística\n",
    "\n",
    "- Função Logística (Sigmoide)\n",
    "  - Indica a probabilidade da classe positiva ocorrer"
   ]
  },
  {
   "cell_type": "markdown",
   "id": "967ec3f8-b758-4225-801a-daf8627f82c1",
   "metadata": {},
   "source": [
    "## 01/07/2021 - Aula 11: Regressão Logística (continuação)\n",
    "\n",
    "### Materiais de aula\n",
    "\n",
    "- [Video: Gravação da aula](https://ifspedubr.sharepoint.com/:v:/s/D1AED2021.1-AnliseEstatsticaparaCinciadeDados/ESzzalGApBhHqtxs7Uh7TIIBuWF-5m-82X7xnG8gICD5dw?e=nZvC3y)\n",
    "- [Slides: Regressão Logística](slides/20210624-D1AED-aula10-regressao_logistica.pdf)\n",
    "- [Notebook: Regressão Logística](https://github.com/xavecoding/IFSP-CMP-D1AED-2021.1/blob/main/regressao_logistica/regressao_logistica_parte_1.ipynb): [Código Base](repositorio-curso/regressao_logistica/codigos_base/regressao_logistica_parte_1.ipynb) | [Código Final](repositorio-curso/regressao_logistica/regressao_logistica_parte_1.ipynb) | [Código de Estudo](repositorio-curso/regressao_logistica/studying/20210701-regressao_logistica_parte_1.ipynb)\n",
    "- [Animação: Parâmetros de uma Regressão Logística](recursos/20210701-aula11/simulacao_parametros_regressao_logistica.gif)"
   ]
  },
  {
   "cell_type": "markdown",
   "id": "82bd9955-b3f7-4943-b9c1-4310e561c876",
   "metadata": {},
   "source": [
    "### Modelo de regressão logística"
   ]
  },
  {
   "cell_type": "markdown",
   "id": "e818803b-4429-4730-8229-7560eb1ee9d6",
   "metadata": {},
   "source": [
    "$$\n",
    "\\hat{p} = h_{\\theta}(x) = P(y = 1|x;\\theta) = \\sigma(f_{\\theta}(x)) = \\sigma(\\theta^T * x) = \\frac{1}{1+e^{-(\\theta^T * x)}}\n",
    "$$"
   ]
  },
  {
   "cell_type": "markdown",
   "id": "31f6a05e-46ba-4025-94f7-51d676abed60",
   "metadata": {},
   "source": [
    "![](recursos/20210701-aula11/simulacao_parametros_regressao_logistica.gif)"
   ]
  },
  {
   "cell_type": "markdown",
   "id": "fbc27b0b-5b7f-434b-a574-5d9e71dd5a20",
   "metadata": {},
   "source": [
    "### Limiar de decisão (decision boundary)"
   ]
  },
  {
   "cell_type": "markdown",
   "id": "957b55a7-571c-4522-b599-6842383d1325",
   "metadata": {},
   "source": [
    "Valor de $x$ que divide as classes positiva e negativa"
   ]
  },
  {
   "cell_type": "markdown",
   "id": "4a88f086-2faa-4d38-a081-af43bfe8673e",
   "metadata": {},
   "source": [
    "## 08/07/2021 - Aula 12: Regressão Logística (Parte 2)\n",
    "\n",
    "### Materiais de aula\n",
    "\n",
    "- [Notebook: Regressão Logística](https://github.com/xavecoding/IFSP-CMP-D1AED-2021.1/blob/main/regressao_logistica/regressao_logistica_parte_2.ipynb): [Código Base](repositorio-curso/regressao_logistica/codigos_base/regressao_logistica_parte_2.ipynb) | [Código Final](repositorio-curso/regressao_logistica/regressao_logistica_parte_2.ipynb) | [Código de Estudo](repositorio-curso/regressao_logistica/studying/20210708-regressao_logistica_parte_2.ipynb)"
   ]
  }
 ],
 "metadata": {
  "kernelspec": {
   "display_name": "Python 3",
   "language": "python",
   "name": "python3"
  },
  "language_info": {
   "codemirror_mode": {
    "name": "ipython",
    "version": 3
   },
   "file_extension": ".py",
   "mimetype": "text/x-python",
   "name": "python",
   "nbconvert_exporter": "python",
   "pygments_lexer": "ipython3",
   "version": "3.9.2"
  }
 },
 "nbformat": 4,
 "nbformat_minor": 5
}
